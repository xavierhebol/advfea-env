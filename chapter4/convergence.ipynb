{
 "cells": [
  {
   "cell_type": "markdown",
   "metadata": {},
   "source": [
    "# Error control: Computing convergence rates\n",
    "Author: Jørgen S. Dokken, Hans Petter Langtangen, Anders Logg\n",
    "\n",
    "For any numerical method one of the most central questions is its *convergence rate*: How fast does the error go to zero when the resolution is increased (mesh size decreased).\n",
    "\n",
    "For the finite element method, this usually corresponds to proving, theoretically or imperically, that the error $e=u_e-u_h$ is bounded by the mesh size $h$ to some power $r$, that is $\\vert\\vert e \\vert\\vert\\leq Ch^r$ for some mesh independent constant $C$. The number $r$ is called the *convergence rate* of the method. Note that the different norms like the $L^2$-norm $\\vert\\vert e\\vert\\vert$ or the $H_0^1$-norm have different convergence rates."
   ]
  },
  {
   "cell_type": "markdown",
   "metadata": {},
   "source": [
    "## Computing error norms\n",
    "We start by creating a manufactured problem, using the same problem as in [the solver configuration](./solvers.ipynb).\n"
   ]
  },
  {
   "cell_type": "code",
   "execution_count": 1,
   "metadata": {},
   "outputs": [],
   "source": [
    "import ufl\n",
    "import numpy as np\n",
    "from mpi4py import MPI\n",
    "from petsc4py import PETSc\n",
    "from dolfinx.fem import (Expression, Function, FunctionSpace,\n",
    "                         assemble_scalar, dirichletbc, form, locate_dofs_topological)\n",
    "from dolfinx.fem.petsc import LinearProblem\n",
    "from dolfinx.mesh import create_unit_square, locate_entities_boundary\n",
    "from ufl import SpatialCoordinate, TestFunction, TrialFunction, div, dot, dx, grad, inner\n",
    "\n",
    "def u_ex(mod):\n",
    "    return lambda x: mod.cos(2*mod.pi*x[0])*mod.cos(2*mod.pi*x[1])\n",
    "\n",
    "u_numpy = u_ex(np)\n",
    "u_ufl = u_ex(ufl)\n",
    "\n",
    "def solve_poisson(N=10, degree=1):\n",
    "\n",
    "    mesh = create_unit_square(MPI.COMM_WORLD, N, N)\n",
    "    x = SpatialCoordinate(mesh)\n",
    "    f = -div(grad(u_ufl(x)))\n",
    "    V = FunctionSpace(mesh, (\"CG\", degree))\n",
    "    u = TrialFunction(V)\n",
    "    v = TestFunction(V)\n",
    "    a = inner(grad(u), grad(v)) * dx\n",
    "    L = f * v * dx\n",
    "    u_bc = Function(V)\n",
    "    u_bc.interpolate(u_numpy)\n",
    "    facets = locate_entities_boundary(mesh, mesh.topology.dim -1, lambda x: np.full(x.shape[1], True))\n",
    "    dofs = locate_dofs_topological(V, mesh.topology.dim-1, facets)\n",
    "    bcs = [dirichletbc(u_bc, dofs)]\n",
    "    default_problem = LinearProblem(a, L, bcs=bcs, petsc_options={\"ksp_type\": \"preonly\", \"pc_type\": \"lu\"})\n",
    "    return default_problem.solve(), u_ufl(x)"
   ]
  },
  {
   "cell_type": "markdown",
   "metadata": {},
   "source": [
    "Now, we can compute the error between the analyical solution `u_ex=u_ufl(x)` and approximated solution `uh`. A natural choice might seem to compute `(u_ex-uh)**2*ufl.dx`. "
   ]
  },
  {
   "cell_type": "code",
   "execution_count": 2,
   "metadata": {},
   "outputs": [
    {
     "name": "stderr",
     "output_type": "stream",
     "text": [
      "INFO:root:running build_ext\n",
      "INFO:root:building 'libffcx_forms_da25274593f7cecb0117399e5603f4d2e169461b' extension\n",
      "INFO:root:x86_64-linux-gnu-gcc -Wno-unused-result -Wsign-compare -DNDEBUG -g -fwrapv -O2 -Wall -g -fstack-protector-strong -Wformat -Werror=format-security -g -fwrapv -O2 -fPIC -I/usr/local/lib/python3.10/dist-packages/ffcx/codegeneration -I/usr/include/python3.10 -c libffcx_forms_da25274593f7cecb0117399e5603f4d2e169461b.c -o ./libffcx_forms_da25274593f7cecb0117399e5603f4d2e169461b.o -O2\n",
      "INFO:root:x86_64-linux-gnu-gcc -shared -Wl,-O1 -Wl,-Bsymbolic-functions -Wl,-Bsymbolic-functions -g -fwrapv -O2 ./libffcx_forms_da25274593f7cecb0117399e5603f4d2e169461b.o -L/usr/lib/x86_64-linux-gnu -o ./libffcx_forms_da25274593f7cecb0117399e5603f4d2e169461b.cpython-310-x86_64-linux-gnu.so\n",
      "INFO:root:running build_ext\n",
      "INFO:root:building 'libffcx_forms_f204f0ce2cbcf9c3f47ed37822a89f5c23c823ed' extension\n",
      "INFO:root:x86_64-linux-gnu-gcc -Wno-unused-result -Wsign-compare -DNDEBUG -g -fwrapv -O2 -Wall -g -fstack-protector-strong -Wformat -Werror=format-security -g -fwrapv -O2 -fPIC -I/usr/local/lib/python3.10/dist-packages/ffcx/codegeneration -I/usr/include/python3.10 -c libffcx_forms_f204f0ce2cbcf9c3f47ed37822a89f5c23c823ed.c -o ./libffcx_forms_f204f0ce2cbcf9c3f47ed37822a89f5c23c823ed.o -O2\n",
      "INFO:root:x86_64-linux-gnu-gcc -shared -Wl,-O1 -Wl,-Bsymbolic-functions -Wl,-Bsymbolic-functions -g -fwrapv -O2 ./libffcx_forms_f204f0ce2cbcf9c3f47ed37822a89f5c23c823ed.o -L/usr/lib/x86_64-linux-gnu -o ./libffcx_forms_f204f0ce2cbcf9c3f47ed37822a89f5c23c823ed.cpython-310-x86_64-linux-gnu.so\n",
      "INFO:root:running build_ext\n",
      "INFO:root:building 'libffcx_forms_ce098cd3c20c015d6e152fed5d553549722782d9' extension\n",
      "INFO:root:x86_64-linux-gnu-gcc -Wno-unused-result -Wsign-compare -DNDEBUG -g -fwrapv -O2 -Wall -g -fstack-protector-strong -Wformat -Werror=format-security -g -fwrapv -O2 -fPIC -I/usr/local/lib/python3.10/dist-packages/ffcx/codegeneration -I/usr/include/python3.10 -c libffcx_forms_ce098cd3c20c015d6e152fed5d553549722782d9.c -o ./libffcx_forms_ce098cd3c20c015d6e152fed5d553549722782d9.o -O2\n",
      "INFO:root:x86_64-linux-gnu-gcc -shared -Wl,-O1 -Wl,-Bsymbolic-functions -Wl,-Bsymbolic-functions -g -fwrapv -O2 ./libffcx_forms_ce098cd3c20c015d6e152fed5d553549722782d9.o -L/usr/lib/x86_64-linux-gnu -o ./libffcx_forms_ce098cd3c20c015d6e152fed5d553549722782d9.cpython-310-x86_64-linux-gnu.so\n"
     ]
    },
    {
     "name": "stdout",
     "output_type": "stream",
     "text": [
      "L2-error: 5.28e-02\n"
     ]
    }
   ],
   "source": [
    "uh, u_ex = solve_poisson(10)\n",
    "comm = uh.function_space.mesh.comm\n",
    "error = form((uh - u_ex)**2 * ufl.dx)\n",
    "E = np.sqrt(comm.allreduce(assemble_scalar(error), MPI.SUM))\n",
    "if comm.rank == 0:\n",
    "    print(f\"L2-error: {E:.2e}\")"
   ]
  },
  {
   "cell_type": "markdown",
   "metadata": {},
   "source": [
    "Sometimes it is of interest to compute the error fo the gradient field, $\\vert\\vert \\nabla(u_e-u_h)\\vert\\vert$, often referred to as the $H_0^1$-nrom of the error, this can be expressed as"
   ]
  },
  {
   "cell_type": "code",
   "execution_count": 3,
   "metadata": {},
   "outputs": [
    {
     "name": "stderr",
     "output_type": "stream",
     "text": [
      "INFO:root:running build_ext\n",
      "INFO:root:building 'libffcx_forms_a07783d8823f85f09a032210ee135b041fb69d1f' extension\n",
      "INFO:root:x86_64-linux-gnu-gcc -Wno-unused-result -Wsign-compare -DNDEBUG -g -fwrapv -O2 -Wall -g -fstack-protector-strong -Wformat -Werror=format-security -g -fwrapv -O2 -fPIC -I/usr/local/lib/python3.10/dist-packages/ffcx/codegeneration -I/usr/include/python3.10 -c libffcx_forms_a07783d8823f85f09a032210ee135b041fb69d1f.c -o ./libffcx_forms_a07783d8823f85f09a032210ee135b041fb69d1f.o -O2\n",
      "INFO:root:x86_64-linux-gnu-gcc -shared -Wl,-O1 -Wl,-Bsymbolic-functions -Wl,-Bsymbolic-functions -g -fwrapv -O2 ./libffcx_forms_a07783d8823f85f09a032210ee135b041fb69d1f.o -L/usr/lib/x86_64-linux-gnu -o ./libffcx_forms_a07783d8823f85f09a032210ee135b041fb69d1f.cpython-310-x86_64-linux-gnu.so\n"
     ]
    },
    {
     "name": "stdout",
     "output_type": "stream",
     "text": [
      "H01-error: 1.36e+00\n"
     ]
    }
   ],
   "source": [
    "eh = uh - u_ex\n",
    "error_H10 = form(dot(grad(eh), grad(eh)) * dx)\n",
    "E_H10 = np.sqrt(comm.allreduce(assemble_scalar(error_H10), op=MPI.SUM))\n",
    "if comm.rank == 0:\n",
    "    print(f\"H01-error: {E_H10:.2e}\")"
   ]
  },
  {
   "cell_type": "markdown",
   "metadata": {},
   "source": [
    "### Reliable error norm computation\n",
    "However, as this gets expanded to `u_ex**2 + uh**2 - 2*u_ex*uh`. If the error is small, (and the solution itself is of moderate size), this calculation will correspond to subtract two positive numbers `u_ex**2 + uh**2`$\\sim 1$ and `2*u_ex*u`$\\sim 1$ yielding a small number, prone to round-off errors.\n",
    "\n",
    "To avoid this issue, we interpolate the approximate and exact solution into a higher order function space. Then we subtract the degrees of freedom from the interpolated functions to create a new error function. Then, finally, we assemble/integrate the square difference and take the square root to get the L2 norm."
   ]
  },
  {
   "cell_type": "code",
   "execution_count": 4,
   "metadata": {},
   "outputs": [],
   "source": [
    "def error_L2(uh, u_ex, degree_raise=3):\n",
    "    # Create higher order function space\n",
    "    degree = uh.function_space.ufl_element().degree()\n",
    "    family = uh.function_space.ufl_element().family()\n",
    "    mesh = uh.function_space.mesh\n",
    "    W = FunctionSpace(mesh, (family, degree+ degree_raise))\n",
    "    # Interpolate approximate solution\n",
    "    u_W = Function(W)\n",
    "    u_W.interpolate(uh)\n",
    "\n",
    "    # Interpolate exact solution, special handling if exact solution\n",
    "    # is a ufl expression or a python lambda function\n",
    "    u_ex_W = Function(W)\n",
    "    if isinstance(u_ex, ufl.core.expr.Expr):\n",
    "        u_expr = Expression(u_ex, W.element.interpolation_points)\n",
    "        u_ex_W.interpolate(u_expr)\n",
    "    else:\n",
    "        u_ex_W.interpolate(u_ex)\n",
    "    \n",
    "    # Compute the error in the higher order function space\n",
    "    e_W = Function(W)\n",
    "    e_W.x.array[:] = u_W.x.array - u_ex_W.x.array\n",
    "    \n",
    "    # Integrate the error\n",
    "    error = form(ufl.inner(e_W, e_W) * ufl.dx)\n",
    "    error_local = assemble_scalar(error)\n",
    "    error_global = mesh.comm.allreduce(error_local, op=MPI.SUM)\n",
    "    return np.sqrt(error_global)"
   ]
  },
  {
   "cell_type": "markdown",
   "metadata": {},
   "source": [
    "## Computing convergence rates\n",
    "Let us consider a sequence of mesh resolutions $h_0>h_1>h_2$, where $h_i=\\frac{1}{N_i}$ we compute the errors for a range of $N_i$s"
   ]
  },
  {
   "cell_type": "code",
   "execution_count": 5,
   "metadata": {},
   "outputs": [
    {
     "name": "stderr",
     "output_type": "stream",
     "text": [
      "INFO:root:running build_ext\n",
      "INFO:root:building 'libffcx_elements_089c14b88c1ab705900c01ba286ec24843558ebe' extension\n",
      "INFO:root:x86_64-linux-gnu-gcc -Wno-unused-result -Wsign-compare -DNDEBUG -g -fwrapv -O2 -Wall -g -fstack-protector-strong -Wformat -Werror=format-security -g -fwrapv -O2 -fPIC -I/usr/local/lib/python3.10/dist-packages/ffcx/codegeneration -I/usr/include/python3.10 -c libffcx_elements_089c14b88c1ab705900c01ba286ec24843558ebe.c -o ./libffcx_elements_089c14b88c1ab705900c01ba286ec24843558ebe.o -O2\n",
      "INFO:root:x86_64-linux-gnu-gcc -shared -Wl,-O1 -Wl,-Bsymbolic-functions -Wl,-Bsymbolic-functions -g -fwrapv -O2 ./libffcx_elements_089c14b88c1ab705900c01ba286ec24843558ebe.o -L/usr/lib/x86_64-linux-gnu -o ./libffcx_elements_089c14b88c1ab705900c01ba286ec24843558ebe.cpython-310-x86_64-linux-gnu.so\n",
      "INFO:root:running build_ext\n",
      "INFO:root:building 'libffcx_forms_d2e422281b03ba589d770ade515d14976b23c935' extension\n",
      "INFO:root:x86_64-linux-gnu-gcc -Wno-unused-result -Wsign-compare -DNDEBUG -g -fwrapv -O2 -Wall -g -fstack-protector-strong -Wformat -Werror=format-security -g -fwrapv -O2 -fPIC -I/usr/local/lib/python3.10/dist-packages/ffcx/codegeneration -I/usr/include/python3.10 -c libffcx_forms_d2e422281b03ba589d770ade515d14976b23c935.c -o ./libffcx_forms_d2e422281b03ba589d770ade515d14976b23c935.o -O2\n",
      "INFO:root:x86_64-linux-gnu-gcc -shared -Wl,-O1 -Wl,-Bsymbolic-functions -Wl,-Bsymbolic-functions -g -fwrapv -O2 ./libffcx_forms_d2e422281b03ba589d770ade515d14976b23c935.o -L/usr/lib/x86_64-linux-gnu -o ./libffcx_forms_d2e422281b03ba589d770ade515d14976b23c935.cpython-310-x86_64-linux-gnu.so\n"
     ]
    },
    {
     "name": "stdout",
     "output_type": "stream",
     "text": [
      "h: 2.50e-01 Error: 2.43e-01\n",
      "h: 1.25e-01 Error: 7.96e-02\n",
      "h: 6.25e-02 Error: 2.15e-02\n",
      "h: 3.12e-02 Error: 5.47e-03\n",
      "h: 1.56e-02 Error: 1.37e-03\n"
     ]
    }
   ],
   "source": [
    "Ns = [4, 8, 16, 32, 64]\n",
    "Es = np.zeros(len(Ns), dtype=PETSc.ScalarType)\n",
    "hs = np.zeros(len(Ns), dtype=np.float64)\n",
    "for i, N in enumerate(Ns):\n",
    "    uh, u_ex = solve_poisson(N, degree=1)\n",
    "    comm = uh.function_space.mesh.comm\n",
    "    # One can send in either u_numpy or u_ex\n",
    "    # For L2 error estimations it is reccommended to send in u_numpy\n",
    "    # as no JIT compilation is required\n",
    "    Es[i] = error_L2(uh, u_numpy)\n",
    "    hs[i] = 1./Ns[i]\n",
    "    if comm.rank == 0:\n",
    "        print(f\"h: {hs[i]:.2e} Error: {Es[i]:.2e}\")"
   ]
  },
  {
   "cell_type": "markdown",
   "metadata": {},
   "source": [
    "If we assume that $E_i$ is of the form $E_i=Ch_i^r$, with unknown constants $C$ and $r$, we can compare two consecqutive experiments, $E_{i-1}= Ch_{i-1}^r$ and $E_i=Ch_i^r$, and solve for $r$:\n",
    "```{math}\n",
    "r=\\frac{\\ln(E_i/E_{i-1})}{\\ln(h_i/h_{i-1})}\n",
    "```\n",
    "The $r$ values should approac the expected convergence rate (which is typically the polynomial degree + 1 for the $L^2$-error.) as $i$ increases. This can be written compactly using `numpy`."
   ]
  },
  {
   "cell_type": "code",
   "execution_count": 6,
   "metadata": {},
   "outputs": [
    {
     "name": "stdout",
     "output_type": "stream",
     "text": [
      "Rates: [1.61228695 1.89147568 1.97191247 1.99290382]\n"
     ]
    }
   ],
   "source": [
    "rates = np.log(Es[1:]/Es[:-1])/np.log(hs[1:]/hs[:-1])\n",
    "if comm.rank == 0:\n",
    "    print(f\"Rates: {rates}\")"
   ]
  },
  {
   "cell_type": "markdown",
   "metadata": {},
   "source": [
    "We also do a similar study for different orders of polynomial spaces to verify our previous claim."
   ]
  },
  {
   "cell_type": "code",
   "execution_count": 7,
   "metadata": {},
   "outputs": [
    {
     "name": "stdout",
     "output_type": "stream",
     "text": [
      "h: 2.50e-01 Error: 2.43e-01\n",
      "h: 1.25e-01 Error: 7.96e-02\n",
      "h: 6.25e-02 Error: 2.15e-02\n",
      "h: 3.12e-02 Error: 5.47e-03\n",
      "h: 1.56e-02 Error: 1.37e-03\n",
      "Polynomial degree 1, Rates [1.61228695 1.89147568 1.97191247 1.99290382]\n"
     ]
    },
    {
     "name": "stderr",
     "output_type": "stream",
     "text": [
      "INFO:root:running build_ext\n",
      "INFO:root:building 'libffcx_forms_eadf2bb440bea9e2f5628fdbab3a890f8340cc5e' extension\n",
      "INFO:root:x86_64-linux-gnu-gcc -Wno-unused-result -Wsign-compare -DNDEBUG -g -fwrapv -O2 -Wall -g -fstack-protector-strong -Wformat -Werror=format-security -g -fwrapv -O2 -fPIC -I/usr/local/lib/python3.10/dist-packages/ffcx/codegeneration -I/usr/include/python3.10 -c libffcx_forms_eadf2bb440bea9e2f5628fdbab3a890f8340cc5e.c -o ./libffcx_forms_eadf2bb440bea9e2f5628fdbab3a890f8340cc5e.o -O2\n",
      "INFO:root:x86_64-linux-gnu-gcc -shared -Wl,-O1 -Wl,-Bsymbolic-functions -Wl,-Bsymbolic-functions -g -fwrapv -O2 ./libffcx_forms_eadf2bb440bea9e2f5628fdbab3a890f8340cc5e.o -L/usr/lib/x86_64-linux-gnu -o ./libffcx_forms_eadf2bb440bea9e2f5628fdbab3a890f8340cc5e.cpython-310-x86_64-linux-gnu.so\n",
      "INFO:root:running build_ext\n",
      "INFO:root:building 'libffcx_forms_523fd39dbb3c95f84161b80d9ab5618e7b6a57f5' extension\n",
      "INFO:root:x86_64-linux-gnu-gcc -Wno-unused-result -Wsign-compare -DNDEBUG -g -fwrapv -O2 -Wall -g -fstack-protector-strong -Wformat -Werror=format-security -g -fwrapv -O2 -fPIC -I/usr/local/lib/python3.10/dist-packages/ffcx/codegeneration -I/usr/include/python3.10 -c libffcx_forms_523fd39dbb3c95f84161b80d9ab5618e7b6a57f5.c -o ./libffcx_forms_523fd39dbb3c95f84161b80d9ab5618e7b6a57f5.o -O2\n",
      "INFO:root:x86_64-linux-gnu-gcc -shared -Wl,-O1 -Wl,-Bsymbolic-functions -Wl,-Bsymbolic-functions -g -fwrapv -O2 ./libffcx_forms_523fd39dbb3c95f84161b80d9ab5618e7b6a57f5.o -L/usr/lib/x86_64-linux-gnu -o ./libffcx_forms_523fd39dbb3c95f84161b80d9ab5618e7b6a57f5.cpython-310-x86_64-linux-gnu.so\n",
      "INFO:root:running build_ext\n",
      "INFO:root:building 'libffcx_forms_8af86db6ef9831ca653302a883ae481630b8415f' extension\n",
      "INFO:root:x86_64-linux-gnu-gcc -Wno-unused-result -Wsign-compare -DNDEBUG -g -fwrapv -O2 -Wall -g -fstack-protector-strong -Wformat -Werror=format-security -g -fwrapv -O2 -fPIC -I/usr/local/lib/python3.10/dist-packages/ffcx/codegeneration -I/usr/include/python3.10 -c libffcx_forms_8af86db6ef9831ca653302a883ae481630b8415f.c -o ./libffcx_forms_8af86db6ef9831ca653302a883ae481630b8415f.o -O2\n",
      "INFO:root:x86_64-linux-gnu-gcc -shared -Wl,-O1 -Wl,-Bsymbolic-functions -Wl,-Bsymbolic-functions -g -fwrapv -O2 ./libffcx_forms_8af86db6ef9831ca653302a883ae481630b8415f.o -L/usr/lib/x86_64-linux-gnu -o ./libffcx_forms_8af86db6ef9831ca653302a883ae481630b8415f.cpython-310-x86_64-linux-gnu.so\n"
     ]
    },
    {
     "name": "stdout",
     "output_type": "stream",
     "text": [
      "h: 2.50e-01 Error: 3.52e-02\n",
      "h: 1.25e-01 Error: 4.39e-03\n",
      "h: 6.25e-02 Error: 5.50e-04\n",
      "h: 3.12e-02 Error: 6.88e-05\n"
     ]
    },
    {
     "name": "stderr",
     "output_type": "stream",
     "text": [
      "INFO:root:running build_ext\n",
      "INFO:root:building 'libffcx_elements_ad3d905d8ac228f2e9d78ff0e0eb8f23fd721f37' extension\n",
      "INFO:root:x86_64-linux-gnu-gcc -Wno-unused-result -Wsign-compare -DNDEBUG -g -fwrapv -O2 -Wall -g -fstack-protector-strong -Wformat -Werror=format-security -g -fwrapv -O2 -fPIC -I/usr/local/lib/python3.10/dist-packages/ffcx/codegeneration -I/usr/include/python3.10 -c libffcx_elements_ad3d905d8ac228f2e9d78ff0e0eb8f23fd721f37.c -o ./libffcx_elements_ad3d905d8ac228f2e9d78ff0e0eb8f23fd721f37.o -O2\n"
     ]
    },
    {
     "name": "stdout",
     "output_type": "stream",
     "text": [
      "h: 1.56e-02 Error: 8.60e-06\n",
      "Polynomial degree 2, Rates [3.00109101 2.99828073 2.99822291 2.99930786]\n"
     ]
    },
    {
     "name": "stderr",
     "output_type": "stream",
     "text": [
      "INFO:root:x86_64-linux-gnu-gcc -shared -Wl,-O1 -Wl,-Bsymbolic-functions -Wl,-Bsymbolic-functions -g -fwrapv -O2 ./libffcx_elements_ad3d905d8ac228f2e9d78ff0e0eb8f23fd721f37.o -L/usr/lib/x86_64-linux-gnu -o ./libffcx_elements_ad3d905d8ac228f2e9d78ff0e0eb8f23fd721f37.cpython-310-x86_64-linux-gnu.so\n",
      "INFO:root:running build_ext\n",
      "INFO:root:building 'libffcx_forms_3853256ba11e877d12a210e729ff5e2ef14b9a22' extension\n",
      "INFO:root:x86_64-linux-gnu-gcc -Wno-unused-result -Wsign-compare -DNDEBUG -g -fwrapv -O2 -Wall -g -fstack-protector-strong -Wformat -Werror=format-security -g -fwrapv -O2 -fPIC -I/usr/local/lib/python3.10/dist-packages/ffcx/codegeneration -I/usr/include/python3.10 -c libffcx_forms_3853256ba11e877d12a210e729ff5e2ef14b9a22.c -o ./libffcx_forms_3853256ba11e877d12a210e729ff5e2ef14b9a22.o -O2\n",
      "INFO:root:x86_64-linux-gnu-gcc -shared -Wl,-O1 -Wl,-Bsymbolic-functions -Wl,-Bsymbolic-functions -g -fwrapv -O2 ./libffcx_forms_3853256ba11e877d12a210e729ff5e2ef14b9a22.o -L/usr/lib/x86_64-linux-gnu -o ./libffcx_forms_3853256ba11e877d12a210e729ff5e2ef14b9a22.cpython-310-x86_64-linux-gnu.so\n",
      "INFO:root:running build_ext\n",
      "INFO:root:building 'libffcx_forms_790cc64816dc6f4ea89e655225c4a496755cf3a9' extension\n",
      "INFO:root:x86_64-linux-gnu-gcc -Wno-unused-result -Wsign-compare -DNDEBUG -g -fwrapv -O2 -Wall -g -fstack-protector-strong -Wformat -Werror=format-security -g -fwrapv -O2 -fPIC -I/usr/local/lib/python3.10/dist-packages/ffcx/codegeneration -I/usr/include/python3.10 -c libffcx_forms_790cc64816dc6f4ea89e655225c4a496755cf3a9.c -o ./libffcx_forms_790cc64816dc6f4ea89e655225c4a496755cf3a9.o -O2\n",
      "INFO:root:x86_64-linux-gnu-gcc -shared -Wl,-O1 -Wl,-Bsymbolic-functions -Wl,-Bsymbolic-functions -g -fwrapv -O2 ./libffcx_forms_790cc64816dc6f4ea89e655225c4a496755cf3a9.o -L/usr/lib/x86_64-linux-gnu -o ./libffcx_forms_790cc64816dc6f4ea89e655225c4a496755cf3a9.cpython-310-x86_64-linux-gnu.so\n",
      "INFO:root:running build_ext\n",
      "INFO:root:building 'libffcx_elements_6e128354e3bca10c4497bbc1e503bd92fed9d73f' extension\n",
      "INFO:root:x86_64-linux-gnu-gcc -Wno-unused-result -Wsign-compare -DNDEBUG -g -fwrapv -O2 -Wall -g -fstack-protector-strong -Wformat -Werror=format-security -g -fwrapv -O2 -fPIC -I/usr/local/lib/python3.10/dist-packages/ffcx/codegeneration -I/usr/include/python3.10 -c libffcx_elements_6e128354e3bca10c4497bbc1e503bd92fed9d73f.c -o ./libffcx_elements_6e128354e3bca10c4497bbc1e503bd92fed9d73f.o -O2\n",
      "INFO:root:x86_64-linux-gnu-gcc -shared -Wl,-O1 -Wl,-Bsymbolic-functions -Wl,-Bsymbolic-functions -g -fwrapv -O2 ./libffcx_elements_6e128354e3bca10c4497bbc1e503bd92fed9d73f.o -L/usr/lib/x86_64-linux-gnu -o ./libffcx_elements_6e128354e3bca10c4497bbc1e503bd92fed9d73f.cpython-310-x86_64-linux-gnu.so\n",
      "INFO:root:running build_ext\n",
      "INFO:root:building 'libffcx_forms_270ca430220ec5ae64c554f401d47bf734e8e753' extension\n",
      "INFO:root:x86_64-linux-gnu-gcc -Wno-unused-result -Wsign-compare -DNDEBUG -g -fwrapv -O2 -Wall -g -fstack-protector-strong -Wformat -Werror=format-security -g -fwrapv -O2 -fPIC -I/usr/local/lib/python3.10/dist-packages/ffcx/codegeneration -I/usr/include/python3.10 -c libffcx_forms_270ca430220ec5ae64c554f401d47bf734e8e753.c -o ./libffcx_forms_270ca430220ec5ae64c554f401d47bf734e8e753.o -O2\n",
      "INFO:root:x86_64-linux-gnu-gcc -shared -Wl,-O1 -Wl,-Bsymbolic-functions -Wl,-Bsymbolic-functions -g -fwrapv -O2 ./libffcx_forms_270ca430220ec5ae64c554f401d47bf734e8e753.o -L/usr/lib/x86_64-linux-gnu -o ./libffcx_forms_270ca430220ec5ae64c554f401d47bf734e8e753.cpython-310-x86_64-linux-gnu.so\n"
     ]
    },
    {
     "name": "stdout",
     "output_type": "stream",
     "text": [
      "h: 2.50e-01 Error: 5.54e-03\n",
      "h: 1.25e-01 Error: 3.35e-04\n",
      "h: 6.25e-02 Error: 1.99e-05\n",
      "h: 3.12e-02 Error: 1.21e-06\n"
     ]
    },
    {
     "name": "stderr",
     "output_type": "stream",
     "text": [
      "INFO:root:running build_ext\n",
      "INFO:root:building 'libffcx_forms_ef5a112538fc3c5213056374cfac467c4c5348f6' extension\n",
      "INFO:root:x86_64-linux-gnu-gcc -Wno-unused-result -Wsign-compare -DNDEBUG -g -fwrapv -O2 -Wall -g -fstack-protector-strong -Wformat -Werror=format-security -g -fwrapv -O2 -fPIC -I/usr/local/lib/python3.10/dist-packages/ffcx/codegeneration -I/usr/include/python3.10 -c libffcx_forms_ef5a112538fc3c5213056374cfac467c4c5348f6.c -o ./libffcx_forms_ef5a112538fc3c5213056374cfac467c4c5348f6.o -O2\n"
     ]
    },
    {
     "name": "stdout",
     "output_type": "stream",
     "text": [
      "h: 1.56e-02 Error: 7.49e-08\n",
      "Polynomial degree 3, Rates [4.04795047 4.07357659 4.03728992 4.01645269]\n"
     ]
    },
    {
     "name": "stderr",
     "output_type": "stream",
     "text": [
      "INFO:root:x86_64-linux-gnu-gcc -shared -Wl,-O1 -Wl,-Bsymbolic-functions -Wl,-Bsymbolic-functions -g -fwrapv -O2 ./libffcx_forms_ef5a112538fc3c5213056374cfac467c4c5348f6.o -L/usr/lib/x86_64-linux-gnu -o ./libffcx_forms_ef5a112538fc3c5213056374cfac467c4c5348f6.cpython-310-x86_64-linux-gnu.so\n",
      "INFO:root:running build_ext\n",
      "INFO:root:building 'libffcx_forms_5cb67c24478ab7faab8b43eb4f1cf29e13fed389' extension\n",
      "INFO:root:x86_64-linux-gnu-gcc -Wno-unused-result -Wsign-compare -DNDEBUG -g -fwrapv -O2 -Wall -g -fstack-protector-strong -Wformat -Werror=format-security -g -fwrapv -O2 -fPIC -I/usr/local/lib/python3.10/dist-packages/ffcx/codegeneration -I/usr/include/python3.10 -c libffcx_forms_5cb67c24478ab7faab8b43eb4f1cf29e13fed389.c -o ./libffcx_forms_5cb67c24478ab7faab8b43eb4f1cf29e13fed389.o -O2\n",
      "INFO:root:x86_64-linux-gnu-gcc -shared -Wl,-O1 -Wl,-Bsymbolic-functions -Wl,-Bsymbolic-functions -g -fwrapv -O2 ./libffcx_forms_5cb67c24478ab7faab8b43eb4f1cf29e13fed389.o -L/usr/lib/x86_64-linux-gnu -o ./libffcx_forms_5cb67c24478ab7faab8b43eb4f1cf29e13fed389.cpython-310-x86_64-linux-gnu.so\n",
      "INFO:root:running build_ext\n",
      "INFO:root:building 'libffcx_elements_8b4c51e511fd905247e9ba5b37133c17085aec7b' extension\n",
      "INFO:root:x86_64-linux-gnu-gcc -Wno-unused-result -Wsign-compare -DNDEBUG -g -fwrapv -O2 -Wall -g -fstack-protector-strong -Wformat -Werror=format-security -g -fwrapv -O2 -fPIC -I/usr/local/lib/python3.10/dist-packages/ffcx/codegeneration -I/usr/include/python3.10 -c libffcx_elements_8b4c51e511fd905247e9ba5b37133c17085aec7b.c -o ./libffcx_elements_8b4c51e511fd905247e9ba5b37133c17085aec7b.o -O2\n",
      "INFO:root:x86_64-linux-gnu-gcc -shared -Wl,-O1 -Wl,-Bsymbolic-functions -Wl,-Bsymbolic-functions -g -fwrapv -O2 ./libffcx_elements_8b4c51e511fd905247e9ba5b37133c17085aec7b.o -L/usr/lib/x86_64-linux-gnu -o ./libffcx_elements_8b4c51e511fd905247e9ba5b37133c17085aec7b.cpython-310-x86_64-linux-gnu.so\n",
      "INFO:root:running build_ext\n",
      "INFO:root:building 'libffcx_forms_79aed3de67d0bf090362e76571a61fa861dee1ce' extension\n",
      "INFO:root:x86_64-linux-gnu-gcc -Wno-unused-result -Wsign-compare -DNDEBUG -g -fwrapv -O2 -Wall -g -fstack-protector-strong -Wformat -Werror=format-security -g -fwrapv -O2 -fPIC -I/usr/local/lib/python3.10/dist-packages/ffcx/codegeneration -I/usr/include/python3.10 -c libffcx_forms_79aed3de67d0bf090362e76571a61fa861dee1ce.c -o ./libffcx_forms_79aed3de67d0bf090362e76571a61fa861dee1ce.o -O2\n",
      "INFO:root:x86_64-linux-gnu-gcc -shared -Wl,-O1 -Wl,-Bsymbolic-functions -Wl,-Bsymbolic-functions -g -fwrapv -O2 ./libffcx_forms_79aed3de67d0bf090362e76571a61fa861dee1ce.o -L/usr/lib/x86_64-linux-gnu -o ./libffcx_forms_79aed3de67d0bf090362e76571a61fa861dee1ce.cpython-310-x86_64-linux-gnu.so\n"
     ]
    },
    {
     "name": "stdout",
     "output_type": "stream",
     "text": [
      "h: 2.50e-01 Error: 7.20e-04\n",
      "h: 1.25e-01 Error: 2.42e-05\n",
      "h: 6.25e-02 Error: 7.75e-07\n",
      "h: 3.12e-02 Error: 2.44e-08\n",
      "h: 1.56e-02 Error: 7.64e-10\n",
      "Polynomial degree 4, Rates [4.896908   4.96084158 4.98926012 4.99766462]\n"
     ]
    }
   ],
   "source": [
    "degrees = [1, 2, 3, 4]\n",
    "for degree in degrees:\n",
    "    Es = np.zeros(len(Ns), dtype=PETSc.ScalarType)\n",
    "    hs = np.zeros(len(Ns), dtype=np.float64)\n",
    "    for i, N in enumerate(Ns):\n",
    "        uh, u_ex = solve_poisson(N, degree=degree)\n",
    "        comm = uh.function_space.mesh.comm\n",
    "        Es[i] = error_L2(uh, u_numpy, degree_raise=3) \n",
    "        hs[i] = 1. / Ns[i]\n",
    "        if comm.rank == 0:\n",
    "            print(f\"h: {hs[i]:.2e} Error: {Es[i]:.2e}\")\n",
    "    rates = np.log(Es[1:] / Es[:-1]) / np.log(hs[1:] / hs[:-1])\n",
    "    if comm.rank == 0:\n",
    "        print(f\"Polynomial degree {degree:d}, Rates {rates}\")"
   ]
  },
  {
   "cell_type": "markdown",
   "metadata": {},
   "source": [
    "### Infinity norm estimates\n",
    "We start by creating a function to compute the infinity norm, the max difference between the approximate and exact solution."
   ]
  },
  {
   "cell_type": "code",
   "execution_count": 8,
   "metadata": {},
   "outputs": [],
   "source": [
    "def error_infinity(u_h, u_ex):\n",
    "    # Interpolate exact solution, special handling if exact solution\n",
    "    # is a ufl expression or a python lambda function\n",
    "    comm = u_h.function_space.mesh.comm\n",
    "    u_ex_V = Function(u_h.function_space)\n",
    "    if isinstance(u_ex, ufl.core.expr.Expr):\n",
    "        u_expr = Expression(u_ex, u_h.function_space.element.interpolation_points)\n",
    "        u_ex_V.interpolate(u_expr)\n",
    "    else:\n",
    "        u_ex_V.interpolate(u_ex)\n",
    "    # Compute infinity norm, furst local to process, then gather the max\n",
    "    # value over all processes\n",
    "    error_max_local = np.max(np.abs(u_h.x.array-u_ex_V.x.array))\n",
    "    error_max = comm.allreduce(error_max_local, op=MPI.MAX)\n",
    "    return error_max"
   ]
  },
  {
   "cell_type": "markdown",
   "metadata": {},
   "source": [
    "Running this for various polynomial degrees yields:"
   ]
  },
  {
   "cell_type": "code",
   "execution_count": 9,
   "metadata": {},
   "outputs": [
    {
     "name": "stdout",
     "output_type": "stream",
     "text": [
      "h: 2.50e-01 Error: 2.73e-01\n",
      "h: 1.25e-01 Error: 6.96e-02\n",
      "h: 6.25e-02 Error: 1.75e-02\n",
      "h: 3.12e-02 Error: 4.38e-03\n",
      "h: 1.56e-02 Error: 1.10e-03\n",
      "Polynomial degree 1, Rates [1.96828918 1.9917697  1.99791282 1.99947611]\n",
      "h: 2.50e-01 Error: 4.85e-02\n",
      "h: 1.25e-01 Error: 3.65e-03\n",
      "h: 6.25e-02 Error: 2.37e-04\n",
      "h: 3.12e-02 Error: 1.50e-05\n",
      "h: 1.56e-02 Error: 9.38e-07\n",
      "Polynomial degree 2, Rates [3.73213705 3.94227924 3.98612529 3.99656548]\n",
      "h: 2.50e-01 Error: 1.08e-02\n",
      "h: 1.25e-01 Error: 8.13e-04\n",
      "h: 6.25e-02 Error: 5.86e-05\n",
      "h: 3.12e-02 Error: 3.80e-06\n",
      "h: 1.56e-02 Error: 2.41e-07\n",
      "Polynomial degree 3, Rates [3.72903577 3.79406598 3.94800701 3.97888408]\n",
      "h: 2.50e-01 Error: 1.63e-03\n",
      "h: 1.25e-01 Error: 5.23e-05\n",
      "h: 6.25e-02 Error: 1.67e-06\n",
      "h: 3.12e-02 Error: 5.25e-08\n",
      "h: 1.56e-02 Error: 1.64e-09\n",
      "Polynomial degree 4, Rates [4.96133103 4.96807694 4.99161597 4.99787767]\n"
     ]
    }
   ],
   "source": [
    "for degree in degrees:\n",
    "    Es = np.zeros(len(Ns), dtype=PETSc.ScalarType)\n",
    "    hs = np.zeros(len(Ns), dtype=np.float64)\n",
    "    for i, N in enumerate(Ns):\n",
    "        uh, u_ex = solve_poisson(N, degree=degree)\n",
    "        comm = uh.function_space.mesh.comm\n",
    "        Es[i] = error_infinity(uh, u_numpy) \n",
    "        hs[i] = 1. / Ns[i]\n",
    "        if comm.rank == 0:\n",
    "            print(f\"h: {hs[i]:.2e} Error: {Es[i]:.2e}\")\n",
    "    rates = np.log(Es[1:] / Es[:-1]) / np.log(hs[1:] / hs[:-1])\n",
    "    if comm.rank == 0:\n",
    "        print(f\"Polynomial degree {degree:d}, Rates {rates}\")"
   ]
  },
  {
   "cell_type": "markdown",
   "metadata": {},
   "source": [
    "We observe super convergence for second order polynomials, yielding a fourth order convergence."
   ]
  },
  {
   "cell_type": "code",
   "execution_count": null,
   "metadata": {},
   "outputs": [],
   "source": []
  }
 ],
 "metadata": {
  "jupytext": {
   "formats": "ipynb,py:light"
  },
  "kernelspec": {
   "display_name": "Python 3 (ipykernel)",
   "language": "python",
   "name": "python3"
  },
  "language_info": {
   "codemirror_mode": {
    "name": "ipython",
    "version": 3
   },
   "file_extension": ".py",
   "mimetype": "text/x-python",
   "name": "python",
   "nbconvert_exporter": "python",
   "pygments_lexer": "ipython3",
   "version": "3.10.6"
  }
 },
 "nbformat": 4,
 "nbformat_minor": 4
}
