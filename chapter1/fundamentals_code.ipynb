{
 "cells": [
  {
   "cell_type": "markdown",
   "id": "a94a1454",
   "metadata": {},
   "source": [
    "# Implementation\n",
    "\n",
    "Author: Jørgen Schartum Dokken\n",
    "\n",
    "This implementation is an adaptation of the work in {cite}`FenicsTutorial` to DOLFINx.\n",
    "\n",
    "In this section, you will learn:\n",
    "- How to use the built-in meshes in DOLFINx\n",
    "- How to create a spatially varying Dirichlet boundary conditions on the whole domain boundary\n",
    "- How to define a weak formulation of your PDE\n",
    "- How to solve the resulting system of linear equations\n",
    "- How to visualize the solution using a variety of tools\n",
    "- How to compute the $L^2(\\Omega)$ error and the error at mesh vertices\n",
    "\n",
    "## Interactive tutorials\n",
    "```{admonition} Run the tutorial as Jupyter notebook in browser\n",
    "As this book has been published as a Jupyter Book, each code can be run in your browser as a Jupyter notebook. To start such a notebook click the rocket symbol in the top right corner of the relevant tutorial.\n",
    "```\n",
    "\n",
    "The Poisson problem has so far featured a general domain $\\Omega$ and general functions $u_D$ for the boundary conditions and $f$ for the right hand side.\n",
    "Therefore, we need to make specific choices of $\\Omega, u_D$ and $f$. A wise choice is to construct a problem  with a known analytical solution, so that we can check that the computed solution is correct. The primary candidates are lower-order polynomials. The continuous Galerkin finite element spaces of degree $r$ will exactly reproduce polynomials of degree $r$. \n",
    "<!-- Particularly, piecewise linear continuous Galerkin finite elements are able to exactly reproduce a quadratic polynomial on \n",
    "a uniformly partitioned mesh. -->\n",
    " We use this fact to construct a quadratic function in $2D$. In particular we choose\n",
    "\\begin{align}\n",
    " u_e(x,y)=1+x^2+2y^2\n",
    " \\end{align}\n",
    "\n",
    "Inserting $u_e$ in the original boundary problem, we find that  \n",
    "\\begin{align}\n",
    "    f(x,y)= -6,\\qquad u_d(x,y)=u_e(x,y)=1+x^2+2y^2,\n",
    "\\end{align}\n",
    "regardless of the shape of the domain as long as we prescribe \n",
    "$u_e$ on the boundary.\n",
    "\n",
    "For simplicity, we choose the domain to be a unit square $\\Omega=[0,1]\\times [0,1]$\n",
    "\n",
    "This simple but very powerful method for constructing test problems is called _the method of manufactured solutions_. \n",
    "First pick a simple expression for the exact solution, plug into\n",
    "the equation to obtain the right-hand side (source term $f$). Then solve the equation with this right hand side, and using the exact solution as boundary condition. Finally, we create a program that tries to reproduce the exact solution.\n",
    "\n",
    "Note that in many cases, it can be hard to determine if the program works if it produces an error of size $10^{-5}$ on a\n",
    "$20 \\times 20$ grid. However, since we are using Sobolev spaces,\n",
    "we usually know about the numerical errors _asymptotic properties_. For instance that it is proportional to $h^2$ if $h$ is the size of a cell in the mesh. We can then compare the error on meshes with different $h$-values to see if the asymptotic behavior is correct. This technique will be explained in detail in the chapter [Improving your fenics code](./../chapter4/convergence).\n",
    "\n",
    "However, in cases where we have a solution we know that should have no approximation error, we know that the solution should\n",
    "be produced to machine precision by the program."
   ]
  },
  {
   "cell_type": "markdown",
   "id": "fd55d822",
   "metadata": {},
   "source": [
    "A major difference between a traditional FEniCS code and a FEniCSx code, is that one is not advised to use the wildcard import. We will see this throughout this first example.\n",
    "## Generating  simple meshes\n",
    "The next step is to define the discrete domain, _the mesh_. We do this by importing one of the built-in mesh generators. We will build a unit square mesh, i.e. a mesh spanning $[0,1]\\times[0,1]$. It can consist of either triangles or quadrilaterals."
   ]
  },
  {
   "cell_type": "code",
   "execution_count": 1,
   "id": "06a440f7",
   "metadata": {
    "vscode": {
     "languageId": "python"
    }
   },
   "outputs": [],
   "source": [
    "from mpi4py import MPI\n",
    "from dolfinx import mesh\n",
    "domain = mesh.create_unit_square(MPI.COMM_WORLD, 8, 8, mesh.CellType.quadrilateral)"
   ]
  },
  {
   "cell_type": "markdown",
   "id": "67879238",
   "metadata": {},
   "source": [
    "Note that in addition to give how many elements we would like to have in each direction. \n",
    "We also have to supply the _MPI-communicator_. \n",
    "This is to specify how we would like the program to behave in parallel. \n",
    "If we supply `MPI.COMM_WORLD` we create a single mesh, whose data is distributed over the number of processors we \n",
    "would like to use. We can for instance run the program in  parallel on two processors by using `mpirun`, as: \n",
    "``` bash\n",
    " mpirun -n 2 python3 t1.py\n",
    "```\n",
    "However, if we would like to create a separate mesh on each processor, we can use `MPI.COMM_SELF`.\n",
    "This is for instance  useful if we run a small problem, and would like to run it with multiple parameters.\n",
    "\n",
    "## Defining the finite element function space\n",
    " Once the mesh has been created, we can create the finite element function space $V$.\n",
    " We import the function space initializer from the `dolfinx.fem` module."
   ]
  },
  {
   "cell_type": "code",
   "execution_count": 2,
   "id": "59226325",
   "metadata": {
    "vscode": {
     "languageId": "python"
    }
   },
   "outputs": [],
   "source": [
    "from dolfinx.fem import FunctionSpace\n",
    "V = FunctionSpace(domain, (\"CG\", 1))"
   ]
  },
  {
   "cell_type": "markdown",
   "id": "a33a822e",
   "metadata": {},
   "source": [
    "The second argument is the tuple containing the type of finite element, and the element degree. The type of element here is \"CG\", which implies the standard Lagrange family of elements. \n",
    "DOLFINx supports a large variety on elements on simplices \n",
    "(triangles and tetrahedra) and non-simplices (quadrilaterals\n",
    "and hexahedra). For an overview, see:\n",
    "*FIXME: Add link to all the elements we support*\n",
    "\n",
    "The element degree in the code is 1. This means that we are choosing the standard $P_1$ linear Lagrange element, which has degrees of freedom at the vertices. \n",
    "The computed solution will be continuous across elements and linearly varying in $x$ and $y$ inside each element. Higher degree polynomial approximations are obtained by increasing the degree argument. \n",
    "\n",
    "## Defining the boundary conditions\n",
    "\n",
    "The next step is to specify the boundary condition $u=u_D$ on $\\partial\\Omega_D$, which is done by over several steps. \n",
    "The first step is to define the function $u_D$. Into this function, we would like to interpolate the boundary condition $1 + x^2+2y^2$.\n",
    "We do this by first defining a `dolfinx.fem.Function`, and then using a [lambda-function](https://docs.python.org/3/tutorial/controlflow.html#lambda-expressions) in Python to define the \n",
    "spatially varying function.\n"
   ]
  },
  {
   "cell_type": "code",
   "execution_count": 3,
   "id": "747a0efe",
   "metadata": {
    "vscode": {
     "languageId": "python"
    }
   },
   "outputs": [],
   "source": [
    "from dolfinx import fem\n",
    "uD = fem.Function(V)\n",
    "uD.interpolate(lambda x: 1 + x[0]**2 + 2 * x[1]**2)"
   ]
  },
  {
   "cell_type": "markdown",
   "id": "d59d2900",
   "metadata": {},
   "source": [
    "We now have the boundary data (and in this case the solution of \n",
    "the finite element problem) represented in the discrete function space.\n",
    "Next we would like to apply the boundary values to all degrees of freedom that are on the boundary of the discrete domain. We start by identifying the facets (line-segments) representing the outer boundary, using `dolfinx.mesh.exterior_facet_indices`."
   ]
  },
  {
   "cell_type": "code",
   "execution_count": 4,
   "id": "672ed830",
   "metadata": {
    "vscode": {
     "languageId": "python"
    }
   },
   "outputs": [],
   "source": [
    "import numpy\n",
    "# Create facet to cell connectivity required to determine boundary facets\n",
    "tdim = domain.topology.dim\n",
    "fdim = tdim - 1\n",
    "domain.topology.create_connectivity(fdim, tdim)\n",
    "boundary_facets = mesh.exterior_facet_indices(domain.topology)"
   ]
  },
  {
   "cell_type": "markdown",
   "id": "8d4def17",
   "metadata": {},
   "source": [
    "For the current problem, as we are using the \"CG\" 1 function space, the degrees of freedom are located at the vertices of each cell, thus each facet contains two degrees of freedom. \n",
    "\n",
    "To find the local indices of these degrees of freedom, we use `dolfinx.fem.locate_dofs_topological`, which takes in the function space, the dimension of entities in the mesh we would like to identify and the local entities. \n",
    "```{admonition} Local ordering of degrees of freedom and mesh vertices\n",
    "Many people expect there to be a 1-1 correspondence between the mesh coordinates and the coordinates of the degrees of freedom. \n",
    "However, this is only true in the case of `CG` 1 elements on a first order mesh. Therefore, in DOLFINx we use separate local numbering for the mesh coordinates and the dof coordinates. To obtain the local dof coordinates we can use `V.tabulate_dof_coordinates()`, while the ordering of the local vertices can be obtained by `mesh.geometry.x`.\n",
    "```\n",
    "With this data at hand, we can create the Dirichlet boundary condition"
   ]
  },
  {
   "cell_type": "code",
   "execution_count": 5,
   "id": "ecc5b62e",
   "metadata": {
    "vscode": {
     "languageId": "python"
    }
   },
   "outputs": [],
   "source": [
    "boundary_dofs = fem.locate_dofs_topological(V, fdim, boundary_facets)\n",
    "bc = fem.dirichletbc(uD, boundary_dofs)"
   ]
  },
  {
   "cell_type": "markdown",
   "id": "d9d0e90d",
   "metadata": {},
   "source": [
    "## Defining the trial and test function\n",
    "\n",
    "In mathematics, we distinguish between trial and test spaces $V$ and $\\hat{V}$. The only difference in the present problem is the boundary conditions.\n",
    "In FEniCSx, we do not specify boundary conditions as part of the function space, so it is sufficient to use a common space for the trial and test function.\n",
    "\n",
    "We use the [Unified Form Language](https://github.com/FEniCS/ufl/) (UFL) to specify the varitional formulations. See {cite}`ufl2014` for more details."
   ]
  },
  {
   "cell_type": "code",
   "execution_count": 6,
   "id": "f7328520",
   "metadata": {
    "vscode": {
     "languageId": "python"
    }
   },
   "outputs": [],
   "source": [
    "import ufl\n",
    "u = ufl.TrialFunction(V)\n",
    "v = ufl.TestFunction(V)"
   ]
  },
  {
   "cell_type": "markdown",
   "id": "57058121",
   "metadata": {},
   "source": [
    "## Defining the source term\n",
    "As the source term is constant over the domain, we use `dolfinx.Constant`"
   ]
  },
  {
   "cell_type": "code",
   "execution_count": 7,
   "id": "f652b517",
   "metadata": {
    "vscode": {
     "languageId": "python"
    }
   },
   "outputs": [],
   "source": [
    "from petsc4py.PETSc import ScalarType\n",
    "f = fem.Constant(domain, ScalarType(-6))"
   ]
  },
  {
   "cell_type": "markdown",
   "id": "59ab99ad",
   "metadata": {},
   "source": [
    "```{admonition} Compilation speed-up\n",
    "Instead of wrapping $-6$ in a `dolfinx.Constant`, we could simply define $f$ as `f=-6`.\n",
    "However, if we would like to change this parameter later in the simulation, we would have to redefine our variational formulation. The `dolfinx.Constant` allows us to update the value in $f$ by using `f.value=5`. Additionally, by indicating that $f$ is a constant, we speed of compilation of the variational formulations required for the created linear system. \n",
    "```\n",
    "## Defining the variational problem\n",
    "As we now have defined all variables used to describe our variational problem, we can create the weak formulation"
   ]
  },
  {
   "cell_type": "code",
   "execution_count": 8,
   "id": "85bbfa51",
   "metadata": {
    "vscode": {
     "languageId": "python"
    }
   },
   "outputs": [],
   "source": [
    "a = ufl.dot(ufl.grad(u), ufl.grad(v)) * ufl.dx\n",
    "L = f * v * ufl.dx"
   ]
  },
  {
   "cell_type": "markdown",
   "id": "f9bb1beb",
   "metadata": {},
   "source": [
    "Note that there is a very close correspondence between the Python syntax and the mathematical syntax\n",
    "$\\int_{\\Omega} \\nabla u \\cdot \\nabla v ~\\mathrm{d} x$ and $\\int_{\\Omega}fv~\\mathrm{d} x$. \n",
    "The integration over the domain $\\Omega$ is defined by using `ufl.dx`, an integration measure over all cells of the mesh.\n",
    "\n",
    "This is the key strength of FEniCSx: the formulas in the variational formulation translate directly to very similar Python code, a feature that makes it easy to specify and solve complicated PDE problems.\n",
    "\n",
    "## Expressing inner products\n",
    "The inner product $\\int_\\Omega \\nabla u \\cdot \\nabla v ~\\mathrm{d} x$ can be expressed in various ways in UFL. We have used the notation `ufl.dot(ufl.grad(u), ufl.grad(v))*ufl.dx`. The dot product in UFL computes the sum (contraction) over the last index of the first factor and first index of the second factor. In this case, both factors are tensors of rank one (vectors) and so the sum is just over the single index of both $\\nabla u$ and $\\nabla v$. To compute an inner product of matrices (with two indices), one must instead of `ufl.dot` use the function `ufl.inner`. For vectors, `ufl.dot` and `ufl.inner` are equivalent.\n",
    "\n",
    "```{admonition} Complex numbers\n",
    "In DOLFINx, one can solve complex number problems by using an installation of PETSc using complex numbers.\n",
    "For variational formulations with complex numbers, one cannot use `ufl.dot` to compute inner products.\n",
    "One has to use `ufl.inner`, with the test-function as the second input argument for `ufl.inner`.\n",
    "See [Running DOLFINx in complex mode](./complex_mode) for more information.\n",
    "```\n",
    "\n",
    "\n",
    "## Forming and solving the linear system\n",
    "\n",
    "Having defined the finite element variational problem and boundary condition, we can create our `dolfinx.fem.petsc.LinearProblem`, as class for solving \n",
    "the variational problem: Find $u_h\\in V$ such that $a(u_h, v)==L(v) \\quad \\forall v \\in \\hat{V}$. We will use PETSc as our linear algebra backend, using a direct solver (LU-factorization).  See the [PETSc-documentation](https://petsc.org/main/docs/manual/ksp/?highlight=ksp#ksp-linear-system-solvers) of the method for more information."
   ]
  },
  {
   "cell_type": "code",
   "execution_count": 9,
   "id": "b22d6ab7",
   "metadata": {
    "vscode": {
     "languageId": "python"
    }
   },
   "outputs": [],
   "source": [
    "problem = fem.petsc.LinearProblem(a, L, bcs=[bc], petsc_options={\"ksp_type\": \"preonly\", \"pc_type\": \"lu\"})\n",
    "uh = problem.solve()"
   ]
  },
  {
   "cell_type": "markdown",
   "id": "bea38a7e",
   "metadata": {},
   "source": [
    "Using `problem.solve()` we solve the linear system of equations and return a `dolfinx.fem.Function` containing the solution.\n",
    "## Computing the error\n",
    "Finally, we want to compute the error to check the accuracy of the solution. We do this by comparing the finite element solution `u` with the exact solution. We do this by interpolating the exact solution into the the $P_2$-function space."
   ]
  },
  {
   "cell_type": "code",
   "execution_count": 10,
   "id": "6069eb12",
   "metadata": {
    "vscode": {
     "languageId": "python"
    }
   },
   "outputs": [],
   "source": [
    "V2 = fem.FunctionSpace(domain, (\"CG\", 2))\n",
    "uex = fem.Function(V2)\n",
    "uex.interpolate(lambda x: 1 + x[0]**2 + 2 * x[1]**2)"
   ]
  },
  {
   "cell_type": "markdown",
   "id": "1a2c3f62",
   "metadata": {},
   "source": [
    "We compute the error in two different ways. First, we compute the $L^2$-norm of the error, defined by $E=\\sqrt{\\int_\\Omega (u_D-u_h)^2\\mathrm{d} x}$. We use UFL to express the $L^2$-error, and use `dolfinx.fem.assemble_scalar` to compute the scalar value. In DOLFINx, `assemble_scalar` only assembles over the cells on the local process. This means that if we use 2 processes to solve our problem, we need to gather the solution to one (or all the processes.\n",
    "We can do this with the `MPI.allreduce` function."
   ]
  },
  {
   "cell_type": "code",
   "execution_count": 11,
   "id": "39a7e446",
   "metadata": {
    "vscode": {
     "languageId": "python"
    }
   },
   "outputs": [],
   "source": [
    "L2_error = fem.form(ufl.inner(uh - uex, uh - uex) * ufl.dx)\n",
    "error_local = fem.assemble_scalar(L2_error)\n",
    "error_L2 = numpy.sqrt(domain.comm.allreduce(error_local, op=MPI.SUM))"
   ]
  },
  {
   "cell_type": "markdown",
   "id": "27faebee",
   "metadata": {},
   "source": [
    "Secondly, we compute the maximum error at any degree of freedom.\n",
    "As the finite element function $u$ can be expressed as a linear combination of basis functions $\\phi_j$, spanning the space $V$:\n",
    "$ u = \\sum_{j=1}^N U_j\\phi_j.$\n",
    "By writing `problem.solve()` we compute all the coefficients $U_1,\\dots, U_N$. These values are known as the _degrees of freedom_ (dofs). We can access the degrees of freedom by accessing the underlying vector in `uh`.\n",
    "However, as a second order function space has more dofs than a linear function space, we cannot compare these arrays directly.\n",
    "As we allready have interpolated the exact solution into the first order space when creating the boundary condition, we can compare the maximum values at any degree of freedom of the approximation space."
   ]
  },
  {
   "cell_type": "code",
   "execution_count": 12,
   "id": "91b7ba24",
   "metadata": {
    "vscode": {
     "languageId": "python"
    }
   },
   "outputs": [
    {
     "name": "stdout",
     "output_type": "stream",
     "text": [
      "Error_L2 : 8.24e-03\n",
      "Error_max : 4.00e-15\n"
     ]
    }
   ],
   "source": [
    "error_max = numpy.max(numpy.abs(uD.x.array-uh.x.array))\n",
    "# Only print the error on one process\n",
    "if domain.comm.rank == 0:\n",
    "    print(f\"Error_L2 : {error_L2:.2e}\")\n",
    "    print(f\"Error_max : {error_max:.2e}\")"
   ]
  },
  {
   "cell_type": "markdown",
   "id": "d86769b9",
   "metadata": {},
   "source": [
    "## Plotting the mesh using pyvista\n",
    "We will visualizing the mesh using [pyvista](https://docs.pyvista.org/), an interface to the VTK toolkit.\n",
    "We start by converting the mesh to a format that can be used with `pyvista`.\n",
    "To do this we use the function `dolfinx.plot.create_vtk_mesh`. The first step is to create an unstructured grid that can be used by `pyvista`.\n",
    "We need to start a virtual framebuffer for plotting through docker containers. You can print the current backend and change it with `pyvista.set_jupyter_backend(backend)`"
   ]
  },
  {
   "cell_type": "code",
   "execution_count": 13,
   "id": "3cf06abe-1f8d-40f0-b01d-3bad6faf5221",
   "metadata": {},
   "outputs": [
    {
     "name": "stdout",
     "output_type": "stream",
     "text": [
      "panel\n"
     ]
    }
   ],
   "source": [
    "import pyvista\n",
    "print(pyvista.global_theme.jupyter_backend)"
   ]
  },
  {
   "cell_type": "code",
   "execution_count": 14,
   "id": "bf546f16",
   "metadata": {
    "vscode": {
     "languageId": "python"
    }
   },
   "outputs": [],
   "source": [
    "from dolfinx import plot\n",
    "pyvista.start_xvfb()\n",
    "topology, cell_types, geometry = plot.create_vtk_mesh(domain, tdim)\n",
    "grid = pyvista.UnstructuredGrid(topology, cell_types, geometry)"
   ]
  },
  {
   "cell_type": "markdown",
   "id": "29d6b101",
   "metadata": {},
   "source": [
    "There are several backends that can be used with pyvista, and they have different benefits and drawbacks. See the [pyvista documentation](https://docs.pyvista.org/user-guide/jupyter/index.html#state-of-3d-interactive-jupyterlab-plotting) for more information and installation details. In this example and the rest of the tutorial we will use [panel](https://github.com/holoviz/panel)."
   ]
  },
  {
   "cell_type": "markdown",
   "id": "ad068777",
   "metadata": {},
   "source": [
    "We can now use the `pyvista.Plotter` to visualize the mesh. We visualize it by showing it in 2D and warped in 3D.\n",
    "In the jupyter notebook environment, we use the default setting of `pyvista.OFF_SCREEN=False`, which will render plots directly in the notebook."
   ]
  },
  {
   "cell_type": "code",
   "execution_count": 15,
   "id": "04b01d42",
   "metadata": {
    "vscode": {
     "languageId": "python"
    }
   },
   "outputs": [
    {
     "data": {
      "application/javascript": [
       "(function(root) {\n",
       "  function now() {\n",
       "    return new Date();\n",
       "  }\n",
       "\n",
       "  var force = true;\n",
       "\n",
       "  if (typeof root._bokeh_onload_callbacks === \"undefined\" || force === true) {\n",
       "    root._bokeh_onload_callbacks = [];\n",
       "    root._bokeh_is_loading = undefined;\n",
       "  }\n",
       "\n",
       "  if (typeof (root._bokeh_timeout) === \"undefined\" || force === true) {\n",
       "    root._bokeh_timeout = Date.now() + 5000;\n",
       "    root._bokeh_failed_load = false;\n",
       "  }\n",
       "\n",
       "  function run_callbacks() {\n",
       "    try {\n",
       "      root._bokeh_onload_callbacks.forEach(function(callback) {\n",
       "        if (callback != null)\n",
       "          callback();\n",
       "      });\n",
       "    } finally {\n",
       "      delete root._bokeh_onload_callbacks\n",
       "    }\n",
       "    console.debug(\"Bokeh: all callbacks have finished\");\n",
       "  }\n",
       "\n",
       "  function load_libs(css_urls, js_urls, js_modules, callback) {\n",
       "    if (css_urls == null) css_urls = [];\n",
       "    if (js_urls == null) js_urls = [];\n",
       "    if (js_modules == null) js_modules = [];\n",
       "\n",
       "    root._bokeh_onload_callbacks.push(callback);\n",
       "    if (root._bokeh_is_loading > 0) {\n",
       "      console.debug(\"Bokeh: BokehJS is being loaded, scheduling callback at\", now());\n",
       "      return null;\n",
       "    }\n",
       "    if (js_urls.length === 0 && js_modules.length === 0) {\n",
       "      run_callbacks();\n",
       "      return null;\n",
       "    }\n",
       "    console.debug(\"Bokeh: BokehJS not loaded, scheduling load and callback at\", now());\n",
       "\n",
       "    function on_load() {\n",
       "      root._bokeh_is_loading--;\n",
       "      if (root._bokeh_is_loading === 0) {\n",
       "        console.debug(\"Bokeh: all BokehJS libraries/stylesheets loaded\");\n",
       "        run_callbacks()\n",
       "      }\n",
       "    }\n",
       "\n",
       "    function on_error() {\n",
       "      console.error(\"failed to load \" + url);\n",
       "    }\n",
       "\n",
       "    for (var i = 0; i < css_urls.length; i++) {\n",
       "      var url = css_urls[i];\n",
       "      const element = document.createElement(\"link\");\n",
       "      element.onload = on_load;\n",
       "      element.onerror = on_error;\n",
       "      element.rel = \"stylesheet\";\n",
       "      element.type = \"text/css\";\n",
       "      element.href = url;\n",
       "      console.debug(\"Bokeh: injecting link tag for BokehJS stylesheet: \", url);\n",
       "      document.body.appendChild(element);\n",
       "    }\n",
       "\n",
       "    var skip = [];\n",
       "    if (window.requirejs) {\n",
       "      window.requirejs.config({'packages': {}, 'paths': {'vtk': 'https://cdn.jsdelivr.net/npm/vtk.js@20.0.1/vtk', 'gridstack': 'https://cdn.jsdelivr.net/npm/gridstack@4.2.5/dist/gridstack-h5', 'notyf': 'https://cdn.jsdelivr.net/npm/notyf@3/notyf.min'}, 'shim': {'vtk': {'exports': 'vtk'}, 'gridstack': {'exports': 'GridStack'}}});\n",
       "      require([\"vtk\"], function() {\n",
       "\ton_load()\n",
       "      })\n",
       "      require([\"gridstack\"], function(GridStack) {\n",
       "\twindow.GridStack = GridStack\n",
       "\ton_load()\n",
       "      })\n",
       "      require([\"notyf\"], function() {\n",
       "\ton_load()\n",
       "      })\n",
       "      root._bokeh_is_loading = css_urls.length + 3;\n",
       "    } else {\n",
       "      root._bokeh_is_loading = css_urls.length + js_urls.length + js_modules.length;\n",
       "    }    if (((window['vtk'] !== undefined) && (!(window['vtk'] instanceof HTMLElement))) || window.requirejs) {\n",
       "      var urls = ['https://cdn.holoviz.org/panel/0.14.3/dist/bundled/abstractvtkplot/vtk.js@20.0.1/vtk.js'];\n",
       "      for (var i = 0; i < urls.length; i++) {\n",
       "        skip.push(urls[i])\n",
       "      }\n",
       "    }    if (((window['GridStack'] !== undefined) && (!(window['GridStack'] instanceof HTMLElement))) || window.requirejs) {\n",
       "      var urls = ['https://cdn.holoviz.org/panel/0.14.3/dist/bundled/gridstack/gridstack@4.2.5/dist/gridstack-h5.js'];\n",
       "      for (var i = 0; i < urls.length; i++) {\n",
       "        skip.push(urls[i])\n",
       "      }\n",
       "    }    if (((window['Notyf'] !== undefined) && (!(window['Notyf'] instanceof HTMLElement))) || window.requirejs) {\n",
       "      var urls = ['https://cdn.holoviz.org/panel/0.14.3/dist/bundled/notificationarea/notyf@3/notyf.min.js'];\n",
       "      for (var i = 0; i < urls.length; i++) {\n",
       "        skip.push(urls[i])\n",
       "      }\n",
       "    }    for (var i = 0; i < js_urls.length; i++) {\n",
       "      var url = js_urls[i];\n",
       "      if (skip.indexOf(url) >= 0) {\n",
       "\tif (!window.requirejs) {\n",
       "\t  on_load();\n",
       "\t}\n",
       "\tcontinue;\n",
       "      }\n",
       "      var element = document.createElement('script');\n",
       "      element.onload = on_load;\n",
       "      element.onerror = on_error;\n",
       "      element.async = false;\n",
       "      element.src = url;\n",
       "      console.debug(\"Bokeh: injecting script tag for BokehJS library: \", url);\n",
       "      document.head.appendChild(element);\n",
       "    }\n",
       "    for (var i = 0; i < js_modules.length; i++) {\n",
       "      var url = js_modules[i];\n",
       "      if (skip.indexOf(url) >= 0) {\n",
       "\tif (!window.requirejs) {\n",
       "\t  on_load();\n",
       "\t}\n",
       "\tcontinue;\n",
       "      }\n",
       "      var element = document.createElement('script');\n",
       "      element.onload = on_load;\n",
       "      element.onerror = on_error;\n",
       "      element.async = false;\n",
       "      element.src = url;\n",
       "      element.type = \"module\";\n",
       "      console.debug(\"Bokeh: injecting script tag for BokehJS library: \", url);\n",
       "      document.head.appendChild(element);\n",
       "    }\n",
       "    if (!js_urls.length && !js_modules.length) {\n",
       "      on_load()\n",
       "    }\n",
       "  };\n",
       "\n",
       "  function inject_raw_css(css) {\n",
       "    const element = document.createElement(\"style\");\n",
       "    element.appendChild(document.createTextNode(css));\n",
       "    document.body.appendChild(element);\n",
       "  }\n",
       "\n",
       "  var js_urls = [\"https://cdn.holoviz.org/panel/0.14.3/dist/bundled/abstractvtkplot/vtk.js@20.0.1/vtk.js\", \"https://cdn.bokeh.org/bokeh/release/bokeh-2.4.3.min.js\", \"https://cdn.bokeh.org/bokeh/release/bokeh-gl-2.4.3.min.js\", \"https://cdn.bokeh.org/bokeh/release/bokeh-widgets-2.4.3.min.js\", \"https://cdn.bokeh.org/bokeh/release/bokeh-tables-2.4.3.min.js\", \"https://cdn.bokeh.org/bokeh/release/bokeh-mathjax-2.4.3.min.js\", \"https://unpkg.com/@holoviz/panel@0.14.3/dist/panel.min.js\"];\n",
       "  var js_modules = [];\n",
       "  var css_urls = [\"https://cdn.holoviz.org/panel/0.14.3/dist/css/loading.css\", \"https://cdn.holoviz.org/panel/0.14.3/dist/css/card.css\", \"https://cdn.holoviz.org/panel/0.14.3/dist/css/markdown.css\", \"https://cdn.holoviz.org/panel/0.14.3/dist/css/dataframe.css\", \"https://cdn.holoviz.org/panel/0.14.3/dist/css/alerts.css\", \"https://cdn.holoviz.org/panel/0.14.3/dist/css/debugger.css\", \"https://cdn.holoviz.org/panel/0.14.3/dist/css/json.css\", \"https://cdn.holoviz.org/panel/0.14.3/dist/css/widgets.css\"];\n",
       "  var inline_js = [    function(Bokeh) {\n",
       "      inject_raw_css(\"\\n    .bk.pn-loading.arc:before {\\n      background-image: url(\\\"data:image/svg+xml;base64,PHN2ZyB4bWxucz0iaHR0cDovL3d3dy53My5vcmcvMjAwMC9zdmciIHN0eWxlPSJtYXJnaW46IGF1dG87IGJhY2tncm91bmQ6IG5vbmU7IGRpc3BsYXk6IGJsb2NrOyBzaGFwZS1yZW5kZXJpbmc6IGF1dG87IiB2aWV3Qm94PSIwIDAgMTAwIDEwMCIgcHJlc2VydmVBc3BlY3RSYXRpbz0ieE1pZFlNaWQiPiAgPGNpcmNsZSBjeD0iNTAiIGN5PSI1MCIgZmlsbD0ibm9uZSIgc3Ryb2tlPSIjYzNjM2MzIiBzdHJva2Utd2lkdGg9IjEwIiByPSIzNSIgc3Ryb2tlLWRhc2hhcnJheT0iMTY0LjkzMzYxNDMxMzQ2NDE1IDU2Ljk3Nzg3MTQzNzgyMTM4Ij4gICAgPGFuaW1hdGVUcmFuc2Zvcm0gYXR0cmlidXRlTmFtZT0idHJhbnNmb3JtIiB0eXBlPSJyb3RhdGUiIHJlcGVhdENvdW50PSJpbmRlZmluaXRlIiBkdXI9IjFzIiB2YWx1ZXM9IjAgNTAgNTA7MzYwIDUwIDUwIiBrZXlUaW1lcz0iMDsxIj48L2FuaW1hdGVUcmFuc2Zvcm0+ICA8L2NpcmNsZT48L3N2Zz4=\\\");\\n      background-size: auto calc(min(50%, 400px));\\n    }\\n    \");\n",
       "    },    function(Bokeh) {\n",
       "      Bokeh.set_log_level(\"info\");\n",
       "    },\n",
       "function(Bokeh) {} // ensure no trailing comma for IE\n",
       "  ];\n",
       "\n",
       "  function run_inline_js() {\n",
       "    if ((root.Bokeh !== undefined) || (force === true)) {\n",
       "      for (var i = 0; i < inline_js.length; i++) {\n",
       "        inline_js[i].call(root, root.Bokeh);\n",
       "      }} else if (Date.now() < root._bokeh_timeout) {\n",
       "      setTimeout(run_inline_js, 100);\n",
       "    } else if (!root._bokeh_failed_load) {\n",
       "      console.log(\"Bokeh: BokehJS failed to load within specified timeout.\");\n",
       "      root._bokeh_failed_load = true;\n",
       "    }\n",
       "  }\n",
       "\n",
       "  if (root._bokeh_is_loading === 0) {\n",
       "    console.debug(\"Bokeh: BokehJS loaded, going straight to plotting\");\n",
       "    run_inline_js();\n",
       "  } else {\n",
       "    load_libs(css_urls, js_urls, js_modules, function() {\n",
       "      console.debug(\"Bokeh: BokehJS plotting callback run at\", now());\n",
       "      run_inline_js();\n",
       "    });\n",
       "  }\n",
       "}(window));"
      ],
      "application/vnd.holoviews_load.v0+json": "(function(root) {\n  function now() {\n    return new Date();\n  }\n\n  var force = true;\n\n  if (typeof root._bokeh_onload_callbacks === \"undefined\" || force === true) {\n    root._bokeh_onload_callbacks = [];\n    root._bokeh_is_loading = undefined;\n  }\n\n  if (typeof (root._bokeh_timeout) === \"undefined\" || force === true) {\n    root._bokeh_timeout = Date.now() + 5000;\n    root._bokeh_failed_load = false;\n  }\n\n  function run_callbacks() {\n    try {\n      root._bokeh_onload_callbacks.forEach(function(callback) {\n        if (callback != null)\n          callback();\n      });\n    } finally {\n      delete root._bokeh_onload_callbacks\n    }\n    console.debug(\"Bokeh: all callbacks have finished\");\n  }\n\n  function load_libs(css_urls, js_urls, js_modules, callback) {\n    if (css_urls == null) css_urls = [];\n    if (js_urls == null) js_urls = [];\n    if (js_modules == null) js_modules = [];\n\n    root._bokeh_onload_callbacks.push(callback);\n    if (root._bokeh_is_loading > 0) {\n      console.debug(\"Bokeh: BokehJS is being loaded, scheduling callback at\", now());\n      return null;\n    }\n    if (js_urls.length === 0 && js_modules.length === 0) {\n      run_callbacks();\n      return null;\n    }\n    console.debug(\"Bokeh: BokehJS not loaded, scheduling load and callback at\", now());\n\n    function on_load() {\n      root._bokeh_is_loading--;\n      if (root._bokeh_is_loading === 0) {\n        console.debug(\"Bokeh: all BokehJS libraries/stylesheets loaded\");\n        run_callbacks()\n      }\n    }\n\n    function on_error() {\n      console.error(\"failed to load \" + url);\n    }\n\n    for (var i = 0; i < css_urls.length; i++) {\n      var url = css_urls[i];\n      const element = document.createElement(\"link\");\n      element.onload = on_load;\n      element.onerror = on_error;\n      element.rel = \"stylesheet\";\n      element.type = \"text/css\";\n      element.href = url;\n      console.debug(\"Bokeh: injecting link tag for BokehJS stylesheet: \", url);\n      document.body.appendChild(element);\n    }\n\n    var skip = [];\n    if (window.requirejs) {\n      window.requirejs.config({'packages': {}, 'paths': {'vtk': 'https://cdn.jsdelivr.net/npm/vtk.js@20.0.1/vtk', 'gridstack': 'https://cdn.jsdelivr.net/npm/gridstack@4.2.5/dist/gridstack-h5', 'notyf': 'https://cdn.jsdelivr.net/npm/notyf@3/notyf.min'}, 'shim': {'vtk': {'exports': 'vtk'}, 'gridstack': {'exports': 'GridStack'}}});\n      require([\"vtk\"], function() {\n\ton_load()\n      })\n      require([\"gridstack\"], function(GridStack) {\n\twindow.GridStack = GridStack\n\ton_load()\n      })\n      require([\"notyf\"], function() {\n\ton_load()\n      })\n      root._bokeh_is_loading = css_urls.length + 3;\n    } else {\n      root._bokeh_is_loading = css_urls.length + js_urls.length + js_modules.length;\n    }    if (((window['vtk'] !== undefined) && (!(window['vtk'] instanceof HTMLElement))) || window.requirejs) {\n      var urls = ['https://cdn.holoviz.org/panel/0.14.3/dist/bundled/abstractvtkplot/vtk.js@20.0.1/vtk.js'];\n      for (var i = 0; i < urls.length; i++) {\n        skip.push(urls[i])\n      }\n    }    if (((window['GridStack'] !== undefined) && (!(window['GridStack'] instanceof HTMLElement))) || window.requirejs) {\n      var urls = ['https://cdn.holoviz.org/panel/0.14.3/dist/bundled/gridstack/gridstack@4.2.5/dist/gridstack-h5.js'];\n      for (var i = 0; i < urls.length; i++) {\n        skip.push(urls[i])\n      }\n    }    if (((window['Notyf'] !== undefined) && (!(window['Notyf'] instanceof HTMLElement))) || window.requirejs) {\n      var urls = ['https://cdn.holoviz.org/panel/0.14.3/dist/bundled/notificationarea/notyf@3/notyf.min.js'];\n      for (var i = 0; i < urls.length; i++) {\n        skip.push(urls[i])\n      }\n    }    for (var i = 0; i < js_urls.length; i++) {\n      var url = js_urls[i];\n      if (skip.indexOf(url) >= 0) {\n\tif (!window.requirejs) {\n\t  on_load();\n\t}\n\tcontinue;\n      }\n      var element = document.createElement('script');\n      element.onload = on_load;\n      element.onerror = on_error;\n      element.async = false;\n      element.src = url;\n      console.debug(\"Bokeh: injecting script tag for BokehJS library: \", url);\n      document.head.appendChild(element);\n    }\n    for (var i = 0; i < js_modules.length; i++) {\n      var url = js_modules[i];\n      if (skip.indexOf(url) >= 0) {\n\tif (!window.requirejs) {\n\t  on_load();\n\t}\n\tcontinue;\n      }\n      var element = document.createElement('script');\n      element.onload = on_load;\n      element.onerror = on_error;\n      element.async = false;\n      element.src = url;\n      element.type = \"module\";\n      console.debug(\"Bokeh: injecting script tag for BokehJS library: \", url);\n      document.head.appendChild(element);\n    }\n    if (!js_urls.length && !js_modules.length) {\n      on_load()\n    }\n  };\n\n  function inject_raw_css(css) {\n    const element = document.createElement(\"style\");\n    element.appendChild(document.createTextNode(css));\n    document.body.appendChild(element);\n  }\n\n  var js_urls = [\"https://cdn.holoviz.org/panel/0.14.3/dist/bundled/abstractvtkplot/vtk.js@20.0.1/vtk.js\", \"https://cdn.bokeh.org/bokeh/release/bokeh-2.4.3.min.js\", \"https://cdn.bokeh.org/bokeh/release/bokeh-gl-2.4.3.min.js\", \"https://cdn.bokeh.org/bokeh/release/bokeh-widgets-2.4.3.min.js\", \"https://cdn.bokeh.org/bokeh/release/bokeh-tables-2.4.3.min.js\", \"https://cdn.bokeh.org/bokeh/release/bokeh-mathjax-2.4.3.min.js\", \"https://unpkg.com/@holoviz/panel@0.14.3/dist/panel.min.js\"];\n  var js_modules = [];\n  var css_urls = [\"https://cdn.holoviz.org/panel/0.14.3/dist/css/loading.css\", \"https://cdn.holoviz.org/panel/0.14.3/dist/css/card.css\", \"https://cdn.holoviz.org/panel/0.14.3/dist/css/markdown.css\", \"https://cdn.holoviz.org/panel/0.14.3/dist/css/dataframe.css\", \"https://cdn.holoviz.org/panel/0.14.3/dist/css/alerts.css\", \"https://cdn.holoviz.org/panel/0.14.3/dist/css/debugger.css\", \"https://cdn.holoviz.org/panel/0.14.3/dist/css/json.css\", \"https://cdn.holoviz.org/panel/0.14.3/dist/css/widgets.css\"];\n  var inline_js = [    function(Bokeh) {\n      inject_raw_css(\"\\n    .bk.pn-loading.arc:before {\\n      background-image: url(\\\"data:image/svg+xml;base64,PHN2ZyB4bWxucz0iaHR0cDovL3d3dy53My5vcmcvMjAwMC9zdmciIHN0eWxlPSJtYXJnaW46IGF1dG87IGJhY2tncm91bmQ6IG5vbmU7IGRpc3BsYXk6IGJsb2NrOyBzaGFwZS1yZW5kZXJpbmc6IGF1dG87IiB2aWV3Qm94PSIwIDAgMTAwIDEwMCIgcHJlc2VydmVBc3BlY3RSYXRpbz0ieE1pZFlNaWQiPiAgPGNpcmNsZSBjeD0iNTAiIGN5PSI1MCIgZmlsbD0ibm9uZSIgc3Ryb2tlPSIjYzNjM2MzIiBzdHJva2Utd2lkdGg9IjEwIiByPSIzNSIgc3Ryb2tlLWRhc2hhcnJheT0iMTY0LjkzMzYxNDMxMzQ2NDE1IDU2Ljk3Nzg3MTQzNzgyMTM4Ij4gICAgPGFuaW1hdGVUcmFuc2Zvcm0gYXR0cmlidXRlTmFtZT0idHJhbnNmb3JtIiB0eXBlPSJyb3RhdGUiIHJlcGVhdENvdW50PSJpbmRlZmluaXRlIiBkdXI9IjFzIiB2YWx1ZXM9IjAgNTAgNTA7MzYwIDUwIDUwIiBrZXlUaW1lcz0iMDsxIj48L2FuaW1hdGVUcmFuc2Zvcm0+ICA8L2NpcmNsZT48L3N2Zz4=\\\");\\n      background-size: auto calc(min(50%, 400px));\\n    }\\n    \");\n    },    function(Bokeh) {\n      Bokeh.set_log_level(\"info\");\n    },\nfunction(Bokeh) {} // ensure no trailing comma for IE\n  ];\n\n  function run_inline_js() {\n    if ((root.Bokeh !== undefined) || (force === true)) {\n      for (var i = 0; i < inline_js.length; i++) {\n        inline_js[i].call(root, root.Bokeh);\n      }} else if (Date.now() < root._bokeh_timeout) {\n      setTimeout(run_inline_js, 100);\n    } else if (!root._bokeh_failed_load) {\n      console.log(\"Bokeh: BokehJS failed to load within specified timeout.\");\n      root._bokeh_failed_load = true;\n    }\n  }\n\n  if (root._bokeh_is_loading === 0) {\n    console.debug(\"Bokeh: BokehJS loaded, going straight to plotting\");\n    run_inline_js();\n  } else {\n    load_libs(css_urls, js_urls, js_modules, function() {\n      console.debug(\"Bokeh: BokehJS plotting callback run at\", now());\n      run_inline_js();\n    });\n  }\n}(window));"
     },
     "metadata": {},
     "output_type": "display_data"
    },
    {
     "data": {
      "application/javascript": [
       "\n",
       "if ((window.PyViz === undefined) || (window.PyViz instanceof HTMLElement)) {\n",
       "  window.PyViz = {comms: {}, comm_status:{}, kernels:{}, receivers: {}, plot_index: []}\n",
       "}\n",
       "\n",
       "\n",
       "    function JupyterCommManager() {\n",
       "    }\n",
       "\n",
       "    JupyterCommManager.prototype.register_target = function(plot_id, comm_id, msg_handler) {\n",
       "      if (window.comm_manager || ((window.Jupyter !== undefined) && (Jupyter.notebook.kernel != null))) {\n",
       "        var comm_manager = window.comm_manager || Jupyter.notebook.kernel.comm_manager;\n",
       "        comm_manager.register_target(comm_id, function(comm) {\n",
       "          comm.on_msg(msg_handler);\n",
       "        });\n",
       "      } else if ((plot_id in window.PyViz.kernels) && (window.PyViz.kernels[plot_id])) {\n",
       "        window.PyViz.kernels[plot_id].registerCommTarget(comm_id, function(comm) {\n",
       "          comm.onMsg = msg_handler;\n",
       "        });\n",
       "      } else if (typeof google != 'undefined' && google.colab.kernel != null) {\n",
       "        google.colab.kernel.comms.registerTarget(comm_id, (comm) => {\n",
       "          var messages = comm.messages[Symbol.asyncIterator]();\n",
       "          function processIteratorResult(result) {\n",
       "            var message = result.value;\n",
       "            console.log(message)\n",
       "            var content = {data: message.data, comm_id};\n",
       "            var buffers = []\n",
       "            for (var buffer of message.buffers || []) {\n",
       "              buffers.push(new DataView(buffer))\n",
       "            }\n",
       "            var metadata = message.metadata || {};\n",
       "            var msg = {content, buffers, metadata}\n",
       "            msg_handler(msg);\n",
       "            return messages.next().then(processIteratorResult);\n",
       "          }\n",
       "          return messages.next().then(processIteratorResult);\n",
       "        })\n",
       "      }\n",
       "    }\n",
       "\n",
       "    JupyterCommManager.prototype.get_client_comm = function(plot_id, comm_id, msg_handler) {\n",
       "      if (comm_id in window.PyViz.comms) {\n",
       "        return window.PyViz.comms[comm_id];\n",
       "      } else if (window.comm_manager || ((window.Jupyter !== undefined) && (Jupyter.notebook.kernel != null))) {\n",
       "        var comm_manager = window.comm_manager || Jupyter.notebook.kernel.comm_manager;\n",
       "        var comm = comm_manager.new_comm(comm_id, {}, {}, {}, comm_id);\n",
       "        if (msg_handler) {\n",
       "          comm.on_msg(msg_handler);\n",
       "        }\n",
       "      } else if ((plot_id in window.PyViz.kernels) && (window.PyViz.kernels[plot_id])) {\n",
       "        var comm = window.PyViz.kernels[plot_id].connectToComm(comm_id);\n",
       "        comm.open();\n",
       "        if (msg_handler) {\n",
       "          comm.onMsg = msg_handler;\n",
       "        }\n",
       "      } else if (typeof google != 'undefined' && google.colab.kernel != null) {\n",
       "        var comm_promise = google.colab.kernel.comms.open(comm_id)\n",
       "        comm_promise.then((comm) => {\n",
       "          window.PyViz.comms[comm_id] = comm;\n",
       "          if (msg_handler) {\n",
       "            var messages = comm.messages[Symbol.asyncIterator]();\n",
       "            function processIteratorResult(result) {\n",
       "              var message = result.value;\n",
       "              var content = {data: message.data};\n",
       "              var metadata = message.metadata || {comm_id};\n",
       "              var msg = {content, metadata}\n",
       "              msg_handler(msg);\n",
       "              return messages.next().then(processIteratorResult);\n",
       "            }\n",
       "            return messages.next().then(processIteratorResult);\n",
       "          }\n",
       "        }) \n",
       "        var sendClosure = (data, metadata, buffers, disposeOnDone) => {\n",
       "          return comm_promise.then((comm) => {\n",
       "            comm.send(data, metadata, buffers, disposeOnDone);\n",
       "          });\n",
       "        };\n",
       "        var comm = {\n",
       "          send: sendClosure\n",
       "        };\n",
       "      }\n",
       "      window.PyViz.comms[comm_id] = comm;\n",
       "      return comm;\n",
       "    }\n",
       "    window.PyViz.comm_manager = new JupyterCommManager();\n",
       "    \n",
       "\n",
       "\n",
       "var JS_MIME_TYPE = 'application/javascript';\n",
       "var HTML_MIME_TYPE = 'text/html';\n",
       "var EXEC_MIME_TYPE = 'application/vnd.holoviews_exec.v0+json';\n",
       "var CLASS_NAME = 'output';\n",
       "\n",
       "/**\n",
       " * Render data to the DOM node\n",
       " */\n",
       "function render(props, node) {\n",
       "  var div = document.createElement(\"div\");\n",
       "  var script = document.createElement(\"script\");\n",
       "  node.appendChild(div);\n",
       "  node.appendChild(script);\n",
       "}\n",
       "\n",
       "/**\n",
       " * Handle when a new output is added\n",
       " */\n",
       "function handle_add_output(event, handle) {\n",
       "  var output_area = handle.output_area;\n",
       "  var output = handle.output;\n",
       "  if ((output.data == undefined) || (!output.data.hasOwnProperty(EXEC_MIME_TYPE))) {\n",
       "    return\n",
       "  }\n",
       "  var id = output.metadata[EXEC_MIME_TYPE][\"id\"];\n",
       "  var toinsert = output_area.element.find(\".\" + CLASS_NAME.split(' ')[0]);\n",
       "  if (id !== undefined) {\n",
       "    var nchildren = toinsert.length;\n",
       "    var html_node = toinsert[nchildren-1].children[0];\n",
       "    html_node.innerHTML = output.data[HTML_MIME_TYPE];\n",
       "    var scripts = [];\n",
       "    var nodelist = html_node.querySelectorAll(\"script\");\n",
       "    for (var i in nodelist) {\n",
       "      if (nodelist.hasOwnProperty(i)) {\n",
       "        scripts.push(nodelist[i])\n",
       "      }\n",
       "    }\n",
       "\n",
       "    scripts.forEach( function (oldScript) {\n",
       "      var newScript = document.createElement(\"script\");\n",
       "      var attrs = [];\n",
       "      var nodemap = oldScript.attributes;\n",
       "      for (var j in nodemap) {\n",
       "        if (nodemap.hasOwnProperty(j)) {\n",
       "          attrs.push(nodemap[j])\n",
       "        }\n",
       "      }\n",
       "      attrs.forEach(function(attr) { newScript.setAttribute(attr.name, attr.value) });\n",
       "      newScript.appendChild(document.createTextNode(oldScript.innerHTML));\n",
       "      oldScript.parentNode.replaceChild(newScript, oldScript);\n",
       "    });\n",
       "    if (JS_MIME_TYPE in output.data) {\n",
       "      toinsert[nchildren-1].children[1].textContent = output.data[JS_MIME_TYPE];\n",
       "    }\n",
       "    output_area._hv_plot_id = id;\n",
       "    if ((window.Bokeh !== undefined) && (id in Bokeh.index)) {\n",
       "      window.PyViz.plot_index[id] = Bokeh.index[id];\n",
       "    } else {\n",
       "      window.PyViz.plot_index[id] = null;\n",
       "    }\n",
       "  } else if (output.metadata[EXEC_MIME_TYPE][\"server_id\"] !== undefined) {\n",
       "    var bk_div = document.createElement(\"div\");\n",
       "    bk_div.innerHTML = output.data[HTML_MIME_TYPE];\n",
       "    var script_attrs = bk_div.children[0].attributes;\n",
       "    for (var i = 0; i < script_attrs.length; i++) {\n",
       "      toinsert[toinsert.length - 1].childNodes[1].setAttribute(script_attrs[i].name, script_attrs[i].value);\n",
       "    }\n",
       "    // store reference to server id on output_area\n",
       "    output_area._bokeh_server_id = output.metadata[EXEC_MIME_TYPE][\"server_id\"];\n",
       "  }\n",
       "}\n",
       "\n",
       "/**\n",
       " * Handle when an output is cleared or removed\n",
       " */\n",
       "function handle_clear_output(event, handle) {\n",
       "  var id = handle.cell.output_area._hv_plot_id;\n",
       "  var server_id = handle.cell.output_area._bokeh_server_id;\n",
       "  if (((id === undefined) || !(id in PyViz.plot_index)) && (server_id !== undefined)) { return; }\n",
       "  var comm = window.PyViz.comm_manager.get_client_comm(\"hv-extension-comm\", \"hv-extension-comm\", function () {});\n",
       "  if (server_id !== null) {\n",
       "    comm.send({event_type: 'server_delete', 'id': server_id});\n",
       "    return;\n",
       "  } else if (comm !== null) {\n",
       "    comm.send({event_type: 'delete', 'id': id});\n",
       "  }\n",
       "  delete PyViz.plot_index[id];\n",
       "  if ((window.Bokeh !== undefined) & (id in window.Bokeh.index)) {\n",
       "    var doc = window.Bokeh.index[id].model.document\n",
       "    doc.clear();\n",
       "    const i = window.Bokeh.documents.indexOf(doc);\n",
       "    if (i > -1) {\n",
       "      window.Bokeh.documents.splice(i, 1);\n",
       "    }\n",
       "  }\n",
       "}\n",
       "\n",
       "/**\n",
       " * Handle kernel restart event\n",
       " */\n",
       "function handle_kernel_cleanup(event, handle) {\n",
       "  delete PyViz.comms[\"hv-extension-comm\"];\n",
       "  window.PyViz.plot_index = {}\n",
       "}\n",
       "\n",
       "/**\n",
       " * Handle update_display_data messages\n",
       " */\n",
       "function handle_update_output(event, handle) {\n",
       "  handle_clear_output(event, {cell: {output_area: handle.output_area}})\n",
       "  handle_add_output(event, handle)\n",
       "}\n",
       "\n",
       "function register_renderer(events, OutputArea) {\n",
       "  function append_mime(data, metadata, element) {\n",
       "    // create a DOM node to render to\n",
       "    var toinsert = this.create_output_subarea(\n",
       "    metadata,\n",
       "    CLASS_NAME,\n",
       "    EXEC_MIME_TYPE\n",
       "    );\n",
       "    this.keyboard_manager.register_events(toinsert);\n",
       "    // Render to node\n",
       "    var props = {data: data, metadata: metadata[EXEC_MIME_TYPE]};\n",
       "    render(props, toinsert[0]);\n",
       "    element.append(toinsert);\n",
       "    return toinsert\n",
       "  }\n",
       "\n",
       "  events.on('output_added.OutputArea', handle_add_output);\n",
       "  events.on('output_updated.OutputArea', handle_update_output);\n",
       "  events.on('clear_output.CodeCell', handle_clear_output);\n",
       "  events.on('delete.Cell', handle_clear_output);\n",
       "  events.on('kernel_ready.Kernel', handle_kernel_cleanup);\n",
       "\n",
       "  OutputArea.prototype.register_mime_type(EXEC_MIME_TYPE, append_mime, {\n",
       "    safe: true,\n",
       "    index: 0\n",
       "  });\n",
       "}\n",
       "\n",
       "if (window.Jupyter !== undefined) {\n",
       "  try {\n",
       "    var events = require('base/js/events');\n",
       "    var OutputArea = require('notebook/js/outputarea').OutputArea;\n",
       "    if (OutputArea.prototype.mime_types().indexOf(EXEC_MIME_TYPE) == -1) {\n",
       "      register_renderer(events, OutputArea);\n",
       "    }\n",
       "  } catch(err) {\n",
       "  }\n",
       "}\n"
      ],
      "application/vnd.holoviews_load.v0+json": "\nif ((window.PyViz === undefined) || (window.PyViz instanceof HTMLElement)) {\n  window.PyViz = {comms: {}, comm_status:{}, kernels:{}, receivers: {}, plot_index: []}\n}\n\n\n    function JupyterCommManager() {\n    }\n\n    JupyterCommManager.prototype.register_target = function(plot_id, comm_id, msg_handler) {\n      if (window.comm_manager || ((window.Jupyter !== undefined) && (Jupyter.notebook.kernel != null))) {\n        var comm_manager = window.comm_manager || Jupyter.notebook.kernel.comm_manager;\n        comm_manager.register_target(comm_id, function(comm) {\n          comm.on_msg(msg_handler);\n        });\n      } else if ((plot_id in window.PyViz.kernels) && (window.PyViz.kernels[plot_id])) {\n        window.PyViz.kernels[plot_id].registerCommTarget(comm_id, function(comm) {\n          comm.onMsg = msg_handler;\n        });\n      } else if (typeof google != 'undefined' && google.colab.kernel != null) {\n        google.colab.kernel.comms.registerTarget(comm_id, (comm) => {\n          var messages = comm.messages[Symbol.asyncIterator]();\n          function processIteratorResult(result) {\n            var message = result.value;\n            console.log(message)\n            var content = {data: message.data, comm_id};\n            var buffers = []\n            for (var buffer of message.buffers || []) {\n              buffers.push(new DataView(buffer))\n            }\n            var metadata = message.metadata || {};\n            var msg = {content, buffers, metadata}\n            msg_handler(msg);\n            return messages.next().then(processIteratorResult);\n          }\n          return messages.next().then(processIteratorResult);\n        })\n      }\n    }\n\n    JupyterCommManager.prototype.get_client_comm = function(plot_id, comm_id, msg_handler) {\n      if (comm_id in window.PyViz.comms) {\n        return window.PyViz.comms[comm_id];\n      } else if (window.comm_manager || ((window.Jupyter !== undefined) && (Jupyter.notebook.kernel != null))) {\n        var comm_manager = window.comm_manager || Jupyter.notebook.kernel.comm_manager;\n        var comm = comm_manager.new_comm(comm_id, {}, {}, {}, comm_id);\n        if (msg_handler) {\n          comm.on_msg(msg_handler);\n        }\n      } else if ((plot_id in window.PyViz.kernels) && (window.PyViz.kernels[plot_id])) {\n        var comm = window.PyViz.kernels[plot_id].connectToComm(comm_id);\n        comm.open();\n        if (msg_handler) {\n          comm.onMsg = msg_handler;\n        }\n      } else if (typeof google != 'undefined' && google.colab.kernel != null) {\n        var comm_promise = google.colab.kernel.comms.open(comm_id)\n        comm_promise.then((comm) => {\n          window.PyViz.comms[comm_id] = comm;\n          if (msg_handler) {\n            var messages = comm.messages[Symbol.asyncIterator]();\n            function processIteratorResult(result) {\n              var message = result.value;\n              var content = {data: message.data};\n              var metadata = message.metadata || {comm_id};\n              var msg = {content, metadata}\n              msg_handler(msg);\n              return messages.next().then(processIteratorResult);\n            }\n            return messages.next().then(processIteratorResult);\n          }\n        }) \n        var sendClosure = (data, metadata, buffers, disposeOnDone) => {\n          return comm_promise.then((comm) => {\n            comm.send(data, metadata, buffers, disposeOnDone);\n          });\n        };\n        var comm = {\n          send: sendClosure\n        };\n      }\n      window.PyViz.comms[comm_id] = comm;\n      return comm;\n    }\n    window.PyViz.comm_manager = new JupyterCommManager();\n    \n\n\nvar JS_MIME_TYPE = 'application/javascript';\nvar HTML_MIME_TYPE = 'text/html';\nvar EXEC_MIME_TYPE = 'application/vnd.holoviews_exec.v0+json';\nvar CLASS_NAME = 'output';\n\n/**\n * Render data to the DOM node\n */\nfunction render(props, node) {\n  var div = document.createElement(\"div\");\n  var script = document.createElement(\"script\");\n  node.appendChild(div);\n  node.appendChild(script);\n}\n\n/**\n * Handle when a new output is added\n */\nfunction handle_add_output(event, handle) {\n  var output_area = handle.output_area;\n  var output = handle.output;\n  if ((output.data == undefined) || (!output.data.hasOwnProperty(EXEC_MIME_TYPE))) {\n    return\n  }\n  var id = output.metadata[EXEC_MIME_TYPE][\"id\"];\n  var toinsert = output_area.element.find(\".\" + CLASS_NAME.split(' ')[0]);\n  if (id !== undefined) {\n    var nchildren = toinsert.length;\n    var html_node = toinsert[nchildren-1].children[0];\n    html_node.innerHTML = output.data[HTML_MIME_TYPE];\n    var scripts = [];\n    var nodelist = html_node.querySelectorAll(\"script\");\n    for (var i in nodelist) {\n      if (nodelist.hasOwnProperty(i)) {\n        scripts.push(nodelist[i])\n      }\n    }\n\n    scripts.forEach( function (oldScript) {\n      var newScript = document.createElement(\"script\");\n      var attrs = [];\n      var nodemap = oldScript.attributes;\n      for (var j in nodemap) {\n        if (nodemap.hasOwnProperty(j)) {\n          attrs.push(nodemap[j])\n        }\n      }\n      attrs.forEach(function(attr) { newScript.setAttribute(attr.name, attr.value) });\n      newScript.appendChild(document.createTextNode(oldScript.innerHTML));\n      oldScript.parentNode.replaceChild(newScript, oldScript);\n    });\n    if (JS_MIME_TYPE in output.data) {\n      toinsert[nchildren-1].children[1].textContent = output.data[JS_MIME_TYPE];\n    }\n    output_area._hv_plot_id = id;\n    if ((window.Bokeh !== undefined) && (id in Bokeh.index)) {\n      window.PyViz.plot_index[id] = Bokeh.index[id];\n    } else {\n      window.PyViz.plot_index[id] = null;\n    }\n  } else if (output.metadata[EXEC_MIME_TYPE][\"server_id\"] !== undefined) {\n    var bk_div = document.createElement(\"div\");\n    bk_div.innerHTML = output.data[HTML_MIME_TYPE];\n    var script_attrs = bk_div.children[0].attributes;\n    for (var i = 0; i < script_attrs.length; i++) {\n      toinsert[toinsert.length - 1].childNodes[1].setAttribute(script_attrs[i].name, script_attrs[i].value);\n    }\n    // store reference to server id on output_area\n    output_area._bokeh_server_id = output.metadata[EXEC_MIME_TYPE][\"server_id\"];\n  }\n}\n\n/**\n * Handle when an output is cleared or removed\n */\nfunction handle_clear_output(event, handle) {\n  var id = handle.cell.output_area._hv_plot_id;\n  var server_id = handle.cell.output_area._bokeh_server_id;\n  if (((id === undefined) || !(id in PyViz.plot_index)) && (server_id !== undefined)) { return; }\n  var comm = window.PyViz.comm_manager.get_client_comm(\"hv-extension-comm\", \"hv-extension-comm\", function () {});\n  if (server_id !== null) {\n    comm.send({event_type: 'server_delete', 'id': server_id});\n    return;\n  } else if (comm !== null) {\n    comm.send({event_type: 'delete', 'id': id});\n  }\n  delete PyViz.plot_index[id];\n  if ((window.Bokeh !== undefined) & (id in window.Bokeh.index)) {\n    var doc = window.Bokeh.index[id].model.document\n    doc.clear();\n    const i = window.Bokeh.documents.indexOf(doc);\n    if (i > -1) {\n      window.Bokeh.documents.splice(i, 1);\n    }\n  }\n}\n\n/**\n * Handle kernel restart event\n */\nfunction handle_kernel_cleanup(event, handle) {\n  delete PyViz.comms[\"hv-extension-comm\"];\n  window.PyViz.plot_index = {}\n}\n\n/**\n * Handle update_display_data messages\n */\nfunction handle_update_output(event, handle) {\n  handle_clear_output(event, {cell: {output_area: handle.output_area}})\n  handle_add_output(event, handle)\n}\n\nfunction register_renderer(events, OutputArea) {\n  function append_mime(data, metadata, element) {\n    // create a DOM node to render to\n    var toinsert = this.create_output_subarea(\n    metadata,\n    CLASS_NAME,\n    EXEC_MIME_TYPE\n    );\n    this.keyboard_manager.register_events(toinsert);\n    // Render to node\n    var props = {data: data, metadata: metadata[EXEC_MIME_TYPE]};\n    render(props, toinsert[0]);\n    element.append(toinsert);\n    return toinsert\n  }\n\n  events.on('output_added.OutputArea', handle_add_output);\n  events.on('output_updated.OutputArea', handle_update_output);\n  events.on('clear_output.CodeCell', handle_clear_output);\n  events.on('delete.Cell', handle_clear_output);\n  events.on('kernel_ready.Kernel', handle_kernel_cleanup);\n\n  OutputArea.prototype.register_mime_type(EXEC_MIME_TYPE, append_mime, {\n    safe: true,\n    index: 0\n  });\n}\n\nif (window.Jupyter !== undefined) {\n  try {\n    var events = require('base/js/events');\n    var OutputArea = require('notebook/js/outputarea').OutputArea;\n    if (OutputArea.prototype.mime_types().indexOf(EXEC_MIME_TYPE) == -1) {\n      register_renderer(events, OutputArea);\n    }\n  } catch(err) {\n  }\n}\n"
     },
     "metadata": {},
     "output_type": "display_data"
    },
    {
     "data": {
      "text/html": [
       "<style>.bk-root, .bk-root .bk:before, .bk-root .bk:after {\n",
       "  font-family: var(--jp-ui-font-size1);\n",
       "  font-size: var(--jp-ui-font-size1);\n",
       "  color: var(--jp-ui-font-color1);\n",
       "}\n",
       "</style>"
      ]
     },
     "metadata": {},
     "output_type": "display_data"
    },
    {
     "data": {},
     "metadata": {},
     "output_type": "display_data"
    },
    {
     "data": {
      "text/html": [
       "<div id='1003'>\n",
       "  <div class=\"bk-root\" id=\"c4fef229-bb9a-425b-a31d-9660f1eb8e58\" data-root-id=\"1003\"></div>\n",
       "</div>\n",
       "<script type=\"application/javascript\">(function(root) {\n",
       "  function embed_document(root) {\n",
       "    var docs_json = {\"3983a03d-0326-4e4c-9bfd-cc381fb0f845\":{\"defs\":[{\"extends\":null,\"module\":null,\"name\":\"ReactiveHTML1\",\"overrides\":[],\"properties\":[]},{\"extends\":null,\"module\":null,\"name\":\"FlexBox1\",\"overrides\":[],\"properties\":[{\"default\":\"flex-start\",\"kind\":null,\"name\":\"align_content\"},{\"default\":\"flex-start\",\"kind\":null,\"name\":\"align_items\"},{\"default\":\"row\",\"kind\":null,\"name\":\"flex_direction\"},{\"default\":\"wrap\",\"kind\":null,\"name\":\"flex_wrap\"},{\"default\":\"flex-start\",\"kind\":null,\"name\":\"justify_content\"}]},{\"extends\":null,\"module\":null,\"name\":\"GridStack1\",\"overrides\":[],\"properties\":[{\"default\":\"warn\",\"kind\":null,\"name\":\"mode\"},{\"default\":null,\"kind\":null,\"name\":\"ncols\"},{\"default\":null,\"kind\":null,\"name\":\"nrows\"},{\"default\":true,\"kind\":null,\"name\":\"allow_resize\"},{\"default\":true,\"kind\":null,\"name\":\"allow_drag\"},{\"default\":[],\"kind\":null,\"name\":\"state\"}]},{\"extends\":null,\"module\":null,\"name\":\"click1\",\"overrides\":[],\"properties\":[{\"default\":\"\",\"kind\":null,\"name\":\"terminal_output\"},{\"default\":\"\",\"kind\":null,\"name\":\"debug_name\"},{\"default\":0,\"kind\":null,\"name\":\"clears\"}]},{\"extends\":null,\"module\":null,\"name\":\"NotificationAreaBase1\",\"overrides\":[],\"properties\":[{\"default\":\"bottom-right\",\"kind\":null,\"name\":\"position\"},{\"default\":0,\"kind\":null,\"name\":\"_clear\"}]},{\"extends\":null,\"module\":null,\"name\":\"NotificationArea1\",\"overrides\":[],\"properties\":[{\"default\":[],\"kind\":null,\"name\":\"notifications\"},{\"default\":\"bottom-right\",\"kind\":null,\"name\":\"position\"},{\"default\":0,\"kind\":null,\"name\":\"_clear\"},{\"default\":[{\"background\":\"#ffc107\",\"icon\":{\"className\":\"fas fa-exclamation-triangle\",\"color\":\"white\",\"tagName\":\"i\"},\"type\":\"warning\"},{\"background\":\"#007bff\",\"icon\":{\"className\":\"fas fa-info-circle\",\"color\":\"white\",\"tagName\":\"i\"},\"type\":\"info\"}],\"kind\":null,\"name\":\"types\"}]},{\"extends\":null,\"module\":null,\"name\":\"Notification\",\"overrides\":[],\"properties\":[{\"default\":null,\"kind\":null,\"name\":\"background\"},{\"default\":3000,\"kind\":null,\"name\":\"duration\"},{\"default\":null,\"kind\":null,\"name\":\"icon\"},{\"default\":\"\",\"kind\":null,\"name\":\"message\"},{\"default\":null,\"kind\":null,\"name\":\"notification_type\"},{\"default\":false,\"kind\":null,\"name\":\"_destroyed\"}]},{\"extends\":null,\"module\":null,\"name\":\"TemplateActions1\",\"overrides\":[],\"properties\":[{\"default\":0,\"kind\":null,\"name\":\"open_modal\"},{\"default\":0,\"kind\":null,\"name\":\"close_modal\"}]},{\"extends\":null,\"module\":null,\"name\":\"MaterialTemplateActions1\",\"overrides\":[],\"properties\":[{\"default\":0,\"kind\":null,\"name\":\"open_modal\"},{\"default\":0,\"kind\":null,\"name\":\"close_modal\"}]}],\"roots\":{\"references\":[{\"attributes\":{},\"id\":\"1002\",\"type\":\"panel.models.vtk.VTKAxes\"},{\"attributes\":{\"reload\":false},\"id\":\"1005\",\"type\":\"panel.models.location.Location\"},{\"attributes\":{\"arrays\":{\"2ebda7d3c6c3627ba233a85b7027cd58\":\"UEsDBBQAAAAIADajQVaBkDoDkwEAAAAEAAAlAAAAZGF0YS8yZWJkYTdkM2M2YzM2MjdiYTIzM2E4NWI3MDI3Y2Q1OHXTb0SdYRgH4E5/VllpSibJJBlJTERGJEZEjIgYETEiYmxEjIjYh4gYETEiYiJiIjISmUgmySRNaqo5Z53O2TXd077M6/r2vs9z37+fN5uTk83+lSCXPAoopJgSyiinkipqqKWeBppoppU2Ouikmx766GeQIUZ4wxjjTDLFDLPMs8ASy6yyxgabbLPDHvsccsQJp5xzwRVJUlyT5obMrUz2zg1pfpHkJ5f84IzvHPONA76yyxe2+Mw6n1jhI4t8YI73TPOOCd4yyiuGeckAL+jlOV08o52ntPCERh5TxyOqeUgFDyjlPkXcI588Evz/ScRb+fFVUZxSGqdWxC3VcWtdTNEYU7XElO0xdVds0RtbDcSWw7H1aKQwEalMR0pzkdpipLgSqa5HyluR+m60cBCtHEdLZ9HaZbSYilbT0fI/rWeyt25Ic02KJFdccM4pJxxxyD577LDNJhusscoySywwzywzTDHJOGO8ZoQhBumnjx666aSDNlpppokG6qmlhioqKaeMEooppIA8cknc/e5//AZQSwECFAMUAAAACAA2o0FWgZA6A5MBAAAABAAAJQAAAAAAAAAAAAAAgAEAAAAAZGF0YS8yZWJkYTdkM2M2YzM2MjdiYTIzM2E4NWI3MDI3Y2Q1OFBLBQYAAAAAAQABAFMAAADWAQAAAAA=\",\"37208c065c5e15b9f57c9e5b816e1e5d\":\"UEsDBBQAAAAIADajQVajNjMkwAAAAJgHAAAlAAAAZGF0YS8zNzIwOGMwNjVjNWUxNWI5ZjU3YzllNWI4MTZlMWU1ZI3PMQ4CMRBDUW7G1TnClFOmmCJFihyBEsnSA7aLk7X/fzz++V7P7+fMdV/oyTzPmau/0Z95YTffZa7dhd3MCzwNnvw/c/EMeDIvcDY4FzizN3NxbnBmXuBv8C/wD/hzL3PxH/BnXvBqeC14Dbw2vJIjc3ldeGVe8G34LvgOfDd8D3yTL/P0LXg1vBa8Bl4bXgdeF14NzgXOAecG5wHnBecCz4Bng+eA54JnsLuxe7B7sbvRf9B/f3hlz/3R83n/BlBLAQIUAxQAAAAIADajQVajNjMkwAAAAJgHAAAlAAAAAAAAAAAAAACAAQAAAABkYXRhLzM3MjA4YzA2NWM1ZTE1YjlmNTdjOWU1YjgxNmUxZTVkUEsFBgAAAAABAAEAUwAAAAMBAAAAAA==\",\"6e1996ab456e3fd81a231d475bd9e9a2\":\"UEsDBBQAAAAIADajQVZTQVknZwEAAAAFAAAlAAAAZGF0YS82ZTE5OTZhYjQ1NmUzZmQ4MWEyMzFkNDc1YmQ5ZTlhMk2OhVIcUBAEAwwe3EJwd3dJILjD/38N20VTlavaur53u9OTH1+fhpqmmsaa+JvvZt/jf3BrTYtvTFtNu7txB+5wN+7DP2s6/7vrqun2/tsH93gf7+Be72MG3F/T5xtZAzWDZsYseMjMmAUPmxmz4BEzYy48WvPLN/J/14zpifnwuJ6YD0/oifnwpJ6YD0/piS54pmbaN5yzNXO6oxOe1x2d8ILu6IQXdUcnvKQ7OuFl3dEPr9as+EaPtZp1+8Qe8IZ9Yg940z6xB7xln9gD3rZP7AHv2Cf2gHftEzvB+zV7vs3Z7cA+sQd8aJ/YAz6yT+wBH9sn9oBP7BN7wKf2iT3gM/tEJz3OdUcn/Ed3dMJ/dUcnfKE7OuFL3dEJ/9Md83Fe6Yn58LWemA/f6In58K2emA/f6YlZ5N+bGbPgBzNjFvxoZsyCn8yMd2Q9ex/v4Bfv4x386n3c4e7N3bgDv7sbf7Pz4fsnUEsBAhQDFAAAAAgANqNBVlNBWSdnAQAAAAUAACUAAAAAAAAAAAAAAIABAAAAAGRhdGEvNmUxOTk2YWI0NTZlM2ZkODFhMjMxZDQ3NWJkOWU5YTJQSwUGAAAAAAEAAQBTAAAAqgEAAAAA\"},\"axes\":{\"id\":\"1002\"},\"margin\":[5,5,5,5],\"scene\":{\"calls\":[[\"addRenderer\",[\"instance:${d9f07345-bf5b-4386-92c6-3c5211062ad4000055f5cf4ca560}\"]],[\"addRenderer\",[\"instance:${d9f07345-bf5b-4386-92c6-3c5211062ad4000055f5cf4cada0}\"]]],\"dependencies\":[{\"calls\":[[\"setActiveCamera\",[\"instance:${000055f5cf4cdff0}\"]],[\"addViewProp\",[\"instance:${d9f07345-bf5b-4386-92c6-3c5211062ad4000055f5cf4d3550}\"]]],\"dependencies\":[{\"id\":\"000055f5cf4cdff0\",\"parent\":\"d9f07345-bf5b-4386-92c6-3c5211062ad4000055f5cf4ca560\",\"properties\":{\"clippingRange\":[2.5590521887869815,2.956410296978415],\"focalPoint\":[0.5,0.5,0.0],\"position\":[0.5,0.5,2.7320508075688776],\"viewUp\":[0.0,1.0,0.0]},\"type\":\"vtkOpenGLCamera\"},{\"calls\":[[\"setMapper\",[\"instance:${d9f07345-bf5b-4386-92c6-3c5211062ad4000055f5cf2e7e20}\"]],[\"setProperty\",[\"instance:${d9f07345-bf5b-4386-92c6-3c5211062ad4000055f5cf4e4040}\"]]],\"dependencies\":[{\"calls\":[[\"setInputData\",[\"instance:${d9f07345-bf5b-4386-92c6-3c5211062ad4000055f5cf2e7e20-dataset-0}\",0]],[\"setLookupTable\",[\"instance:${d9f07345-bf5b-4386-92c6-3c5211062ad4000055f5cf2e7bf0}\"]]],\"dependencies\":[{\"id\":\"d9f07345-bf5b-4386-92c6-3c5211062ad4000055f5cf2e7e20-dataset-0\",\"parent\":\"d9f07345-bf5b-4386-92c6-3c5211062ad4000055f5cf2e7e20\",\"properties\":{\"fields\":[],\"points\":{\"dataType\":\"Float64Array\",\"hash\":\"37208c065c5e15b9f57c9e5b816e1e5d\",\"name\":\"Points\",\"numberOfComponents\":3,\"ranges\":[{\"component\":null,\"max\":1.0,\"min\":0.0},{\"component\":null,\"max\":1.0,\"min\":0.0},{\"component\":null,\"max\":0.0,\"min\":0.0},{\"component\":null,\"max\":1.4142135623730951,\"min\":0.0}],\"size\":243,\"vtkClass\":\"vtkPoints\"},\"polys\":{\"dataType\":\"Uint32Array\",\"hash\":\"6e1996ab456e3fd81a231d475bd9e9a2\",\"name\":null,\"numberOfComponents\":1,\"ranges\":[{\"component\":null,\"max\":80.0,\"min\":0.0}],\"size\":320,\"vtkClass\":\"vtkCellArray\"}},\"type\":\"vtkPolyData\"},{\"arrays\":[{\"dataType\":\"Uint8Array\",\"hash\":\"2ebda7d3c6c3627ba233a85b7027cd58\",\"name\":null,\"numberOfComponents\":4,\"ranges\":[{\"component\":null,\"max\":255.0,\"min\":0.0},{\"component\":null,\"max\":255.0,\"min\":0.0},{\"component\":null,\"max\":255.0,\"min\":0.0},{\"component\":null,\"max\":255.0,\"min\":255.0},{\"component\":null,\"max\":441.0963613542964,\"min\":360.62445840513925}],\"registration\":\"setTable\",\"size\":1024,\"vtkClass\":\"vtkDataArray\"}],\"id\":\"d9f07345-bf5b-4386-92c6-3c5211062ad4000055f5cf2e7bf0\",\"parent\":\"d9f07345-bf5b-4386-92c6-3c5211062ad4000055f5cf2e7e20\",\"properties\":{\"aboveRangeColor\":[1.0,1.0,1.0,1.0],\"alpha\":1.0,\"belowRangeColor\":[0.0,0.0,0.0,1.0],\"hueRange\":[0.5,0],\"indexedLookup\":0,\"nanColor\":[0.5,0.0,0.0,1.0],\"numberOfColors\":256,\"range\":[0.0,1.0],\"saturationRange\":[1.0,1.0],\"useAboveRangeColor\":false,\"useBelowRangeColor\":false,\"valueRange\":[0.0,1.0],\"vectorComponent\":0,\"vectorMode\":1,\"vectorSize\":-1},\"type\":\"vtkLookupTable\"}],\"id\":\"d9f07345-bf5b-4386-92c6-3c5211062ad4000055f5cf2e7e20\",\"parent\":\"d9f07345-bf5b-4386-92c6-3c5211062ad4000055f5cf4d3550\",\"properties\":{\"arrayAccessMode\":1,\"colorByArrayName\":null,\"colorMode\":0,\"interpolateScalarsBeforeMapping\":1,\"renderTime\":0.0,\"resolveCoincidentTopology\":0,\"scalarMode\":0,\"scalarRange\":[0.0,1.0],\"scalarVisibility\":0,\"useLookupTableScalarRange\":0},\"type\":\"vtkDataSetMapper\"},{\"id\":\"d9f07345-bf5b-4386-92c6-3c5211062ad4000055f5cf4e4040\",\"parent\":\"d9f07345-bf5b-4386-92c6-3c5211062ad4000055f5cf4d3550\",\"properties\":{\"ambient\":0.0,\"ambientColor\":[1.0,1.0,1.0],\"backfaceCulling\":0,\"color\":[1.0,1.0,1.0],\"diffuse\":1.0,\"diffuseColor\":[1.0,1.0,1.0],\"edgeColor\":[0.0,0.0,0.0],\"edgeVisibility\":1,\"frontfaceCulling\":0,\"interpolation\":0,\"lighting\":1,\"lineWidth\":1.0,\"opacity\":1.0,\"pointSize\":5.0,\"representation\":2,\"specular\":0.0,\"specularColor\":[1.0,1.0,1.0],\"specularPower\":100.0},\"type\":\"vtkOpenGLProperty\"}],\"id\":\"d9f07345-bf5b-4386-92c6-3c5211062ad4000055f5cf4d3550\",\"parent\":\"d9f07345-bf5b-4386-92c6-3c5211062ad4000055f5cf4ca560\",\"properties\":{\"dragable\":1,\"forceOpaque\":false,\"forceTranslucent\":false,\"orientation\":[0.0,-0.0,0.0],\"origin\":[0.0,0.0,0.0],\"pickable\":1,\"position\":[0.0,0.0,0.0],\"scale\":[1.0,1.0,1.0],\"useBounds\":true,\"visibility\":1},\"type\":\"vtkOpenGLActor\"}],\"id\":\"d9f07345-bf5b-4386-92c6-3c5211062ad4000055f5cf4ca560\",\"parent\":\"d9f07345-bf5b-4386-92c6-3c5211062ad4000055f5cf4cdb90\",\"properties\":{\"background\":[0.2980392156862745,0.2980392156862745,0.2980392156862745],\"background2\":[0.2,0.2,0.2],\"clippingRangeExpansion\":0.5,\"interactive\":1,\"layer\":0,\"lightFollowCamera\":1,\"maximumNumberOfPeels\":4,\"nearClippingPlaneTolerance\":0.001,\"occlusionRatio\":0.0,\"preserveColorBuffer\":0,\"preserveDepthBuffer\":0,\"twoSidedLighting\":1,\"useDepthPeeling\":0,\"useShadows\":0,\"viewport\":[0.0,0.0,1.0,1.0]},\"type\":\"vtkOpenGLRenderer\"},{\"calls\":[[\"setActiveCamera\",[\"instance:${000055f5cf4cb5e0}\"]]],\"dependencies\":[{\"id\":\"000055f5cf4cb5e0\",\"parent\":\"d9f07345-bf5b-4386-92c6-3c5211062ad4000055f5cf4cada0\",\"properties\":{\"clippingRange\":[0.01,1000.01],\"focalPoint\":[0.0,0.0,0.0],\"position\":[0.0,0.0,1.0],\"viewUp\":[0.0,1.0,0.0]},\"type\":\"vtkOpenGLCamera\"}],\"id\":\"d9f07345-bf5b-4386-92c6-3c5211062ad4000055f5cf4cada0\",\"parent\":\"d9f07345-bf5b-4386-92c6-3c5211062ad4000055f5cf4cdb90\",\"properties\":{\"background\":[0.2980392156862745,0.2980392156862745,0.2980392156862745],\"background2\":[0.2,0.2,0.2],\"clippingRangeExpansion\":0.5,\"interactive\":0,\"layer\":1,\"lightFollowCamera\":1,\"maximumNumberOfPeels\":4,\"nearClippingPlaneTolerance\":0.0,\"occlusionRatio\":0.0,\"preserveColorBuffer\":1,\"preserveDepthBuffer\":0,\"twoSidedLighting\":1,\"useDepthPeeling\":0,\"useShadows\":0,\"viewport\":[0.0,0.0,1.0,1.0]},\"type\":\"vtkOpenGLRenderer\"}],\"id\":\"d9f07345-bf5b-4386-92c6-3c5211062ad4000055f5cf4cdb90\",\"mtime\":1950,\"parent\":\"d9f07345-bf5b-4386-92c6-3c5211062ad40x0\",\"properties\":{\"numberOfLayers\":2},\"type\":\"vtkXOpenGLRenderWindow\"},\"sizing_mode\":\"stretch_width\"},\"id\":\"1003\",\"type\":\"panel.models.vtk.VTKSynchronizedPlot\"},{\"attributes\":{\"client_comm_id\":\"1c43cc9bf53843648929b6cb9359e87c\",\"comm_id\":\"9e8c3f4690044f228d0be6fd7e35d7f3\",\"plot_id\":\"1003\"},\"id\":\"1004\",\"type\":\"panel.models.comm_manager.CommManager\"}],\"root_ids\":[\"1003\",\"1004\",\"1005\"]},\"title\":\"Bokeh Application\",\"version\":\"2.4.3\"}};\n",
       "    var render_items = [{\"docid\":\"3983a03d-0326-4e4c-9bfd-cc381fb0f845\",\"root_ids\":[\"1003\"],\"roots\":{\"1003\":\"c4fef229-bb9a-425b-a31d-9660f1eb8e58\"}}];\n",
       "    root.Bokeh.embed.embed_items_notebook(docs_json, render_items);\n",
       "    for (const render_item of render_items) {\n",
       "      for (const root_id of render_item.root_ids) {\n",
       "\tconst id_el = document.getElementById(root_id)\n",
       "\tif (id_el.children.length && (id_el.children[0].className === 'bk-root')) {\n",
       "\t  const root_el = id_el.children[0]\n",
       "\t  root_el.id = root_el.id + '-rendered'\n",
       "\t}\n",
       "      }\n",
       "    }\n",
       "  }\n",
       "  if (root.Bokeh !== undefined && root.Bokeh.Panel !== undefined && ( root['vtk'] !== undefined)) {\n",
       "    embed_document(root);\n",
       "  } else {\n",
       "    var attempts = 0;\n",
       "    var timer = setInterval(function(root) {\n",
       "      if (root.Bokeh !== undefined && root.Bokeh.Panel !== undefined && (root['vtk'] !== undefined)) {\n",
       "        clearInterval(timer);\n",
       "        embed_document(root);\n",
       "      } else if (document.readyState == \"complete\") {\n",
       "        attempts++;\n",
       "        if (attempts > 200) {\n",
       "          clearInterval(timer);\n",
       "          console.log(\"Bokeh: ERROR: Unable to run BokehJS code because BokehJS library is missing\");\n",
       "        }\n",
       "      }\n",
       "    }, 25, root)\n",
       "  }\n",
       "})(window);</script>"
      ]
     },
     "metadata": {},
     "output_type": "display_data"
    }
   ],
   "source": [
    "plotter = pyvista.Plotter()\n",
    "plotter.add_mesh(grid, show_edges=True)\n",
    "plotter.view_xy()\n",
    "if not pyvista.OFF_SCREEN:\n",
    "    plotter.show()\n",
    "else:\n",
    "    figure = plotter.screenshot(\"fundamentals_mesh.png\")"
   ]
  },
  {
   "cell_type": "markdown",
   "id": "1f6b0106",
   "metadata": {},
   "source": [
    "## Plotting a function using pyvista\n",
    "We want to plot the solution `uh`. As the function space used to defined the mesh is disconnected from the function space defining the mesh, we create a mesh based on the dof coordinates for the function space `V`. We use `dolfinx.plot.create_vtk_mesh` with the function space as input to create a mesh with mesh geometry based on the dof coordinates."
   ]
  },
  {
   "cell_type": "code",
   "execution_count": 16,
   "id": "539bf933",
   "metadata": {
    "vscode": {
     "languageId": "python"
    }
   },
   "outputs": [],
   "source": [
    "u_topology, u_cell_types, u_geometry = plot.create_vtk_mesh(V)"
   ]
  },
  {
   "cell_type": "markdown",
   "id": "2a16ae64",
   "metadata": {},
   "source": [
    "Next, we create the `pyvista.UnstructuredGrid` and add the dof-values to the mesh."
   ]
  },
  {
   "cell_type": "code",
   "execution_count": 17,
   "id": "d74eec74",
   "metadata": {
    "vscode": {
     "languageId": "python"
    }
   },
   "outputs": [
    {
     "data": {},
     "metadata": {},
     "output_type": "display_data"
    },
    {
     "data": {
      "text/html": [
       "<div id='1008'>\n",
       "  <div class=\"bk-root\" id=\"e8e7da7f-4be8-4f30-9c42-8ecc578214e5\" data-root-id=\"1008\"></div>\n",
       "</div>\n",
       "<script type=\"application/javascript\">(function(root) {\n",
       "  function embed_document(root) {\n",
       "    var docs_json = {\"060affdb-188b-4ecc-a7c3-6f000b7d2e80\":{\"defs\":[{\"extends\":null,\"module\":null,\"name\":\"ReactiveHTML1\",\"overrides\":[],\"properties\":[]},{\"extends\":null,\"module\":null,\"name\":\"FlexBox1\",\"overrides\":[],\"properties\":[{\"default\":\"flex-start\",\"kind\":null,\"name\":\"align_content\"},{\"default\":\"flex-start\",\"kind\":null,\"name\":\"align_items\"},{\"default\":\"row\",\"kind\":null,\"name\":\"flex_direction\"},{\"default\":\"wrap\",\"kind\":null,\"name\":\"flex_wrap\"},{\"default\":\"flex-start\",\"kind\":null,\"name\":\"justify_content\"}]},{\"extends\":null,\"module\":null,\"name\":\"GridStack1\",\"overrides\":[],\"properties\":[{\"default\":\"warn\",\"kind\":null,\"name\":\"mode\"},{\"default\":null,\"kind\":null,\"name\":\"ncols\"},{\"default\":null,\"kind\":null,\"name\":\"nrows\"},{\"default\":true,\"kind\":null,\"name\":\"allow_resize\"},{\"default\":true,\"kind\":null,\"name\":\"allow_drag\"},{\"default\":[],\"kind\":null,\"name\":\"state\"}]},{\"extends\":null,\"module\":null,\"name\":\"click1\",\"overrides\":[],\"properties\":[{\"default\":\"\",\"kind\":null,\"name\":\"terminal_output\"},{\"default\":\"\",\"kind\":null,\"name\":\"debug_name\"},{\"default\":0,\"kind\":null,\"name\":\"clears\"}]},{\"extends\":null,\"module\":null,\"name\":\"NotificationAreaBase1\",\"overrides\":[],\"properties\":[{\"default\":\"bottom-right\",\"kind\":null,\"name\":\"position\"},{\"default\":0,\"kind\":null,\"name\":\"_clear\"}]},{\"extends\":null,\"module\":null,\"name\":\"NotificationArea1\",\"overrides\":[],\"properties\":[{\"default\":[],\"kind\":null,\"name\":\"notifications\"},{\"default\":\"bottom-right\",\"kind\":null,\"name\":\"position\"},{\"default\":0,\"kind\":null,\"name\":\"_clear\"},{\"default\":[{\"background\":\"#ffc107\",\"icon\":{\"className\":\"fas fa-exclamation-triangle\",\"color\":\"white\",\"tagName\":\"i\"},\"type\":\"warning\"},{\"background\":\"#007bff\",\"icon\":{\"className\":\"fas fa-info-circle\",\"color\":\"white\",\"tagName\":\"i\"},\"type\":\"info\"}],\"kind\":null,\"name\":\"types\"}]},{\"extends\":null,\"module\":null,\"name\":\"Notification\",\"overrides\":[],\"properties\":[{\"default\":null,\"kind\":null,\"name\":\"background\"},{\"default\":3000,\"kind\":null,\"name\":\"duration\"},{\"default\":null,\"kind\":null,\"name\":\"icon\"},{\"default\":\"\",\"kind\":null,\"name\":\"message\"},{\"default\":null,\"kind\":null,\"name\":\"notification_type\"},{\"default\":false,\"kind\":null,\"name\":\"_destroyed\"}]},{\"extends\":null,\"module\":null,\"name\":\"TemplateActions1\",\"overrides\":[],\"properties\":[{\"default\":0,\"kind\":null,\"name\":\"open_modal\"},{\"default\":0,\"kind\":null,\"name\":\"close_modal\"}]},{\"extends\":null,\"module\":null,\"name\":\"MaterialTemplateActions1\",\"overrides\":[],\"properties\":[{\"default\":0,\"kind\":null,\"name\":\"open_modal\"},{\"default\":0,\"kind\":null,\"name\":\"close_modal\"}]}],\"roots\":{\"references\":[{\"attributes\":{\"client_comm_id\":\"301abcd3a5ce4f0eaaf1d5ef21ca6a1b\",\"comm_id\":\"5b1ccedfe6024d4ab2602be9380fbaa3\",\"plot_id\":\"1008\"},\"id\":\"1009\",\"type\":\"panel.models.comm_manager.CommManager\"},{\"attributes\":{},\"id\":\"1007\",\"type\":\"panel.models.vtk.VTKAxes\"},{\"attributes\":{\"arrays\":{\"2d5d5951ae71b2f1cbb0a16a91e47253\":\"UEsDBBQAAAAIADajQVbaUnl06AAAAJgHAAAlAAAAZGF0YS8yZDVkNTk1MWFlNzFiMmYxY2JiMGExNmE5MWU0NzI1M4WQMQ7CQAwE8zAkvsJDkeAHcekuLly4cHE/AEFkohiN7ppTVqfdmSzL59wuy+muU9/P6zmv7/6+8v6+3gn09FygXyb9Cv09F9hV2NXJrsFuzwV4FHgMeGzC48DTcwFOBU4DTgdOn3AGcPZcgF+B34DfgT+APyb8Cfw9F/BS8DLwcvAK8ErwSvK67/f45a/veVx7ft7rvgq+Br4OvgG+Cb7FVx5HfvYorxW8FLwMvBy8ArwSvIpzBZ7OacDpwBnAmcA5/jh3vg14HHgCeBJ46j9s0N93A3YTdgfsBvQn9I+JV+8Zk57j/RtQSwECFAMUAAAACAA2o0FW2lJ5dOgAAACYBwAAJQAAAAAAAAAAAAAAgAEAAAAAZGF0YS8yZDVkNTk1MWFlNzFiMmYxY2JiMGExNmE5MWU0NzI1M1BLBQYAAAAAAQABAFMAAAArAQAAAAA=\",\"522752588ec2495010ac7c649c66c0f0\":\"UEsDBBQAAAAIADajQVbUYWJZ/gAAAIgCAAAlAAAAZGF0YS81MjI3NTI1ODhlYzI0OTUwMTBhYzdjNjQ5YzY2YzBmMD1Q7XWDMBCzeSQhaV5fN4BN7jZxN4HN3JESChQIH8Untf6BkC3pZDuX1kMMGqI+ZE8rkrtW1sSlJX/Kknj9pK8Dj51MZqROW3nZ/p9vlM1yRhnN38uP8Y7nHfQ1ebNAHxfod/riIIPxnnMGzhmY49UnqLyi5wq9zPJtnDlHD+gn3mdiXg7/Z642v/baW/4G//4S8Jk9ZvoWvNPRF7mFGlQF8r5ytfMyU9zbaWe4Ie/ouZLD75RfYFOojQsnne0nU7t38OC1Awbqj3fA/Ct0csZ5mQNj9t8Hc4juhv1wAdYnvEPIeU6s3tAnsld5Yc6Zfe/se6PvSt87dXfuf+gvUEsBAhQDFAAAAAgANqNBVtRhYln+AAAAiAIAACUAAAAAAAAAAAAAAIABAAAAAGRhdGEvNTIyNzUyNTg4ZWMyNDk1MDEwYWM3YzY0OWM2NmMwZjBQSwUGAAAAAAEAAQBTAAAAQQEAAAAA\",\"6e1996ab456e3fd81a231d475bd9e9a2\":\"UEsDBBQAAAAIADajQVZTQVknZwEAAAAFAAAlAAAAZGF0YS82ZTE5OTZhYjQ1NmUzZmQ4MWEyMzFkNDc1YmQ5ZTlhMk2OhVIcUBAEAwwe3EJwd3dJILjD/38N20VTlavaur53u9OTH1+fhpqmmsaa+JvvZt/jf3BrTYtvTFtNu7txB+5wN+7DP2s6/7vrqun2/tsH93gf7+Be72MG3F/T5xtZAzWDZsYseMjMmAUPmxmz4BEzYy48WvPLN/J/14zpifnwuJ6YD0/oifnwpJ6YD0/piS54pmbaN5yzNXO6oxOe1x2d8ILu6IQXdUcnvKQ7OuFl3dEPr9as+EaPtZp1+8Qe8IZ9Yg940z6xB7xln9gD3rZP7AHv2Cf2gHftEzvB+zV7vs3Z7cA+sQd8aJ/YAz6yT+wBH9sn9oBP7BN7wKf2iT3gM/tEJz3OdUcn/Ed3dMJ/dUcnfKE7OuFL3dEJ/9Md83Fe6Yn58LWemA/f6In58K2emA/f6YlZ5N+bGbPgBzNjFvxoZsyCn8yMd2Q9ex/v4Bfv4x386n3c4e7N3bgDv7sbf7Pz4fsnUEsBAhQDFAAAAAgANqNBVlNBWSdnAQAAAAUAACUAAAAAAAAAAAAAAIABAAAAAGRhdGEvNmUxOTk2YWI0NTZlM2ZkODFhMjMxZDQ3NWJkOWU5YTJQSwUGAAAAAAEAAQBTAAAAqgEAAAAA\",\"ce52d598102e2756143cf4f27a0b5911\":\"UEsDBBQAAAAIADajQVaE1+BQMwMAAAAEAAAlAAAAZGF0YS9jZTUyZDU5ODEwMmUyNzU2MTQzY2Y0ZjI3YTBiNTkxMS3DCUzVBRzA8VWr1Wq1WjVAfI/HfQnIfcvx3vs/wiMUBAS55BC57/uWx/He/59ZZllmWWZZZllmWWpRappXeKAIAga4ttbW2lpra99+bX62j/G+dIz3Z2B8IBPTg1mYHtqA6eEczI/kYn40D/Nj+ZgfL0R5ogjlyU0oT5WgPF2K8kwZyrPlKA5bsDhWYHGqxOJcjWVpDRZdLRaXOiyGeiyuDVjcGlE8mlA8m1G8WlC8W1F821D82lH8OzAv68QcKIO6MC/vxhTcgylUhvViCu/DGCGj+kmOHiA5RsZuJSlOxg+SlDBIYqKVxCQrCclDJBiHWGGSyjDxFpkyQtxzMlWuHCF21Sixq0eJeV6mjRK91kb0OhtR6TLDRuR6mWknIktm2wnfIHPshOXKjXZC81RC81VCCmShSnCR3KSyvFiWyFKVoDK5WSWwXG5RCajQCKiUVRrLqmWNhn+trJP1Gn4NslHDt0k2yxYNn1bZpuHdfm+Hhlen7JLdGp49slf2aXj0ywEV961yUFpV3IbksBxRcf3/qLSpGOxStWPQ7Li8ILfJF+3ot8uXbOhfljvkKzZ0O0fRvSpfu3fXCLrX5Rty9zC6N+Ue+dYQ+rflXiv6d6y4vDuIy75BDO/J/VtxlW7vD+D2QT/uB/rx+LAPz4/68DrYi/fHPfgc6sH3k278Pu3CXwYc7iTwsw6CPm8n+Eg7IV+0EXa0lfAvW4j8qpkoGXOsibivG4n/poGE4/UknajDeKIW08kalG+rSfmuitSxSlaNVbDm+3LSftjMulNlZJwuJfN0Cdlnisn5sYi8s4UUnC2g6Fw+xT9tpOx8LuXnc6i4kE3VxSxqL66n/lIGjZfTabm8lraf0+gcX0P3+Gr6rqxk4Eoq1qspDF9TsF0zo143su16MtsnEtkxsYKdN+LZdSOW3Tej2XMzkr2TEeybDGP/rRAO3Arm4FQQh6YCODztz5FpP45O+3DsthfHb3tycsadsRlXTs0YODOr59ysjguzS7k058z43BKuzjkxcceRyTsOTMmZXxyYk/Py7rwjv8rf5p34fWEJfyw48+eCjr8W9fy9aOCfRVf+vevOf1BLAQIUAxQAAAAIADajQVaE1+BQMwMAAAAEAAAlAAAAAAAAAAAAAACAAQAAAABkYXRhL2NlNTJkNTk4MTAyZTI3NTYxNDNjZjRmMjdhMGI1OTExUEsFBgAAAAABAAEAUwAAAHYDAAAAAA==\"},\"axes\":{\"id\":\"1007\"},\"color_mappers\":[{\"id\":\"1006\"}],\"margin\":[5,5,5,5],\"scene\":{\"calls\":[[\"addRenderer\",[\"instance:${5366f353-2661-4574-9394-9c648879c51b000055f5d11e6bb0}\"]],[\"addRenderer\",[\"instance:${5366f353-2661-4574-9394-9c648879c51b000055f5d11db280}\"]]],\"dependencies\":[{\"calls\":[[\"setActiveCamera\",[\"instance:${000055f5d1208380}\"]],[\"addViewProp\",[\"instance:${5366f353-2661-4574-9394-9c648879c51b000055f5d116b010}\"]]],\"dependencies\":[{\"id\":\"000055f5d1208380\",\"parent\":\"5366f353-2661-4574-9394-9c648879c51b000055f5d11e6bb0\",\"properties\":{\"clippingRange\":[2.5590521887869815,2.956410296978415],\"focalPoint\":[0.5,0.5,0.0],\"position\":[0.5,0.5,2.7320508075688776],\"viewUp\":[0.0,1.0,0.0]},\"type\":\"vtkOpenGLCamera\"},{\"calls\":[[\"setMapper\",[\"instance:${5366f353-2661-4574-9394-9c648879c51b000055f5cf87b920}\"]],[\"setProperty\",[\"instance:${5366f353-2661-4574-9394-9c648879c51b000055f5cffa2640}\"]]],\"dependencies\":[{\"calls\":[[\"setInputData\",[\"instance:${5366f353-2661-4574-9394-9c648879c51b000055f5cf87b920-dataset-0}\",0]],[\"setLookupTable\",[\"instance:${5366f353-2661-4574-9394-9c648879c51b000055f5cf680b10}\"]]],\"dependencies\":[{\"id\":\"5366f353-2661-4574-9394-9c648879c51b000055f5cf87b920-dataset-0\",\"parent\":\"5366f353-2661-4574-9394-9c648879c51b000055f5cf87b920\",\"properties\":{\"fields\":[{\"dataType\":\"Float64Array\",\"hash\":\"522752588ec2495010ac7c649c66c0f0\",\"location\":\"pointData\",\"name\":\"u\",\"numberOfComponents\":1,\"ranges\":[{\"component\":null,\"max\":4.0,\"min\":1.0}],\"registration\":\"setScalars\",\"size\":81,\"vtkClass\":\"vtkDataArray\"}],\"points\":{\"dataType\":\"Float64Array\",\"hash\":\"2d5d5951ae71b2f1cbb0a16a91e47253\",\"name\":\"Points\",\"numberOfComponents\":3,\"ranges\":[{\"component\":null,\"max\":1.0,\"min\":-6.938893903907228e-18},{\"component\":null,\"max\":1.0,\"min\":-6.938893903907228e-18},{\"component\":null,\"max\":0.0,\"min\":0.0},{\"component\":null,\"max\":1.4142135623730951,\"min\":9.813077866773595e-18}],\"size\":243,\"vtkClass\":\"vtkPoints\"},\"polys\":{\"dataType\":\"Uint32Array\",\"hash\":\"6e1996ab456e3fd81a231d475bd9e9a2\",\"name\":null,\"numberOfComponents\":1,\"ranges\":[{\"component\":null,\"max\":80.0,\"min\":0.0}],\"size\":320,\"vtkClass\":\"vtkCellArray\"}},\"type\":\"vtkPolyData\"},{\"arrays\":[{\"dataType\":\"Uint8Array\",\"hash\":\"ce52d598102e2756143cf4f27a0b5911\",\"name\":null,\"numberOfComponents\":4,\"ranges\":[{\"component\":null,\"max\":253.0,\"min\":30.0},{\"component\":null,\"max\":231.0,\"min\":1.0},{\"component\":null,\"max\":142.0,\"min\":24.0},{\"component\":null,\"max\":255.0,\"min\":255.0},{\"component\":null,\"max\":428.5918804643877,\"min\":276.95848064285735}],\"registration\":\"setTable\",\"size\":1024,\"vtkClass\":\"vtkDataArray\"}],\"id\":\"5366f353-2661-4574-9394-9c648879c51b000055f5cf680b10\",\"parent\":\"5366f353-2661-4574-9394-9c648879c51b000055f5cf87b920\",\"properties\":{\"aboveRangeColor\":[1.0,1.0,1.0,1.0],\"alpha\":1.0,\"belowRangeColor\":[0.0,0.0,0.0,1.0],\"hueRange\":[0.5,0],\"indexedLookup\":0,\"nanColor\":[0.6627450980392157,0.6627450980392157,0.6627450980392157,1.0],\"numberOfColors\":256,\"range\":[1.0,4.0],\"saturationRange\":[1.0,1.0],\"useAboveRangeColor\":false,\"useBelowRangeColor\":false,\"valueRange\":[1.0,4.0],\"vectorComponent\":0,\"vectorMode\":1,\"vectorSize\":-1},\"type\":\"vtkLookupTable\"}],\"id\":\"5366f353-2661-4574-9394-9c648879c51b000055f5cf87b920\",\"parent\":\"5366f353-2661-4574-9394-9c648879c51b000055f5d116b010\",\"properties\":{\"arrayAccessMode\":1,\"colorByArrayName\":null,\"colorMode\":1,\"interpolateScalarsBeforeMapping\":1,\"renderTime\":0.0,\"resolveCoincidentTopology\":0,\"scalarMode\":1,\"scalarRange\":[1.0,4.0],\"scalarVisibility\":1,\"useLookupTableScalarRange\":0},\"type\":\"vtkDataSetMapper\"},{\"id\":\"5366f353-2661-4574-9394-9c648879c51b000055f5cffa2640\",\"parent\":\"5366f353-2661-4574-9394-9c648879c51b000055f5d116b010\",\"properties\":{\"ambient\":0.0,\"ambientColor\":[1.0,1.0,1.0],\"backfaceCulling\":0,\"color\":[1.0,1.0,1.0],\"diffuse\":1.0,\"diffuseColor\":[1.0,1.0,1.0],\"edgeColor\":[0.0,0.0,0.0],\"edgeVisibility\":1,\"frontfaceCulling\":0,\"interpolation\":0,\"lighting\":1,\"lineWidth\":1.0,\"opacity\":1.0,\"pointSize\":5.0,\"representation\":2,\"specular\":0.0,\"specularColor\":[1.0,1.0,1.0],\"specularPower\":100.0},\"type\":\"vtkOpenGLProperty\"}],\"id\":\"5366f353-2661-4574-9394-9c648879c51b000055f5d116b010\",\"parent\":\"5366f353-2661-4574-9394-9c648879c51b000055f5d11e6bb0\",\"properties\":{\"dragable\":1,\"forceOpaque\":false,\"forceTranslucent\":false,\"orientation\":[0.0,-0.0,0.0],\"origin\":[0.0,0.0,0.0],\"pickable\":1,\"position\":[0.0,0.0,0.0],\"scale\":[1.0,1.0,1.0],\"useBounds\":true,\"visibility\":1},\"type\":\"vtkOpenGLActor\"}],\"id\":\"5366f353-2661-4574-9394-9c648879c51b000055f5d11e6bb0\",\"parent\":\"5366f353-2661-4574-9394-9c648879c51b000055f5d125ae40\",\"properties\":{\"background\":[0.2980392156862745,0.2980392156862745,0.2980392156862745],\"background2\":[0.2,0.2,0.2],\"clippingRangeExpansion\":0.5,\"interactive\":1,\"layer\":0,\"lightFollowCamera\":1,\"maximumNumberOfPeels\":4,\"nearClippingPlaneTolerance\":0.001,\"occlusionRatio\":0.0,\"preserveColorBuffer\":0,\"preserveDepthBuffer\":0,\"twoSidedLighting\":1,\"useDepthPeeling\":0,\"useShadows\":0,\"viewport\":[0.0,0.0,1.0,1.0]},\"type\":\"vtkOpenGLRenderer\"},{\"calls\":[[\"setActiveCamera\",[\"instance:${000055f5d11dcf60}\"]]],\"dependencies\":[{\"id\":\"000055f5d11dcf60\",\"parent\":\"5366f353-2661-4574-9394-9c648879c51b000055f5d11db280\",\"properties\":{\"clippingRange\":[0.01,1000.01],\"focalPoint\":[0.0,0.0,0.0],\"position\":[0.0,0.0,1.0],\"viewUp\":[0.0,1.0,0.0]},\"type\":\"vtkOpenGLCamera\"}],\"id\":\"5366f353-2661-4574-9394-9c648879c51b000055f5d11db280\",\"parent\":\"5366f353-2661-4574-9394-9c648879c51b000055f5d125ae40\",\"properties\":{\"background\":[0.2980392156862745,0.2980392156862745,0.2980392156862745],\"background2\":[0.2,0.2,0.2],\"clippingRangeExpansion\":0.5,\"interactive\":0,\"layer\":1,\"lightFollowCamera\":1,\"maximumNumberOfPeels\":4,\"nearClippingPlaneTolerance\":0.0,\"occlusionRatio\":0.0,\"preserveColorBuffer\":1,\"preserveDepthBuffer\":0,\"twoSidedLighting\":1,\"useDepthPeeling\":0,\"useShadows\":0,\"viewport\":[0.0,0.0,1.0,1.0]},\"type\":\"vtkOpenGLRenderer\"}],\"id\":\"5366f353-2661-4574-9394-9c648879c51b000055f5d125ae40\",\"mtime\":6286,\"parent\":\"5366f353-2661-4574-9394-9c648879c51b0x0\",\"properties\":{\"numberOfLayers\":2},\"type\":\"vtkXOpenGLRenderWindow\"},\"sizing_mode\":\"stretch_width\"},\"id\":\"1008\",\"type\":\"panel.models.vtk.VTKSynchronizedPlot\"},{\"attributes\":{\"high\":4.0,\"low\":1.0,\"name\":\"u\",\"palette\":[\"#440154\",\"#440255\",\"#440357\",\"#450558\",\"#45065a\",\"#45085b\",\"#46095c\",\"#460b5e\",\"#460c5f\",\"#460e61\",\"#470f62\",\"#471163\",\"#471265\",\"#471466\",\"#471567\",\"#471669\",\"#47186a\",\"#48196b\",\"#481a6c\",\"#481c6e\",\"#481d6f\",\"#481e70\",\"#482071\",\"#482172\",\"#482273\",\"#482374\",\"#472575\",\"#472676\",\"#472777\",\"#472878\",\"#472a79\",\"#472b7a\",\"#472c7b\",\"#462d7c\",\"#462f7c\",\"#46307d\",\"#46317e\",\"#45327f\",\"#45347f\",\"#453580\",\"#453681\",\"#443781\",\"#443982\",\"#433a83\",\"#433b83\",\"#433c84\",\"#423d84\",\"#423e85\",\"#424085\",\"#414186\",\"#414286\",\"#404387\",\"#404487\",\"#3f4587\",\"#3f4788\",\"#3e4888\",\"#3e4989\",\"#3d4a89\",\"#3d4b89\",\"#3d4c89\",\"#3c4d8a\",\"#3c4e8a\",\"#3b508a\",\"#3b518a\",\"#3a528b\",\"#3a538b\",\"#39548b\",\"#39558b\",\"#38568b\",\"#38578c\",\"#37588c\",\"#37598c\",\"#365a8c\",\"#365b8c\",\"#355c8c\",\"#355d8c\",\"#345e8d\",\"#345f8d\",\"#33608d\",\"#33618d\",\"#32628d\",\"#32638d\",\"#31648d\",\"#31658d\",\"#31668d\",\"#30678d\",\"#30688d\",\"#2f698d\",\"#2f6a8d\",\"#2e6b8e\",\"#2e6c8e\",\"#2e6d8e\",\"#2d6e8e\",\"#2d6f8e\",\"#2c708e\",\"#2c718e\",\"#2c728e\",\"#2b738e\",\"#2b748e\",\"#2a758e\",\"#2a768e\",\"#2a778e\",\"#29788e\",\"#29798e\",\"#287a8e\",\"#287a8e\",\"#287b8e\",\"#277c8e\",\"#277d8e\",\"#277e8e\",\"#267f8e\",\"#26808e\",\"#26818e\",\"#25828e\",\"#25838d\",\"#24848d\",\"#24858d\",\"#24868d\",\"#23878d\",\"#23888d\",\"#23898d\",\"#22898d\",\"#228a8d\",\"#228b8d\",\"#218c8d\",\"#218d8c\",\"#218e8c\",\"#208f8c\",\"#20908c\",\"#20918c\",\"#1f928c\",\"#1f938b\",\"#1f948b\",\"#1f958b\",\"#1f968b\",\"#1e978a\",\"#1e988a\",\"#1e998a\",\"#1e998a\",\"#1e9a89\",\"#1e9b89\",\"#1e9c89\",\"#1e9d88\",\"#1e9e88\",\"#1e9f88\",\"#1ea087\",\"#1fa187\",\"#1fa286\",\"#1fa386\",\"#20a485\",\"#20a585\",\"#21a685\",\"#21a784\",\"#22a784\",\"#23a883\",\"#23a982\",\"#24aa82\",\"#25ab81\",\"#26ac81\",\"#27ad80\",\"#28ae7f\",\"#29af7f\",\"#2ab07e\",\"#2bb17d\",\"#2cb17d\",\"#2eb27c\",\"#2fb37b\",\"#30b47a\",\"#32b57a\",\"#33b679\",\"#35b778\",\"#36b877\",\"#38b976\",\"#39b976\",\"#3bba75\",\"#3dbb74\",\"#3ebc73\",\"#40bd72\",\"#42be71\",\"#44be70\",\"#45bf6f\",\"#47c06e\",\"#49c16d\",\"#4bc26c\",\"#4dc26b\",\"#4fc369\",\"#51c468\",\"#53c567\",\"#55c666\",\"#57c665\",\"#59c764\",\"#5bc862\",\"#5ec961\",\"#60c960\",\"#62ca5f\",\"#64cb5d\",\"#67cc5c\",\"#69cc5b\",\"#6bcd59\",\"#6dce58\",\"#70ce56\",\"#72cf55\",\"#74d054\",\"#77d052\",\"#79d151\",\"#7cd24f\",\"#7ed24e\",\"#81d34c\",\"#83d34b\",\"#86d449\",\"#88d547\",\"#8bd546\",\"#8dd644\",\"#90d643\",\"#92d741\",\"#95d73f\",\"#97d83e\",\"#9ad83c\",\"#9dd93a\",\"#9fd938\",\"#a2da37\",\"#a5da35\",\"#a7db33\",\"#aadb32\",\"#addc30\",\"#afdc2e\",\"#b2dd2c\",\"#b5dd2b\",\"#b7dd29\",\"#bade27\",\"#bdde26\",\"#bfdf24\",\"#c2df22\",\"#c5df21\",\"#c7e01f\",\"#cae01e\",\"#cde01d\",\"#cfe11c\",\"#d2e11b\",\"#d4e11a\",\"#d7e219\",\"#dae218\",\"#dce218\",\"#dfe318\",\"#e1e318\",\"#e4e318\",\"#e7e419\",\"#e9e419\",\"#ece41a\",\"#eee51b\",\"#f1e51c\",\"#f3e51e\",\"#f6e61f\",\"#f8e621\",\"#fae622\",\"#fde724\"]},\"id\":\"1006\",\"type\":\"LinearColorMapper\"}],\"root_ids\":[\"1008\",\"1009\"]},\"title\":\"Bokeh Application\",\"version\":\"2.4.3\"}};\n",
       "    var render_items = [{\"docid\":\"060affdb-188b-4ecc-a7c3-6f000b7d2e80\",\"root_ids\":[\"1008\"],\"roots\":{\"1008\":\"e8e7da7f-4be8-4f30-9c42-8ecc578214e5\"}}];\n",
       "    root.Bokeh.embed.embed_items_notebook(docs_json, render_items);\n",
       "    for (const render_item of render_items) {\n",
       "      for (const root_id of render_item.root_ids) {\n",
       "\tconst id_el = document.getElementById(root_id)\n",
       "\tif (id_el.children.length && (id_el.children[0].className === 'bk-root')) {\n",
       "\t  const root_el = id_el.children[0]\n",
       "\t  root_el.id = root_el.id + '-rendered'\n",
       "\t}\n",
       "      }\n",
       "    }\n",
       "  }\n",
       "  if (root.Bokeh !== undefined && root.Bokeh.Panel !== undefined && ( root['vtk'] !== undefined)) {\n",
       "    embed_document(root);\n",
       "  } else {\n",
       "    var attempts = 0;\n",
       "    var timer = setInterval(function(root) {\n",
       "      if (root.Bokeh !== undefined && root.Bokeh.Panel !== undefined && (root['vtk'] !== undefined)) {\n",
       "        clearInterval(timer);\n",
       "        embed_document(root);\n",
       "      } else if (document.readyState == \"complete\") {\n",
       "        attempts++;\n",
       "        if (attempts > 200) {\n",
       "          clearInterval(timer);\n",
       "          console.log(\"Bokeh: ERROR: Unable to run BokehJS code because BokehJS library is missing\");\n",
       "        }\n",
       "      }\n",
       "    }, 25, root)\n",
       "  }\n",
       "})(window);</script>"
      ]
     },
     "metadata": {},
     "output_type": "display_data"
    }
   ],
   "source": [
    "u_grid = pyvista.UnstructuredGrid(u_topology, u_cell_types, u_geometry)\n",
    "u_grid.point_data[\"u\"] = uh.x.array.real\n",
    "u_grid.set_active_scalars(\"u\")\n",
    "u_plotter = pyvista.Plotter()\n",
    "u_plotter.add_mesh(u_grid, show_edges=True)\n",
    "u_plotter.view_xy()\n",
    "if not pyvista.OFF_SCREEN:\n",
    "    u_plotter.show()"
   ]
  },
  {
   "cell_type": "markdown",
   "id": "81eb365a",
   "metadata": {},
   "source": [
    "We can also warp the mesh by scalar to make use of the 3D plotting."
   ]
  },
  {
   "cell_type": "code",
   "execution_count": 18,
   "id": "dd0cfafc",
   "metadata": {
    "vscode": {
     "languageId": "python"
    }
   },
   "outputs": [
    {
     "data": {},
     "metadata": {},
     "output_type": "display_data"
    },
    {
     "data": {
      "text/html": [
       "<div id='1012'>\n",
       "  <div class=\"bk-root\" id=\"58717e59-09fd-4386-89f1-5f3fa69e2250\" data-root-id=\"1012\"></div>\n",
       "</div>\n",
       "<script type=\"application/javascript\">(function(root) {\n",
       "  function embed_document(root) {\n",
       "    var docs_json = {\"1015c668-6cdd-4019-ae3c-ef240e5656d8\":{\"defs\":[{\"extends\":null,\"module\":null,\"name\":\"ReactiveHTML1\",\"overrides\":[],\"properties\":[]},{\"extends\":null,\"module\":null,\"name\":\"FlexBox1\",\"overrides\":[],\"properties\":[{\"default\":\"flex-start\",\"kind\":null,\"name\":\"align_content\"},{\"default\":\"flex-start\",\"kind\":null,\"name\":\"align_items\"},{\"default\":\"row\",\"kind\":null,\"name\":\"flex_direction\"},{\"default\":\"wrap\",\"kind\":null,\"name\":\"flex_wrap\"},{\"default\":\"flex-start\",\"kind\":null,\"name\":\"justify_content\"}]},{\"extends\":null,\"module\":null,\"name\":\"GridStack1\",\"overrides\":[],\"properties\":[{\"default\":\"warn\",\"kind\":null,\"name\":\"mode\"},{\"default\":null,\"kind\":null,\"name\":\"ncols\"},{\"default\":null,\"kind\":null,\"name\":\"nrows\"},{\"default\":true,\"kind\":null,\"name\":\"allow_resize\"},{\"default\":true,\"kind\":null,\"name\":\"allow_drag\"},{\"default\":[],\"kind\":null,\"name\":\"state\"}]},{\"extends\":null,\"module\":null,\"name\":\"click1\",\"overrides\":[],\"properties\":[{\"default\":\"\",\"kind\":null,\"name\":\"terminal_output\"},{\"default\":\"\",\"kind\":null,\"name\":\"debug_name\"},{\"default\":0,\"kind\":null,\"name\":\"clears\"}]},{\"extends\":null,\"module\":null,\"name\":\"NotificationAreaBase1\",\"overrides\":[],\"properties\":[{\"default\":\"bottom-right\",\"kind\":null,\"name\":\"position\"},{\"default\":0,\"kind\":null,\"name\":\"_clear\"}]},{\"extends\":null,\"module\":null,\"name\":\"NotificationArea1\",\"overrides\":[],\"properties\":[{\"default\":[],\"kind\":null,\"name\":\"notifications\"},{\"default\":\"bottom-right\",\"kind\":null,\"name\":\"position\"},{\"default\":0,\"kind\":null,\"name\":\"_clear\"},{\"default\":[{\"background\":\"#ffc107\",\"icon\":{\"className\":\"fas fa-exclamation-triangle\",\"color\":\"white\",\"tagName\":\"i\"},\"type\":\"warning\"},{\"background\":\"#007bff\",\"icon\":{\"className\":\"fas fa-info-circle\",\"color\":\"white\",\"tagName\":\"i\"},\"type\":\"info\"}],\"kind\":null,\"name\":\"types\"}]},{\"extends\":null,\"module\":null,\"name\":\"Notification\",\"overrides\":[],\"properties\":[{\"default\":null,\"kind\":null,\"name\":\"background\"},{\"default\":3000,\"kind\":null,\"name\":\"duration\"},{\"default\":null,\"kind\":null,\"name\":\"icon\"},{\"default\":\"\",\"kind\":null,\"name\":\"message\"},{\"default\":null,\"kind\":null,\"name\":\"notification_type\"},{\"default\":false,\"kind\":null,\"name\":\"_destroyed\"}]},{\"extends\":null,\"module\":null,\"name\":\"TemplateActions1\",\"overrides\":[],\"properties\":[{\"default\":0,\"kind\":null,\"name\":\"open_modal\"},{\"default\":0,\"kind\":null,\"name\":\"close_modal\"}]},{\"extends\":null,\"module\":null,\"name\":\"MaterialTemplateActions1\",\"overrides\":[],\"properties\":[{\"default\":0,\"kind\":null,\"name\":\"open_modal\"},{\"default\":0,\"kind\":null,\"name\":\"close_modal\"}]}],\"roots\":{\"references\":[{\"attributes\":{\"arrays\":{\"522752588ec2495010ac7c649c66c0f0\":\"UEsDBBQAAAAIADajQVbUYWJZ/gAAAIgCAAAlAAAAZGF0YS81MjI3NTI1ODhlYzI0OTUwMTBhYzdjNjQ5YzY2YzBmMD1Q7XWDMBCzeSQhaV5fN4BN7jZxN4HN3JESChQIH8Untf6BkC3pZDuX1kMMGqI+ZE8rkrtW1sSlJX/Kknj9pK8Dj51MZqROW3nZ/p9vlM1yRhnN38uP8Y7nHfQ1ebNAHxfod/riIIPxnnMGzhmY49UnqLyi5wq9zPJtnDlHD+gn3mdiXg7/Z642v/baW/4G//4S8Jk9ZvoWvNPRF7mFGlQF8r5ytfMyU9zbaWe4Ie/ouZLD75RfYFOojQsnne0nU7t38OC1Awbqj3fA/Ct0csZ5mQNj9t8Hc4juhv1wAdYnvEPIeU6s3tAnsld5Yc6Zfe/se6PvSt87dXfuf+gvUEsBAhQDFAAAAAgANqNBVtRhYln+AAAAiAIAACUAAAAAAAAAAAAAAIABAAAAAGRhdGEvNTIyNzUyNTg4ZWMyNDk1MDEwYWM3YzY0OWM2NmMwZjBQSwUGAAAAAAEAAQBTAAAAQQEAAAAA\",\"5290f5f5845eaa94c80b01695a5ecdba\":\"UEsDBBQAAAAIADajQVYk2zRTaQEAAMwDAAAlAAAAZGF0YS81MjkwZjVmNTg0NWVhYTk0YzgwYjAxNjk1YTVlY2RiYTWRMS8FURCFb1A8oaEQ5fISDZVOJLsjEaGTqHQi/oB/sBERhUJeIUpBVApRqEUUr1ApRCkiqlcp1OaYb4qTOTP3nDP37pZSuuUfbRO11KUcNlHVHyR3HKFpnZ8yF+81UXV2nNxxgv7R+TV68Rs0wnkTM+l6yR1neR/N8g5en/BKd4te/WUT5/JcJM+9Pqu8fjET/857eu2TIzzg1dldE1r575OnxmfmtWMxEx+18Ek3yLd4fSVT/TM50uktRlY/uc9fmO14nSVfvEu+dOMWecr6zfc6PsjX2RuZ8rw3kaHcz+R1fIdyFf/f2CW+wi7p5tilrAmLPdoxZHwTxw+7pBuQL7/mLTuKwevwtuxaJV+eefKVNU2+MGZ8H8eIhVaeYTKV1SFH/QY50i2SI/8MOeqnyCm8qyVzEq/6TbzSLeMVFvBW+V/IqdCr30Yv3Rp69UvoK+5m6PfQCFtodLbOXP0+c/W7+XbB/gBQSwECFAMUAAAACAA2o0FWJNs0U2kBAADMAwAAJQAAAAAAAAAAAAAAgAEAAAAAZGF0YS81MjkwZjVmNTg0NWVhYTk0YzgwYjAxNjk1YTVlY2RiYVBLBQYAAAAAAQABAFMAAACsAQAAAAA=\",\"6e1996ab456e3fd81a231d475bd9e9a2\":\"UEsDBBQAAAAIADajQVZTQVknZwEAAAAFAAAlAAAAZGF0YS82ZTE5OTZhYjQ1NmUzZmQ4MWEyMzFkNDc1YmQ5ZTlhMk2OhVIcUBAEAwwe3EJwd3dJILjD/38N20VTlavaur53u9OTH1+fhpqmmsaa+JvvZt/jf3BrTYtvTFtNu7txB+5wN+7DP2s6/7vrqun2/tsH93gf7+Be72MG3F/T5xtZAzWDZsYseMjMmAUPmxmz4BEzYy48WvPLN/J/14zpifnwuJ6YD0/oifnwpJ6YD0/piS54pmbaN5yzNXO6oxOe1x2d8ILu6IQXdUcnvKQ7OuFl3dEPr9as+EaPtZp1+8Qe8IZ9Yg940z6xB7xln9gD3rZP7AHv2Cf2gHftEzvB+zV7vs3Z7cA+sQd8aJ/YAz6yT+wBH9sn9oBP7BN7wKf2iT3gM/tEJz3OdUcn/Ed3dMJ/dUcnfKE7OuFL3dEJ/9Md83Fe6Yn58LWemA/f6In58K2emA/f6YlZ5N+bGbPgBzNjFvxoZsyCn8yMd2Q9ex/v4Bfv4x386n3c4e7N3bgDv7sbf7Pz4fsnUEsBAhQDFAAAAAgANqNBVlNBWSdnAQAAAAUAACUAAAAAAAAAAAAAAIABAAAAAGRhdGEvNmUxOTk2YWI0NTZlM2ZkODFhMjMxZDQ3NWJkOWU5YTJQSwUGAAAAAAEAAQBTAAAAqgEAAAAA\",\"ce52d598102e2756143cf4f27a0b5911\":\"UEsDBBQAAAAIADajQVaE1+BQMwMAAAAEAAAlAAAAZGF0YS9jZTUyZDU5ODEwMmUyNzU2MTQzY2Y0ZjI3YTBiNTkxMS3DCUzVBRzA8VWr1Wq1WjVAfI/HfQnIfcvx3vs/wiMUBAS55BC57/uWx/He/59ZZllmWWZZZllmWWpRappXeKAIAga4ttbW2lpra99+bX62j/G+dIz3Z2B8IBPTg1mYHtqA6eEczI/kYn40D/Nj+ZgfL0R5ogjlyU0oT5WgPF2K8kwZyrPlKA5bsDhWYHGqxOJcjWVpDRZdLRaXOiyGeiyuDVjcGlE8mlA8m1G8WlC8W1F821D82lH8OzAv68QcKIO6MC/vxhTcgylUhvViCu/DGCGj+kmOHiA5RsZuJSlOxg+SlDBIYqKVxCQrCclDJBiHWGGSyjDxFpkyQtxzMlWuHCF21Sixq0eJeV6mjRK91kb0OhtR6TLDRuR6mWknIktm2wnfIHPshOXKjXZC81RC81VCCmShSnCR3KSyvFiWyFKVoDK5WSWwXG5RCajQCKiUVRrLqmWNhn+trJP1Gn4NslHDt0k2yxYNn1bZpuHdfm+Hhlen7JLdGp49slf2aXj0ywEV961yUFpV3IbksBxRcf3/qLSpGOxStWPQ7Li8ILfJF+3ot8uXbOhfljvkKzZ0O0fRvSpfu3fXCLrX5Rty9zC6N+Ue+dYQ+rflXiv6d6y4vDuIy75BDO/J/VtxlW7vD+D2QT/uB/rx+LAPz4/68DrYi/fHPfgc6sH3k278Pu3CXwYc7iTwsw6CPm8n+Eg7IV+0EXa0lfAvW4j8qpkoGXOsibivG4n/poGE4/UknajDeKIW08kalG+rSfmuitSxSlaNVbDm+3LSftjMulNlZJwuJfN0Cdlnisn5sYi8s4UUnC2g6Fw+xT9tpOx8LuXnc6i4kE3VxSxqL66n/lIGjZfTabm8lraf0+gcX0P3+Gr6rqxk4Eoq1qspDF9TsF0zo143su16MtsnEtkxsYKdN+LZdSOW3Tej2XMzkr2TEeybDGP/rRAO3Arm4FQQh6YCODztz5FpP45O+3DsthfHb3tycsadsRlXTs0YODOr59ysjguzS7k058z43BKuzjkxcceRyTsOTMmZXxyYk/Py7rwjv8rf5p34fWEJfyw48+eCjr8W9fy9aOCfRVf+vevOf1BLAQIUAxQAAAAIADajQVaE1+BQMwMAAAAEAAAlAAAAAAAAAAAAAACAAQAAAABkYXRhL2NlNTJkNTk4MTAyZTI3NTYxNDNjZjRmMjdhMGI1OTExUEsFBgAAAAABAAEAUwAAAHYDAAAAAA==\"},\"axes\":{\"id\":\"1011\"},\"color_mappers\":[{\"id\":\"1010\"}],\"margin\":[5,5,5,5],\"scene\":{\"calls\":[[\"addRenderer\",[\"instance:${f582b12b-a6b6-4a02-8818-cafa7c8a3610000055f5d1d10970}\"]],[\"addRenderer\",[\"instance:${f582b12b-a6b6-4a02-8818-cafa7c8a3610000055f5d1d50e50}\"]]],\"dependencies\":[{\"calls\":[[\"setActiveCamera\",[\"instance:${000055f5d1cbdc30}\"]],[\"addViewProp\",[\"instance:${f582b12b-a6b6-4a02-8818-cafa7c8a3610000055f5d1d534f0}\"]]],\"dependencies\":[{\"id\":\"000055f5d1cbdc30\",\"parent\":\"f582b12b-a6b6-4a02-8818-cafa7c8a3610000055f5d1d10970\",\"properties\":{\"clippingRange\":[3.470837222189011,10.118991549263171],\"focalPoint\":[0.5,0.5,2.5],\"position\":[4.199214280684376,4.199214280684376,6.199214280684376],\"viewUp\":[0.0,0.0,1.0]},\"type\":\"vtkOpenGLCamera\"},{\"calls\":[[\"setMapper\",[\"instance:${f582b12b-a6b6-4a02-8818-cafa7c8a3610000055f5d1cbda40}\"]],[\"setProperty\",[\"instance:${f582b12b-a6b6-4a02-8818-cafa7c8a3610000055f5d1c6c500}\"]]],\"dependencies\":[{\"calls\":[[\"setInputData\",[\"instance:${f582b12b-a6b6-4a02-8818-cafa7c8a3610000055f5d1cbda40-dataset-0}\",0]],[\"setLookupTable\",[\"instance:${f582b12b-a6b6-4a02-8818-cafa7c8a3610000055f5d1d03920}\"]]],\"dependencies\":[{\"id\":\"f582b12b-a6b6-4a02-8818-cafa7c8a3610000055f5d1cbda40-dataset-0\",\"parent\":\"f582b12b-a6b6-4a02-8818-cafa7c8a3610000055f5d1cbda40\",\"properties\":{\"fields\":[{\"dataType\":\"Float64Array\",\"hash\":\"522752588ec2495010ac7c649c66c0f0\",\"location\":\"pointData\",\"name\":\"u\",\"numberOfComponents\":1,\"ranges\":[{\"component\":null,\"max\":4.0,\"min\":1.0}],\"registration\":\"setScalars\",\"size\":81,\"vtkClass\":\"vtkDataArray\"}],\"points\":{\"dataType\":\"Float32Array\",\"hash\":\"5290f5f5845eaa94c80b01695a5ecdba\",\"name\":\"Points\",\"numberOfComponents\":3,\"ranges\":[{\"component\":null,\"max\":1.0,\"min\":-6.938893903907228e-18},{\"component\":null,\"max\":1.0,\"min\":-6.938893903907228e-18},{\"component\":null,\"max\":4.0,\"min\":1.0},{\"component\":null,\"max\":4.242640687119285,\"min\":1.0}],\"size\":243,\"vtkClass\":\"vtkPoints\"},\"polys\":{\"dataType\":\"Uint32Array\",\"hash\":\"6e1996ab456e3fd81a231d475bd9e9a2\",\"name\":null,\"numberOfComponents\":1,\"ranges\":[{\"component\":null,\"max\":80.0,\"min\":0.0}],\"size\":320,\"vtkClass\":\"vtkCellArray\"}},\"type\":\"vtkPolyData\"},{\"arrays\":[{\"dataType\":\"Uint8Array\",\"hash\":\"ce52d598102e2756143cf4f27a0b5911\",\"name\":null,\"numberOfComponents\":4,\"ranges\":[{\"component\":null,\"max\":253.0,\"min\":30.0},{\"component\":null,\"max\":231.0,\"min\":1.0},{\"component\":null,\"max\":142.0,\"min\":24.0},{\"component\":null,\"max\":255.0,\"min\":255.0},{\"component\":null,\"max\":428.5918804643877,\"min\":276.95848064285735}],\"registration\":\"setTable\",\"size\":1024,\"vtkClass\":\"vtkDataArray\"}],\"id\":\"f582b12b-a6b6-4a02-8818-cafa7c8a3610000055f5d1d03920\",\"parent\":\"f582b12b-a6b6-4a02-8818-cafa7c8a3610000055f5d1cbda40\",\"properties\":{\"aboveRangeColor\":[1.0,1.0,1.0,1.0],\"alpha\":1.0,\"belowRangeColor\":[0.0,0.0,0.0,1.0],\"hueRange\":[0.5,0],\"indexedLookup\":0,\"nanColor\":[0.6627450980392157,0.6627450980392157,0.6627450980392157,1.0],\"numberOfColors\":256,\"range\":[1.0,4.0],\"saturationRange\":[1.0,1.0],\"useAboveRangeColor\":false,\"useBelowRangeColor\":false,\"valueRange\":[1.0,4.0],\"vectorComponent\":0,\"vectorMode\":1,\"vectorSize\":-1},\"type\":\"vtkLookupTable\"}],\"id\":\"f582b12b-a6b6-4a02-8818-cafa7c8a3610000055f5d1cbda40\",\"parent\":\"f582b12b-a6b6-4a02-8818-cafa7c8a3610000055f5d1d534f0\",\"properties\":{\"arrayAccessMode\":1,\"colorByArrayName\":null,\"colorMode\":1,\"interpolateScalarsBeforeMapping\":1,\"renderTime\":0.0,\"resolveCoincidentTopology\":0,\"scalarMode\":1,\"scalarRange\":[1.0,4.0],\"scalarVisibility\":1,\"useLookupTableScalarRange\":0},\"type\":\"vtkDataSetMapper\"},{\"id\":\"f582b12b-a6b6-4a02-8818-cafa7c8a3610000055f5d1c6c500\",\"parent\":\"f582b12b-a6b6-4a02-8818-cafa7c8a3610000055f5d1d534f0\",\"properties\":{\"ambient\":0.0,\"ambientColor\":[1.0,1.0,1.0],\"backfaceCulling\":0,\"color\":[1.0,1.0,1.0],\"diffuse\":1.0,\"diffuseColor\":[1.0,1.0,1.0],\"edgeColor\":[0.0,0.0,0.0],\"edgeVisibility\":1,\"frontfaceCulling\":0,\"interpolation\":0,\"lighting\":1,\"lineWidth\":1.0,\"opacity\":1.0,\"pointSize\":5.0,\"representation\":2,\"specular\":0.0,\"specularColor\":[1.0,1.0,1.0],\"specularPower\":100.0},\"type\":\"vtkOpenGLProperty\"}],\"id\":\"f582b12b-a6b6-4a02-8818-cafa7c8a3610000055f5d1d534f0\",\"parent\":\"f582b12b-a6b6-4a02-8818-cafa7c8a3610000055f5d1d10970\",\"properties\":{\"dragable\":1,\"forceOpaque\":false,\"forceTranslucent\":false,\"orientation\":[0.0,-0.0,0.0],\"origin\":[0.0,0.0,0.0],\"pickable\":1,\"position\":[0.0,0.0,0.0],\"scale\":[1.0,1.0,1.0],\"useBounds\":true,\"visibility\":1},\"type\":\"vtkOpenGLActor\"}],\"id\":\"f582b12b-a6b6-4a02-8818-cafa7c8a3610000055f5d1d10970\",\"parent\":\"f582b12b-a6b6-4a02-8818-cafa7c8a3610000055f5d160aee0\",\"properties\":{\"background\":[0.2980392156862745,0.2980392156862745,0.2980392156862745],\"background2\":[0.2,0.2,0.2],\"clippingRangeExpansion\":0.5,\"interactive\":1,\"layer\":0,\"lightFollowCamera\":1,\"maximumNumberOfPeels\":4,\"nearClippingPlaneTolerance\":0.001,\"occlusionRatio\":0.0,\"preserveColorBuffer\":0,\"preserveDepthBuffer\":0,\"twoSidedLighting\":1,\"useDepthPeeling\":0,\"useShadows\":0,\"viewport\":[0.0,0.0,1.0,1.0]},\"type\":\"vtkOpenGLRenderer\"},{\"calls\":[[\"setActiveCamera\",[\"instance:${000055f5d1b57b40}\"]]],\"dependencies\":[{\"id\":\"000055f5d1b57b40\",\"parent\":\"f582b12b-a6b6-4a02-8818-cafa7c8a3610000055f5d1d50e50\",\"properties\":{\"clippingRange\":[0.01,1000.01],\"focalPoint\":[0.0,0.0,0.0],\"position\":[0.0,0.0,1.0],\"viewUp\":[0.0,1.0,0.0]},\"type\":\"vtkOpenGLCamera\"}],\"id\":\"f582b12b-a6b6-4a02-8818-cafa7c8a3610000055f5d1d50e50\",\"parent\":\"f582b12b-a6b6-4a02-8818-cafa7c8a3610000055f5d160aee0\",\"properties\":{\"background\":[0.2980392156862745,0.2980392156862745,0.2980392156862745],\"background2\":[0.2,0.2,0.2],\"clippingRangeExpansion\":0.5,\"interactive\":0,\"layer\":1,\"lightFollowCamera\":1,\"maximumNumberOfPeels\":4,\"nearClippingPlaneTolerance\":0.0,\"occlusionRatio\":0.0,\"preserveColorBuffer\":1,\"preserveDepthBuffer\":0,\"twoSidedLighting\":1,\"useDepthPeeling\":0,\"useShadows\":0,\"viewport\":[0.0,0.0,1.0,1.0]},\"type\":\"vtkOpenGLRenderer\"}],\"id\":\"f582b12b-a6b6-4a02-8818-cafa7c8a3610000055f5d160aee0\",\"mtime\":14157,\"parent\":\"f582b12b-a6b6-4a02-8818-cafa7c8a36100x0\",\"properties\":{\"numberOfLayers\":2},\"type\":\"vtkXOpenGLRenderWindow\"},\"sizing_mode\":\"stretch_width\"},\"id\":\"1012\",\"type\":\"panel.models.vtk.VTKSynchronizedPlot\"},{\"attributes\":{\"high\":4.0,\"low\":1.0,\"name\":\"u\",\"palette\":[\"#440154\",\"#440255\",\"#440357\",\"#450558\",\"#45065a\",\"#45085b\",\"#46095c\",\"#460b5e\",\"#460c5f\",\"#460e61\",\"#470f62\",\"#471163\",\"#471265\",\"#471466\",\"#471567\",\"#471669\",\"#47186a\",\"#48196b\",\"#481a6c\",\"#481c6e\",\"#481d6f\",\"#481e70\",\"#482071\",\"#482172\",\"#482273\",\"#482374\",\"#472575\",\"#472676\",\"#472777\",\"#472878\",\"#472a79\",\"#472b7a\",\"#472c7b\",\"#462d7c\",\"#462f7c\",\"#46307d\",\"#46317e\",\"#45327f\",\"#45347f\",\"#453580\",\"#453681\",\"#443781\",\"#443982\",\"#433a83\",\"#433b83\",\"#433c84\",\"#423d84\",\"#423e85\",\"#424085\",\"#414186\",\"#414286\",\"#404387\",\"#404487\",\"#3f4587\",\"#3f4788\",\"#3e4888\",\"#3e4989\",\"#3d4a89\",\"#3d4b89\",\"#3d4c89\",\"#3c4d8a\",\"#3c4e8a\",\"#3b508a\",\"#3b518a\",\"#3a528b\",\"#3a538b\",\"#39548b\",\"#39558b\",\"#38568b\",\"#38578c\",\"#37588c\",\"#37598c\",\"#365a8c\",\"#365b8c\",\"#355c8c\",\"#355d8c\",\"#345e8d\",\"#345f8d\",\"#33608d\",\"#33618d\",\"#32628d\",\"#32638d\",\"#31648d\",\"#31658d\",\"#31668d\",\"#30678d\",\"#30688d\",\"#2f698d\",\"#2f6a8d\",\"#2e6b8e\",\"#2e6c8e\",\"#2e6d8e\",\"#2d6e8e\",\"#2d6f8e\",\"#2c708e\",\"#2c718e\",\"#2c728e\",\"#2b738e\",\"#2b748e\",\"#2a758e\",\"#2a768e\",\"#2a778e\",\"#29788e\",\"#29798e\",\"#287a8e\",\"#287a8e\",\"#287b8e\",\"#277c8e\",\"#277d8e\",\"#277e8e\",\"#267f8e\",\"#26808e\",\"#26818e\",\"#25828e\",\"#25838d\",\"#24848d\",\"#24858d\",\"#24868d\",\"#23878d\",\"#23888d\",\"#23898d\",\"#22898d\",\"#228a8d\",\"#228b8d\",\"#218c8d\",\"#218d8c\",\"#218e8c\",\"#208f8c\",\"#20908c\",\"#20918c\",\"#1f928c\",\"#1f938b\",\"#1f948b\",\"#1f958b\",\"#1f968b\",\"#1e978a\",\"#1e988a\",\"#1e998a\",\"#1e998a\",\"#1e9a89\",\"#1e9b89\",\"#1e9c89\",\"#1e9d88\",\"#1e9e88\",\"#1e9f88\",\"#1ea087\",\"#1fa187\",\"#1fa286\",\"#1fa386\",\"#20a485\",\"#20a585\",\"#21a685\",\"#21a784\",\"#22a784\",\"#23a883\",\"#23a982\",\"#24aa82\",\"#25ab81\",\"#26ac81\",\"#27ad80\",\"#28ae7f\",\"#29af7f\",\"#2ab07e\",\"#2bb17d\",\"#2cb17d\",\"#2eb27c\",\"#2fb37b\",\"#30b47a\",\"#32b57a\",\"#33b679\",\"#35b778\",\"#36b877\",\"#38b976\",\"#39b976\",\"#3bba75\",\"#3dbb74\",\"#3ebc73\",\"#40bd72\",\"#42be71\",\"#44be70\",\"#45bf6f\",\"#47c06e\",\"#49c16d\",\"#4bc26c\",\"#4dc26b\",\"#4fc369\",\"#51c468\",\"#53c567\",\"#55c666\",\"#57c665\",\"#59c764\",\"#5bc862\",\"#5ec961\",\"#60c960\",\"#62ca5f\",\"#64cb5d\",\"#67cc5c\",\"#69cc5b\",\"#6bcd59\",\"#6dce58\",\"#70ce56\",\"#72cf55\",\"#74d054\",\"#77d052\",\"#79d151\",\"#7cd24f\",\"#7ed24e\",\"#81d34c\",\"#83d34b\",\"#86d449\",\"#88d547\",\"#8bd546\",\"#8dd644\",\"#90d643\",\"#92d741\",\"#95d73f\",\"#97d83e\",\"#9ad83c\",\"#9dd93a\",\"#9fd938\",\"#a2da37\",\"#a5da35\",\"#a7db33\",\"#aadb32\",\"#addc30\",\"#afdc2e\",\"#b2dd2c\",\"#b5dd2b\",\"#b7dd29\",\"#bade27\",\"#bdde26\",\"#bfdf24\",\"#c2df22\",\"#c5df21\",\"#c7e01f\",\"#cae01e\",\"#cde01d\",\"#cfe11c\",\"#d2e11b\",\"#d4e11a\",\"#d7e219\",\"#dae218\",\"#dce218\",\"#dfe318\",\"#e1e318\",\"#e4e318\",\"#e7e419\",\"#e9e419\",\"#ece41a\",\"#eee51b\",\"#f1e51c\",\"#f3e51e\",\"#f6e61f\",\"#f8e621\",\"#fae622\",\"#fde724\"]},\"id\":\"1010\",\"type\":\"LinearColorMapper\"},{\"attributes\":{},\"id\":\"1011\",\"type\":\"panel.models.vtk.VTKAxes\"},{\"attributes\":{\"client_comm_id\":\"22b909dea763439988b14be4625cf57b\",\"comm_id\":\"1be37c88445f46e6beb3434a4d787fc3\",\"plot_id\":\"1012\"},\"id\":\"1013\",\"type\":\"panel.models.comm_manager.CommManager\"}],\"root_ids\":[\"1012\",\"1013\"]},\"title\":\"Bokeh Application\",\"version\":\"2.4.3\"}};\n",
       "    var render_items = [{\"docid\":\"1015c668-6cdd-4019-ae3c-ef240e5656d8\",\"root_ids\":[\"1012\"],\"roots\":{\"1012\":\"58717e59-09fd-4386-89f1-5f3fa69e2250\"}}];\n",
       "    root.Bokeh.embed.embed_items_notebook(docs_json, render_items);\n",
       "    for (const render_item of render_items) {\n",
       "      for (const root_id of render_item.root_ids) {\n",
       "\tconst id_el = document.getElementById(root_id)\n",
       "\tif (id_el.children.length && (id_el.children[0].className === 'bk-root')) {\n",
       "\t  const root_el = id_el.children[0]\n",
       "\t  root_el.id = root_el.id + '-rendered'\n",
       "\t}\n",
       "      }\n",
       "    }\n",
       "  }\n",
       "  if (root.Bokeh !== undefined && root.Bokeh.Panel !== undefined && ( root['vtk'] !== undefined)) {\n",
       "    embed_document(root);\n",
       "  } else {\n",
       "    var attempts = 0;\n",
       "    var timer = setInterval(function(root) {\n",
       "      if (root.Bokeh !== undefined && root.Bokeh.Panel !== undefined && (root['vtk'] !== undefined)) {\n",
       "        clearInterval(timer);\n",
       "        embed_document(root);\n",
       "      } else if (document.readyState == \"complete\") {\n",
       "        attempts++;\n",
       "        if (attempts > 200) {\n",
       "          clearInterval(timer);\n",
       "          console.log(\"Bokeh: ERROR: Unable to run BokehJS code because BokehJS library is missing\");\n",
       "        }\n",
       "      }\n",
       "    }, 25, root)\n",
       "  }\n",
       "})(window);</script>"
      ]
     },
     "metadata": {},
     "output_type": "display_data"
    }
   ],
   "source": [
    "warped = u_grid.warp_by_scalar()\n",
    "plotter2 = pyvista.Plotter()\n",
    "plotter2.add_mesh(warped, show_edges=True, show_scalar_bar=True)\n",
    "if not pyvista.OFF_SCREEN:\n",
    "    plotter2.show()"
   ]
  },
  {
   "cell_type": "markdown",
   "id": "d0fa5de7",
   "metadata": {},
   "source": [
    "## External post-processing\n",
    "For post-processing outside the python code, it is suggested to save the solution to file using either `dolfinx.io.VTXWriter` or `dolfinx.io.XDMFFile` and using [Paraview](https://www.paraview.org/). This is especially suggested for 3D visualization."
   ]
  },
  {
   "cell_type": "code",
   "execution_count": 19,
   "id": "bd23a189",
   "metadata": {
    "vscode": {
     "languageId": "python"
    }
   },
   "outputs": [],
   "source": [
    "from dolfinx import io\n",
    "with io.VTXWriter(domain.comm, \"output.bp\", [uh]) as vtx:\n",
    "    vtx.write(0.0)\n",
    "with io.XDMFFile(domain.comm, \"output.xdmf\", \"w\") as xdmf:\n",
    "    xdmf.write_mesh(domain)\n",
    "    xdmf.write_function(uh)"
   ]
  },
  {
   "cell_type": "markdown",
   "id": "a12d8e28",
   "metadata": {},
   "source": [
    "```{bibliography}\n",
    "   :filter: cited and ({\"chapter1/fundamentals_code\"} >= docnames)\n",
    "```"
   ]
  }
 ],
 "metadata": {
  "jupytext": {
   "formats": "ipynb,py"
  },
  "kernelspec": {
   "display_name": "Python 3 (ipykernel)",
   "language": "python",
   "name": "python3"
  },
  "language_info": {
   "codemirror_mode": {
    "name": "ipython",
    "version": 3
   },
   "file_extension": ".py",
   "mimetype": "text/x-python",
   "name": "python",
   "nbconvert_exporter": "python",
   "pygments_lexer": "ipython3",
   "version": "3.10.6"
  },
  "vscode": {
   "interpreter": {
    "hash": "31f2aee4e71d21fbe5cf8b01ff0e069b9275f58929596ceb00d14d90e3e16cd6"
   }
  }
 },
 "nbformat": 4,
 "nbformat_minor": 5
}
