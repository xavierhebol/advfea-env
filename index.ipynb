{
 "cells": [
  {
   "cell_type": "markdown",
   "id": "joined-journalist",
   "metadata": {},
   "source": [
    "# The FEniCSx tutorial\n",
    "Author: Jørgen S. Dokken\n",
    "\n",
    "This webpage gives a concise overview of the functionality of [DOLFINx](https://github.com/FEniCS/dolfinx/), including a gentle introduction to the finite element method. This webpage is an adaptation of the FEniCS tutorial {cite}`FenicsTutorial`.\n",
    "\n",
    "DOLFINx can be used as either a C++ or Python software, but this tutorial will focus on Python programming, as it is the simplest and most effective approach for beginners. After having gone through this tutorial, the reader should familiarize themselves with the DOLFINx [documentation](https://docs.fenicsproject.org/dolfinx/main/python/), which includes the API and numerous demos.\n",
    "\n",
    "Comments and corrections to this webpage should be submitted to the issue tracker by going to the relevant page in the tutorial, then click the ![git](git.png)-symbol in the top right corner and \"open issue\".\n",
    "\n",
    "**Interactive tutorials**\n",
    "\n",
    "As this book has been published as a Jupyter Book, we provide interactive notebooks that can be run in the browser. To start such a notebook click the ![Binder symbol](binder.png)-symbol in the top right corner of the relevant tutorial."
   ]
  },
  {
   "cell_type": "code",
   "execution_count": 4,
   "id": "gorgeous-declaration",
   "metadata": {},
   "outputs": [
    {
     "name": "stdout",
     "output_type": "stream",
     "text": [
      "DOLFINx version: 0.3.1.0 based on GIT commit: 810baf3861366cda3d6d31a3cff33e6518aec6be of https://github.com/FEniCS/dolfinx/\n"
     ]
    }
   ],
   "source": [
    "import dolfinx\n",
    "print(f\"DOLFINx version: {dolfinx.__version__} based on GIT commit: {dolfinx.git_commit_hash} of https://github.com/FEniCS/dolfinx/\")"
   ]
  },
  {
   "cell_type": "markdown",
   "id": "dedicated-order",
   "metadata": {},
   "source": [
    "**References**\n",
    "```{bibliography}\n",
    ":filter: docname in docnames\n",
    "```"
   ]
  },
  {
   "cell_type": "code",
   "execution_count": null,
   "id": "ceramic-convertible",
   "metadata": {},
   "outputs": [],
   "source": []
  }
 ],
 "metadata": {
  "kernelspec": {
   "display_name": "Python 3 (ipykernel)",
   "language": "python",
   "name": "python3"
  },
  "language_info": {
   "codemirror_mode": {
    "name": "ipython",
    "version": 3
   },
   "file_extension": ".py",
   "mimetype": "text/x-python",
   "name": "python",
   "nbconvert_exporter": "python",
   "pygments_lexer": "ipython3",
   "version": "3.9.7"
  }
 },
 "nbformat": 4,
 "nbformat_minor": 5
}
