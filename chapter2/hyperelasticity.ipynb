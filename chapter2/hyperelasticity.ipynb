{
 "cells": [
  {
   "cell_type": "markdown",
   "id": "908815e6-cdac-4915-bf52-5578f978d2e7",
   "metadata": {},
   "source": [
    "# Hyperelasticity\n",
    "Author: Jørgen S. Dokken and Garth N. Wells\n",
    "\n",
    "This section shows how to solve the hyperelasticity problem for deformation of a beam.\n",
    "\n",
    "We will also show how to create a constant boundary condition for a vector function space.\n",
    "\n",
    "We start by importing DOLFINx and some additional dependencies.\n",
    "Then, we create a slender cantilever consisting of hexahedral elements and create the function space `V` for our unknown."
   ]
  },
  {
   "cell_type": "code",
   "execution_count": 1,
   "id": "optional-cameroon",
   "metadata": {},
   "outputs": [
    {
     "name": "stderr",
     "output_type": "stream",
     "text": [
      "INFO:root:running build_ext\n",
      "INFO:root:building 'libffcx_elements_2d5c9a986741d359a5c76c1d0ce7466e4777b687' extension\n",
      "INFO:root:x86_64-linux-gnu-gcc -Wno-unused-result -Wsign-compare -DNDEBUG -g -fwrapv -O2 -Wall -g -fstack-protector-strong -Wformat -Werror=format-security -g -fwrapv -O2 -fPIC -I/usr/local/lib/python3.10/dist-packages/ffcx/codegeneration -I/usr/include/python3.10 -c libffcx_elements_2d5c9a986741d359a5c76c1d0ce7466e4777b687.c -o ./libffcx_elements_2d5c9a986741d359a5c76c1d0ce7466e4777b687.o -O2\n",
      "INFO:root:x86_64-linux-gnu-gcc -shared -Wl,-O1 -Wl,-Bsymbolic-functions -Wl,-Bsymbolic-functions -g -fwrapv -O2 ./libffcx_elements_2d5c9a986741d359a5c76c1d0ce7466e4777b687.o -L/usr/lib/x86_64-linux-gnu -o ./libffcx_elements_2d5c9a986741d359a5c76c1d0ce7466e4777b687.cpython-310-x86_64-linux-gnu.so\n"
     ]
    }
   ],
   "source": [
    "import numpy as np\n",
    "import ufl\n",
    "\n",
    "from petsc4py import PETSc\n",
    "from mpi4py import MPI\n",
    "from dolfinx import fem, mesh, plot\n",
    "L = 20.0\n",
    "domain = mesh.create_box(MPI.COMM_WORLD,[[0.0,0.0,0.0], [L, 1, 1]], [20, 5, 5], mesh.CellType.hexahedron)\n",
    "V = fem.VectorFunctionSpace(domain, (\"CG\", 2))"
   ]
  },
  {
   "cell_type": "markdown",
   "id": "streaming-neutral",
   "metadata": {},
   "source": [
    "We create two python functions for determining the facets to apply boundary conditions to"
   ]
  },
  {
   "cell_type": "code",
   "execution_count": 2,
   "id": "major-factor",
   "metadata": {},
   "outputs": [],
   "source": [
    "def left(x):\n",
    "    return np.isclose(x[0], 0)\n",
    "\n",
    "def right(x):\n",
    "    return np.isclose(x[0], L)\n",
    "\n",
    "fdim = domain.topology.dim -1\n",
    "left_facets = mesh.locate_entities_boundary(domain, fdim, left)\n",
    "right_facets = mesh.locate_entities_boundary(domain, fdim, right)"
   ]
  },
  {
   "cell_type": "markdown",
   "id": "figured-world",
   "metadata": {},
   "source": [
    "Next, we create a  marker based on these two functions"
   ]
  },
  {
   "cell_type": "code",
   "execution_count": 3,
   "id": "dated-india",
   "metadata": {},
   "outputs": [],
   "source": [
    "# Concatenate and sort the arrays based on facet indices. Left facets marked with 1, right facets with two\n",
    "marked_facets = np.hstack([left_facets, right_facets])\n",
    "marked_values = np.hstack([np.full_like(left_facets, 1), np.full_like(right_facets, 2)])\n",
    "sorted_facets = np.argsort(marked_facets)\n",
    "facet_tag = mesh.meshtags(domain, fdim, marked_facets[sorted_facets], marked_values[sorted_facets])"
   ]
  },
  {
   "cell_type": "markdown",
   "id": "renewable-glossary",
   "metadata": {},
   "source": [
    "We then create a function for supplying the boundary condition on the left side, which is fixed."
   ]
  },
  {
   "cell_type": "code",
   "execution_count": 4,
   "id": "confidential-french",
   "metadata": {},
   "outputs": [],
   "source": [
    "u_bc = np.array((0,) * domain.geometry.dim, dtype=PETSc.ScalarType)"
   ]
  },
  {
   "cell_type": "markdown",
   "id": "musical-documentation",
   "metadata": {},
   "source": [
    "To apply the boundary condition, we identity the dofs located on the facets marked by the `MeshTag`."
   ]
  },
  {
   "cell_type": "code",
   "execution_count": 5,
   "id": "written-monster",
   "metadata": {},
   "outputs": [],
   "source": [
    "left_dofs = fem.locate_dofs_topological(V, facet_tag.dim, facet_tag.find(1))\n",
    "bcs = [fem.dirichletbc(u_bc, left_dofs, V)]"
   ]
  },
  {
   "cell_type": "markdown",
   "id": "indoor-chester",
   "metadata": {},
   "source": [
    "Next, we define the body force on the reference configuration (`B`), and nominal (first Piola-Kirchhoff) traction (`T`). "
   ]
  },
  {
   "cell_type": "code",
   "execution_count": 6,
   "id": "korean-carol",
   "metadata": {},
   "outputs": [],
   "source": [
    "B = fem.Constant(domain, PETSc.ScalarType((0, 0, 0)))\n",
    "T = fem.Constant(domain, PETSc.ScalarType((0, 0, 0)))"
   ]
  },
  {
   "cell_type": "markdown",
   "id": "blond-dynamics",
   "metadata": {},
   "source": [
    "Define the test and solution functions on the space $V$"
   ]
  },
  {
   "cell_type": "code",
   "execution_count": 7,
   "id": "vocational-experiment",
   "metadata": {},
   "outputs": [],
   "source": [
    "v = ufl.TestFunction(V)\n",
    "u = fem.Function(V)"
   ]
  },
  {
   "cell_type": "markdown",
   "id": "bright-belle",
   "metadata": {},
   "source": [
    "Define kinematic quantities used in the problem"
   ]
  },
  {
   "cell_type": "code",
   "execution_count": 8,
   "id": "vertical-original",
   "metadata": {},
   "outputs": [],
   "source": [
    "# Spatial dimension\n",
    "d = len(u)\n",
    "\n",
    "# Identity tensor\n",
    "I = ufl.variable(ufl.Identity(d))\n",
    "\n",
    "# Deformation gradient\n",
    "F = ufl.variable(I + ufl.grad(u))\n",
    "\n",
    "# Right Cauchy-Green tensor\n",
    "C = ufl.variable(F.T * F)\n",
    "\n",
    "# Invariants of deformation tensors\n",
    "Ic = ufl.variable(ufl.tr(C))\n",
    "J  = ufl.variable(ufl.det(F))"
   ]
  },
  {
   "cell_type": "markdown",
   "id": "respiratory-compromise",
   "metadata": {},
   "source": [
    "Define the elasticity model via a stored strain energy density function $\\psi$, and create the expression for the first Piola-Kirchhoff stress:"
   ]
  },
  {
   "cell_type": "code",
   "execution_count": 9,
   "id": "incorrect-hello",
   "metadata": {},
   "outputs": [],
   "source": [
    "# Elasticity parameters\n",
    "E = PETSc.ScalarType(1.0e4)\n",
    "nu = PETSc.ScalarType(0.3)\n",
    "mu = fem.Constant(domain, E/(2*(1 + nu)))\n",
    "lmbda = fem.Constant(domain, E*nu/((1 + nu)*(1 - 2*nu)))\n",
    "# Stored strain energy density (compressible neo-Hookean model)\n",
    "psi = (mu / 2) * (Ic - 3) - mu * ufl.ln(J) + (lmbda / 2) * (ufl.ln(J))**2\n",
    "# Stress\n",
    "# Hyper-elasticity\n",
    "P = ufl.diff(psi, F)"
   ]
  },
  {
   "cell_type": "markdown",
   "id": "grateful-battlefield",
   "metadata": {},
   "source": [
    "```{admonition} Comparison to linear elasticity\n",
    "To illustrate the difference between linear and hyperelasticity, the following lines can be uncommented to solve the linear elasticity problem.\n",
    "```"
   ]
  },
  {
   "cell_type": "code",
   "execution_count": 10,
   "id": "imperial-jurisdiction",
   "metadata": {},
   "outputs": [],
   "source": [
    "# P = 2.0 * mu * ufl.sym(ufl.grad(u)) + lmbda * ufl.tr(ufl.sym(ufl.grad(u))) * I"
   ]
  },
  {
   "cell_type": "markdown",
   "id": "alleged-genesis",
   "metadata": {},
   "source": [
    "Define the variational form with traction integral over all facets with value 2. We set the quadrature degree for the integrals to 4."
   ]
  },
  {
   "cell_type": "code",
   "execution_count": 11,
   "id": "recognized-conclusion",
   "metadata": {},
   "outputs": [],
   "source": [
    "metadata = {\"quadrature_degree\": 4}\n",
    "ds = ufl.Measure('ds', domain=domain, subdomain_data=facet_tag, metadata=metadata)\n",
    "dx = ufl.Measure(\"dx\", domain=domain, metadata=metadata)\n",
    "# Define form F (we want to find u such that F(u) = 0)\n",
    "F = ufl.inner(ufl.grad(v), P)*dx - ufl.inner(v, B)*dx - ufl.inner(v, T)*ds(2) "
   ]
  },
  {
   "cell_type": "markdown",
   "id": "historic-sherman",
   "metadata": {},
   "source": [
    "As the varitional form is non-linear and written on residual form, we use the non-linear problem class from DOLFINx to set up required structures to use a Newton solver."
   ]
  },
  {
   "cell_type": "code",
   "execution_count": 12,
   "id": "threatened-devices",
   "metadata": {},
   "outputs": [
    {
     "name": "stderr",
     "output_type": "stream",
     "text": [
      "INFO:root:running build_ext\n",
      "INFO:root:building 'libffcx_forms_69a876110b554279567433f944d3802b15088492' extension\n",
      "INFO:root:x86_64-linux-gnu-gcc -Wno-unused-result -Wsign-compare -DNDEBUG -g -fwrapv -O2 -Wall -g -fstack-protector-strong -Wformat -Werror=format-security -g -fwrapv -O2 -fPIC -I/usr/local/lib/python3.10/dist-packages/ffcx/codegeneration -I/usr/include/python3.10 -c libffcx_forms_69a876110b554279567433f944d3802b15088492.c -o ./libffcx_forms_69a876110b554279567433f944d3802b15088492.o -O2\n",
      "INFO:root:x86_64-linux-gnu-gcc -shared -Wl,-O1 -Wl,-Bsymbolic-functions -Wl,-Bsymbolic-functions -g -fwrapv -O2 ./libffcx_forms_69a876110b554279567433f944d3802b15088492.o -L/usr/lib/x86_64-linux-gnu -o ./libffcx_forms_69a876110b554279567433f944d3802b15088492.cpython-310-x86_64-linux-gnu.so\n",
      "INFO:root:running build_ext\n",
      "INFO:root:building 'libffcx_forms_78b407f829a4cb0618fde7e20bfee058f65b12bd' extension\n",
      "INFO:root:x86_64-linux-gnu-gcc -Wno-unused-result -Wsign-compare -DNDEBUG -g -fwrapv -O2 -Wall -g -fstack-protector-strong -Wformat -Werror=format-security -g -fwrapv -O2 -fPIC -I/usr/local/lib/python3.10/dist-packages/ffcx/codegeneration -I/usr/include/python3.10 -c libffcx_forms_78b407f829a4cb0618fde7e20bfee058f65b12bd.c -o ./libffcx_forms_78b407f829a4cb0618fde7e20bfee058f65b12bd.o -O2\n",
      "INFO:root:x86_64-linux-gnu-gcc -shared -Wl,-O1 -Wl,-Bsymbolic-functions -Wl,-Bsymbolic-functions -g -fwrapv -O2 ./libffcx_forms_78b407f829a4cb0618fde7e20bfee058f65b12bd.o -L/usr/lib/x86_64-linux-gnu -o ./libffcx_forms_78b407f829a4cb0618fde7e20bfee058f65b12bd.cpython-310-x86_64-linux-gnu.so\n"
     ]
    }
   ],
   "source": [
    "problem = fem.petsc.NonlinearProblem(F, u, bcs)"
   ]
  },
  {
   "cell_type": "markdown",
   "id": "qualified-phrase",
   "metadata": {},
   "source": [
    "and then create and customize the Newton solver"
   ]
  },
  {
   "cell_type": "code",
   "execution_count": 13,
   "id": "special-globe",
   "metadata": {},
   "outputs": [],
   "source": [
    "from dolfinx import nls\n",
    "solver = nls.petsc.NewtonSolver(domain.comm, problem)\n",
    "\n",
    "# Set Newton solver options\n",
    "solver.atol = 1e-8\n",
    "solver.rtol = 1e-8\n",
    "solver.convergence_criterion = \"incremental\"\n"
   ]
  },
  {
   "cell_type": "markdown",
   "id": "marked-hungary",
   "metadata": {},
   "source": [
    "We create a function to plot the solution at each time step."
   ]
  },
  {
   "cell_type": "code",
   "execution_count": 14,
   "id": "noble-perception",
   "metadata": {},
   "outputs": [
    {
     "name": "stderr",
     "output_type": "stream",
     "text": [
      "INFO:root:running build_ext\n",
      "INFO:root:building 'libffcx_elements_1779003a382381322b01b435c8795eb07e36a470' extension\n",
      "INFO:root:x86_64-linux-gnu-gcc -Wno-unused-result -Wsign-compare -DNDEBUG -g -fwrapv -O2 -Wall -g -fstack-protector-strong -Wformat -Werror=format-security -g -fwrapv -O2 -fPIC -I/usr/local/lib/python3.10/dist-packages/ffcx/codegeneration -I/usr/include/python3.10 -c libffcx_elements_1779003a382381322b01b435c8795eb07e36a470.c -o ./libffcx_elements_1779003a382381322b01b435c8795eb07e36a470.o -O2\n",
      "INFO:root:x86_64-linux-gnu-gcc -shared -Wl,-O1 -Wl,-Bsymbolic-functions -Wl,-Bsymbolic-functions -g -fwrapv -O2 ./libffcx_elements_1779003a382381322b01b435c8795eb07e36a470.o -L/usr/lib/x86_64-linux-gnu -o ./libffcx_elements_1779003a382381322b01b435c8795eb07e36a470.cpython-310-x86_64-linux-gnu.so\n",
      "INFO:root:running build_ext\n",
      "INFO:root:building 'libffcx_expressions_1c636c4fefab7bb38773748e9689319cbb908186' extension\n",
      "INFO:root:x86_64-linux-gnu-gcc -Wno-unused-result -Wsign-compare -DNDEBUG -g -fwrapv -O2 -Wall -g -fstack-protector-strong -Wformat -Werror=format-security -g -fwrapv -O2 -fPIC -I/usr/local/lib/python3.10/dist-packages/ffcx/codegeneration -I/usr/include/python3.10 -c libffcx_expressions_1c636c4fefab7bb38773748e9689319cbb908186.c -o ./libffcx_expressions_1c636c4fefab7bb38773748e9689319cbb908186.o -O2\n",
      "INFO:root:x86_64-linux-gnu-gcc -shared -Wl,-O1 -Wl,-Bsymbolic-functions -Wl,-Bsymbolic-functions -g -fwrapv -O2 ./libffcx_expressions_1c636c4fefab7bb38773748e9689319cbb908186.o -L/usr/lib/x86_64-linux-gnu -o ./libffcx_expressions_1c636c4fefab7bb38773748e9689319cbb908186.cpython-310-x86_64-linux-gnu.so\n"
     ]
    }
   ],
   "source": [
    "import pyvista\n",
    "import matplotlib.pyplot as plt\n",
    "pyvista.start_xvfb()\n",
    "plotter = pyvista.Plotter()\n",
    "plotter.open_gif(\"deformation.gif\", fps=3)\n",
    "\n",
    "topology, cells, geometry = plot.create_vtk_mesh(u.function_space)\n",
    "function_grid = pyvista.UnstructuredGrid(topology, cells, geometry)\n",
    "\n",
    "values = np.zeros((geometry.shape[0], 3))\n",
    "values[:, :len(u)] = u.x.array.reshape(geometry.shape[0], len(u))\n",
    "function_grid[\"u\"] = values\n",
    "function_grid.set_active_vectors(\"u\")\n",
    "\n",
    "# Warp mesh by deformation\n",
    "warped = function_grid.warp_by_vector(\"u\", factor=1)\n",
    "warped.set_active_vectors(\"u\")\n",
    "\n",
    "# Add mesh to plotter and visualize\n",
    "actor = plotter.add_mesh(warped, show_edges=True, lighting=False, clim=[0, 10])\n",
    "\n",
    "# Compute magnitude of displacement to visualize in GIF\n",
    "Vs = fem.FunctionSpace(domain, (\"Lagrange\", 2))\n",
    "magnitude = fem.Function(Vs)\n",
    "us = fem.Expression(ufl.sqrt(sum([u[i]**2 for i in range(len(u))])), Vs.element.interpolation_points())\n",
    "magnitude.interpolate(us)\n",
    "warped[\"mag\"] = magnitude.x.array"
   ]
  },
  {
   "cell_type": "markdown",
   "id": "nasty-entertainment",
   "metadata": {},
   "source": [
    "Finally, we solve the problem over several time steps, updating the y-component of the traction"
   ]
  },
  {
   "cell_type": "code",
   "execution_count": 15,
   "id": "vanilla-referral",
   "metadata": {},
   "outputs": [
    {
     "name": "stderr",
     "output_type": "stream",
     "text": [
      "2023-02-01 20:27:09.780 (   7.448s) [main            ]              petsc.cpp:675   INFO| PETSc Krylov solver starting to solve system.\n",
      "2023-02-01 20:27:10.402 (   8.070s) [main            ]         TimeLogger.cpp:28    INFO| Elapsed wall, usr, sys time: 0.622050, 0.560000, 0.060000 (PETSc Krylov solver)\n",
      "2023-02-01 20:27:10.645 (   8.313s) [main            ]              petsc.cpp:675   INFO| PETSc Krylov solver starting to solve system.\n",
      "2023-02-01 20:27:11.132 (   8.801s) [main            ]         TimeLogger.cpp:28    INFO| Elapsed wall, usr, sys time: 0.487962, 0.450000, 0.050000 (PETSc Krylov solver)\n",
      "2023-02-01 20:27:11.148 (   8.816s) [main            ]       NewtonSolver.cpp:36    INFO| Newton iteration 2: r (abs) = 22.2455 (tol = 1e-08) r (rel) = 0.134278(tol = 1e-08)\n",
      "2023-02-01 20:27:11.368 (   9.036s) [main            ]              petsc.cpp:675   INFO| PETSc Krylov solver starting to solve system.\n",
      "2023-02-01 20:27:11.786 (   9.454s) [main            ]         TimeLogger.cpp:28    INFO| Elapsed wall, usr, sys time: 0.417383, 0.360000, 0.050000 (PETSc Krylov solver)\n",
      "2023-02-01 20:27:11.801 (   9.469s) [main            ]       NewtonSolver.cpp:36    INFO| Newton iteration 3: r (abs) = 2.43261 (tol = 1e-08) r (rel) = 0.0146837(tol = 1e-08)\n",
      "2023-02-01 20:27:12.034 (   9.703s) [main            ]              petsc.cpp:675   INFO| PETSc Krylov solver starting to solve system.\n",
      "2023-02-01 20:27:12.428 (  10.096s) [main            ]         TimeLogger.cpp:28    INFO| Elapsed wall, usr, sys time: 0.393679, 0.350000, 0.050000 (PETSc Krylov solver)\n",
      "2023-02-01 20:27:12.440 (  10.108s) [main            ]       NewtonSolver.cpp:36    INFO| Newton iteration 4: r (abs) = 4.43158 (tol = 1e-08) r (rel) = 0.0267498(tol = 1e-08)\n",
      "2023-02-01 20:27:12.671 (  10.339s) [main            ]              petsc.cpp:675   INFO| PETSc Krylov solver starting to solve system.\n",
      "2023-02-01 20:27:13.111 (  10.779s) [main            ]         TimeLogger.cpp:28    INFO| Elapsed wall, usr, sys time: 0.440387, 0.380000, 0.060000 (PETSc Krylov solver)\n",
      "2023-02-01 20:27:13.123 (  10.792s) [main            ]       NewtonSolver.cpp:36    INFO| Newton iteration 5: r (abs) = 0.144189 (tol = 1e-08) r (rel) = 0.000870353(tol = 1e-08)\n",
      "2023-02-01 20:27:13.369 (  11.037s) [main            ]              petsc.cpp:675   INFO| PETSc Krylov solver starting to solve system.\n",
      "2023-02-01 20:27:13.854 (  11.522s) [main            ]         TimeLogger.cpp:28    INFO| Elapsed wall, usr, sys time: 0.484898, 0.440000, 0.050000 (PETSc Krylov solver)\n",
      "2023-02-01 20:27:13.868 (  11.536s) [main            ]       NewtonSolver.cpp:36    INFO| Newton iteration 6: r (abs) = 0.021424 (tol = 1e-08) r (rel) = 0.000129319(tol = 1e-08)\n",
      "2023-02-01 20:27:14.100 (  11.768s) [main            ]              petsc.cpp:675   INFO| PETSc Krylov solver starting to solve system.\n",
      "2023-02-01 20:27:14.579 (  12.248s) [main            ]         TimeLogger.cpp:28    INFO| Elapsed wall, usr, sys time: 0.479093, 0.440000, 0.040000 (PETSc Krylov solver)\n",
      "2023-02-01 20:27:14.594 (  12.263s) [main            ]       NewtonSolver.cpp:36    INFO| Newton iteration 7: r (abs) = 4.80067e-06 (tol = 1e-08) r (rel) = 2.89777e-08(tol = 1e-08)\n",
      "2023-02-01 20:27:14.856 (  12.524s) [main            ]              petsc.cpp:675   INFO| PETSc Krylov solver starting to solve system.\n",
      "2023-02-01 20:27:15.334 (  13.002s) [main            ]         TimeLogger.cpp:28    INFO| Elapsed wall, usr, sys time: 0.478486, 0.430000, 0.050000 (PETSc Krylov solver)\n",
      "2023-02-01 20:27:15.347 (  13.015s) [main            ]       NewtonSolver.cpp:36    INFO| Newton iteration 8: r (abs) = 2.65191e-11 (tol = 1e-08) r (rel) = 1.60074e-13(tol = 1e-08)\n",
      "2023-02-01 20:27:15.347 (  13.015s) [main            ]       NewtonSolver.cpp:255   INFO| Newton solver finished in 8 iterations and 8 linear solver iterations.\n"
     ]
    },
    {
     "name": "stdout",
     "output_type": "stream",
     "text": [
      "Time step 1, Number of iterations 8, Load [ 0.   0.  -1.5]\n"
     ]
    },
    {
     "name": "stderr",
     "output_type": "stream",
     "text": [
      "2023-02-01 20:27:15.882 (  13.550s) [main            ]              petsc.cpp:675   INFO| PETSc Krylov solver starting to solve system.\n",
      "2023-02-01 20:27:16.315 (  13.983s) [main            ]         TimeLogger.cpp:28    INFO| Elapsed wall, usr, sys time: 0.433116, 0.410000, 0.030000 (PETSc Krylov solver)\n",
      "2023-02-01 20:27:16.548 (  14.216s) [main            ]              petsc.cpp:675   INFO| PETSc Krylov solver starting to solve system.\n",
      "2023-02-01 20:27:17.003 (  14.671s) [main            ]         TimeLogger.cpp:28    INFO| Elapsed wall, usr, sys time: 0.454631, 0.400000, 0.050000 (PETSc Krylov solver)\n",
      "2023-02-01 20:27:17.015 (  14.683s) [main            ]       NewtonSolver.cpp:36    INFO| Newton iteration 2: r (abs) = 17.3254 (tol = 1e-08) r (rel) = 0.117842(tol = 1e-08)\n",
      "2023-02-01 20:27:17.241 (  14.910s) [main            ]              petsc.cpp:675   INFO| PETSc Krylov solver starting to solve system.\n",
      "2023-02-01 20:27:17.708 (  15.376s) [main            ]         TimeLogger.cpp:28    INFO| Elapsed wall, usr, sys time: 0.466263, 0.440000, 0.030000 (PETSc Krylov solver)\n",
      "2023-02-01 20:27:17.719 (  15.387s) [main            ]       NewtonSolver.cpp:36    INFO| Newton iteration 3: r (abs) = 5.14882 (tol = 1e-08) r (rel) = 0.0350207(tol = 1e-08)\n",
      "2023-02-01 20:27:17.902 (  15.570s) [main            ]              petsc.cpp:675   INFO| PETSc Krylov solver starting to solve system.\n",
      "2023-02-01 20:27:18.345 (  16.013s) [main            ]         TimeLogger.cpp:28    INFO| Elapsed wall, usr, sys time: 0.442572, 0.410000, 0.040000 (PETSc Krylov solver)\n",
      "2023-02-01 20:27:18.357 (  16.025s) [main            ]       NewtonSolver.cpp:36    INFO| Newton iteration 4: r (abs) = 7.24003 (tol = 1e-08) r (rel) = 0.0492445(tol = 1e-08)\n",
      "2023-02-01 20:27:18.618 (  16.286s) [main            ]              petsc.cpp:675   INFO| PETSc Krylov solver starting to solve system.\n",
      "2023-02-01 20:27:19.043 (  16.711s) [main            ]         TimeLogger.cpp:28    INFO| Elapsed wall, usr, sys time: 0.425039, 0.390000, 0.050000 (PETSc Krylov solver)\n",
      "2023-02-01 20:27:19.053 (  16.721s) [main            ]       NewtonSolver.cpp:36    INFO| Newton iteration 5: r (abs) = 0.777889 (tol = 1e-08) r (rel) = 0.00529096(tol = 1e-08)\n",
      "2023-02-01 20:27:19.235 (  16.903s) [main            ]              petsc.cpp:675   INFO| PETSc Krylov solver starting to solve system.\n",
      "2023-02-01 20:27:19.671 (  17.339s) [main            ]         TimeLogger.cpp:28    INFO| Elapsed wall, usr, sys time: 0.435357, 0.400000, 0.030000 (PETSc Krylov solver)\n",
      "2023-02-01 20:27:19.688 (  17.356s) [main            ]       NewtonSolver.cpp:36    INFO| Newton iteration 6: r (abs) = 1.25525 (tol = 1e-08) r (rel) = 0.00853785(tol = 1e-08)\n",
      "2023-02-01 20:27:19.941 (  17.609s) [main            ]              petsc.cpp:675   INFO| PETSc Krylov solver starting to solve system.\n",
      "2023-02-01 20:27:20.387 (  18.055s) [main            ]         TimeLogger.cpp:28    INFO| Elapsed wall, usr, sys time: 0.446368, 0.420000, 0.030000 (PETSc Krylov solver)\n",
      "2023-02-01 20:27:20.396 (  18.065s) [main            ]       NewtonSolver.cpp:36    INFO| Newton iteration 7: r (abs) = 0.00849512 (tol = 1e-08) r (rel) = 5.77813e-05(tol = 1e-08)\n",
      "2023-02-01 20:27:20.621 (  18.289s) [main            ]              petsc.cpp:675   INFO| PETSc Krylov solver starting to solve system.\n",
      "2023-02-01 20:27:21.088 (  18.756s) [main            ]         TimeLogger.cpp:28    INFO| Elapsed wall, usr, sys time: 0.467189, 0.440000, 0.020000 (PETSc Krylov solver)\n",
      "2023-02-01 20:27:21.102 (  18.770s) [main            ]       NewtonSolver.cpp:36    INFO| Newton iteration 8: r (abs) = 0.000192107 (tol = 1e-08) r (rel) = 1.30665e-06(tol = 1e-08)\n",
      "2023-02-01 20:27:21.318 (  18.986s) [main            ]              petsc.cpp:675   INFO| PETSc Krylov solver starting to solve system.\n",
      "2023-02-01 20:27:21.803 (  19.471s) [main            ]         TimeLogger.cpp:28    INFO| Elapsed wall, usr, sys time: 0.485519, 0.460000, 0.030000 (PETSc Krylov solver)\n",
      "2023-02-01 20:27:21.814 (  19.482s) [main            ]       NewtonSolver.cpp:36    INFO| Newton iteration 9: r (abs) = 1.70369e-10 (tol = 1e-08) r (rel) = 1.1588e-12(tol = 1e-08)\n",
      "2023-02-01 20:27:21.814 (  19.482s) [main            ]       NewtonSolver.cpp:255   INFO| Newton solver finished in 9 iterations and 9 linear solver iterations.\n"
     ]
    },
    {
     "name": "stdout",
     "output_type": "stream",
     "text": [
      "Time step 2, Number of iterations 9, Load [ 0.  0. -3.]\n"
     ]
    },
    {
     "name": "stderr",
     "output_type": "stream",
     "text": [
      "2023-02-01 20:27:22.203 (  19.871s) [main            ]              petsc.cpp:675   INFO| PETSc Krylov solver starting to solve system.\n",
      "2023-02-01 20:27:22.672 (  20.341s) [main            ]         TimeLogger.cpp:28    INFO| Elapsed wall, usr, sys time: 0.469984, 0.440000, 0.040000 (PETSc Krylov solver)\n",
      "2023-02-01 20:27:22.937 (  20.605s) [main            ]              petsc.cpp:675   INFO| PETSc Krylov solver starting to solve system.\n",
      "2023-02-01 20:27:23.397 (  21.065s) [main            ]         TimeLogger.cpp:28    INFO| Elapsed wall, usr, sys time: 0.460550, 0.420000, 0.050000 (PETSc Krylov solver)\n",
      "2023-02-01 20:27:23.411 (  21.080s) [main            ]       NewtonSolver.cpp:36    INFO| Newton iteration 2: r (abs) = 10.0011 (tol = 1e-08) r (rel) = 0.0887471(tol = 1e-08)\n",
      "2023-02-01 20:27:23.661 (  21.329s) [main            ]              petsc.cpp:675   INFO| PETSc Krylov solver starting to solve system.\n",
      "2023-02-01 20:27:24.066 (  21.734s) [main            ]         TimeLogger.cpp:28    INFO| Elapsed wall, usr, sys time: 0.404682, 0.360000, 0.050000 (PETSc Krylov solver)\n",
      "2023-02-01 20:27:24.078 (  21.746s) [main            ]       NewtonSolver.cpp:36    INFO| Newton iteration 3: r (abs) = 5.33026 (tol = 1e-08) r (rel) = 0.0472992(tol = 1e-08)\n",
      "2023-02-01 20:27:24.334 (  22.002s) [main            ]              petsc.cpp:675   INFO| PETSc Krylov solver starting to solve system.\n",
      "2023-02-01 20:27:24.860 (  22.529s) [main            ]         TimeLogger.cpp:28    INFO| Elapsed wall, usr, sys time: 0.526409, 0.490000, 0.040000 (PETSc Krylov solver)\n",
      "2023-02-01 20:27:24.875 (  22.543s) [main            ]       NewtonSolver.cpp:36    INFO| Newton iteration 4: r (abs) = 11.9901 (tol = 1e-08) r (rel) = 0.106397(tol = 1e-08)\n",
      "2023-02-01 20:27:25.161 (  22.829s) [main            ]              petsc.cpp:675   INFO| PETSc Krylov solver starting to solve system.\n",
      "2023-02-01 20:27:25.682 (  23.350s) [main            ]         TimeLogger.cpp:28    INFO| Elapsed wall, usr, sys time: 0.521231, 0.480000, 0.040000 (PETSc Krylov solver)\n",
      "2023-02-01 20:27:25.695 (  23.363s) [main            ]       NewtonSolver.cpp:36    INFO| Newton iteration 5: r (abs) = 2.29702 (tol = 1e-08) r (rel) = 0.0203831(tol = 1e-08)\n",
      "2023-02-01 20:27:25.953 (  23.621s) [main            ]              petsc.cpp:675   INFO| PETSc Krylov solver starting to solve system.\n",
      "2023-02-01 20:27:26.511 (  24.179s) [main            ]         TimeLogger.cpp:28    INFO| Elapsed wall, usr, sys time: 0.558061, 0.520000, 0.040000 (PETSc Krylov solver)\n",
      "2023-02-01 20:27:26.523 (  24.191s) [main            ]       NewtonSolver.cpp:36    INFO| Newton iteration 6: r (abs) = 3.90234 (tol = 1e-08) r (rel) = 0.0346282(tol = 1e-08)\n",
      "2023-02-01 20:27:26.774 (  24.442s) [main            ]              petsc.cpp:675   INFO| PETSc Krylov solver starting to solve system.\n",
      "2023-02-01 20:27:27.327 (  24.996s) [main            ]         TimeLogger.cpp:28    INFO| Elapsed wall, usr, sys time: 0.553280, 0.510000, 0.060000 (PETSc Krylov solver)\n",
      "2023-02-01 20:27:27.338 (  25.006s) [main            ]       NewtonSolver.cpp:36    INFO| Newton iteration 7: r (abs) = 0.236535 (tol = 1e-08) r (rel) = 0.00209895(tol = 1e-08)\n",
      "2023-02-01 20:27:27.582 (  25.250s) [main            ]              petsc.cpp:675   INFO| PETSc Krylov solver starting to solve system.\n",
      "2023-02-01 20:27:28.039 (  25.707s) [main            ]         TimeLogger.cpp:28    INFO| Elapsed wall, usr, sys time: 0.456629, 0.430000, 0.040000 (PETSc Krylov solver)\n",
      "2023-02-01 20:27:28.048 (  25.716s) [main            ]       NewtonSolver.cpp:36    INFO| Newton iteration 8: r (abs) = 0.0427142 (tol = 1e-08) r (rel) = 0.000379034(tol = 1e-08)\n",
      "2023-02-01 20:27:28.248 (  25.917s) [main            ]              petsc.cpp:675   INFO| PETSc Krylov solver starting to solve system.\n",
      "2023-02-01 20:27:28.662 (  26.330s) [main            ]         TimeLogger.cpp:28    INFO| Elapsed wall, usr, sys time: 0.413865, 0.390000, 0.020000 (PETSc Krylov solver)\n",
      "2023-02-01 20:27:28.672 (  26.340s) [main            ]       NewtonSolver.cpp:36    INFO| Newton iteration 9: r (abs) = 2.87798e-05 (tol = 1e-08) r (rel) = 2.55384e-07(tol = 1e-08)\n",
      "2023-02-01 20:27:28.910 (  26.578s) [main            ]              petsc.cpp:675   INFO| PETSc Krylov solver starting to solve system.\n",
      "2023-02-01 20:27:29.446 (  27.115s) [main            ]         TimeLogger.cpp:28    INFO| Elapsed wall, usr, sys time: 0.536781, 0.500000, 0.040000 (PETSc Krylov solver)\n",
      "2023-02-01 20:27:29.459 (  27.127s) [main            ]       NewtonSolver.cpp:36    INFO| Newton iteration 10: r (abs) = 6.08768e-10 (tol = 1e-08) r (rel) = 5.40203e-12(tol = 1e-08)\n",
      "2023-02-01 20:27:29.459 (  27.127s) [main            ]       NewtonSolver.cpp:255   INFO| Newton solver finished in 10 iterations and 10 linear solver iterations.\n"
     ]
    },
    {
     "name": "stdout",
     "output_type": "stream",
     "text": [
      "Time step 3, Number of iterations 10, Load [ 0.   0.  -4.5]\n"
     ]
    },
    {
     "name": "stderr",
     "output_type": "stream",
     "text": [
      "2023-02-01 20:27:29.924 (  27.593s) [main            ]              petsc.cpp:675   INFO| PETSc Krylov solver starting to solve system.\n",
      "2023-02-01 20:27:30.400 (  28.069s) [main            ]         TimeLogger.cpp:28    INFO| Elapsed wall, usr, sys time: 0.475994, 0.410000, 0.070000 (PETSc Krylov solver)\n",
      "2023-02-01 20:27:30.637 (  28.305s) [main            ]              petsc.cpp:675   INFO| PETSc Krylov solver starting to solve system.\n",
      "2023-02-01 20:27:31.226 (  28.894s) [main            ]         TimeLogger.cpp:28    INFO| Elapsed wall, usr, sys time: 0.589472, 0.540000, 0.060000 (PETSc Krylov solver)\n",
      "2023-02-01 20:27:31.241 (  28.909s) [main            ]       NewtonSolver.cpp:36    INFO| Newton iteration 2: r (abs) = 5.50693 (tol = 1e-08) r (rel) = 0.0653918(tol = 1e-08)\n",
      "2023-02-01 20:27:31.502 (  29.170s) [main            ]              petsc.cpp:675   INFO| PETSc Krylov solver starting to solve system.\n",
      "2023-02-01 20:27:31.957 (  29.625s) [main            ]         TimeLogger.cpp:28    INFO| Elapsed wall, usr, sys time: 0.455767, 0.410000, 0.050000 (PETSc Krylov solver)\n",
      "2023-02-01 20:27:31.970 (  29.638s) [main            ]       NewtonSolver.cpp:36    INFO| Newton iteration 3: r (abs) = 26.2489 (tol = 1e-08) r (rel) = 0.311692(tol = 1e-08)\n",
      "2023-02-01 20:27:32.195 (  29.864s) [main            ]              petsc.cpp:675   INFO| PETSc Krylov solver starting to solve system.\n",
      "2023-02-01 20:27:32.613 (  30.281s) [main            ]         TimeLogger.cpp:28    INFO| Elapsed wall, usr, sys time: 0.417149, 0.380000, 0.040000 (PETSc Krylov solver)\n",
      "2023-02-01 20:27:32.624 (  30.292s) [main            ]       NewtonSolver.cpp:36    INFO| Newton iteration 4: r (abs) = 2.30927 (tol = 1e-08) r (rel) = 0.0274213(tol = 1e-08)\n",
      "2023-02-01 20:27:32.834 (  30.502s) [main            ]              petsc.cpp:675   INFO| PETSc Krylov solver starting to solve system.\n",
      "2023-02-01 20:27:33.357 (  31.025s) [main            ]         TimeLogger.cpp:28    INFO| Elapsed wall, usr, sys time: 0.522718, 0.460000, 0.060000 (PETSc Krylov solver)\n",
      "2023-02-01 20:27:33.369 (  31.037s) [main            ]       NewtonSolver.cpp:36    INFO| Newton iteration 5: r (abs) = 14.0562 (tol = 1e-08) r (rel) = 0.16691(tol = 1e-08)\n",
      "2023-02-01 20:27:33.588 (  31.257s) [main            ]              petsc.cpp:675   INFO| PETSc Krylov solver starting to solve system.\n",
      "2023-02-01 20:27:34.013 (  31.681s) [main            ]         TimeLogger.cpp:28    INFO| Elapsed wall, usr, sys time: 0.424429, 0.370000, 0.060000 (PETSc Krylov solver)\n",
      "2023-02-01 20:27:34.025 (  31.693s) [main            ]       NewtonSolver.cpp:36    INFO| Newton iteration 6: r (abs) = 0.222774 (tol = 1e-08) r (rel) = 0.00264532(tol = 1e-08)\n",
      "2023-02-01 20:27:34.257 (  31.925s) [main            ]              petsc.cpp:675   INFO| PETSc Krylov solver starting to solve system.\n",
      "2023-02-01 20:27:34.793 (  32.461s) [main            ]         TimeLogger.cpp:28    INFO| Elapsed wall, usr, sys time: 0.535596, 0.460000, 0.070000 (PETSc Krylov solver)\n",
      "2023-02-01 20:27:34.803 (  32.471s) [main            ]       NewtonSolver.cpp:36    INFO| Newton iteration 7: r (abs) = 0.286671 (tol = 1e-08) r (rel) = 0.00340406(tol = 1e-08)\n",
      "2023-02-01 20:27:35.020 (  32.688s) [main            ]              petsc.cpp:675   INFO| PETSc Krylov solver starting to solve system.\n",
      "2023-02-01 20:27:35.496 (  33.164s) [main            ]         TimeLogger.cpp:28    INFO| Elapsed wall, usr, sys time: 0.475934, 0.420000, 0.060000 (PETSc Krylov solver)\n",
      "2023-02-01 20:27:35.508 (  33.177s) [main            ]       NewtonSolver.cpp:36    INFO| Newton iteration 8: r (abs) = 0.000321869 (tol = 1e-08) r (rel) = 3.82203e-06(tol = 1e-08)\n",
      "2023-02-01 20:27:35.752 (  33.421s) [main            ]              petsc.cpp:675   INFO| PETSc Krylov solver starting to solve system.\n",
      "2023-02-01 20:27:36.239 (  33.907s) [main            ]         TimeLogger.cpp:28    INFO| Elapsed wall, usr, sys time: 0.486126, 0.450000, 0.040000 (PETSc Krylov solver)\n",
      "2023-02-01 20:27:36.249 (  33.917s) [main            ]       NewtonSolver.cpp:36    INFO| Newton iteration 9: r (abs) = 2.63797e-07 (tol = 1e-08) r (rel) = 3.13244e-09(tol = 1e-08)\n",
      "2023-02-01 20:27:36.249 (  33.917s) [main            ]       NewtonSolver.cpp:255   INFO| Newton solver finished in 9 iterations and 9 linear solver iterations.\n"
     ]
    },
    {
     "name": "stdout",
     "output_type": "stream",
     "text": [
      "Time step 4, Number of iterations 9, Load [ 0.  0. -6.]\n"
     ]
    },
    {
     "name": "stderr",
     "output_type": "stream",
     "text": [
      "2023-02-01 20:27:36.671 (  34.339s) [main            ]              petsc.cpp:675   INFO| PETSc Krylov solver starting to solve system.\n",
      "2023-02-01 20:27:37.173 (  34.841s) [main            ]         TimeLogger.cpp:28    INFO| Elapsed wall, usr, sys time: 0.502106, 0.470000, 0.040000 (PETSc Krylov solver)\n",
      "2023-02-01 20:27:37.441 (  35.109s) [main            ]              petsc.cpp:675   INFO| PETSc Krylov solver starting to solve system.\n",
      "2023-02-01 20:27:37.988 (  35.656s) [main            ]         TimeLogger.cpp:28    INFO| Elapsed wall, usr, sys time: 0.547502, 0.490000, 0.060000 (PETSc Krylov solver)\n",
      "2023-02-01 20:27:38.002 (  35.670s) [main            ]       NewtonSolver.cpp:36    INFO| Newton iteration 2: r (abs) = 3.19462 (tol = 1e-08) r (rel) = 0.0496479(tol = 1e-08)\n",
      "2023-02-01 20:27:38.236 (  35.904s) [main            ]              petsc.cpp:675   INFO| PETSc Krylov solver starting to solve system.\n",
      "2023-02-01 20:27:38.721 (  36.389s) [main            ]         TimeLogger.cpp:28    INFO| Elapsed wall, usr, sys time: 0.485636, 0.440000, 0.060000 (PETSc Krylov solver)\n",
      "2023-02-01 20:27:38.735 (  36.403s) [main            ]       NewtonSolver.cpp:36    INFO| Newton iteration 3: r (abs) = 7.71429 (tol = 1e-08) r (rel) = 0.119888(tol = 1e-08)\n",
      "2023-02-01 20:27:38.995 (  36.664s) [main            ]              petsc.cpp:675   INFO| PETSc Krylov solver starting to solve system.\n",
      "2023-02-01 20:27:39.462 (  37.130s) [main            ]         TimeLogger.cpp:28    INFO| Elapsed wall, usr, sys time: 0.466661, 0.430000, 0.040000 (PETSc Krylov solver)\n",
      "2023-02-01 20:27:39.472 (  37.140s) [main            ]       NewtonSolver.cpp:36    INFO| Newton iteration 4: r (abs) = 0.850873 (tol = 1e-08) r (rel) = 0.0132235(tol = 1e-08)\n",
      "2023-02-01 20:27:39.683 (  37.351s) [main            ]              petsc.cpp:675   INFO| PETSc Krylov solver starting to solve system.\n",
      "2023-02-01 20:27:40.202 (  37.870s) [main            ]         TimeLogger.cpp:28    INFO| Elapsed wall, usr, sys time: 0.518658, 0.460000, 0.060000 (PETSc Krylov solver)\n",
      "2023-02-01 20:27:40.218 (  37.886s) [main            ]       NewtonSolver.cpp:36    INFO| Newton iteration 5: r (abs) = 0.371434 (tol = 1e-08) r (rel) = 0.0057725(tol = 1e-08)\n",
      "2023-02-01 20:27:40.464 (  38.133s) [main            ]              petsc.cpp:675   INFO| PETSc Krylov solver starting to solve system.\n",
      "2023-02-01 20:27:41.001 (  38.669s) [main            ]         TimeLogger.cpp:28    INFO| Elapsed wall, usr, sys time: 0.536297, 0.490000, 0.050000 (PETSc Krylov solver)\n",
      "2023-02-01 20:27:41.011 (  38.679s) [main            ]       NewtonSolver.cpp:36    INFO| Newton iteration 6: r (abs) = 0.00215066 (tol = 1e-08) r (rel) = 3.34236e-05(tol = 1e-08)\n",
      "2023-02-01 20:27:41.255 (  38.923s) [main            ]              petsc.cpp:675   INFO| PETSc Krylov solver starting to solve system.\n",
      "2023-02-01 20:27:41.740 (  39.408s) [main            ]         TimeLogger.cpp:28    INFO| Elapsed wall, usr, sys time: 0.484536, 0.440000, 0.050000 (PETSc Krylov solver)\n",
      "2023-02-01 20:27:41.750 (  39.418s) [main            ]       NewtonSolver.cpp:36    INFO| Newton iteration 7: r (abs) = 2.54607e-06 (tol = 1e-08) r (rel) = 3.95687e-08(tol = 1e-08)\n",
      "2023-02-01 20:27:41.959 (  39.627s) [main            ]              petsc.cpp:675   INFO| PETSc Krylov solver starting to solve system.\n",
      "2023-02-01 20:27:42.437 (  40.105s) [main            ]         TimeLogger.cpp:28    INFO| Elapsed wall, usr, sys time: 0.477469, 0.420000, 0.060000 (PETSc Krylov solver)\n",
      "2023-02-01 20:27:42.450 (  40.118s) [main            ]       NewtonSolver.cpp:36    INFO| Newton iteration 8: r (abs) = 2.62506e-13 (tol = 1e-08) r (rel) = 4.07963e-15(tol = 1e-08)\n",
      "2023-02-01 20:27:42.450 (  40.118s) [main            ]       NewtonSolver.cpp:255   INFO| Newton solver finished in 8 iterations and 8 linear solver iterations.\n"
     ]
    },
    {
     "name": "stdout",
     "output_type": "stream",
     "text": [
      "Time step 5, Number of iterations 8, Load [ 0.   0.  -7.5]\n"
     ]
    },
    {
     "name": "stderr",
     "output_type": "stream",
     "text": [
      "2023-02-01 20:27:42.854 (  40.522s) [main            ]              petsc.cpp:675   INFO| PETSc Krylov solver starting to solve system.\n",
      "2023-02-01 20:27:43.316 (  40.984s) [main            ]         TimeLogger.cpp:28    INFO| Elapsed wall, usr, sys time: 0.462044, 0.430000, 0.040000 (PETSc Krylov solver)\n",
      "2023-02-01 20:27:43.611 (  41.279s) [main            ]              petsc.cpp:675   INFO| PETSc Krylov solver starting to solve system.\n",
      "2023-02-01 20:27:44.066 (  41.734s) [main            ]         TimeLogger.cpp:28    INFO| Elapsed wall, usr, sys time: 0.454664, 0.410000, 0.040000 (PETSc Krylov solver)\n",
      "2023-02-01 20:27:44.076 (  41.744s) [main            ]       NewtonSolver.cpp:36    INFO| Newton iteration 2: r (abs) = 2.00649 (tol = 1e-08) r (rel) = 0.0395622(tol = 1e-08)\n",
      "2023-02-01 20:27:44.329 (  41.997s) [main            ]              petsc.cpp:675   INFO| PETSc Krylov solver starting to solve system.\n",
      "2023-02-01 20:27:44.787 (  42.455s) [main            ]         TimeLogger.cpp:28    INFO| Elapsed wall, usr, sys time: 0.458253, 0.420000, 0.050000 (PETSc Krylov solver)\n",
      "2023-02-01 20:27:44.798 (  42.466s) [main            ]       NewtonSolver.cpp:36    INFO| Newton iteration 3: r (abs) = 4.60977 (tol = 1e-08) r (rel) = 0.0908914(tol = 1e-08)\n",
      "2023-02-01 20:27:45.039 (  42.707s) [main            ]              petsc.cpp:675   INFO| PETSc Krylov solver starting to solve system.\n",
      "2023-02-01 20:27:45.623 (  43.291s) [main            ]         TimeLogger.cpp:28    INFO| Elapsed wall, usr, sys time: 0.583777, 0.530000, 0.060000 (PETSc Krylov solver)\n",
      "2023-02-01 20:27:45.634 (  43.302s) [main            ]       NewtonSolver.cpp:36    INFO| Newton iteration 4: r (abs) = 0.185372 (tol = 1e-08) r (rel) = 0.00365501(tol = 1e-08)\n",
      "2023-02-01 20:27:45.866 (  43.534s) [main            ]              petsc.cpp:675   INFO| PETSc Krylov solver starting to solve system.\n",
      "2023-02-01 20:27:46.308 (  43.976s) [main            ]         TimeLogger.cpp:28    INFO| Elapsed wall, usr, sys time: 0.441358, 0.400000, 0.040000 (PETSc Krylov solver)\n",
      "2023-02-01 20:27:46.321 (  43.989s) [main            ]       NewtonSolver.cpp:36    INFO| Newton iteration 5: r (abs) = 0.024688 (tol = 1e-08) r (rel) = 0.000486777(tol = 1e-08)\n",
      "2023-02-01 20:27:46.553 (  44.221s) [main            ]              petsc.cpp:675   INFO| PETSc Krylov solver starting to solve system.\n",
      "2023-02-01 20:27:46.991 (  44.659s) [main            ]         TimeLogger.cpp:28    INFO| Elapsed wall, usr, sys time: 0.438613, 0.410000, 0.030000 (PETSc Krylov solver)\n",
      "2023-02-01 20:27:47.002 (  44.670s) [main            ]       NewtonSolver.cpp:36    INFO| Newton iteration 6: r (abs) = 5.69255e-06 (tol = 1e-08) r (rel) = 1.12241e-07(tol = 1e-08)\n",
      "2023-02-01 20:27:47.234 (  44.902s) [main            ]              petsc.cpp:675   INFO| PETSc Krylov solver starting to solve system.\n",
      "2023-02-01 20:27:47.694 (  45.362s) [main            ]         TimeLogger.cpp:28    INFO| Elapsed wall, usr, sys time: 0.459770, 0.420000, 0.040000 (PETSc Krylov solver)\n",
      "2023-02-01 20:27:47.710 (  45.378s) [main            ]       NewtonSolver.cpp:36    INFO| Newton iteration 7: r (abs) = 2.61602e-11 (tol = 1e-08) r (rel) = 5.15804e-13(tol = 1e-08)\n",
      "2023-02-01 20:27:47.710 (  45.378s) [main            ]       NewtonSolver.cpp:255   INFO| Newton solver finished in 7 iterations and 7 linear solver iterations.\n"
     ]
    },
    {
     "name": "stdout",
     "output_type": "stream",
     "text": [
      "Time step 6, Number of iterations 7, Load [ 0.  0. -9.]\n"
     ]
    },
    {
     "name": "stderr",
     "output_type": "stream",
     "text": [
      "2023-02-01 20:27:48.113 (  45.781s) [main            ]              petsc.cpp:675   INFO| PETSc Krylov solver starting to solve system.\n",
      "2023-02-01 20:27:48.600 (  46.268s) [main            ]         TimeLogger.cpp:28    INFO| Elapsed wall, usr, sys time: 0.486601, 0.450000, 0.030000 (PETSc Krylov solver)\n",
      "2023-02-01 20:27:48.833 (  46.502s) [main            ]              petsc.cpp:675   INFO| PETSc Krylov solver starting to solve system.\n",
      "2023-02-01 20:27:49.336 (  47.004s) [main            ]         TimeLogger.cpp:28    INFO| Elapsed wall, usr, sys time: 0.502343, 0.460000, 0.040000 (PETSc Krylov solver)\n",
      "2023-02-01 20:27:49.347 (  47.016s) [main            ]       NewtonSolver.cpp:36    INFO| Newton iteration 2: r (abs) = 1.38506 (tol = 1e-08) r (rel) = 0.0336622(tol = 1e-08)\n",
      "2023-02-01 20:27:49.588 (  47.256s) [main            ]              petsc.cpp:675   INFO| PETSc Krylov solver starting to solve system.\n",
      "2023-02-01 20:27:50.077 (  47.745s) [main            ]         TimeLogger.cpp:28    INFO| Elapsed wall, usr, sys time: 0.489037, 0.410000, 0.080000 (PETSc Krylov solver)\n",
      "2023-02-01 20:27:50.091 (  47.759s) [main            ]       NewtonSolver.cpp:36    INFO| Newton iteration 3: r (abs) = 3.03739 (tol = 1e-08) r (rel) = 0.07382(tol = 1e-08)\n",
      "2023-02-01 20:27:50.358 (  48.026s) [main            ]              petsc.cpp:675   INFO| PETSc Krylov solver starting to solve system.\n",
      "2023-02-01 20:27:50.855 (  48.523s) [main            ]         TimeLogger.cpp:28    INFO| Elapsed wall, usr, sys time: 0.496558, 0.450000, 0.050000 (PETSc Krylov solver)\n",
      "2023-02-01 20:27:50.865 (  48.533s) [main            ]       NewtonSolver.cpp:36    INFO| Newton iteration 4: r (abs) = 0.0412386 (tol = 1e-08) r (rel) = 0.00100225(tol = 1e-08)\n",
      "2023-02-01 20:27:51.071 (  48.740s) [main            ]              petsc.cpp:675   INFO| PETSc Krylov solver starting to solve system.\n",
      "2023-02-01 20:27:51.559 (  49.227s) [main            ]         TimeLogger.cpp:28    INFO| Elapsed wall, usr, sys time: 0.487824, 0.430000, 0.050000 (PETSc Krylov solver)\n",
      "2023-02-01 20:27:51.575 (  49.244s) [main            ]       NewtonSolver.cpp:36    INFO| Newton iteration 5: r (abs) = 0.00205057 (tol = 1e-08) r (rel) = 4.98364e-05(tol = 1e-08)\n",
      "2023-02-01 20:27:51.805 (  49.474s) [main            ]              petsc.cpp:675   INFO| PETSc Krylov solver starting to solve system.\n",
      "2023-02-01 20:27:52.249 (  49.917s) [main            ]         TimeLogger.cpp:28    INFO| Elapsed wall, usr, sys time: 0.443326, 0.410000, 0.040000 (PETSc Krylov solver)\n",
      "2023-02-01 20:27:52.262 (  49.930s) [main            ]       NewtonSolver.cpp:36    INFO| Newton iteration 6: r (abs) = 1.78861e-08 (tol = 1e-08) r (rel) = 4.347e-10(tol = 1e-08)\n",
      "2023-02-01 20:27:52.262 (  49.930s) [main            ]       NewtonSolver.cpp:255   INFO| Newton solver finished in 6 iterations and 6 linear solver iterations.\n"
     ]
    },
    {
     "name": "stdout",
     "output_type": "stream",
     "text": [
      "Time step 7, Number of iterations 6, Load [  0.    0.  -10.5]\n"
     ]
    },
    {
     "name": "stderr",
     "output_type": "stream",
     "text": [
      "2023-02-01 20:27:52.656 (  50.324s) [main            ]              petsc.cpp:675   INFO| PETSc Krylov solver starting to solve system.\n",
      "2023-02-01 20:27:53.116 (  50.784s) [main            ]         TimeLogger.cpp:28    INFO| Elapsed wall, usr, sys time: 0.459796, 0.420000, 0.050000 (PETSc Krylov solver)\n",
      "2023-02-01 20:27:53.403 (  51.071s) [main            ]              petsc.cpp:675   INFO| PETSc Krylov solver starting to solve system.\n",
      "2023-02-01 20:27:53.875 (  51.543s) [main            ]         TimeLogger.cpp:28    INFO| Elapsed wall, usr, sys time: 0.472060, 0.440000, 0.030000 (PETSc Krylov solver)\n",
      "2023-02-01 20:27:53.889 (  51.557s) [main            ]       NewtonSolver.cpp:36    INFO| Newton iteration 2: r (abs) = 1.06336 (tol = 1e-08) r (rel) = 0.031085(tol = 1e-08)\n",
      "2023-02-01 20:27:54.139 (  51.807s) [main            ]              petsc.cpp:675   INFO| PETSc Krylov solver starting to solve system.\n",
      "2023-02-01 20:27:54.614 (  52.282s) [main            ]         TimeLogger.cpp:28    INFO| Elapsed wall, usr, sys time: 0.475246, 0.420000, 0.060000 (PETSc Krylov solver)\n",
      "2023-02-01 20:27:54.626 (  52.294s) [main            ]       NewtonSolver.cpp:36    INFO| Newton iteration 3: r (abs) = 2.0477 (tol = 1e-08) r (rel) = 0.0598598(tol = 1e-08)\n",
      "2023-02-01 20:27:54.872 (  52.540s) [main            ]              petsc.cpp:675   INFO| PETSc Krylov solver starting to solve system.\n",
      "2023-02-01 20:27:55.362 (  53.030s) [main            ]         TimeLogger.cpp:28    INFO| Elapsed wall, usr, sys time: 0.490287, 0.440000, 0.040000 (PETSc Krylov solver)\n",
      "2023-02-01 20:27:55.371 (  53.039s) [main            ]       NewtonSolver.cpp:36    INFO| Newton iteration 4: r (abs) = 0.00897719 (tol = 1e-08) r (rel) = 0.000262427(tol = 1e-08)\n",
      "2023-02-01 20:27:55.570 (  53.239s) [main            ]              petsc.cpp:675   INFO| PETSc Krylov solver starting to solve system.\n",
      "2023-02-01 20:27:56.004 (  53.672s) [main            ]         TimeLogger.cpp:28    INFO| Elapsed wall, usr, sys time: 0.433791, 0.410000, 0.030000 (PETSc Krylov solver)\n",
      "2023-02-01 20:27:56.014 (  53.683s) [main            ]       NewtonSolver.cpp:36    INFO| Newton iteration 5: r (abs) = 0.000167422 (tol = 1e-08) r (rel) = 4.89419e-06(tol = 1e-08)\n",
      "2023-02-01 20:27:56.206 (  53.875s) [main            ]              petsc.cpp:675   INFO| PETSc Krylov solver starting to solve system.\n",
      "2023-02-01 20:27:56.639 (  54.307s) [main            ]         TimeLogger.cpp:28    INFO| Elapsed wall, usr, sys time: 0.432433, 0.400000, 0.040000 (PETSc Krylov solver)\n",
      "2023-02-01 20:27:56.652 (  54.320s) [main            ]       NewtonSolver.cpp:36    INFO| Newton iteration 6: r (abs) = 3.25075e-11 (tol = 1e-08) r (rel) = 9.50282e-13(tol = 1e-08)\n",
      "2023-02-01 20:27:56.652 (  54.320s) [main            ]       NewtonSolver.cpp:255   INFO| Newton solver finished in 6 iterations and 6 linear solver iterations.\n"
     ]
    },
    {
     "name": "stdout",
     "output_type": "stream",
     "text": [
      "Time step 8, Number of iterations 6, Load [  0.   0. -12.]\n"
     ]
    },
    {
     "name": "stderr",
     "output_type": "stream",
     "text": [
      "2023-02-01 20:27:57.015 (  54.683s) [main            ]              petsc.cpp:675   INFO| PETSc Krylov solver starting to solve system.\n",
      "2023-02-01 20:27:57.430 (  55.098s) [main            ]         TimeLogger.cpp:28    INFO| Elapsed wall, usr, sys time: 0.414758, 0.360000, 0.060000 (PETSc Krylov solver)\n",
      "2023-02-01 20:27:57.667 (  55.335s) [main            ]              petsc.cpp:675   INFO| PETSc Krylov solver starting to solve system.\n",
      "2023-02-01 20:27:58.071 (  55.739s) [main            ]         TimeLogger.cpp:28    INFO| Elapsed wall, usr, sys time: 0.403685, 0.370000, 0.040000 (PETSc Krylov solver)\n",
      "2023-02-01 20:27:58.083 (  55.751s) [main            ]       NewtonSolver.cpp:36    INFO| Newton iteration 2: r (abs) = 0.898789 (tol = 1e-08) r (rel) = 0.0309666(tol = 1e-08)\n",
      "2023-02-01 20:27:58.307 (  55.975s) [main            ]              petsc.cpp:675   INFO| PETSc Krylov solver starting to solve system.\n",
      "2023-02-01 20:27:58.760 (  56.428s) [main            ]         TimeLogger.cpp:28    INFO| Elapsed wall, usr, sys time: 0.453274, 0.420000, 0.050000 (PETSc Krylov solver)\n",
      "2023-02-01 20:27:58.771 (  56.439s) [main            ]       NewtonSolver.cpp:36    INFO| Newton iteration 3: r (abs) = 1.38354 (tol = 1e-08) r (rel) = 0.0476679(tol = 1e-08)\n",
      "2023-02-01 20:27:59.014 (  56.682s) [main            ]              petsc.cpp:675   INFO| PETSc Krylov solver starting to solve system.\n",
      "2023-02-01 20:27:59.542 (  57.210s) [main            ]         TimeLogger.cpp:28    INFO| Elapsed wall, usr, sys time: 0.527852, 0.490000, 0.040000 (PETSc Krylov solver)\n",
      "2023-02-01 20:27:59.559 (  57.227s) [main            ]       NewtonSolver.cpp:36    INFO| Newton iteration 4: r (abs) = 0.00185096 (tol = 1e-08) r (rel) = 6.37724e-05(tol = 1e-08)\n",
      "2023-02-01 20:27:59.817 (  57.485s) [main            ]              petsc.cpp:675   INFO| PETSc Krylov solver starting to solve system.\n",
      "2023-02-01 20:28:00.327 (  57.995s) [main            ]         TimeLogger.cpp:28    INFO| Elapsed wall, usr, sys time: 0.509811, 0.470000, 0.050000 (PETSc Krylov solver)\n"
     ]
    },
    {
     "name": "stdout",
     "output_type": "stream",
     "text": [
      "Time step 9, Number of iterations 6, Load [  0.    0.  -13.5]\n"
     ]
    },
    {
     "name": "stderr",
     "output_type": "stream",
     "text": [
      "2023-02-01 20:28:00.342 (  58.010s) [main            ]       NewtonSolver.cpp:36    INFO| Newton iteration 5: r (abs) = 7.87183e-06 (tol = 1e-08) r (rel) = 2.71213e-07(tol = 1e-08)\n",
      "2023-02-01 20:28:00.592 (  58.260s) [main            ]              petsc.cpp:675   INFO| PETSc Krylov solver starting to solve system.\n",
      "2023-02-01 20:28:01.038 (  58.707s) [main            ]         TimeLogger.cpp:28    INFO| Elapsed wall, usr, sys time: 0.446748, 0.410000, 0.040000 (PETSc Krylov solver)\n",
      "2023-02-01 20:28:01.049 (  58.717s) [main            ]       NewtonSolver.cpp:36    INFO| Newton iteration 6: r (abs) = 2.81885e-13 (tol = 1e-08) r (rel) = 9.71198e-15(tol = 1e-08)\n",
      "2023-02-01 20:28:01.049 (  58.717s) [main            ]       NewtonSolver.cpp:255   INFO| Newton solver finished in 6 iterations and 6 linear solver iterations.\n"
     ]
    }
   ],
   "source": [
    "from dolfinx import log\n",
    "log.set_log_level(log.LogLevel.INFO)\n",
    "tval0 = -1.5\n",
    "for n in range(1, 10):\n",
    "    T.value[2] = n * tval0\n",
    "    num_its, converged = solver.solve(u)\n",
    "    assert(converged)\n",
    "    u.x.scatter_forward()\n",
    "    print(f\"Time step {n}, Number of iterations {num_its}, Load {T.value}\")\n",
    "    function_grid[\"u\"][:, :len(u)] = u.x.array.reshape(geometry.shape[0], len(u))\n",
    "    magnitude.interpolate(us)\n",
    "    warped.set_active_scalars(\"mag\")\n",
    "    warped_n = function_grid.warp_by_vector(factor=1)\n",
    "    plotter.update_coordinates(warped_n.points.copy(), render=False)\n",
    "    plotter.update_scalar_bar_range([0, 10])\n",
    "    plotter.update_scalars(magnitude.x.array)\n",
    "    plotter.write_frame()\n",
    "plotter.close()"
   ]
  },
  {
   "cell_type": "markdown",
   "id": "906ef59c-7e89-46e7-9222-9a6e925f4180",
   "metadata": {},
   "source": [
    "<img src=\"./deformation.gif\" alt=\"gif\" class=\"bg-primary mb-1\" width=\"800px\">"
   ]
  },
  {
   "cell_type": "code",
   "execution_count": null,
   "id": "706b21a2-3ba8-4cb7-af34-ce9370eaff16",
   "metadata": {},
   "outputs": [],
   "source": []
  }
 ],
 "metadata": {
  "jupytext": {
   "formats": "ipynb,py:light"
  },
  "kernelspec": {
   "display_name": "Python 3 (ipykernel)",
   "language": "python",
   "name": "python3"
  },
  "language_info": {
   "codemirror_mode": {
    "name": "ipython",
    "version": 3
   },
   "file_extension": ".py",
   "mimetype": "text/x-python",
   "name": "python",
   "nbconvert_exporter": "python",
   "pygments_lexer": "ipython3",
   "version": "3.10.6"
  }
 },
 "nbformat": 4,
 "nbformat_minor": 5
}
