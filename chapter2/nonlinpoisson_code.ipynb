{
 "cells": [
  {
   "cell_type": "markdown",
   "metadata": {},
   "source": [
    "# Implementation\n",
    "\n",
    "Author: Jørgen S. Dokken\n",
    "\n",
    "## Test problem\n",
    "To solve a test problem, we need to choose the right hand side $f$ and the coefficient $q(u)$ and the boundary $u_D$. Previously, we have worked with manufactured solutions that can  be reproduced without approximation errors. This is more difficult in non-linear porblems, and the algebra is more tedious. Howeve, we will utilize UFLs differentiation capabilities to obtain a manufactured solution. \n",
    "\n",
    "For this problem, we will choose $q(u) = 1 + u^2$ and define a two dimensional manufactured solution that is linear in $x$ and $y$:"
   ]
  },
  {
   "cell_type": "code",
   "execution_count": 1,
   "metadata": {},
   "outputs": [],
   "source": [
    "import ufl\n",
    "import numpy\n",
    "\n",
    "from mpi4py import MPI\n",
    "from petsc4py import PETSc\n",
    "\n",
    "from dolfinx import mesh, fem, io, nls, log\n",
    "\n",
    "def q(u):\n",
    "    return 1 + u**2\n",
    "\n",
    "domain = mesh.create_unit_square(MPI.COMM_WORLD, 10, 10)\n",
    "x = ufl.SpatialCoordinate(domain)\n",
    "u_ufl = 1 + x[0] + 2*x[1]\n",
    "f = - ufl.div(q(u_ufl)*ufl.grad(u_ufl))"
   ]
  },
  {
   "cell_type": "markdown",
   "metadata": {},
   "source": [
    "Note that since `x` is a 2D vector, the first component (index 0) resemble $x$, while the second component (index 1) resemble $y$. The resulting function `f` can be directly used in variational formulations in DOLFINx.\n",
    "\n",
    "As we now have defined our source term and exact solution, we can create the appropriate function space and boundary conditions.\n",
    "Note that as we have already defined the exact solution, we only have to convert it to a python function that can be evaluated in the interpolation function. We do this by employing the Python `eval` and `lambda`-functions. "
   ]
  },
  {
   "cell_type": "code",
   "execution_count": 2,
   "metadata": {},
   "outputs": [],
   "source": [
    "V = fem.FunctionSpace(domain, (\"CG\", 1))\n",
    "u_exact = lambda x: eval(str(u_ufl))\n",
    "u_D = fem.Function(V)\n",
    "u_D.interpolate(u_exact)\n",
    "fdim = domain.topology.dim - 1\n",
    "boundary_facets = mesh.locate_entities_boundary(domain, fdim, lambda x: numpy.full(x.shape[1], True, dtype=bool))\n",
    "bc = fem.dirichletbc(u_D, fem.locate_dofs_topological(V, fdim, boundary_facets))"
   ]
  },
  {
   "cell_type": "markdown",
   "metadata": {},
   "source": [
    "We are now ready to define the variational formulation. Note that as the problem is non-linear, we have replace the `TrialFunction` with a `Function`, which serves as the unknown of our problem."
   ]
  },
  {
   "cell_type": "code",
   "execution_count": 3,
   "metadata": {},
   "outputs": [],
   "source": [
    "uh = fem.Function(V)\n",
    "v = ufl.TestFunction(V)\n",
    "F = q(uh)*ufl.dot(ufl.grad(uh), ufl.grad(v))*ufl.dx - f*v*ufl.dx"
   ]
  },
  {
   "cell_type": "markdown",
   "metadata": {},
   "source": [
    "## Newton's method\n",
    "The next step is to define the non-linear problem. As it is non-linear we will use [Newtons method](https://en.wikipedia.org/wiki/Newton%27s_method).\n",
    "For details about how to implement a Newton solver, see [Custom Newton solvers](../chapter4/newton-solver.ipynb).\n",
    "Newton's method requires methods for evaluating the residual `F` (including application of boundary conditions), as well as a method for computing the Jacobian matrix. DOLFINx provides the function `NonlinearProblem` that implements these methods. In addition to the boundary conditions, you can supply the variational form for the Jacobian (computed if not supplied), and form and jit parameters, see the [JIT parameters section](../chapter4/compiler_parameters.ipynb)."
   ]
  },
  {
   "cell_type": "code",
   "execution_count": 4,
   "metadata": {},
   "outputs": [
    {
     "name": "stderr",
     "output_type": "stream",
     "text": [
      "INFO:root:running build_ext\n",
      "INFO:root:building 'libffcx_forms_e21a36b07df48eb34d639138da086fb9cc6978ac' extension\n",
      "INFO:root:x86_64-linux-gnu-gcc -Wno-unused-result -Wsign-compare -DNDEBUG -g -fwrapv -O2 -Wall -g -fstack-protector-strong -Wformat -Werror=format-security -g -fwrapv -O2 -fPIC -I/usr/local/lib/python3.10/dist-packages/ffcx/codegeneration -I/usr/include/python3.10 -c libffcx_forms_e21a36b07df48eb34d639138da086fb9cc6978ac.c -o ./libffcx_forms_e21a36b07df48eb34d639138da086fb9cc6978ac.o -O2\n",
      "INFO:root:x86_64-linux-gnu-gcc -shared -Wl,-O1 -Wl,-Bsymbolic-functions -Wl,-Bsymbolic-functions -g -fwrapv -O2 ./libffcx_forms_e21a36b07df48eb34d639138da086fb9cc6978ac.o -L/usr/lib/x86_64-linux-gnu -o ./libffcx_forms_e21a36b07df48eb34d639138da086fb9cc6978ac.cpython-310-x86_64-linux-gnu.so\n",
      "INFO:root:running build_ext\n",
      "INFO:root:building 'libffcx_forms_8b10bc809c3ffc6bb073fe5f90753a9dd00539d8' extension\n",
      "INFO:root:x86_64-linux-gnu-gcc -Wno-unused-result -Wsign-compare -DNDEBUG -g -fwrapv -O2 -Wall -g -fstack-protector-strong -Wformat -Werror=format-security -g -fwrapv -O2 -fPIC -I/usr/local/lib/python3.10/dist-packages/ffcx/codegeneration -I/usr/include/python3.10 -c libffcx_forms_8b10bc809c3ffc6bb073fe5f90753a9dd00539d8.c -o ./libffcx_forms_8b10bc809c3ffc6bb073fe5f90753a9dd00539d8.o -O2\n",
      "INFO:root:x86_64-linux-gnu-gcc -shared -Wl,-O1 -Wl,-Bsymbolic-functions -Wl,-Bsymbolic-functions -g -fwrapv -O2 ./libffcx_forms_8b10bc809c3ffc6bb073fe5f90753a9dd00539d8.o -L/usr/lib/x86_64-linux-gnu -o ./libffcx_forms_8b10bc809c3ffc6bb073fe5f90753a9dd00539d8.cpython-310-x86_64-linux-gnu.so\n"
     ]
    }
   ],
   "source": [
    "problem = fem.petsc.NonlinearProblem(F, uh, bcs=[bc])"
   ]
  },
  {
   "cell_type": "markdown",
   "metadata": {},
   "source": [
    "Next, we use the dolfinx Newton solver. We can set the convergence criterions for the solver by changing the absolute tolerance (`atol`), relative tolerance (`rtol`) or the convergence criterion (`residual` or `incremental`)."
   ]
  },
  {
   "cell_type": "code",
   "execution_count": 5,
   "metadata": {},
   "outputs": [],
   "source": [
    "solver = nls.petsc.NewtonSolver(MPI.COMM_WORLD, problem)\n",
    "solver.convergence_criterion = \"incremental\"\n",
    "solver.rtol = 1e-6\n",
    "solver.report = True"
   ]
  },
  {
   "cell_type": "markdown",
   "metadata": {},
   "source": [
    "We can modify the linear solver in each Newton iteration by accessing the underlying `PETSc` object."
   ]
  },
  {
   "cell_type": "code",
   "execution_count": 6,
   "metadata": {},
   "outputs": [],
   "source": [
    "ksp = solver.krylov_solver\n",
    "opts = PETSc.Options()\n",
    "option_prefix = ksp.getOptionsPrefix()\n",
    "opts[f\"{option_prefix}ksp_type\"] = \"cg\"\n",
    "opts[f\"{option_prefix}pc_type\"] = \"gamg\"\n",
    "opts[f\"{option_prefix}pc_factor_mat_solver_type\"] = \"mumps\"\n",
    "ksp.setFromOptions()"
   ]
  },
  {
   "cell_type": "markdown",
   "metadata": {},
   "source": [
    "We are now ready to solve the non-linear problem. We assert that the solver has converged and print the number of iterations."
   ]
  },
  {
   "cell_type": "code",
   "execution_count": 7,
   "metadata": {},
   "outputs": [
    {
     "name": "stdout",
     "output_type": "stream",
     "text": [
      "Number of interations: 8\n"
     ]
    },
    {
     "name": "stderr",
     "output_type": "stream",
     "text": [
      "2023-02-01 20:27:40.586 (   1.309s) [main            ]              petsc.cpp:675   INFO| PETSc Krylov solver starting to solve system.\n",
      "2023-02-01 20:27:40.589 (   1.312s) [main            ]         TimeLogger.cpp:28    INFO| Elapsed wall, usr, sys time: 0.002802, 0.000000, 0.000000 (PETSc Krylov solver)\n",
      "2023-02-01 20:27:40.590 (   1.312s) [main            ]              petsc.cpp:675   INFO| PETSc Krylov solver starting to solve system.\n",
      "2023-02-01 20:27:40.591 (   1.314s) [main            ]         TimeLogger.cpp:28    INFO| Elapsed wall, usr, sys time: 0.001427, 0.000000, 0.000000 (PETSc Krylov solver)\n"
     ]
    }
   ],
   "source": [
    "log.set_log_level(log.LogLevel.INFO)\n",
    "n, converged = solver.solve(uh)\n",
    "assert(converged)\n",
    "print(f\"Number of interations: {n:d}\")"
   ]
  },
  {
   "cell_type": "markdown",
   "metadata": {},
   "source": [
    "We observe that the solver converges after $8$ iterations.\n",
    "If we think of the problem in terms of finite differences on a uniform mesh, $\\mathcal{P}_1$ elements mimic standard second-order finite differences, which compute the derivative of a linear or quadratic funtion exactly. Here $\\nabla u$ is a constant vector, which is multiplied by $1+u^2$, which is a second order polynomial in $x$ and $y$, which the finite difference operator would compute exactly. We can therefore, even with $\\mathcal{P}_1$ elements, expect the manufactured solution to be reproduced by the numerical method. However, if we had chosen a nonlinearity, such as $1+u^4$, this would not be the case, and we would need to verify convergence rates."
   ]
  },
  {
   "cell_type": "code",
   "execution_count": 8,
   "metadata": {
    "lines_to_next_cell": 0
   },
   "outputs": [
    {
     "name": "stdout",
     "output_type": "stream",
     "text": [
      "L2-error: 3.11e-15\n",
      "Error_max: 8.44e-15\n"
     ]
    },
    {
     "name": "stderr",
     "output_type": "stream",
     "text": [
      "2023-02-01 20:27:40.592 (   1.315s) [main            ]       NewtonSolver.cpp:36    INFO| Newton iteration 2: r (abs) = 20.3795 (tol = 1e-10) r (rel) = 0.922547(tol = 1e-06)\n",
      "2023-02-01 20:27:40.593 (   1.315s) [main            ]              petsc.cpp:675   INFO| PETSc Krylov solver starting to solve system.\n",
      "2023-02-01 20:27:40.594 (   1.317s) [main            ]         TimeLogger.cpp:28    INFO| Elapsed wall, usr, sys time: 0.001458, 0.010000, 0.000000 (PETSc Krylov solver)\n",
      "2023-02-01 20:27:40.594 (   1.317s) [main            ]       NewtonSolver.cpp:36    INFO| Newton iteration 3: r (abs) = 6.95284 (tol = 1e-10) r (rel) = 0.314744(tol = 1e-06)\n",
      "2023-02-01 20:27:40.594 (   1.317s) [main            ]              petsc.cpp:675   INFO| PETSc Krylov solver starting to solve system.\n",
      "2023-02-01 20:27:40.596 (   1.319s) [main            ]         TimeLogger.cpp:28    INFO| Elapsed wall, usr, sys time: 0.001311, 0.000000, 0.000000 (PETSc Krylov solver)\n",
      "2023-02-01 20:27:40.596 (   1.319s) [main            ]       NewtonSolver.cpp:36    INFO| Newton iteration 4: r (abs) = 2.93579 (tol = 1e-10) r (rel) = 0.132899(tol = 1e-06)\n",
      "2023-02-01 20:27:40.596 (   1.319s) [main            ]              petsc.cpp:675   INFO| PETSc Krylov solver starting to solve system.\n",
      "2023-02-01 20:27:40.598 (   1.321s) [main            ]         TimeLogger.cpp:28    INFO| Elapsed wall, usr, sys time: 0.001332, 0.000000, 0.000000 (PETSc Krylov solver)\n",
      "2023-02-01 20:27:40.598 (   1.321s) [main            ]       NewtonSolver.cpp:36    INFO| Newton iteration 5: r (abs) = 0.700635 (tol = 1e-10) r (rel) = 0.0317166(tol = 1e-06)\n",
      "2023-02-01 20:27:40.599 (   1.322s) [main            ]              petsc.cpp:675   INFO| PETSc Krylov solver starting to solve system.\n",
      "2023-02-01 20:27:40.600 (   1.323s) [main            ]         TimeLogger.cpp:28    INFO| Elapsed wall, usr, sys time: 0.001030, 0.000000, 0.000000 (PETSc Krylov solver)\n",
      "2023-02-01 20:27:40.600 (   1.323s) [main            ]       NewtonSolver.cpp:36    INFO| Newton iteration 6: r (abs) = 0.0490873 (tol = 1e-10) r (rel) = 0.0022221(tol = 1e-06)\n",
      "2023-02-01 20:27:40.600 (   1.323s) [main            ]              petsc.cpp:675   INFO| PETSc Krylov solver starting to solve system.\n",
      "2023-02-01 20:27:40.601 (   1.324s) [main            ]         TimeLogger.cpp:28    INFO| Elapsed wall, usr, sys time: 0.001104, 0.000000, 0.000000 (PETSc Krylov solver)\n",
      "2023-02-01 20:27:40.602 (   1.325s) [main            ]       NewtonSolver.cpp:36    INFO| Newton iteration 7: r (abs) = 0.00029971 (tol = 1e-10) r (rel) = 1.35674e-05(tol = 1e-06)\n",
      "2023-02-01 20:27:40.602 (   1.325s) [main            ]              petsc.cpp:675   INFO| PETSc Krylov solver starting to solve system.\n",
      "2023-02-01 20:27:40.603 (   1.326s) [main            ]         TimeLogger.cpp:28    INFO| Elapsed wall, usr, sys time: 0.000837, 0.010000, 0.000000 (PETSc Krylov solver)\n",
      "2023-02-01 20:27:40.603 (   1.326s) [main            ]       NewtonSolver.cpp:36    INFO| Newton iteration 8: r (abs) = 1.51622e-08 (tol = 1e-10) r (rel) = 6.86368e-10(tol = 1e-06)\n",
      "2023-02-01 20:27:40.603 (   1.326s) [main            ]       NewtonSolver.cpp:255   INFO| Newton solver finished in 8 iterations and 90 linear solver iterations.\n",
      "2023-02-01 20:27:40.626 (   1.349s) [main            ]         TimeLogger.cpp:28    INFO| Elapsed wall, usr, sys time: 0.000030, 0.000000, 0.000000 (Init dofmap from element dofmap)\n",
      "2023-02-01 20:27:40.626 (   1.349s) [main            ]         TimeLogger.cpp:28    INFO| Elapsed wall, usr, sys time: 0.000008, 0.000000, 0.000000 (Compute dof reordering map)\n",
      "2023-02-01 20:27:40.626 (   1.349s) [main            ]                MPI.cpp:165   INFO| Computing communication graph edges (using NBX algorithm). Number of input edges: 0\n",
      "2023-02-01 20:27:40.626 (   1.349s) [main            ]                MPI.cpp:236   INFO| Finished graph edge discovery using NBX algorithm. Number of discovered edges 0\n",
      "2023-02-01 20:27:40.627 (   1.349s) [main            ]                MPI.cpp:165   INFO| Computing communication graph edges (using NBX algorithm). Number of input edges: 0\n",
      "2023-02-01 20:27:40.627 (   1.349s) [main            ]                MPI.cpp:236   INFO| Finished graph edge discovery using NBX algorithm. Number of discovered edges 0\n",
      "2023-02-01 20:27:40.627 (   1.349s) [main            ]                MPI.cpp:165   INFO| Computing communication graph edges (using NBX algorithm). Number of input edges: 0\n",
      "2023-02-01 20:27:40.627 (   1.349s) [main            ]                MPI.cpp:236   INFO| Finished graph edge discovery using NBX algorithm. Number of discovered edges 0\n",
      "2023-02-01 20:27:40.627 (   1.350s) [main            ]                MPI.cpp:165   INFO| Computing communication graph edges (using NBX algorithm). Number of input edges: 0\n",
      "2023-02-01 20:27:40.627 (   1.350s) [main            ]                MPI.cpp:236   INFO| Finished graph edge discovery using NBX algorithm. Number of discovered edges 0\n",
      "2023-02-01 20:27:40.627 (   1.350s) [main            ]         TimeLogger.cpp:28    INFO| Elapsed wall, usr, sys time: 0.000334, 0.000000, 0.000000 (Build dofmap data)\n"
     ]
    }
   ],
   "source": [
    "# Compute L2 error and error at nodes\n",
    "V_ex = fem.FunctionSpace(domain, (\"CG\", 2))\n",
    "u_ex = fem.Function(V_ex)\n",
    "u_ex.interpolate(u_exact)\n",
    "error_local = fem.assemble_scalar(fem.form((uh - u_ex)**2 * ufl.dx))\n",
    "error_L2 = numpy.sqrt(domain.comm.allreduce(error_local, op=MPI.SUM))\n",
    "if domain.comm.rank == 0:\n",
    "    print(f\"L2-error: {error_L2:.2e}\")\n",
    "\n",
    "# Compute values at mesh vertices\n",
    "error_max = domain.comm.allreduce(numpy.max(numpy.abs(uh.x.array -u_D.x.array)), op=MPI.MAX)\n",
    "if domain.comm.rank == 0:\n",
    "    print(f\"Error_max: {error_max:.2e}\")"
   ]
  },
  {
   "cell_type": "code",
   "execution_count": null,
   "metadata": {},
   "outputs": [],
   "source": []
  }
 ],
 "metadata": {
  "jupytext": {
   "formats": "ipynb,py:light"
  },
  "kernelspec": {
   "display_name": "Python 3 (ipykernel)",
   "language": "python",
   "name": "python3"
  },
  "language_info": {
   "codemirror_mode": {
    "name": "ipython",
    "version": 3
   },
   "file_extension": ".py",
   "mimetype": "text/x-python",
   "name": "python",
   "nbconvert_exporter": "python",
   "pygments_lexer": "ipython3",
   "version": "3.10.6"
  }
 },
 "nbformat": 4,
 "nbformat_minor": 4
}
