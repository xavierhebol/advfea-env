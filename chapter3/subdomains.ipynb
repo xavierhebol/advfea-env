{
 "cells": [
  {
   "cell_type": "markdown",
   "metadata": {},
   "source": [
    "# Defining subdomains for different materials\n",
    "Author: Jørgen S. Dokken\n",
    "\n",
    "Solving PDEs in domains made up of different materials is frequently encountered task. In FEniCSx, we handle these problems by defining a Discontinous cell-wise constant function.\n",
    "Such a function can be created over any mesh in the following way\n",
    "## Subdomains on built-in meshes"
   ]
  },
  {
   "cell_type": "code",
   "execution_count": 1,
   "metadata": {},
   "outputs": [],
   "source": [
    "import gmsh\n",
    "import numpy as np\n",
    "import pyvista\n",
    "from dolfinx.fem import (Constant, dirichletbc, Function, FunctionSpace, assemble_scalar,\n",
    "                         form, locate_dofs_geometrical, locate_dofs_topological)\n",
    "from dolfinx.fem.petsc import LinearProblem\n",
    "from dolfinx.io import XDMFFile\n",
    "from dolfinx.mesh import create_unit_square, locate_entities\n",
    "from dolfinx.plot import create_vtk_mesh\n",
    "\n",
    "from ufl import (SpatialCoordinate, TestFunction, TrialFunction,\n",
    "                 dx, grad, inner)\n",
    "\n",
    "from mpi4py import MPI\n",
    "from petsc4py.PETSc import ScalarType\n",
    "pyvista.start_xvfb()\n",
    "\n",
    "mesh = create_unit_square(MPI.COMM_WORLD, 10, 10)\n",
    "Q = FunctionSpace(mesh, (\"DG\", 0))"
   ]
  },
  {
   "cell_type": "markdown",
   "metadata": {},
   "source": [
    "We will use a simple example with two materials in two dimensions to demonstrate the idea. The whole domain will be $\\Omega=[0,1]\\times[0,1]$, which consists of two subdomains \n",
    "$\\Omega_0=[0,1]\\times [0,1/2]$ and $\\Omega_1=[0,1]\\times[1/2, 1]$. We start by creating two python functions, where each returns `True` if the input coordinate is inside its domain."
   ]
  },
  {
   "cell_type": "code",
   "execution_count": 2,
   "metadata": {},
   "outputs": [],
   "source": [
    "def Omega_0(x):\n",
    "    return x[1] <= 0.5\n",
    "\n",
    "def Omega_1(x):\n",
    "    return x[1] >= 0.5"
   ]
  },
  {
   "cell_type": "markdown",
   "metadata": {},
   "source": [
    "Note that both fucntion uses a $\\leq$ or $\\geq$, as FEniCSx will evaluate each cell at all of the vertices, and thus for has to return `True` for all vertices align with the interface to be marked properly.\n",
    "\n",
    "We will solve a variable-coefficient extension of the Poisson equation\n",
    "\n",
    "$$\n",
    "-\\nabla \\cdot [\\kappa (x,y)\\nabla u(x, y)]= 1 \\qquad \\text{in } \\Omega,\n",
    "$$\n",
    "$$\n",
    "u=u_D=1 \\qquad \\text{on } \\partial\\Omega_D=[0,y], y\\in[0,1]\n",
    "$$\n",
    "$$\n",
    "-\\frac{\\partial u}{\\partial n}=0 \\qquad \\text{on } \\partial\\Omega\\setminus \\partial\\Omega_D\n",
    "$$\n",
    "\n",
    "Our next step is to define $\\kappa$"
   ]
  },
  {
   "cell_type": "code",
   "execution_count": 3,
   "metadata": {},
   "outputs": [],
   "source": [
    "kappa = Function(Q)\n",
    "cells_0 = locate_entities(mesh, mesh.topology.dim, Omega_0)\n",
    "cells_1 = locate_entities(mesh, mesh.topology.dim, Omega_1)"
   ]
  },
  {
   "cell_type": "markdown",
   "metadata": {},
   "source": [
    "In the previous code block, we found which cells (triangular elements) which satisfies the condition for being in $\\Omega_0, \\Omega_1$. As the $DG-0$ function contain only one degree of freedom per mesh, there is a one to one mapping between the cell indicies and the degrees of freedom. We let $\\kappa=\\begin{cases}\n",
    "1 &\\text{if } x\\in\\Omega_0\\\\\n",
    "0.1& \\text{if } x\\in\\Omega_1\\\\\n",
    "\\end{cases}$"
   ]
  },
  {
   "cell_type": "code",
   "execution_count": 4,
   "metadata": {},
   "outputs": [],
   "source": [
    "kappa.x.array[cells_0] = np.full_like(cells_0, 1, dtype=ScalarType)\n",
    "kappa.x.array[cells_1] = np.full_like(cells_1, 0.1, dtype=ScalarType)"
   ]
  },
  {
   "cell_type": "markdown",
   "metadata": {},
   "source": [
    "We are now ready to define our variational formulation and  Dirichlet boundary condition after using integration by parts "
   ]
  },
  {
   "cell_type": "code",
   "execution_count": 5,
   "metadata": {},
   "outputs": [],
   "source": [
    "V = FunctionSpace(mesh, (\"CG\", 1))\n",
    "u, v = TrialFunction(V), TestFunction(V)\n",
    "a = inner(kappa*grad(u), grad(v)) * dx\n",
    "x = SpatialCoordinate(mesh)\n",
    "L = Constant(mesh, ScalarType(1)) * v * dx\n",
    "dofs = locate_dofs_geometrical(V, lambda x: np.isclose(x[0], 0))\n",
    "bcs = [dirichletbc(ScalarType(1), dofs, V)]"
   ]
  },
  {
   "cell_type": "markdown",
   "metadata": {},
   "source": [
    "We can now solve and visualize the solution of the problem"
   ]
  },
  {
   "cell_type": "code",
   "execution_count": 6,
   "metadata": {
    "tags": []
   },
   "outputs": [
    {
     "name": "stderr",
     "output_type": "stream",
     "text": [
      "INFO:root:running build_ext\n",
      "INFO:root:building 'libffcx_forms_0349ffd7ff5928f96c55c99cae5c49da9098627f' extension\n",
      "INFO:root:x86_64-linux-gnu-gcc -Wno-unused-result -Wsign-compare -DNDEBUG -g -fwrapv -O2 -Wall -g -fstack-protector-strong -Wformat -Werror=format-security -g -fwrapv -O2 -fPIC -I/usr/local/lib/python3.10/dist-packages/ffcx/codegeneration -I/usr/include/python3.10 -c libffcx_forms_0349ffd7ff5928f96c55c99cae5c49da9098627f.c -o ./libffcx_forms_0349ffd7ff5928f96c55c99cae5c49da9098627f.o -O2\n",
      "INFO:root:x86_64-linux-gnu-gcc -shared -Wl,-O1 -Wl,-Bsymbolic-functions -Wl,-Bsymbolic-functions -g -fwrapv -O2 ./libffcx_forms_0349ffd7ff5928f96c55c99cae5c49da9098627f.o -L/usr/lib/x86_64-linux-gnu -o ./libffcx_forms_0349ffd7ff5928f96c55c99cae5c49da9098627f.cpython-310-x86_64-linux-gnu.so\n",
      "INFO:root:running build_ext\n",
      "INFO:root:building 'libffcx_forms_b1f09d0717c9f4a7d0bab56c1b550b41eedf0a5d' extension\n",
      "INFO:root:x86_64-linux-gnu-gcc -Wno-unused-result -Wsign-compare -DNDEBUG -g -fwrapv -O2 -Wall -g -fstack-protector-strong -Wformat -Werror=format-security -g -fwrapv -O2 -fPIC -I/usr/local/lib/python3.10/dist-packages/ffcx/codegeneration -I/usr/include/python3.10 -c libffcx_forms_b1f09d0717c9f4a7d0bab56c1b550b41eedf0a5d.c -o ./libffcx_forms_b1f09d0717c9f4a7d0bab56c1b550b41eedf0a5d.o -O2\n",
      "INFO:root:x86_64-linux-gnu-gcc -shared -Wl,-O1 -Wl,-Bsymbolic-functions -Wl,-Bsymbolic-functions -g -fwrapv -O2 ./libffcx_forms_b1f09d0717c9f4a7d0bab56c1b550b41eedf0a5d.o -L/usr/lib/x86_64-linux-gnu -o ./libffcx_forms_b1f09d0717c9f4a7d0bab56c1b550b41eedf0a5d.cpython-310-x86_64-linux-gnu.so\n"
     ]
    },
    {
     "data": {
      "application/javascript": [
       "(function(root) {\n",
       "  function now() {\n",
       "    return new Date();\n",
       "  }\n",
       "\n",
       "  var force = true;\n",
       "\n",
       "  if (typeof root._bokeh_onload_callbacks === \"undefined\" || force === true) {\n",
       "    root._bokeh_onload_callbacks = [];\n",
       "    root._bokeh_is_loading = undefined;\n",
       "  }\n",
       "\n",
       "  if (typeof (root._bokeh_timeout) === \"undefined\" || force === true) {\n",
       "    root._bokeh_timeout = Date.now() + 5000;\n",
       "    root._bokeh_failed_load = false;\n",
       "  }\n",
       "\n",
       "  function run_callbacks() {\n",
       "    try {\n",
       "      root._bokeh_onload_callbacks.forEach(function(callback) {\n",
       "        if (callback != null)\n",
       "          callback();\n",
       "      });\n",
       "    } finally {\n",
       "      delete root._bokeh_onload_callbacks\n",
       "    }\n",
       "    console.debug(\"Bokeh: all callbacks have finished\");\n",
       "  }\n",
       "\n",
       "  function load_libs(css_urls, js_urls, js_modules, callback) {\n",
       "    if (css_urls == null) css_urls = [];\n",
       "    if (js_urls == null) js_urls = [];\n",
       "    if (js_modules == null) js_modules = [];\n",
       "\n",
       "    root._bokeh_onload_callbacks.push(callback);\n",
       "    if (root._bokeh_is_loading > 0) {\n",
       "      console.debug(\"Bokeh: BokehJS is being loaded, scheduling callback at\", now());\n",
       "      return null;\n",
       "    }\n",
       "    if (js_urls.length === 0 && js_modules.length === 0) {\n",
       "      run_callbacks();\n",
       "      return null;\n",
       "    }\n",
       "    console.debug(\"Bokeh: BokehJS not loaded, scheduling load and callback at\", now());\n",
       "\n",
       "    function on_load() {\n",
       "      root._bokeh_is_loading--;\n",
       "      if (root._bokeh_is_loading === 0) {\n",
       "        console.debug(\"Bokeh: all BokehJS libraries/stylesheets loaded\");\n",
       "        run_callbacks()\n",
       "      }\n",
       "    }\n",
       "\n",
       "    function on_error() {\n",
       "      console.error(\"failed to load \" + url);\n",
       "    }\n",
       "\n",
       "    for (var i = 0; i < css_urls.length; i++) {\n",
       "      var url = css_urls[i];\n",
       "      const element = document.createElement(\"link\");\n",
       "      element.onload = on_load;\n",
       "      element.onerror = on_error;\n",
       "      element.rel = \"stylesheet\";\n",
       "      element.type = \"text/css\";\n",
       "      element.href = url;\n",
       "      console.debug(\"Bokeh: injecting link tag for BokehJS stylesheet: \", url);\n",
       "      document.body.appendChild(element);\n",
       "    }\n",
       "\n",
       "    var skip = [];\n",
       "    if (window.requirejs) {\n",
       "      window.requirejs.config({'packages': {}, 'paths': {'vtk': 'https://cdn.jsdelivr.net/npm/vtk.js@20.0.1/vtk', 'gridstack': 'https://cdn.jsdelivr.net/npm/gridstack@4.2.5/dist/gridstack-h5', 'notyf': 'https://cdn.jsdelivr.net/npm/notyf@3/notyf.min'}, 'shim': {'vtk': {'exports': 'vtk'}, 'gridstack': {'exports': 'GridStack'}}});\n",
       "      require([\"vtk\"], function() {\n",
       "\ton_load()\n",
       "      })\n",
       "      require([\"gridstack\"], function(GridStack) {\n",
       "\twindow.GridStack = GridStack\n",
       "\ton_load()\n",
       "      })\n",
       "      require([\"notyf\"], function() {\n",
       "\ton_load()\n",
       "      })\n",
       "      root._bokeh_is_loading = css_urls.length + 3;\n",
       "    } else {\n",
       "      root._bokeh_is_loading = css_urls.length + js_urls.length + js_modules.length;\n",
       "    }    if (((window['vtk'] !== undefined) && (!(window['vtk'] instanceof HTMLElement))) || window.requirejs) {\n",
       "      var urls = ['https://cdn.holoviz.org/panel/0.14.3/dist/bundled/abstractvtkplot/vtk.js@20.0.1/vtk.js'];\n",
       "      for (var i = 0; i < urls.length; i++) {\n",
       "        skip.push(urls[i])\n",
       "      }\n",
       "    }    if (((window['GridStack'] !== undefined) && (!(window['GridStack'] instanceof HTMLElement))) || window.requirejs) {\n",
       "      var urls = ['https://cdn.holoviz.org/panel/0.14.3/dist/bundled/gridstack/gridstack@4.2.5/dist/gridstack-h5.js'];\n",
       "      for (var i = 0; i < urls.length; i++) {\n",
       "        skip.push(urls[i])\n",
       "      }\n",
       "    }    if (((window['Notyf'] !== undefined) && (!(window['Notyf'] instanceof HTMLElement))) || window.requirejs) {\n",
       "      var urls = ['https://cdn.holoviz.org/panel/0.14.3/dist/bundled/notificationarea/notyf@3/notyf.min.js'];\n",
       "      for (var i = 0; i < urls.length; i++) {\n",
       "        skip.push(urls[i])\n",
       "      }\n",
       "    }    for (var i = 0; i < js_urls.length; i++) {\n",
       "      var url = js_urls[i];\n",
       "      if (skip.indexOf(url) >= 0) {\n",
       "\tif (!window.requirejs) {\n",
       "\t  on_load();\n",
       "\t}\n",
       "\tcontinue;\n",
       "      }\n",
       "      var element = document.createElement('script');\n",
       "      element.onload = on_load;\n",
       "      element.onerror = on_error;\n",
       "      element.async = false;\n",
       "      element.src = url;\n",
       "      console.debug(\"Bokeh: injecting script tag for BokehJS library: \", url);\n",
       "      document.head.appendChild(element);\n",
       "    }\n",
       "    for (var i = 0; i < js_modules.length; i++) {\n",
       "      var url = js_modules[i];\n",
       "      if (skip.indexOf(url) >= 0) {\n",
       "\tif (!window.requirejs) {\n",
       "\t  on_load();\n",
       "\t}\n",
       "\tcontinue;\n",
       "      }\n",
       "      var element = document.createElement('script');\n",
       "      element.onload = on_load;\n",
       "      element.onerror = on_error;\n",
       "      element.async = false;\n",
       "      element.src = url;\n",
       "      element.type = \"module\";\n",
       "      console.debug(\"Bokeh: injecting script tag for BokehJS library: \", url);\n",
       "      document.head.appendChild(element);\n",
       "    }\n",
       "    if (!js_urls.length && !js_modules.length) {\n",
       "      on_load()\n",
       "    }\n",
       "  };\n",
       "\n",
       "  function inject_raw_css(css) {\n",
       "    const element = document.createElement(\"style\");\n",
       "    element.appendChild(document.createTextNode(css));\n",
       "    document.body.appendChild(element);\n",
       "  }\n",
       "\n",
       "  var js_urls = [\"https://cdn.holoviz.org/panel/0.14.3/dist/bundled/abstractvtkplot/vtk.js@20.0.1/vtk.js\", \"https://cdn.bokeh.org/bokeh/release/bokeh-2.4.3.min.js\", \"https://cdn.bokeh.org/bokeh/release/bokeh-gl-2.4.3.min.js\", \"https://cdn.bokeh.org/bokeh/release/bokeh-widgets-2.4.3.min.js\", \"https://cdn.bokeh.org/bokeh/release/bokeh-tables-2.4.3.min.js\", \"https://cdn.bokeh.org/bokeh/release/bokeh-mathjax-2.4.3.min.js\", \"https://unpkg.com/@holoviz/panel@0.14.3/dist/panel.min.js\"];\n",
       "  var js_modules = [];\n",
       "  var css_urls = [\"https://cdn.holoviz.org/panel/0.14.3/dist/css/loading.css\", \"https://cdn.holoviz.org/panel/0.14.3/dist/css/card.css\", \"https://cdn.holoviz.org/panel/0.14.3/dist/css/markdown.css\", \"https://cdn.holoviz.org/panel/0.14.3/dist/css/dataframe.css\", \"https://cdn.holoviz.org/panel/0.14.3/dist/css/alerts.css\", \"https://cdn.holoviz.org/panel/0.14.3/dist/css/debugger.css\", \"https://cdn.holoviz.org/panel/0.14.3/dist/css/json.css\", \"https://cdn.holoviz.org/panel/0.14.3/dist/css/widgets.css\"];\n",
       "  var inline_js = [    function(Bokeh) {\n",
       "      inject_raw_css(\"\\n    .bk.pn-loading.arc:before {\\n      background-image: url(\\\"data:image/svg+xml;base64,PHN2ZyB4bWxucz0iaHR0cDovL3d3dy53My5vcmcvMjAwMC9zdmciIHN0eWxlPSJtYXJnaW46IGF1dG87IGJhY2tncm91bmQ6IG5vbmU7IGRpc3BsYXk6IGJsb2NrOyBzaGFwZS1yZW5kZXJpbmc6IGF1dG87IiB2aWV3Qm94PSIwIDAgMTAwIDEwMCIgcHJlc2VydmVBc3BlY3RSYXRpbz0ieE1pZFlNaWQiPiAgPGNpcmNsZSBjeD0iNTAiIGN5PSI1MCIgZmlsbD0ibm9uZSIgc3Ryb2tlPSIjYzNjM2MzIiBzdHJva2Utd2lkdGg9IjEwIiByPSIzNSIgc3Ryb2tlLWRhc2hhcnJheT0iMTY0LjkzMzYxNDMxMzQ2NDE1IDU2Ljk3Nzg3MTQzNzgyMTM4Ij4gICAgPGFuaW1hdGVUcmFuc2Zvcm0gYXR0cmlidXRlTmFtZT0idHJhbnNmb3JtIiB0eXBlPSJyb3RhdGUiIHJlcGVhdENvdW50PSJpbmRlZmluaXRlIiBkdXI9IjFzIiB2YWx1ZXM9IjAgNTAgNTA7MzYwIDUwIDUwIiBrZXlUaW1lcz0iMDsxIj48L2FuaW1hdGVUcmFuc2Zvcm0+ICA8L2NpcmNsZT48L3N2Zz4=\\\");\\n      background-size: auto calc(min(50%, 400px));\\n    }\\n    \");\n",
       "    },    function(Bokeh) {\n",
       "      Bokeh.set_log_level(\"info\");\n",
       "    },\n",
       "function(Bokeh) {} // ensure no trailing comma for IE\n",
       "  ];\n",
       "\n",
       "  function run_inline_js() {\n",
       "    if ((root.Bokeh !== undefined) || (force === true)) {\n",
       "      for (var i = 0; i < inline_js.length; i++) {\n",
       "        inline_js[i].call(root, root.Bokeh);\n",
       "      }} else if (Date.now() < root._bokeh_timeout) {\n",
       "      setTimeout(run_inline_js, 100);\n",
       "    } else if (!root._bokeh_failed_load) {\n",
       "      console.log(\"Bokeh: BokehJS failed to load within specified timeout.\");\n",
       "      root._bokeh_failed_load = true;\n",
       "    }\n",
       "  }\n",
       "\n",
       "  if (root._bokeh_is_loading === 0) {\n",
       "    console.debug(\"Bokeh: BokehJS loaded, going straight to plotting\");\n",
       "    run_inline_js();\n",
       "  } else {\n",
       "    load_libs(css_urls, js_urls, js_modules, function() {\n",
       "      console.debug(\"Bokeh: BokehJS plotting callback run at\", now());\n",
       "      run_inline_js();\n",
       "    });\n",
       "  }\n",
       "}(window));"
      ],
      "application/vnd.holoviews_load.v0+json": "(function(root) {\n  function now() {\n    return new Date();\n  }\n\n  var force = true;\n\n  if (typeof root._bokeh_onload_callbacks === \"undefined\" || force === true) {\n    root._bokeh_onload_callbacks = [];\n    root._bokeh_is_loading = undefined;\n  }\n\n  if (typeof (root._bokeh_timeout) === \"undefined\" || force === true) {\n    root._bokeh_timeout = Date.now() + 5000;\n    root._bokeh_failed_load = false;\n  }\n\n  function run_callbacks() {\n    try {\n      root._bokeh_onload_callbacks.forEach(function(callback) {\n        if (callback != null)\n          callback();\n      });\n    } finally {\n      delete root._bokeh_onload_callbacks\n    }\n    console.debug(\"Bokeh: all callbacks have finished\");\n  }\n\n  function load_libs(css_urls, js_urls, js_modules, callback) {\n    if (css_urls == null) css_urls = [];\n    if (js_urls == null) js_urls = [];\n    if (js_modules == null) js_modules = [];\n\n    root._bokeh_onload_callbacks.push(callback);\n    if (root._bokeh_is_loading > 0) {\n      console.debug(\"Bokeh: BokehJS is being loaded, scheduling callback at\", now());\n      return null;\n    }\n    if (js_urls.length === 0 && js_modules.length === 0) {\n      run_callbacks();\n      return null;\n    }\n    console.debug(\"Bokeh: BokehJS not loaded, scheduling load and callback at\", now());\n\n    function on_load() {\n      root._bokeh_is_loading--;\n      if (root._bokeh_is_loading === 0) {\n        console.debug(\"Bokeh: all BokehJS libraries/stylesheets loaded\");\n        run_callbacks()\n      }\n    }\n\n    function on_error() {\n      console.error(\"failed to load \" + url);\n    }\n\n    for (var i = 0; i < css_urls.length; i++) {\n      var url = css_urls[i];\n      const element = document.createElement(\"link\");\n      element.onload = on_load;\n      element.onerror = on_error;\n      element.rel = \"stylesheet\";\n      element.type = \"text/css\";\n      element.href = url;\n      console.debug(\"Bokeh: injecting link tag for BokehJS stylesheet: \", url);\n      document.body.appendChild(element);\n    }\n\n    var skip = [];\n    if (window.requirejs) {\n      window.requirejs.config({'packages': {}, 'paths': {'vtk': 'https://cdn.jsdelivr.net/npm/vtk.js@20.0.1/vtk', 'gridstack': 'https://cdn.jsdelivr.net/npm/gridstack@4.2.5/dist/gridstack-h5', 'notyf': 'https://cdn.jsdelivr.net/npm/notyf@3/notyf.min'}, 'shim': {'vtk': {'exports': 'vtk'}, 'gridstack': {'exports': 'GridStack'}}});\n      require([\"vtk\"], function() {\n\ton_load()\n      })\n      require([\"gridstack\"], function(GridStack) {\n\twindow.GridStack = GridStack\n\ton_load()\n      })\n      require([\"notyf\"], function() {\n\ton_load()\n      })\n      root._bokeh_is_loading = css_urls.length + 3;\n    } else {\n      root._bokeh_is_loading = css_urls.length + js_urls.length + js_modules.length;\n    }    if (((window['vtk'] !== undefined) && (!(window['vtk'] instanceof HTMLElement))) || window.requirejs) {\n      var urls = ['https://cdn.holoviz.org/panel/0.14.3/dist/bundled/abstractvtkplot/vtk.js@20.0.1/vtk.js'];\n      for (var i = 0; i < urls.length; i++) {\n        skip.push(urls[i])\n      }\n    }    if (((window['GridStack'] !== undefined) && (!(window['GridStack'] instanceof HTMLElement))) || window.requirejs) {\n      var urls = ['https://cdn.holoviz.org/panel/0.14.3/dist/bundled/gridstack/gridstack@4.2.5/dist/gridstack-h5.js'];\n      for (var i = 0; i < urls.length; i++) {\n        skip.push(urls[i])\n      }\n    }    if (((window['Notyf'] !== undefined) && (!(window['Notyf'] instanceof HTMLElement))) || window.requirejs) {\n      var urls = ['https://cdn.holoviz.org/panel/0.14.3/dist/bundled/notificationarea/notyf@3/notyf.min.js'];\n      for (var i = 0; i < urls.length; i++) {\n        skip.push(urls[i])\n      }\n    }    for (var i = 0; i < js_urls.length; i++) {\n      var url = js_urls[i];\n      if (skip.indexOf(url) >= 0) {\n\tif (!window.requirejs) {\n\t  on_load();\n\t}\n\tcontinue;\n      }\n      var element = document.createElement('script');\n      element.onload = on_load;\n      element.onerror = on_error;\n      element.async = false;\n      element.src = url;\n      console.debug(\"Bokeh: injecting script tag for BokehJS library: \", url);\n      document.head.appendChild(element);\n    }\n    for (var i = 0; i < js_modules.length; i++) {\n      var url = js_modules[i];\n      if (skip.indexOf(url) >= 0) {\n\tif (!window.requirejs) {\n\t  on_load();\n\t}\n\tcontinue;\n      }\n      var element = document.createElement('script');\n      element.onload = on_load;\n      element.onerror = on_error;\n      element.async = false;\n      element.src = url;\n      element.type = \"module\";\n      console.debug(\"Bokeh: injecting script tag for BokehJS library: \", url);\n      document.head.appendChild(element);\n    }\n    if (!js_urls.length && !js_modules.length) {\n      on_load()\n    }\n  };\n\n  function inject_raw_css(css) {\n    const element = document.createElement(\"style\");\n    element.appendChild(document.createTextNode(css));\n    document.body.appendChild(element);\n  }\n\n  var js_urls = [\"https://cdn.holoviz.org/panel/0.14.3/dist/bundled/abstractvtkplot/vtk.js@20.0.1/vtk.js\", \"https://cdn.bokeh.org/bokeh/release/bokeh-2.4.3.min.js\", \"https://cdn.bokeh.org/bokeh/release/bokeh-gl-2.4.3.min.js\", \"https://cdn.bokeh.org/bokeh/release/bokeh-widgets-2.4.3.min.js\", \"https://cdn.bokeh.org/bokeh/release/bokeh-tables-2.4.3.min.js\", \"https://cdn.bokeh.org/bokeh/release/bokeh-mathjax-2.4.3.min.js\", \"https://unpkg.com/@holoviz/panel@0.14.3/dist/panel.min.js\"];\n  var js_modules = [];\n  var css_urls = [\"https://cdn.holoviz.org/panel/0.14.3/dist/css/loading.css\", \"https://cdn.holoviz.org/panel/0.14.3/dist/css/card.css\", \"https://cdn.holoviz.org/panel/0.14.3/dist/css/markdown.css\", \"https://cdn.holoviz.org/panel/0.14.3/dist/css/dataframe.css\", \"https://cdn.holoviz.org/panel/0.14.3/dist/css/alerts.css\", \"https://cdn.holoviz.org/panel/0.14.3/dist/css/debugger.css\", \"https://cdn.holoviz.org/panel/0.14.3/dist/css/json.css\", \"https://cdn.holoviz.org/panel/0.14.3/dist/css/widgets.css\"];\n  var inline_js = [    function(Bokeh) {\n      inject_raw_css(\"\\n    .bk.pn-loading.arc:before {\\n      background-image: url(\\\"data:image/svg+xml;base64,PHN2ZyB4bWxucz0iaHR0cDovL3d3dy53My5vcmcvMjAwMC9zdmciIHN0eWxlPSJtYXJnaW46IGF1dG87IGJhY2tncm91bmQ6IG5vbmU7IGRpc3BsYXk6IGJsb2NrOyBzaGFwZS1yZW5kZXJpbmc6IGF1dG87IiB2aWV3Qm94PSIwIDAgMTAwIDEwMCIgcHJlc2VydmVBc3BlY3RSYXRpbz0ieE1pZFlNaWQiPiAgPGNpcmNsZSBjeD0iNTAiIGN5PSI1MCIgZmlsbD0ibm9uZSIgc3Ryb2tlPSIjYzNjM2MzIiBzdHJva2Utd2lkdGg9IjEwIiByPSIzNSIgc3Ryb2tlLWRhc2hhcnJheT0iMTY0LjkzMzYxNDMxMzQ2NDE1IDU2Ljk3Nzg3MTQzNzgyMTM4Ij4gICAgPGFuaW1hdGVUcmFuc2Zvcm0gYXR0cmlidXRlTmFtZT0idHJhbnNmb3JtIiB0eXBlPSJyb3RhdGUiIHJlcGVhdENvdW50PSJpbmRlZmluaXRlIiBkdXI9IjFzIiB2YWx1ZXM9IjAgNTAgNTA7MzYwIDUwIDUwIiBrZXlUaW1lcz0iMDsxIj48L2FuaW1hdGVUcmFuc2Zvcm0+ICA8L2NpcmNsZT48L3N2Zz4=\\\");\\n      background-size: auto calc(min(50%, 400px));\\n    }\\n    \");\n    },    function(Bokeh) {\n      Bokeh.set_log_level(\"info\");\n    },\nfunction(Bokeh) {} // ensure no trailing comma for IE\n  ];\n\n  function run_inline_js() {\n    if ((root.Bokeh !== undefined) || (force === true)) {\n      for (var i = 0; i < inline_js.length; i++) {\n        inline_js[i].call(root, root.Bokeh);\n      }} else if (Date.now() < root._bokeh_timeout) {\n      setTimeout(run_inline_js, 100);\n    } else if (!root._bokeh_failed_load) {\n      console.log(\"Bokeh: BokehJS failed to load within specified timeout.\");\n      root._bokeh_failed_load = true;\n    }\n  }\n\n  if (root._bokeh_is_loading === 0) {\n    console.debug(\"Bokeh: BokehJS loaded, going straight to plotting\");\n    run_inline_js();\n  } else {\n    load_libs(css_urls, js_urls, js_modules, function() {\n      console.debug(\"Bokeh: BokehJS plotting callback run at\", now());\n      run_inline_js();\n    });\n  }\n}(window));"
     },
     "metadata": {},
     "output_type": "display_data"
    },
    {
     "data": {
      "application/javascript": [
       "\n",
       "if ((window.PyViz === undefined) || (window.PyViz instanceof HTMLElement)) {\n",
       "  window.PyViz = {comms: {}, comm_status:{}, kernels:{}, receivers: {}, plot_index: []}\n",
       "}\n",
       "\n",
       "\n",
       "    function JupyterCommManager() {\n",
       "    }\n",
       "\n",
       "    JupyterCommManager.prototype.register_target = function(plot_id, comm_id, msg_handler) {\n",
       "      if (window.comm_manager || ((window.Jupyter !== undefined) && (Jupyter.notebook.kernel != null))) {\n",
       "        var comm_manager = window.comm_manager || Jupyter.notebook.kernel.comm_manager;\n",
       "        comm_manager.register_target(comm_id, function(comm) {\n",
       "          comm.on_msg(msg_handler);\n",
       "        });\n",
       "      } else if ((plot_id in window.PyViz.kernels) && (window.PyViz.kernels[plot_id])) {\n",
       "        window.PyViz.kernels[plot_id].registerCommTarget(comm_id, function(comm) {\n",
       "          comm.onMsg = msg_handler;\n",
       "        });\n",
       "      } else if (typeof google != 'undefined' && google.colab.kernel != null) {\n",
       "        google.colab.kernel.comms.registerTarget(comm_id, (comm) => {\n",
       "          var messages = comm.messages[Symbol.asyncIterator]();\n",
       "          function processIteratorResult(result) {\n",
       "            var message = result.value;\n",
       "            console.log(message)\n",
       "            var content = {data: message.data, comm_id};\n",
       "            var buffers = []\n",
       "            for (var buffer of message.buffers || []) {\n",
       "              buffers.push(new DataView(buffer))\n",
       "            }\n",
       "            var metadata = message.metadata || {};\n",
       "            var msg = {content, buffers, metadata}\n",
       "            msg_handler(msg);\n",
       "            return messages.next().then(processIteratorResult);\n",
       "          }\n",
       "          return messages.next().then(processIteratorResult);\n",
       "        })\n",
       "      }\n",
       "    }\n",
       "\n",
       "    JupyterCommManager.prototype.get_client_comm = function(plot_id, comm_id, msg_handler) {\n",
       "      if (comm_id in window.PyViz.comms) {\n",
       "        return window.PyViz.comms[comm_id];\n",
       "      } else if (window.comm_manager || ((window.Jupyter !== undefined) && (Jupyter.notebook.kernel != null))) {\n",
       "        var comm_manager = window.comm_manager || Jupyter.notebook.kernel.comm_manager;\n",
       "        var comm = comm_manager.new_comm(comm_id, {}, {}, {}, comm_id);\n",
       "        if (msg_handler) {\n",
       "          comm.on_msg(msg_handler);\n",
       "        }\n",
       "      } else if ((plot_id in window.PyViz.kernels) && (window.PyViz.kernels[plot_id])) {\n",
       "        var comm = window.PyViz.kernels[plot_id].connectToComm(comm_id);\n",
       "        comm.open();\n",
       "        if (msg_handler) {\n",
       "          comm.onMsg = msg_handler;\n",
       "        }\n",
       "      } else if (typeof google != 'undefined' && google.colab.kernel != null) {\n",
       "        var comm_promise = google.colab.kernel.comms.open(comm_id)\n",
       "        comm_promise.then((comm) => {\n",
       "          window.PyViz.comms[comm_id] = comm;\n",
       "          if (msg_handler) {\n",
       "            var messages = comm.messages[Symbol.asyncIterator]();\n",
       "            function processIteratorResult(result) {\n",
       "              var message = result.value;\n",
       "              var content = {data: message.data};\n",
       "              var metadata = message.metadata || {comm_id};\n",
       "              var msg = {content, metadata}\n",
       "              msg_handler(msg);\n",
       "              return messages.next().then(processIteratorResult);\n",
       "            }\n",
       "            return messages.next().then(processIteratorResult);\n",
       "          }\n",
       "        }) \n",
       "        var sendClosure = (data, metadata, buffers, disposeOnDone) => {\n",
       "          return comm_promise.then((comm) => {\n",
       "            comm.send(data, metadata, buffers, disposeOnDone);\n",
       "          });\n",
       "        };\n",
       "        var comm = {\n",
       "          send: sendClosure\n",
       "        };\n",
       "      }\n",
       "      window.PyViz.comms[comm_id] = comm;\n",
       "      return comm;\n",
       "    }\n",
       "    window.PyViz.comm_manager = new JupyterCommManager();\n",
       "    \n",
       "\n",
       "\n",
       "var JS_MIME_TYPE = 'application/javascript';\n",
       "var HTML_MIME_TYPE = 'text/html';\n",
       "var EXEC_MIME_TYPE = 'application/vnd.holoviews_exec.v0+json';\n",
       "var CLASS_NAME = 'output';\n",
       "\n",
       "/**\n",
       " * Render data to the DOM node\n",
       " */\n",
       "function render(props, node) {\n",
       "  var div = document.createElement(\"div\");\n",
       "  var script = document.createElement(\"script\");\n",
       "  node.appendChild(div);\n",
       "  node.appendChild(script);\n",
       "}\n",
       "\n",
       "/**\n",
       " * Handle when a new output is added\n",
       " */\n",
       "function handle_add_output(event, handle) {\n",
       "  var output_area = handle.output_area;\n",
       "  var output = handle.output;\n",
       "  if ((output.data == undefined) || (!output.data.hasOwnProperty(EXEC_MIME_TYPE))) {\n",
       "    return\n",
       "  }\n",
       "  var id = output.metadata[EXEC_MIME_TYPE][\"id\"];\n",
       "  var toinsert = output_area.element.find(\".\" + CLASS_NAME.split(' ')[0]);\n",
       "  if (id !== undefined) {\n",
       "    var nchildren = toinsert.length;\n",
       "    var html_node = toinsert[nchildren-1].children[0];\n",
       "    html_node.innerHTML = output.data[HTML_MIME_TYPE];\n",
       "    var scripts = [];\n",
       "    var nodelist = html_node.querySelectorAll(\"script\");\n",
       "    for (var i in nodelist) {\n",
       "      if (nodelist.hasOwnProperty(i)) {\n",
       "        scripts.push(nodelist[i])\n",
       "      }\n",
       "    }\n",
       "\n",
       "    scripts.forEach( function (oldScript) {\n",
       "      var newScript = document.createElement(\"script\");\n",
       "      var attrs = [];\n",
       "      var nodemap = oldScript.attributes;\n",
       "      for (var j in nodemap) {\n",
       "        if (nodemap.hasOwnProperty(j)) {\n",
       "          attrs.push(nodemap[j])\n",
       "        }\n",
       "      }\n",
       "      attrs.forEach(function(attr) { newScript.setAttribute(attr.name, attr.value) });\n",
       "      newScript.appendChild(document.createTextNode(oldScript.innerHTML));\n",
       "      oldScript.parentNode.replaceChild(newScript, oldScript);\n",
       "    });\n",
       "    if (JS_MIME_TYPE in output.data) {\n",
       "      toinsert[nchildren-1].children[1].textContent = output.data[JS_MIME_TYPE];\n",
       "    }\n",
       "    output_area._hv_plot_id = id;\n",
       "    if ((window.Bokeh !== undefined) && (id in Bokeh.index)) {\n",
       "      window.PyViz.plot_index[id] = Bokeh.index[id];\n",
       "    } else {\n",
       "      window.PyViz.plot_index[id] = null;\n",
       "    }\n",
       "  } else if (output.metadata[EXEC_MIME_TYPE][\"server_id\"] !== undefined) {\n",
       "    var bk_div = document.createElement(\"div\");\n",
       "    bk_div.innerHTML = output.data[HTML_MIME_TYPE];\n",
       "    var script_attrs = bk_div.children[0].attributes;\n",
       "    for (var i = 0; i < script_attrs.length; i++) {\n",
       "      toinsert[toinsert.length - 1].childNodes[1].setAttribute(script_attrs[i].name, script_attrs[i].value);\n",
       "    }\n",
       "    // store reference to server id on output_area\n",
       "    output_area._bokeh_server_id = output.metadata[EXEC_MIME_TYPE][\"server_id\"];\n",
       "  }\n",
       "}\n",
       "\n",
       "/**\n",
       " * Handle when an output is cleared or removed\n",
       " */\n",
       "function handle_clear_output(event, handle) {\n",
       "  var id = handle.cell.output_area._hv_plot_id;\n",
       "  var server_id = handle.cell.output_area._bokeh_server_id;\n",
       "  if (((id === undefined) || !(id in PyViz.plot_index)) && (server_id !== undefined)) { return; }\n",
       "  var comm = window.PyViz.comm_manager.get_client_comm(\"hv-extension-comm\", \"hv-extension-comm\", function () {});\n",
       "  if (server_id !== null) {\n",
       "    comm.send({event_type: 'server_delete', 'id': server_id});\n",
       "    return;\n",
       "  } else if (comm !== null) {\n",
       "    comm.send({event_type: 'delete', 'id': id});\n",
       "  }\n",
       "  delete PyViz.plot_index[id];\n",
       "  if ((window.Bokeh !== undefined) & (id in window.Bokeh.index)) {\n",
       "    var doc = window.Bokeh.index[id].model.document\n",
       "    doc.clear();\n",
       "    const i = window.Bokeh.documents.indexOf(doc);\n",
       "    if (i > -1) {\n",
       "      window.Bokeh.documents.splice(i, 1);\n",
       "    }\n",
       "  }\n",
       "}\n",
       "\n",
       "/**\n",
       " * Handle kernel restart event\n",
       " */\n",
       "function handle_kernel_cleanup(event, handle) {\n",
       "  delete PyViz.comms[\"hv-extension-comm\"];\n",
       "  window.PyViz.plot_index = {}\n",
       "}\n",
       "\n",
       "/**\n",
       " * Handle update_display_data messages\n",
       " */\n",
       "function handle_update_output(event, handle) {\n",
       "  handle_clear_output(event, {cell: {output_area: handle.output_area}})\n",
       "  handle_add_output(event, handle)\n",
       "}\n",
       "\n",
       "function register_renderer(events, OutputArea) {\n",
       "  function append_mime(data, metadata, element) {\n",
       "    // create a DOM node to render to\n",
       "    var toinsert = this.create_output_subarea(\n",
       "    metadata,\n",
       "    CLASS_NAME,\n",
       "    EXEC_MIME_TYPE\n",
       "    );\n",
       "    this.keyboard_manager.register_events(toinsert);\n",
       "    // Render to node\n",
       "    var props = {data: data, metadata: metadata[EXEC_MIME_TYPE]};\n",
       "    render(props, toinsert[0]);\n",
       "    element.append(toinsert);\n",
       "    return toinsert\n",
       "  }\n",
       "\n",
       "  events.on('output_added.OutputArea', handle_add_output);\n",
       "  events.on('output_updated.OutputArea', handle_update_output);\n",
       "  events.on('clear_output.CodeCell', handle_clear_output);\n",
       "  events.on('delete.Cell', handle_clear_output);\n",
       "  events.on('kernel_ready.Kernel', handle_kernel_cleanup);\n",
       "\n",
       "  OutputArea.prototype.register_mime_type(EXEC_MIME_TYPE, append_mime, {\n",
       "    safe: true,\n",
       "    index: 0\n",
       "  });\n",
       "}\n",
       "\n",
       "if (window.Jupyter !== undefined) {\n",
       "  try {\n",
       "    var events = require('base/js/events');\n",
       "    var OutputArea = require('notebook/js/outputarea').OutputArea;\n",
       "    if (OutputArea.prototype.mime_types().indexOf(EXEC_MIME_TYPE) == -1) {\n",
       "      register_renderer(events, OutputArea);\n",
       "    }\n",
       "  } catch(err) {\n",
       "  }\n",
       "}\n"
      ],
      "application/vnd.holoviews_load.v0+json": "\nif ((window.PyViz === undefined) || (window.PyViz instanceof HTMLElement)) {\n  window.PyViz = {comms: {}, comm_status:{}, kernels:{}, receivers: {}, plot_index: []}\n}\n\n\n    function JupyterCommManager() {\n    }\n\n    JupyterCommManager.prototype.register_target = function(plot_id, comm_id, msg_handler) {\n      if (window.comm_manager || ((window.Jupyter !== undefined) && (Jupyter.notebook.kernel != null))) {\n        var comm_manager = window.comm_manager || Jupyter.notebook.kernel.comm_manager;\n        comm_manager.register_target(comm_id, function(comm) {\n          comm.on_msg(msg_handler);\n        });\n      } else if ((plot_id in window.PyViz.kernels) && (window.PyViz.kernels[plot_id])) {\n        window.PyViz.kernels[plot_id].registerCommTarget(comm_id, function(comm) {\n          comm.onMsg = msg_handler;\n        });\n      } else if (typeof google != 'undefined' && google.colab.kernel != null) {\n        google.colab.kernel.comms.registerTarget(comm_id, (comm) => {\n          var messages = comm.messages[Symbol.asyncIterator]();\n          function processIteratorResult(result) {\n            var message = result.value;\n            console.log(message)\n            var content = {data: message.data, comm_id};\n            var buffers = []\n            for (var buffer of message.buffers || []) {\n              buffers.push(new DataView(buffer))\n            }\n            var metadata = message.metadata || {};\n            var msg = {content, buffers, metadata}\n            msg_handler(msg);\n            return messages.next().then(processIteratorResult);\n          }\n          return messages.next().then(processIteratorResult);\n        })\n      }\n    }\n\n    JupyterCommManager.prototype.get_client_comm = function(plot_id, comm_id, msg_handler) {\n      if (comm_id in window.PyViz.comms) {\n        return window.PyViz.comms[comm_id];\n      } else if (window.comm_manager || ((window.Jupyter !== undefined) && (Jupyter.notebook.kernel != null))) {\n        var comm_manager = window.comm_manager || Jupyter.notebook.kernel.comm_manager;\n        var comm = comm_manager.new_comm(comm_id, {}, {}, {}, comm_id);\n        if (msg_handler) {\n          comm.on_msg(msg_handler);\n        }\n      } else if ((plot_id in window.PyViz.kernels) && (window.PyViz.kernels[plot_id])) {\n        var comm = window.PyViz.kernels[plot_id].connectToComm(comm_id);\n        comm.open();\n        if (msg_handler) {\n          comm.onMsg = msg_handler;\n        }\n      } else if (typeof google != 'undefined' && google.colab.kernel != null) {\n        var comm_promise = google.colab.kernel.comms.open(comm_id)\n        comm_promise.then((comm) => {\n          window.PyViz.comms[comm_id] = comm;\n          if (msg_handler) {\n            var messages = comm.messages[Symbol.asyncIterator]();\n            function processIteratorResult(result) {\n              var message = result.value;\n              var content = {data: message.data};\n              var metadata = message.metadata || {comm_id};\n              var msg = {content, metadata}\n              msg_handler(msg);\n              return messages.next().then(processIteratorResult);\n            }\n            return messages.next().then(processIteratorResult);\n          }\n        }) \n        var sendClosure = (data, metadata, buffers, disposeOnDone) => {\n          return comm_promise.then((comm) => {\n            comm.send(data, metadata, buffers, disposeOnDone);\n          });\n        };\n        var comm = {\n          send: sendClosure\n        };\n      }\n      window.PyViz.comms[comm_id] = comm;\n      return comm;\n    }\n    window.PyViz.comm_manager = new JupyterCommManager();\n    \n\n\nvar JS_MIME_TYPE = 'application/javascript';\nvar HTML_MIME_TYPE = 'text/html';\nvar EXEC_MIME_TYPE = 'application/vnd.holoviews_exec.v0+json';\nvar CLASS_NAME = 'output';\n\n/**\n * Render data to the DOM node\n */\nfunction render(props, node) {\n  var div = document.createElement(\"div\");\n  var script = document.createElement(\"script\");\n  node.appendChild(div);\n  node.appendChild(script);\n}\n\n/**\n * Handle when a new output is added\n */\nfunction handle_add_output(event, handle) {\n  var output_area = handle.output_area;\n  var output = handle.output;\n  if ((output.data == undefined) || (!output.data.hasOwnProperty(EXEC_MIME_TYPE))) {\n    return\n  }\n  var id = output.metadata[EXEC_MIME_TYPE][\"id\"];\n  var toinsert = output_area.element.find(\".\" + CLASS_NAME.split(' ')[0]);\n  if (id !== undefined) {\n    var nchildren = toinsert.length;\n    var html_node = toinsert[nchildren-1].children[0];\n    html_node.innerHTML = output.data[HTML_MIME_TYPE];\n    var scripts = [];\n    var nodelist = html_node.querySelectorAll(\"script\");\n    for (var i in nodelist) {\n      if (nodelist.hasOwnProperty(i)) {\n        scripts.push(nodelist[i])\n      }\n    }\n\n    scripts.forEach( function (oldScript) {\n      var newScript = document.createElement(\"script\");\n      var attrs = [];\n      var nodemap = oldScript.attributes;\n      for (var j in nodemap) {\n        if (nodemap.hasOwnProperty(j)) {\n          attrs.push(nodemap[j])\n        }\n      }\n      attrs.forEach(function(attr) { newScript.setAttribute(attr.name, attr.value) });\n      newScript.appendChild(document.createTextNode(oldScript.innerHTML));\n      oldScript.parentNode.replaceChild(newScript, oldScript);\n    });\n    if (JS_MIME_TYPE in output.data) {\n      toinsert[nchildren-1].children[1].textContent = output.data[JS_MIME_TYPE];\n    }\n    output_area._hv_plot_id = id;\n    if ((window.Bokeh !== undefined) && (id in Bokeh.index)) {\n      window.PyViz.plot_index[id] = Bokeh.index[id];\n    } else {\n      window.PyViz.plot_index[id] = null;\n    }\n  } else if (output.metadata[EXEC_MIME_TYPE][\"server_id\"] !== undefined) {\n    var bk_div = document.createElement(\"div\");\n    bk_div.innerHTML = output.data[HTML_MIME_TYPE];\n    var script_attrs = bk_div.children[0].attributes;\n    for (var i = 0; i < script_attrs.length; i++) {\n      toinsert[toinsert.length - 1].childNodes[1].setAttribute(script_attrs[i].name, script_attrs[i].value);\n    }\n    // store reference to server id on output_area\n    output_area._bokeh_server_id = output.metadata[EXEC_MIME_TYPE][\"server_id\"];\n  }\n}\n\n/**\n * Handle when an output is cleared or removed\n */\nfunction handle_clear_output(event, handle) {\n  var id = handle.cell.output_area._hv_plot_id;\n  var server_id = handle.cell.output_area._bokeh_server_id;\n  if (((id === undefined) || !(id in PyViz.plot_index)) && (server_id !== undefined)) { return; }\n  var comm = window.PyViz.comm_manager.get_client_comm(\"hv-extension-comm\", \"hv-extension-comm\", function () {});\n  if (server_id !== null) {\n    comm.send({event_type: 'server_delete', 'id': server_id});\n    return;\n  } else if (comm !== null) {\n    comm.send({event_type: 'delete', 'id': id});\n  }\n  delete PyViz.plot_index[id];\n  if ((window.Bokeh !== undefined) & (id in window.Bokeh.index)) {\n    var doc = window.Bokeh.index[id].model.document\n    doc.clear();\n    const i = window.Bokeh.documents.indexOf(doc);\n    if (i > -1) {\n      window.Bokeh.documents.splice(i, 1);\n    }\n  }\n}\n\n/**\n * Handle kernel restart event\n */\nfunction handle_kernel_cleanup(event, handle) {\n  delete PyViz.comms[\"hv-extension-comm\"];\n  window.PyViz.plot_index = {}\n}\n\n/**\n * Handle update_display_data messages\n */\nfunction handle_update_output(event, handle) {\n  handle_clear_output(event, {cell: {output_area: handle.output_area}})\n  handle_add_output(event, handle)\n}\n\nfunction register_renderer(events, OutputArea) {\n  function append_mime(data, metadata, element) {\n    // create a DOM node to render to\n    var toinsert = this.create_output_subarea(\n    metadata,\n    CLASS_NAME,\n    EXEC_MIME_TYPE\n    );\n    this.keyboard_manager.register_events(toinsert);\n    // Render to node\n    var props = {data: data, metadata: metadata[EXEC_MIME_TYPE]};\n    render(props, toinsert[0]);\n    element.append(toinsert);\n    return toinsert\n  }\n\n  events.on('output_added.OutputArea', handle_add_output);\n  events.on('output_updated.OutputArea', handle_update_output);\n  events.on('clear_output.CodeCell', handle_clear_output);\n  events.on('delete.Cell', handle_clear_output);\n  events.on('kernel_ready.Kernel', handle_kernel_cleanup);\n\n  OutputArea.prototype.register_mime_type(EXEC_MIME_TYPE, append_mime, {\n    safe: true,\n    index: 0\n  });\n}\n\nif (window.Jupyter !== undefined) {\n  try {\n    var events = require('base/js/events');\n    var OutputArea = require('notebook/js/outputarea').OutputArea;\n    if (OutputArea.prototype.mime_types().indexOf(EXEC_MIME_TYPE) == -1) {\n      register_renderer(events, OutputArea);\n    }\n  } catch(err) {\n  }\n}\n"
     },
     "metadata": {},
     "output_type": "display_data"
    },
    {
     "data": {
      "text/html": [
       "<style>.bk-root, .bk-root .bk:before, .bk-root .bk:after {\n",
       "  font-family: var(--jp-ui-font-size1);\n",
       "  font-size: var(--jp-ui-font-size1);\n",
       "  color: var(--jp-ui-font-color1);\n",
       "}\n",
       "</style>"
      ]
     },
     "metadata": {},
     "output_type": "display_data"
    },
    {
     "data": {},
     "metadata": {},
     "output_type": "display_data"
    },
    {
     "data": {
      "text/html": [
       "<div id='1004'>\n",
       "  <div class=\"bk-root\" id=\"99c1c73f-980c-4e89-be1c-e8c9e0f2d6b3\" data-root-id=\"1004\"></div>\n",
       "</div>\n",
       "<script type=\"application/javascript\">(function(root) {\n",
       "  function embed_document(root) {\n",
       "    var docs_json = {\"404bb064-255d-4e04-ab20-bb3c48959afc\":{\"defs\":[{\"extends\":null,\"module\":null,\"name\":\"ReactiveHTML1\",\"overrides\":[],\"properties\":[]},{\"extends\":null,\"module\":null,\"name\":\"FlexBox1\",\"overrides\":[],\"properties\":[{\"default\":\"flex-start\",\"kind\":null,\"name\":\"align_content\"},{\"default\":\"flex-start\",\"kind\":null,\"name\":\"align_items\"},{\"default\":\"row\",\"kind\":null,\"name\":\"flex_direction\"},{\"default\":\"wrap\",\"kind\":null,\"name\":\"flex_wrap\"},{\"default\":\"flex-start\",\"kind\":null,\"name\":\"justify_content\"}]},{\"extends\":null,\"module\":null,\"name\":\"GridStack1\",\"overrides\":[],\"properties\":[{\"default\":\"warn\",\"kind\":null,\"name\":\"mode\"},{\"default\":null,\"kind\":null,\"name\":\"ncols\"},{\"default\":null,\"kind\":null,\"name\":\"nrows\"},{\"default\":true,\"kind\":null,\"name\":\"allow_resize\"},{\"default\":true,\"kind\":null,\"name\":\"allow_drag\"},{\"default\":[],\"kind\":null,\"name\":\"state\"}]},{\"extends\":null,\"module\":null,\"name\":\"click1\",\"overrides\":[],\"properties\":[{\"default\":\"\",\"kind\":null,\"name\":\"terminal_output\"},{\"default\":\"\",\"kind\":null,\"name\":\"debug_name\"},{\"default\":0,\"kind\":null,\"name\":\"clears\"}]},{\"extends\":null,\"module\":null,\"name\":\"NotificationAreaBase1\",\"overrides\":[],\"properties\":[{\"default\":\"bottom-right\",\"kind\":null,\"name\":\"position\"},{\"default\":0,\"kind\":null,\"name\":\"_clear\"}]},{\"extends\":null,\"module\":null,\"name\":\"NotificationArea1\",\"overrides\":[],\"properties\":[{\"default\":[],\"kind\":null,\"name\":\"notifications\"},{\"default\":\"bottom-right\",\"kind\":null,\"name\":\"position\"},{\"default\":0,\"kind\":null,\"name\":\"_clear\"},{\"default\":[{\"background\":\"#ffc107\",\"icon\":{\"className\":\"fas fa-exclamation-triangle\",\"color\":\"white\",\"tagName\":\"i\"},\"type\":\"warning\"},{\"background\":\"#007bff\",\"icon\":{\"className\":\"fas fa-info-circle\",\"color\":\"white\",\"tagName\":\"i\"},\"type\":\"info\"}],\"kind\":null,\"name\":\"types\"}]},{\"extends\":null,\"module\":null,\"name\":\"Notification\",\"overrides\":[],\"properties\":[{\"default\":null,\"kind\":null,\"name\":\"background\"},{\"default\":3000,\"kind\":null,\"name\":\"duration\"},{\"default\":null,\"kind\":null,\"name\":\"icon\"},{\"default\":\"\",\"kind\":null,\"name\":\"message\"},{\"default\":null,\"kind\":null,\"name\":\"notification_type\"},{\"default\":false,\"kind\":null,\"name\":\"_destroyed\"}]},{\"extends\":null,\"module\":null,\"name\":\"TemplateActions1\",\"overrides\":[],\"properties\":[{\"default\":0,\"kind\":null,\"name\":\"open_modal\"},{\"default\":0,\"kind\":null,\"name\":\"close_modal\"}]},{\"extends\":null,\"module\":null,\"name\":\"MaterialTemplateActions1\",\"overrides\":[],\"properties\":[{\"default\":0,\"kind\":null,\"name\":\"open_modal\"},{\"default\":0,\"kind\":null,\"name\":\"close_modal\"}]}],\"roots\":{\"references\":[{\"attributes\":{\"high\":2.0,\"low\":1.0,\"name\":\"Marker\",\"palette\":[\"#440154\",\"#440255\",\"#440357\",\"#450558\",\"#45065a\",\"#45085b\",\"#46095c\",\"#460b5e\",\"#460c5f\",\"#460e61\",\"#470f62\",\"#471163\",\"#471265\",\"#471466\",\"#471567\",\"#471669\",\"#47186a\",\"#48196b\",\"#481a6c\",\"#481c6e\",\"#481d6f\",\"#481e70\",\"#482071\",\"#482172\",\"#482273\",\"#482374\",\"#472575\",\"#472676\",\"#472777\",\"#472878\",\"#472a79\",\"#472b7a\",\"#472c7b\",\"#462d7c\",\"#462f7c\",\"#46307d\",\"#46317e\",\"#45327f\",\"#45347f\",\"#453580\",\"#453681\",\"#443781\",\"#443982\",\"#433a83\",\"#433b83\",\"#433c84\",\"#423d84\",\"#423e85\",\"#424085\",\"#414186\",\"#414286\",\"#404387\",\"#404487\",\"#3f4587\",\"#3f4788\",\"#3e4888\",\"#3e4989\",\"#3d4a89\",\"#3d4b89\",\"#3d4c89\",\"#3c4d8a\",\"#3c4e8a\",\"#3b508a\",\"#3b518a\",\"#3a528b\",\"#3a538b\",\"#39548b\",\"#39558b\",\"#38568b\",\"#38578c\",\"#37588c\",\"#37598c\",\"#365a8c\",\"#365b8c\",\"#355c8c\",\"#355d8c\",\"#345e8d\",\"#345f8d\",\"#33608d\",\"#33618d\",\"#32628d\",\"#32638d\",\"#31648d\",\"#31658d\",\"#31668d\",\"#30678d\",\"#30688d\",\"#2f698d\",\"#2f6a8d\",\"#2e6b8e\",\"#2e6c8e\",\"#2e6d8e\",\"#2d6e8e\",\"#2d6f8e\",\"#2c708e\",\"#2c718e\",\"#2c728e\",\"#2b738e\",\"#2b748e\",\"#2a758e\",\"#2a768e\",\"#2a778e\",\"#29788e\",\"#29798e\",\"#287a8e\",\"#287a8e\",\"#287b8e\",\"#277c8e\",\"#277d8e\",\"#277e8e\",\"#267f8e\",\"#26808e\",\"#26818e\",\"#25828e\",\"#25838d\",\"#24848d\",\"#24858d\",\"#24868d\",\"#23878d\",\"#23888d\",\"#23898d\",\"#22898d\",\"#228a8d\",\"#228b8d\",\"#218c8d\",\"#218d8c\",\"#218e8c\",\"#208f8c\",\"#20908c\",\"#20918c\",\"#1f928c\",\"#1f938b\",\"#1f948b\",\"#1f958b\",\"#1f968b\",\"#1e978a\",\"#1e988a\",\"#1e998a\",\"#1e998a\",\"#1e9a89\",\"#1e9b89\",\"#1e9c89\",\"#1e9d88\",\"#1e9e88\",\"#1e9f88\",\"#1ea087\",\"#1fa187\",\"#1fa286\",\"#1fa386\",\"#20a485\",\"#20a585\",\"#21a685\",\"#21a784\",\"#22a784\",\"#23a883\",\"#23a982\",\"#24aa82\",\"#25ab81\",\"#26ac81\",\"#27ad80\",\"#28ae7f\",\"#29af7f\",\"#2ab07e\",\"#2bb17d\",\"#2cb17d\",\"#2eb27c\",\"#2fb37b\",\"#30b47a\",\"#32b57a\",\"#33b679\",\"#35b778\",\"#36b877\",\"#38b976\",\"#39b976\",\"#3bba75\",\"#3dbb74\",\"#3ebc73\",\"#40bd72\",\"#42be71\",\"#44be70\",\"#45bf6f\",\"#47c06e\",\"#49c16d\",\"#4bc26c\",\"#4dc26b\",\"#4fc369\",\"#51c468\",\"#53c567\",\"#55c666\",\"#57c665\",\"#59c764\",\"#5bc862\",\"#5ec961\",\"#60c960\",\"#62ca5f\",\"#64cb5d\",\"#67cc5c\",\"#69cc5b\",\"#6bcd59\",\"#6dce58\",\"#70ce56\",\"#72cf55\",\"#74d054\",\"#77d052\",\"#79d151\",\"#7cd24f\",\"#7ed24e\",\"#81d34c\",\"#83d34b\",\"#86d449\",\"#88d547\",\"#8bd546\",\"#8dd644\",\"#90d643\",\"#92d741\",\"#95d73f\",\"#97d83e\",\"#9ad83c\",\"#9dd93a\",\"#9fd938\",\"#a2da37\",\"#a5da35\",\"#a7db33\",\"#aadb32\",\"#addc30\",\"#afdc2e\",\"#b2dd2c\",\"#b5dd2b\",\"#b7dd29\",\"#bade27\",\"#bdde26\",\"#bfdf24\",\"#c2df22\",\"#c5df21\",\"#c7e01f\",\"#cae01e\",\"#cde01d\",\"#cfe11c\",\"#d2e11b\",\"#d4e11a\",\"#d7e219\",\"#dae218\",\"#dce218\",\"#dfe318\",\"#e1e318\",\"#e4e318\",\"#e7e419\",\"#e9e419\",\"#ece41a\",\"#eee51b\",\"#f1e51c\",\"#f3e51e\",\"#f6e61f\",\"#f8e621\",\"#fae622\",\"#fde724\"]},\"id\":\"1002\",\"type\":\"LinearColorMapper\"},{\"attributes\":{\"client_comm_id\":\"324ce2035c804515a1c7b880c6dbf4e9\",\"comm_id\":\"0e8ab7fe31824939bb362420c3a5a39b\",\"plot_id\":\"1004\"},\"id\":\"1005\",\"type\":\"panel.models.comm_manager.CommManager\"},{\"attributes\":{\"reload\":false},\"id\":\"1006\",\"type\":\"panel.models.location.Location\"},{\"attributes\":{},\"id\":\"1003\",\"type\":\"panel.models.vtk.VTKAxes\"},{\"attributes\":{\"arrays\":{\"142aa14c48ea08ed340c33f2a82342c9\":\"UEsDBBQAAAAIAOajQVZv6xhcggEAAFgLAAAlAAAAZGF0YS8xNDJhYTE0YzQ4ZWEwOGVkMzQwYzMzZjJhODIzNDJjOYVWMW7EMAzrn9r9ftO+qf2JnyCgmTxpMxDgAAMd7glFcFUDkWLszYkikRRlZ/s+1s/tpVwP+fzr81jt//32lwefP/dzkcco/jr/Gf/xfqy7zP/2eqxO8Qon5o+6mOe53xe8nOKxbsbDOmDdrIND/bHoI74fhCfjZJ0RT9bNCSfWrXGfOFHXiEecGb8R/uu+u/DnEH3fIX+X+NGPEV/7zQl/4FB+Q/y5Huo8CX/wQpw1jpMXznHE1/7pws9OvAK3mhfklX2IPpnEK88L4kc/nXw3OBcjvu6jCR92MS++mN9BOiDf4Fn3cRLf4IO8rlecG3wP1Do00XcTfu5iHp10iH09jzvpkOcd+z5Jh7xXfJFXE/014edOvPJc4H0yxHmyE6+Iq307Ja8afxN9McKffc7ndn0/D8If3yP+/L3qC+JsQmeT53k9R044Iy/izHnVfxPiaUI3W9wj6GcXcz0Wfce6Td4Ldb+68JvLunX+Ju+XWue+8AOf8zVOk3nU+a/i8fkvUEsBAhQDFAAAAAgA5qNBVm/rGFyCAQAAWAsAACUAAAAAAAAAAAAAAIABAAAAAGRhdGEvMTQyYWExNGM0OGVhMDhlZDM0MGMzM2YyYTgyMzQyYzlQSwUGAAAAAAEAAQBTAAAAxQEAAAAA\",\"43cd855470463556cc0f4b30c23d7f91\":\"UEsDBBQAAAAIAOajQVbUYedddgIAAIAMAAAlAAAAZGF0YS80M2NkODU1NDcwNDYzNTU2Y2MwZjRiMzBjMjNkN2Y5MV2O+VPOcRRGccmSJSGvJQl5ZWlHe9Fe2kuSJCVJSlL8+Zrx3JkzTzP9cN7v5z7nxLH/f8eP/k8c/Yc4wCfxW+DbKXwvse+n8f2MvSnBG749i/fn7H2pvT+P9xdwE7gtFZfiJnB7EfeX7L7M7i/bfTnur2AjsFUmLsNGYKtcnFtXsXfN9ips77rtFWzvBvZuYjOwXSGuwGZguyAuYDOwfQv7t22/0vbv2H6V7d+1/Wrs34Mj4KoUV8IRcFWJq+AIuKrF6boP3wPz1ZjvofmK5ntkvlrzPYbvCZwBd424Bs6Auyguwhlw14pr4Qy4n8L/zPx15q83f4P5G83fZP5m87fA/xwNgZY6cbbUi7OlQZwtjeJsaRJnS7M4W1rE2fICPS+tp9V62qyn3Xo6rKfTerqsp9t6etDTi6ZAW6s429rE2dYuzrYOcbZ1irOtS5xt3eJs6xFn2yv0vba+Puvrt74B6xu0viHrG7a+Eesbtb4x9GVbnzjb+sXZNiDOtkFxtg2Js21YnG0j4mwbFWfbGHreWM+49UxYz6T1TFnPtPXMWM+s9cyhJ1vGxdkyIc6WSXG2TImzZVqcLTPibJkVZ8sc/PPmf2v+BfO/M/+i+d+bf8n8H+CfhzPgXhAvwBlwL4oX4Qy4l8RLcKZv2Xwfzbdivk/mWzXfZ/OtwbcMR8C1Il6BI+BaFa/CEXCtYX/d9r/Y/obtf7X9Tdv/hv11bAa2N8Qb2Axsb4o3sZl7W7b33fa2be+H7e1gbwsbga1t8TY2Als7uN+1+592v2f3v3C/i5vA7Z54Dzf5ft/e/7b3B3i/jzeBtwf4fmjf/+D7IX5L/iv+B1BLAQIUAxQAAAAIAOajQVbUYedddgIAAIAMAAAlAAAAAAAAAAAAAACAAQAAAABkYXRhLzQzY2Q4NTU0NzA0NjM1NTZjYzBmNGIzMGMyM2Q3ZjkxUEsFBgAAAAABAAEAUwAAALkCAAAAAA==\",\"ce52d598102e2756143cf4f27a0b5911\":\"UEsDBBQAAAAIAOajQVaE1+BQMwMAAAAEAAAlAAAAZGF0YS9jZTUyZDU5ODEwMmUyNzU2MTQzY2Y0ZjI3YTBiNTkxMS3DCUzVBRzA8VWr1Wq1WjVAfI/HfQnIfcvx3vs/wiMUBAS55BC57/uWx/He/59ZZllmWWZZZllmWWpRappXeKAIAga4ttbW2lpra99+bX62j/G+dIz3Z2B8IBPTg1mYHtqA6eEczI/kYn40D/Nj+ZgfL0R5ogjlyU0oT5WgPF2K8kwZyrPlKA5bsDhWYHGqxOJcjWVpDRZdLRaXOiyGeiyuDVjcGlE8mlA8m1G8WlC8W1F821D82lH8OzAv68QcKIO6MC/vxhTcgylUhvViCu/DGCGj+kmOHiA5RsZuJSlOxg+SlDBIYqKVxCQrCclDJBiHWGGSyjDxFpkyQtxzMlWuHCF21Sixq0eJeV6mjRK91kb0OhtR6TLDRuR6mWknIktm2wnfIHPshOXKjXZC81RC81VCCmShSnCR3KSyvFiWyFKVoDK5WSWwXG5RCajQCKiUVRrLqmWNhn+trJP1Gn4NslHDt0k2yxYNn1bZpuHdfm+Hhlen7JLdGp49slf2aXj0ywEV961yUFpV3IbksBxRcf3/qLSpGOxStWPQ7Li8ILfJF+3ot8uXbOhfljvkKzZ0O0fRvSpfu3fXCLrX5Rty9zC6N+Ue+dYQ+rflXiv6d6y4vDuIy75BDO/J/VtxlW7vD+D2QT/uB/rx+LAPz4/68DrYi/fHPfgc6sH3k278Pu3CXwYc7iTwsw6CPm8n+Eg7IV+0EXa0lfAvW4j8qpkoGXOsibivG4n/poGE4/UknajDeKIW08kalG+rSfmuitSxSlaNVbDm+3LSftjMulNlZJwuJfN0Cdlnisn5sYi8s4UUnC2g6Fw+xT9tpOx8LuXnc6i4kE3VxSxqL66n/lIGjZfTabm8lraf0+gcX0P3+Gr6rqxk4Eoq1qspDF9TsF0zo143su16MtsnEtkxsYKdN+LZdSOW3Tej2XMzkr2TEeybDGP/rRAO3Arm4FQQh6YCODztz5FpP45O+3DsthfHb3tycsadsRlXTs0YODOr59ysjguzS7k058z43BKuzjkxcceRyTsOTMmZXxyYk/Py7rwjv8rf5p34fWEJfyw48+eCjr8W9fy9aOCfRVf+vevOf1BLAQIUAxQAAAAIAOajQVaE1+BQMwMAAAAEAAAlAAAAAAAAAAAAAACAAQAAAABkYXRhL2NlNTJkNTk4MTAyZTI3NTYxNDNjZjRmMjdhMGI1OTExUEsFBgAAAAABAAEAUwAAAHYDAAAAAA==\",\"cecef401550ad64d852c1c39ce472dbe\":\"UEsDBBQAAAAIAOajQVZRSjtIIQAAACADAAAlAAAAZGF0YS9jZWNlZjQwMTU1MGFkNjRkODUyYzFjMzljZTQ3MmRiZWNkYGBgHCSYiQxxSuSoIU9NNZSoo4YaSuTJkSNFfKAwAFBLAQIUAxQAAAAIAOajQVZRSjtIIQAAACADAAAlAAAAAAAAAAAAAACAAQAAAABkYXRhL2NlY2VmNDAxNTUwYWQ2NGQ4NTJjMWMzOWNlNDcyZGJlUEsFBgAAAAABAAEAUwAAAGQAAAAAAA==\"},\"axes\":{\"id\":\"1003\"},\"color_mappers\":[{\"id\":\"1002\"}],\"height\":800,\"margin\":[5,5,5,5],\"scene\":{\"calls\":[[\"addRenderer\",[\"instance:${bd71eca8-36c3-45c4-b24f-0ddf28693ddf000055ebc75538b0}\"]],[\"addRenderer\",[\"instance:${bd71eca8-36c3-45c4-b24f-0ddf28693ddf000055ebc7554b00}\"]]],\"dependencies\":[{\"calls\":[[\"setActiveCamera\",[\"instance:${000055ebc7553ea0}\"]],[\"addViewProp\",[\"instance:${bd71eca8-36c3-45c4-b24f-0ddf28693ddf000055ebc7526f80}\"]]],\"dependencies\":[{\"id\":\"000055ebc7553ea0\",\"parent\":\"bd71eca8-36c3-45c4-b24f-0ddf28693ddf000055ebc75538b0\",\"properties\":{\"clippingRange\":[1.5558032638058337,4.219293994002424],\"focalPoint\":[0.5,0.5,0.0],\"position\":[2.077350269189626,2.077350269189626,1.5773502691896262],\"viewUp\":[0.0,0.0,1.0]},\"type\":\"vtkOpenGLCamera\"},{\"calls\":[[\"setMapper\",[\"instance:${bd71eca8-36c3-45c4-b24f-0ddf28693ddf000055ebc7307ac0}\"]],[\"setProperty\",[\"instance:${bd71eca8-36c3-45c4-b24f-0ddf28693ddf000055ebc77232e0}\"]]],\"dependencies\":[{\"calls\":[[\"setInputData\",[\"instance:${bd71eca8-36c3-45c4-b24f-0ddf28693ddf000055ebc7307ac0-dataset-0}\",0]],[\"setLookupTable\",[\"instance:${bd71eca8-36c3-45c4-b24f-0ddf28693ddf000055ebc75600a0}\"]]],\"dependencies\":[{\"id\":\"bd71eca8-36c3-45c4-b24f-0ddf28693ddf000055ebc7307ac0-dataset-0\",\"parent\":\"bd71eca8-36c3-45c4-b24f-0ddf28693ddf000055ebc7307ac0\",\"properties\":{\"fields\":[{\"dataType\":\"Int32Array\",\"hash\":\"cecef401550ad64d852c1c39ce472dbe\",\"location\":\"cellData\",\"name\":\"Marker\",\"numberOfComponents\":1,\"ranges\":[{\"component\":null,\"max\":2.0,\"min\":1.0}],\"registration\":\"setScalars\",\"size\":200,\"vtkClass\":\"vtkDataArray\"}],\"points\":{\"dataType\":\"Float64Array\",\"hash\":\"142aa14c48ea08ed340c33f2a82342c9\",\"name\":\"Points\",\"numberOfComponents\":3,\"ranges\":[{\"component\":null,\"max\":1.0,\"min\":0.0},{\"component\":null,\"max\":1.0,\"min\":0.0},{\"component\":null,\"max\":0.0,\"min\":0.0},{\"component\":null,\"max\":1.4142135623730951,\"min\":0.0}],\"size\":363,\"vtkClass\":\"vtkPoints\"},\"polys\":{\"dataType\":\"Uint32Array\",\"hash\":\"43cd855470463556cc0f4b30c23d7f91\",\"name\":null,\"numberOfComponents\":1,\"ranges\":[{\"component\":null,\"max\":120.0,\"min\":0.0}],\"size\":800,\"vtkClass\":\"vtkCellArray\"}},\"type\":\"vtkPolyData\"},{\"arrays\":[{\"dataType\":\"Uint8Array\",\"hash\":\"ce52d598102e2756143cf4f27a0b5911\",\"name\":null,\"numberOfComponents\":4,\"ranges\":[{\"component\":null,\"max\":253.0,\"min\":30.0},{\"component\":null,\"max\":231.0,\"min\":1.0},{\"component\":null,\"max\":142.0,\"min\":24.0},{\"component\":null,\"max\":255.0,\"min\":255.0},{\"component\":null,\"max\":428.5918804643877,\"min\":276.95848064285735}],\"registration\":\"setTable\",\"size\":1024,\"vtkClass\":\"vtkDataArray\"}],\"id\":\"bd71eca8-36c3-45c4-b24f-0ddf28693ddf000055ebc75600a0\",\"parent\":\"bd71eca8-36c3-45c4-b24f-0ddf28693ddf000055ebc7307ac0\",\"properties\":{\"aboveRangeColor\":[1.0,1.0,1.0,1.0],\"alpha\":1.0,\"belowRangeColor\":[0.0,0.0,0.0,1.0],\"hueRange\":[0.5,0],\"indexedLookup\":0,\"nanColor\":[0.6627450980392157,0.6627450980392157,0.6627450980392157,1.0],\"numberOfColors\":256,\"range\":[1.0,2.0],\"saturationRange\":[1.0,1.0],\"useAboveRangeColor\":false,\"useBelowRangeColor\":false,\"valueRange\":[1.0,2.0],\"vectorComponent\":0,\"vectorMode\":1,\"vectorSize\":-1},\"type\":\"vtkLookupTable\"}],\"id\":\"bd71eca8-36c3-45c4-b24f-0ddf28693ddf000055ebc7307ac0\",\"parent\":\"bd71eca8-36c3-45c4-b24f-0ddf28693ddf000055ebc7526f80\",\"properties\":{\"arrayAccessMode\":1,\"colorByArrayName\":null,\"colorMode\":1,\"interpolateScalarsBeforeMapping\":1,\"renderTime\":0.0,\"resolveCoincidentTopology\":0,\"scalarMode\":2,\"scalarRange\":[1.0,2.0],\"scalarVisibility\":1,\"useLookupTableScalarRange\":0},\"type\":\"vtkDataSetMapper\"},{\"id\":\"bd71eca8-36c3-45c4-b24f-0ddf28693ddf000055ebc77232e0\",\"parent\":\"bd71eca8-36c3-45c4-b24f-0ddf28693ddf000055ebc7526f80\",\"properties\":{\"ambient\":0.0,\"ambientColor\":[1.0,1.0,1.0],\"backfaceCulling\":0,\"color\":[1.0,1.0,1.0],\"diffuse\":1.0,\"diffuseColor\":[1.0,1.0,1.0],\"edgeColor\":[0.0,0.0,0.0],\"edgeVisibility\":1,\"frontfaceCulling\":0,\"interpolation\":0,\"lighting\":1,\"lineWidth\":1.0,\"opacity\":1.0,\"pointSize\":5.0,\"representation\":2,\"specular\":0.0,\"specularColor\":[1.0,1.0,1.0],\"specularPower\":100.0},\"type\":\"vtkOpenGLProperty\"}],\"id\":\"bd71eca8-36c3-45c4-b24f-0ddf28693ddf000055ebc7526f80\",\"parent\":\"bd71eca8-36c3-45c4-b24f-0ddf28693ddf000055ebc75538b0\",\"properties\":{\"dragable\":1,\"forceOpaque\":false,\"forceTranslucent\":false,\"orientation\":[0.0,-0.0,0.0],\"origin\":[0.0,0.0,0.0],\"pickable\":1,\"position\":[0.0,0.0,0.0],\"scale\":[1.0,1.0,1.0],\"useBounds\":true,\"visibility\":1},\"type\":\"vtkOpenGLActor\"}],\"id\":\"bd71eca8-36c3-45c4-b24f-0ddf28693ddf000055ebc75538b0\",\"parent\":\"bd71eca8-36c3-45c4-b24f-0ddf28693ddf000055ebc7549890\",\"properties\":{\"background\":[0.2980392156862745,0.2980392156862745,0.2980392156862745],\"background2\":[0.2,0.2,0.2],\"clippingRangeExpansion\":0.5,\"interactive\":1,\"layer\":0,\"lightFollowCamera\":1,\"maximumNumberOfPeels\":4,\"nearClippingPlaneTolerance\":0.001,\"occlusionRatio\":0.0,\"preserveColorBuffer\":0,\"preserveDepthBuffer\":0,\"twoSidedLighting\":1,\"useDepthPeeling\":0,\"useShadows\":0,\"viewport\":[0.0,0.0,1.0,1.0]},\"type\":\"vtkOpenGLRenderer\"},{\"calls\":[[\"setActiveCamera\",[\"instance:${000055ebc75550f0}\"]]],\"dependencies\":[{\"id\":\"000055ebc75550f0\",\"parent\":\"bd71eca8-36c3-45c4-b24f-0ddf28693ddf000055ebc7554b00\",\"properties\":{\"clippingRange\":[0.01,1000.01],\"focalPoint\":[0.0,0.0,0.0],\"position\":[0.0,0.0,1.0],\"viewUp\":[0.0,1.0,0.0]},\"type\":\"vtkOpenGLCamera\"}],\"id\":\"bd71eca8-36c3-45c4-b24f-0ddf28693ddf000055ebc7554b00\",\"parent\":\"bd71eca8-36c3-45c4-b24f-0ddf28693ddf000055ebc7549890\",\"properties\":{\"background\":[0.2980392156862745,0.2980392156862745,0.2980392156862745],\"background2\":[0.2,0.2,0.2],\"clippingRangeExpansion\":0.5,\"interactive\":0,\"layer\":1,\"lightFollowCamera\":1,\"maximumNumberOfPeels\":4,\"nearClippingPlaneTolerance\":0.0,\"occlusionRatio\":0.0,\"preserveColorBuffer\":1,\"preserveDepthBuffer\":0,\"twoSidedLighting\":1,\"useDepthPeeling\":0,\"useShadows\":0,\"viewport\":[0.0,0.0,1.0,1.0]},\"type\":\"vtkOpenGLRenderer\"}],\"id\":\"bd71eca8-36c3-45c4-b24f-0ddf28693ddf000055ebc7549890\",\"mtime\":3376,\"parent\":\"bd71eca8-36c3-45c4-b24f-0ddf28693ddf0x0\",\"properties\":{\"numberOfLayers\":2},\"type\":\"vtkXOpenGLRenderWindow\"},\"sizing_mode\":\"stretch_width\",\"width\":800},\"id\":\"1004\",\"type\":\"panel.models.vtk.VTKSynchronizedPlot\"}],\"root_ids\":[\"1004\",\"1005\",\"1006\"]},\"title\":\"Bokeh Application\",\"version\":\"2.4.3\"}};\n",
       "    var render_items = [{\"docid\":\"404bb064-255d-4e04-ab20-bb3c48959afc\",\"root_ids\":[\"1004\"],\"roots\":{\"1004\":\"99c1c73f-980c-4e89-be1c-e8c9e0f2d6b3\"}}];\n",
       "    root.Bokeh.embed.embed_items_notebook(docs_json, render_items);\n",
       "    for (const render_item of render_items) {\n",
       "      for (const root_id of render_item.root_ids) {\n",
       "\tconst id_el = document.getElementById(root_id)\n",
       "\tif (id_el.children.length && (id_el.children[0].className === 'bk-root')) {\n",
       "\t  const root_el = id_el.children[0]\n",
       "\t  root_el.id = root_el.id + '-rendered'\n",
       "\t}\n",
       "      }\n",
       "    }\n",
       "  }\n",
       "  if (root.Bokeh !== undefined && root.Bokeh.Panel !== undefined && ( root['vtk'] !== undefined)) {\n",
       "    embed_document(root);\n",
       "  } else {\n",
       "    var attempts = 0;\n",
       "    var timer = setInterval(function(root) {\n",
       "      if (root.Bokeh !== undefined && root.Bokeh.Panel !== undefined && (root['vtk'] !== undefined)) {\n",
       "        clearInterval(timer);\n",
       "        embed_document(root);\n",
       "      } else if (document.readyState == \"complete\") {\n",
       "        attempts++;\n",
       "        if (attempts > 200) {\n",
       "          clearInterval(timer);\n",
       "          console.log(\"Bokeh: ERROR: Unable to run BokehJS code because BokehJS library is missing\");\n",
       "        }\n",
       "      }\n",
       "    }, 25, root)\n",
       "  }\n",
       "})(window);</script>"
      ]
     },
     "metadata": {},
     "output_type": "display_data"
    }
   ],
   "source": [
    "problem = LinearProblem(a, L, bcs=bcs, petsc_options={\"ksp_type\": \"preonly\", \"pc_type\": \"lu\"})\n",
    "uh = problem.solve()\n",
    "\n",
    "# Filter out ghosted cells\n",
    "num_cells_local = mesh.topology.index_map(mesh.topology.dim).size_local\n",
    "marker = np.zeros(num_cells_local, dtype=np.int32)\n",
    "cells_0 = cells_0[cells_0<num_cells_local]\n",
    "cells_1 = cells_1[cells_1<num_cells_local]\n",
    "marker[cells_0] = 1\n",
    "marker[cells_1] = 2\n",
    "topology, cell_types, x = create_vtk_mesh(mesh, mesh.topology.dim, np.arange(num_cells_local, dtype=np.int32))\n",
    "\n",
    "p = pyvista.Plotter(window_size=[800, 800])\n",
    "grid = pyvista.UnstructuredGrid(topology, cell_types, x)\n",
    "grid.cell_data[\"Marker\"] = marker\n",
    "grid.set_active_scalars(\"Marker\")\n",
    "p.add_mesh(grid, show_edges=True)\n",
    "if pyvista.OFF_SCREEN:\n",
    "    figure = p.screenshot(\"subdomains_structured.png\")\n",
    "p.show()"
   ]
  },
  {
   "cell_type": "code",
   "execution_count": 7,
   "metadata": {},
   "outputs": [
    {
     "data": {},
     "metadata": {},
     "output_type": "display_data"
    },
    {
     "data": {
      "text/html": [
       "<div id='1009'>\n",
       "  <div class=\"bk-root\" id=\"01068ca8-697a-4f4a-a667-ff02a66153ad\" data-root-id=\"1009\"></div>\n",
       "</div>\n",
       "<script type=\"application/javascript\">(function(root) {\n",
       "  function embed_document(root) {\n",
       "    var docs_json = {\"cddae2df-a145-488a-916a-bc19e65d5ff5\":{\"defs\":[{\"extends\":null,\"module\":null,\"name\":\"ReactiveHTML1\",\"overrides\":[],\"properties\":[]},{\"extends\":null,\"module\":null,\"name\":\"FlexBox1\",\"overrides\":[],\"properties\":[{\"default\":\"flex-start\",\"kind\":null,\"name\":\"align_content\"},{\"default\":\"flex-start\",\"kind\":null,\"name\":\"align_items\"},{\"default\":\"row\",\"kind\":null,\"name\":\"flex_direction\"},{\"default\":\"wrap\",\"kind\":null,\"name\":\"flex_wrap\"},{\"default\":\"flex-start\",\"kind\":null,\"name\":\"justify_content\"}]},{\"extends\":null,\"module\":null,\"name\":\"GridStack1\",\"overrides\":[],\"properties\":[{\"default\":\"warn\",\"kind\":null,\"name\":\"mode\"},{\"default\":null,\"kind\":null,\"name\":\"ncols\"},{\"default\":null,\"kind\":null,\"name\":\"nrows\"},{\"default\":true,\"kind\":null,\"name\":\"allow_resize\"},{\"default\":true,\"kind\":null,\"name\":\"allow_drag\"},{\"default\":[],\"kind\":null,\"name\":\"state\"}]},{\"extends\":null,\"module\":null,\"name\":\"click1\",\"overrides\":[],\"properties\":[{\"default\":\"\",\"kind\":null,\"name\":\"terminal_output\"},{\"default\":\"\",\"kind\":null,\"name\":\"debug_name\"},{\"default\":0,\"kind\":null,\"name\":\"clears\"}]},{\"extends\":null,\"module\":null,\"name\":\"NotificationAreaBase1\",\"overrides\":[],\"properties\":[{\"default\":\"bottom-right\",\"kind\":null,\"name\":\"position\"},{\"default\":0,\"kind\":null,\"name\":\"_clear\"}]},{\"extends\":null,\"module\":null,\"name\":\"NotificationArea1\",\"overrides\":[],\"properties\":[{\"default\":[],\"kind\":null,\"name\":\"notifications\"},{\"default\":\"bottom-right\",\"kind\":null,\"name\":\"position\"},{\"default\":0,\"kind\":null,\"name\":\"_clear\"},{\"default\":[{\"background\":\"#ffc107\",\"icon\":{\"className\":\"fas fa-exclamation-triangle\",\"color\":\"white\",\"tagName\":\"i\"},\"type\":\"warning\"},{\"background\":\"#007bff\",\"icon\":{\"className\":\"fas fa-info-circle\",\"color\":\"white\",\"tagName\":\"i\"},\"type\":\"info\"}],\"kind\":null,\"name\":\"types\"}]},{\"extends\":null,\"module\":null,\"name\":\"Notification\",\"overrides\":[],\"properties\":[{\"default\":null,\"kind\":null,\"name\":\"background\"},{\"default\":3000,\"kind\":null,\"name\":\"duration\"},{\"default\":null,\"kind\":null,\"name\":\"icon\"},{\"default\":\"\",\"kind\":null,\"name\":\"message\"},{\"default\":null,\"kind\":null,\"name\":\"notification_type\"},{\"default\":false,\"kind\":null,\"name\":\"_destroyed\"}]},{\"extends\":null,\"module\":null,\"name\":\"TemplateActions1\",\"overrides\":[],\"properties\":[{\"default\":0,\"kind\":null,\"name\":\"open_modal\"},{\"default\":0,\"kind\":null,\"name\":\"close_modal\"}]},{\"extends\":null,\"module\":null,\"name\":\"MaterialTemplateActions1\",\"overrides\":[],\"properties\":[{\"default\":0,\"kind\":null,\"name\":\"open_modal\"},{\"default\":0,\"kind\":null,\"name\":\"close_modal\"}]}],\"roots\":{\"references\":[{\"attributes\":{\"high\":2.8567830371124066,\"low\":1.0,\"name\":\"u\",\"palette\":[\"#440154\",\"#440255\",\"#440357\",\"#450558\",\"#45065a\",\"#45085b\",\"#46095c\",\"#460b5e\",\"#460c5f\",\"#460e61\",\"#470f62\",\"#471163\",\"#471265\",\"#471466\",\"#471567\",\"#471669\",\"#47186a\",\"#48196b\",\"#481a6c\",\"#481c6e\",\"#481d6f\",\"#481e70\",\"#482071\",\"#482172\",\"#482273\",\"#482374\",\"#472575\",\"#472676\",\"#472777\",\"#472878\",\"#472a79\",\"#472b7a\",\"#472c7b\",\"#462d7c\",\"#462f7c\",\"#46307d\",\"#46317e\",\"#45327f\",\"#45347f\",\"#453580\",\"#453681\",\"#443781\",\"#443982\",\"#433a83\",\"#433b83\",\"#433c84\",\"#423d84\",\"#423e85\",\"#424085\",\"#414186\",\"#414286\",\"#404387\",\"#404487\",\"#3f4587\",\"#3f4788\",\"#3e4888\",\"#3e4989\",\"#3d4a89\",\"#3d4b89\",\"#3d4c89\",\"#3c4d8a\",\"#3c4e8a\",\"#3b508a\",\"#3b518a\",\"#3a528b\",\"#3a538b\",\"#39548b\",\"#39558b\",\"#38568b\",\"#38578c\",\"#37588c\",\"#37598c\",\"#365a8c\",\"#365b8c\",\"#355c8c\",\"#355d8c\",\"#345e8d\",\"#345f8d\",\"#33608d\",\"#33618d\",\"#32628d\",\"#32638d\",\"#31648d\",\"#31658d\",\"#31668d\",\"#30678d\",\"#30688d\",\"#2f698d\",\"#2f6a8d\",\"#2e6b8e\",\"#2e6c8e\",\"#2e6d8e\",\"#2d6e8e\",\"#2d6f8e\",\"#2c708e\",\"#2c718e\",\"#2c728e\",\"#2b738e\",\"#2b748e\",\"#2a758e\",\"#2a768e\",\"#2a778e\",\"#29788e\",\"#29798e\",\"#287a8e\",\"#287a8e\",\"#287b8e\",\"#277c8e\",\"#277d8e\",\"#277e8e\",\"#267f8e\",\"#26808e\",\"#26818e\",\"#25828e\",\"#25838d\",\"#24848d\",\"#24858d\",\"#24868d\",\"#23878d\",\"#23888d\",\"#23898d\",\"#22898d\",\"#228a8d\",\"#228b8d\",\"#218c8d\",\"#218d8c\",\"#218e8c\",\"#208f8c\",\"#20908c\",\"#20918c\",\"#1f928c\",\"#1f938b\",\"#1f948b\",\"#1f958b\",\"#1f968b\",\"#1e978a\",\"#1e988a\",\"#1e998a\",\"#1e998a\",\"#1e9a89\",\"#1e9b89\",\"#1e9c89\",\"#1e9d88\",\"#1e9e88\",\"#1e9f88\",\"#1ea087\",\"#1fa187\",\"#1fa286\",\"#1fa386\",\"#20a485\",\"#20a585\",\"#21a685\",\"#21a784\",\"#22a784\",\"#23a883\",\"#23a982\",\"#24aa82\",\"#25ab81\",\"#26ac81\",\"#27ad80\",\"#28ae7f\",\"#29af7f\",\"#2ab07e\",\"#2bb17d\",\"#2cb17d\",\"#2eb27c\",\"#2fb37b\",\"#30b47a\",\"#32b57a\",\"#33b679\",\"#35b778\",\"#36b877\",\"#38b976\",\"#39b976\",\"#3bba75\",\"#3dbb74\",\"#3ebc73\",\"#40bd72\",\"#42be71\",\"#44be70\",\"#45bf6f\",\"#47c06e\",\"#49c16d\",\"#4bc26c\",\"#4dc26b\",\"#4fc369\",\"#51c468\",\"#53c567\",\"#55c666\",\"#57c665\",\"#59c764\",\"#5bc862\",\"#5ec961\",\"#60c960\",\"#62ca5f\",\"#64cb5d\",\"#67cc5c\",\"#69cc5b\",\"#6bcd59\",\"#6dce58\",\"#70ce56\",\"#72cf55\",\"#74d054\",\"#77d052\",\"#79d151\",\"#7cd24f\",\"#7ed24e\",\"#81d34c\",\"#83d34b\",\"#86d449\",\"#88d547\",\"#8bd546\",\"#8dd644\",\"#90d643\",\"#92d741\",\"#95d73f\",\"#97d83e\",\"#9ad83c\",\"#9dd93a\",\"#9fd938\",\"#a2da37\",\"#a5da35\",\"#a7db33\",\"#aadb32\",\"#addc30\",\"#afdc2e\",\"#b2dd2c\",\"#b5dd2b\",\"#b7dd29\",\"#bade27\",\"#bdde26\",\"#bfdf24\",\"#c2df22\",\"#c5df21\",\"#c7e01f\",\"#cae01e\",\"#cde01d\",\"#cfe11c\",\"#d2e11b\",\"#d4e11a\",\"#d7e219\",\"#dae218\",\"#dce218\",\"#dfe318\",\"#e1e318\",\"#e4e318\",\"#e7e419\",\"#e9e419\",\"#ece41a\",\"#eee51b\",\"#f1e51c\",\"#f3e51e\",\"#f6e61f\",\"#f8e621\",\"#fae622\",\"#fde724\"]},\"id\":\"1007\",\"type\":\"LinearColorMapper\"},{\"attributes\":{\"arrays\":{\"43cd855470463556cc0f4b30c23d7f91\":\"UEsDBBQAAAAIAOajQVbUYedddgIAAIAMAAAlAAAAZGF0YS80M2NkODU1NDcwNDYzNTU2Y2MwZjRiMzBjMjNkN2Y5MV2O+VPOcRRGccmSJSGvJQl5ZWlHe9Fe2kuSJCVJSlL8+Zrx3JkzTzP9cN7v5z7nxLH/f8eP/k8c/Yc4wCfxW+DbKXwvse+n8f2MvSnBG749i/fn7H2pvT+P9xdwE7gtFZfiJnB7EfeX7L7M7i/bfTnur2AjsFUmLsNGYKtcnFtXsXfN9ips77rtFWzvBvZuYjOwXSGuwGZguyAuYDOwfQv7t22/0vbv2H6V7d+1/Wrs34Mj4KoUV8IRcFWJq+AIuKrF6boP3wPz1ZjvofmK5ntkvlrzPYbvCZwBd424Bs6Auyguwhlw14pr4Qy4n8L/zPx15q83f4P5G83fZP5m87fA/xwNgZY6cbbUi7OlQZwtjeJsaRJnS7M4W1rE2fICPS+tp9V62qyn3Xo6rKfTerqsp9t6etDTi6ZAW6s429rE2dYuzrYOcbZ1irOtS5xt3eJs6xFn2yv0vba+Puvrt74B6xu0viHrG7a+Eesbtb4x9GVbnzjb+sXZNiDOtkFxtg2Js21YnG0j4mwbFWfbGHreWM+49UxYz6T1TFnPtPXMWM+s9cyhJ1vGxdkyIc6WSXG2TImzZVqcLTPibJkVZ8sc/PPmf2v+BfO/M/+i+d+bf8n8H+CfhzPgXhAvwBlwL4oX4Qy4l8RLcKZv2Xwfzbdivk/mWzXfZ/OtwbcMR8C1Il6BI+BaFa/CEXCtYX/d9r/Y/obtf7X9Tdv/hv11bAa2N8Qb2Axsb4o3sZl7W7b33fa2be+H7e1gbwsbga1t8TY2Als7uN+1+592v2f3v3C/i5vA7Z54Dzf5ft/e/7b3B3i/jzeBtwf4fmjf/+D7IX5L/iv+B1BLAQIUAxQAAAAIAOajQVbUYedddgIAAIAMAAAlAAAAAAAAAAAAAACAAQAAAABkYXRhLzQzY2Q4NTU0NzA0NjM1NTZjYzBmNGIzMGMyM2Q3ZjkxUEsFBgAAAAABAAEAUwAAALkCAAAAAA==\",\"4778900442480e0ca6a1d3f90e483ab5\":\"UEsDBBQAAAAIAOajQVZ0CzharwEAAFgLAAAlAAAAZGF0YS80Nzc4OTAwNDQyNDgwZTBjYTZhMWQzZjkwZTQ4M2FiNYWVQU4DMQxFuRNlhzQL7lJYcA7u0HKSSFxgpFIWWXkDSJGQIiFRVixB04kZ+X87k80oqeu873wnx8M0Pof7l++fh9ebpwszTuH6424aadCVY8uD6/O8ruQZKb6ff4m/207jI8x/dTmNTPERJ+bXfTHP5jwvK7qE4nFfy8N1wH1tHZb883gPefR3jEcey8l1Rh5bNyFO3Ffj+udVKB45Lf9I/P1zF+JHTnvuBfLnkF/3wXjfb0L8yhH5DfntfljnSvyqCzn3jaPv50rxvn9y4GchXcod9Qvqsj5En1TSZfsF+VOo1/p3iUe9tg7owxz0i4T9i3qtnwvVAfXafqxUB9TV9F/rV9d/z+Nr0C/G7906JKqD1sf3cw76UagOOvf7sVAdbL9Xqg/W4dDmfb2oK5Eu6wf0cyZdti8K6fXvk0K6NA517VpcpGvj8ifit/rRnzm8t5Ff/4/8qgv5t+3//XNBzkSc1od8n/t9JMSpeZFT+SNOnycRj3L23xH0sxDPzPG2cu64bwrfBf+8cuA3Cfe9dfOn8H3x65xX/MD3vH+fj2Ge5+D+D+Lb+3H6X/8DUEsBAhQDFAAAAAgA5qNBVnQLOFqvAQAAWAsAACUAAAAAAAAAAAAAAIABAAAAAGRhdGEvNDc3ODkwMDQ0MjQ4MGUwY2E2YTFkM2Y5MGU0ODNhYjVQSwUGAAAAAAEAAQBTAAAA8gEAAAAA\",\"ce52d598102e2756143cf4f27a0b5911\":\"UEsDBBQAAAAIAOajQVaE1+BQMwMAAAAEAAAlAAAAZGF0YS9jZTUyZDU5ODEwMmUyNzU2MTQzY2Y0ZjI3YTBiNTkxMS3DCUzVBRzA8VWr1Wq1WjVAfI/HfQnIfcvx3vs/wiMUBAS55BC57/uWx/He/59ZZllmWWZZZllmWWpRappXeKAIAga4ttbW2lpra99+bX62j/G+dIz3Z2B8IBPTg1mYHtqA6eEczI/kYn40D/Nj+ZgfL0R5ogjlyU0oT5WgPF2K8kwZyrPlKA5bsDhWYHGqxOJcjWVpDRZdLRaXOiyGeiyuDVjcGlE8mlA8m1G8WlC8W1F821D82lH8OzAv68QcKIO6MC/vxhTcgylUhvViCu/DGCGj+kmOHiA5RsZuJSlOxg+SlDBIYqKVxCQrCclDJBiHWGGSyjDxFpkyQtxzMlWuHCF21Sixq0eJeV6mjRK91kb0OhtR6TLDRuR6mWknIktm2wnfIHPshOXKjXZC81RC81VCCmShSnCR3KSyvFiWyFKVoDK5WSWwXG5RCajQCKiUVRrLqmWNhn+trJP1Gn4NslHDt0k2yxYNn1bZpuHdfm+Hhlen7JLdGp49slf2aXj0ywEV961yUFpV3IbksBxRcf3/qLSpGOxStWPQ7Li8ILfJF+3ot8uXbOhfljvkKzZ0O0fRvSpfu3fXCLrX5Rty9zC6N+Ue+dYQ+rflXiv6d6y4vDuIy75BDO/J/VtxlW7vD+D2QT/uB/rx+LAPz4/68DrYi/fHPfgc6sH3k278Pu3CXwYc7iTwsw6CPm8n+Eg7IV+0EXa0lfAvW4j8qpkoGXOsibivG4n/poGE4/UknajDeKIW08kalG+rSfmuitSxSlaNVbDm+3LSftjMulNlZJwuJfN0Cdlnisn5sYi8s4UUnC2g6Fw+xT9tpOx8LuXnc6i4kE3VxSxqL66n/lIGjZfTabm8lraf0+gcX0P3+Gr6rqxk4Eoq1qspDF9TsF0zo143su16MtsnEtkxsYKdN+LZdSOW3Tej2XMzkr2TEeybDGP/rRAO3Arm4FQQh6YCODztz5FpP45O+3DsthfHb3tycsadsRlXTs0YODOr59ysjguzS7k058z43BKuzjkxcceRyTsOTMmZXxyYk/Py7rwjv8rf5p34fWEJfyw48+eCjr8W9fy9aOCfRVf+vevOf1BLAQIUAxQAAAAIAOajQVaE1+BQMwMAAAAEAAAlAAAAAAAAAAAAAACAAQAAAABkYXRhL2NlNTJkNTk4MTAyZTI3NTYxNDNjZjRmMjdhMGI1OTExUEsFBgAAAAABAAEAUwAAAHYDAAAAAA==\",\"ce574fb458ed8bb787a68e9410fdaa70\":\"UEsDBBQAAAAIAOajQVbgzw6hlAMAAMgDAAAlAAAAZGF0YS9jZTU3NGZiNDU4ZWQ4YmI3ODdhNjhlOTQxMGZkYWE3MEWQf1CTdRzHn23PNvIyDCV+hATJwvGbmg4V+Xx1phwgSISYlEtPJuXRgg7RGzbEYBYgEwErhBZwoJ44vBQQFlqWwsrQSy7YJtiPCxRq7Gl7tmd7HhZ513j/9/583u/3H6/gEsevR6dooAYmYw/xGRiqnk28HcCAaHvRB4l2GkjhyUs+ShrqyvYEJiQz0Ptc3s6ZGhpWDJobfghjIL7zz3zsrgsSmoOTqusZyDR8L4uccIGoK+mZjf00RISGUJXvM+C1z7K/1eiEoew0oc3NwDgW5nZOO+HNdP/Ae140HF8zLz+EM/DVmT8e5BgZ8DvOf7e5jYL0mP7p1qp58G/ayTdqKdCPELLtz7rAWWEY/nQHDbWCuChVAQMC2X+aB5ffXGF4hANGMsvj12JsJLlXljotcgA+ENxhu0/Bt2MPAz7MdkGI9PcbnT00XF16cLKbZGD3Bt0DxWMWip8Ix9cXkdA4KxveHIAjn6JKPk9BQt/Njset2Q5I3+sq9V3hBH1GpJ3X6wKOYCirPJGBa94m8+rzLMSprstWYzg6ErL8zqDSClcV4aVTjVwkj3Is8a60wib1I8zSQEJUY7ntVo0DVrqNCoHcCbyLR28axDQ4zLlelRtYaOb66NnSHg7KV3z06joFF138uz2nK4cATdLekeeVPMT/4vABLJcAbhhEH/vMCk9XXQht/46EkrSYT4YnHdDfWrVAzgkvte2WLtNg6Er0CePddRxU+M7piiYhF2m1dgsu5SHsieag5bUvl102LPoxvOdwRh4Be4pGC64PWGGLeFy6aokdIp8i6kMyKKB5+cKPz7khl/zpsk7FRrclWSm9GhyNv/FzkIjPQ74Tu4a/7lrci7Cqq26VEOCtTw0MmrNC1gL1pQftEJN/BlOdY+Ckv19tfRMLrV1VHNdt4iBSZdb/U8xFJyjufnnm4k4ys7rCt4GA6CfcbXBfvtIoFrmgTtJxYMd7GOLukn3zyi9s9Fu0UpzWgaNqVeoNvY7r6esM4gXSBGy90lZXluAAQjiXHDfDwEOppRlXsVCLPd3Yp+Yg87bS9fxHuKe3+diPL9eetsLGUEnGC1ucYLEdUccOuiE8SHvtfAQbtcgNf83e4XjycpOOaO+zQW/ci6M1n7vAdCqq81IehpT95VTB22xPTrMmRZtaSEKxaSqS8xYNkmJu34VTmOc/GNudu2+MBJ/XDY2CszT8f09ZbqM0FOnx/wJQSwECFAMUAAAACADmo0FW4M8OoZQDAADIAwAAJQAAAAAAAAAAAAAAgAEAAAAAZGF0YS9jZTU3NGZiNDU4ZWQ4YmI3ODdhNjhlOTQxMGZkYWE3MFBLBQYAAAAAAQABAFMAAADXAwAAAAA=\"},\"axes\":{\"id\":\"1008\"},\"color_mappers\":[{\"id\":\"1007\"}],\"height\":800,\"margin\":[5,5,5,5],\"scene\":{\"calls\":[[\"addRenderer\",[\"instance:${569819b1-1749-428c-a708-5a2a395f04a9000055ebcaaa7080}\"]],[\"addRenderer\",[\"instance:${569819b1-1749-428c-a708-5a2a395f04a9000055ebcaaa7670}\"]]],\"dependencies\":[{\"calls\":[[\"setActiveCamera\",[\"instance:${000055ebcab1e3b0}\"]],[\"addViewProp\",[\"instance:${569819b1-1749-428c-a708-5a2a395f04a900007fafa4015a10}\"]]],\"dependencies\":[{\"id\":\"000055ebcab1e3b0\",\"parent\":\"569819b1-1749-428c-a708-5a2a395f04a9000055ebcaaa7080\",\"properties\":{\"clippingRange\":[1.5558032638058337,4.219293994002424],\"focalPoint\":[0.5,0.5,0.0],\"position\":[2.077350269189626,2.077350269189626,1.5773502691896262],\"viewUp\":[0.0,0.0,1.0]},\"type\":\"vtkOpenGLCamera\"},{\"calls\":[[\"setMapper\",[\"instance:${569819b1-1749-428c-a708-5a2a395f04a9000055ebcaa28310}\"]],[\"setProperty\",[\"instance:${569819b1-1749-428c-a708-5a2a395f04a9000055ebca165820}\"]]],\"dependencies\":[{\"calls\":[[\"setInputData\",[\"instance:${569819b1-1749-428c-a708-5a2a395f04a9000055ebcaa28310-dataset-0}\",0]],[\"setLookupTable\",[\"instance:${569819b1-1749-428c-a708-5a2a395f04a9000055ebcaa2a7d0}\"]]],\"dependencies\":[{\"id\":\"569819b1-1749-428c-a708-5a2a395f04a9000055ebcaa28310-dataset-0\",\"parent\":\"569819b1-1749-428c-a708-5a2a395f04a9000055ebcaa28310\",\"properties\":{\"fields\":[{\"dataType\":\"Float64Array\",\"hash\":\"ce574fb458ed8bb787a68e9410fdaa70\",\"location\":\"pointData\",\"name\":\"u\",\"numberOfComponents\":1,\"ranges\":[{\"component\":null,\"max\":2.8567830371124066,\"min\":1.0}],\"registration\":\"setScalars\",\"size\":121,\"vtkClass\":\"vtkDataArray\"}],\"points\":{\"dataType\":\"Float64Array\",\"hash\":\"4778900442480e0ca6a1d3f90e483ab5\",\"name\":\"Points\",\"numberOfComponents\":3,\"ranges\":[{\"component\":null,\"max\":1.0,\"min\":-2.154228071576087e-18},{\"component\":null,\"max\":1.0,\"min\":-2.154228071576087e-18},{\"component\":null,\"max\":0.0,\"min\":0.0},{\"component\":null,\"max\":1.414213562373095,\"min\":3.0465385552677406e-18}],\"size\":363,\"vtkClass\":\"vtkPoints\"},\"polys\":{\"dataType\":\"Uint32Array\",\"hash\":\"43cd855470463556cc0f4b30c23d7f91\",\"name\":null,\"numberOfComponents\":1,\"ranges\":[{\"component\":null,\"max\":120.0,\"min\":0.0}],\"size\":800,\"vtkClass\":\"vtkCellArray\"}},\"type\":\"vtkPolyData\"},{\"arrays\":[{\"dataType\":\"Uint8Array\",\"hash\":\"ce52d598102e2756143cf4f27a0b5911\",\"name\":null,\"numberOfComponents\":4,\"ranges\":[{\"component\":null,\"max\":253.0,\"min\":30.0},{\"component\":null,\"max\":231.0,\"min\":1.0},{\"component\":null,\"max\":142.0,\"min\":24.0},{\"component\":null,\"max\":255.0,\"min\":255.0},{\"component\":null,\"max\":428.5918804643877,\"min\":276.95848064285735}],\"registration\":\"setTable\",\"size\":1024,\"vtkClass\":\"vtkDataArray\"}],\"id\":\"569819b1-1749-428c-a708-5a2a395f04a9000055ebcaa2a7d0\",\"parent\":\"569819b1-1749-428c-a708-5a2a395f04a9000055ebcaa28310\",\"properties\":{\"aboveRangeColor\":[1.0,1.0,1.0,1.0],\"alpha\":1.0,\"belowRangeColor\":[0.0,0.0,0.0,1.0],\"hueRange\":[0.5,0],\"indexedLookup\":0,\"nanColor\":[0.6627450980392157,0.6627450980392157,0.6627450980392157,1.0],\"numberOfColors\":256,\"range\":[1.0,2.8567830371124066],\"saturationRange\":[1.0,1.0],\"useAboveRangeColor\":false,\"useBelowRangeColor\":false,\"valueRange\":[1.0,2.8567830371124066],\"vectorComponent\":0,\"vectorMode\":1,\"vectorSize\":-1},\"type\":\"vtkLookupTable\"}],\"id\":\"569819b1-1749-428c-a708-5a2a395f04a9000055ebcaa28310\",\"parent\":\"569819b1-1749-428c-a708-5a2a395f04a900007fafa4015a10\",\"properties\":{\"arrayAccessMode\":1,\"colorByArrayName\":null,\"colorMode\":1,\"interpolateScalarsBeforeMapping\":1,\"renderTime\":0.0,\"resolveCoincidentTopology\":0,\"scalarMode\":1,\"scalarRange\":[1.0,2.8567830371124066],\"scalarVisibility\":1,\"useLookupTableScalarRange\":0},\"type\":\"vtkDataSetMapper\"},{\"id\":\"569819b1-1749-428c-a708-5a2a395f04a9000055ebca165820\",\"parent\":\"569819b1-1749-428c-a708-5a2a395f04a900007fafa4015a10\",\"properties\":{\"ambient\":0.0,\"ambientColor\":[1.0,1.0,1.0],\"backfaceCulling\":0,\"color\":[1.0,1.0,1.0],\"diffuse\":1.0,\"diffuseColor\":[1.0,1.0,1.0],\"edgeColor\":[0.0,0.0,0.0],\"edgeVisibility\":1,\"frontfaceCulling\":0,\"interpolation\":0,\"lighting\":1,\"lineWidth\":1.0,\"opacity\":1.0,\"pointSize\":5.0,\"representation\":2,\"specular\":0.0,\"specularColor\":[1.0,1.0,1.0],\"specularPower\":100.0},\"type\":\"vtkOpenGLProperty\"}],\"id\":\"569819b1-1749-428c-a708-5a2a395f04a900007fafa4015a10\",\"parent\":\"569819b1-1749-428c-a708-5a2a395f04a9000055ebcaaa7080\",\"properties\":{\"dragable\":1,\"forceOpaque\":false,\"forceTranslucent\":false,\"orientation\":[0.0,-0.0,0.0],\"origin\":[0.0,0.0,0.0],\"pickable\":1,\"position\":[0.0,0.0,0.0],\"scale\":[1.0,1.0,1.0],\"useBounds\":true,\"visibility\":1},\"type\":\"vtkOpenGLActor\"}],\"id\":\"569819b1-1749-428c-a708-5a2a395f04a9000055ebcaaa7080\",\"parent\":\"569819b1-1749-428c-a708-5a2a395f04a9000055ebcaa5a700\",\"properties\":{\"background\":[0.2980392156862745,0.2980392156862745,0.2980392156862745],\"background2\":[0.2,0.2,0.2],\"clippingRangeExpansion\":0.5,\"interactive\":1,\"layer\":0,\"lightFollowCamera\":1,\"maximumNumberOfPeels\":4,\"nearClippingPlaneTolerance\":0.001,\"occlusionRatio\":0.0,\"preserveColorBuffer\":0,\"preserveDepthBuffer\":0,\"twoSidedLighting\":1,\"useDepthPeeling\":0,\"useShadows\":0,\"viewport\":[0.0,0.0,1.0,1.0]},\"type\":\"vtkOpenGLRenderer\"},{\"calls\":[[\"setActiveCamera\",[\"instance:${000055ebcab56180}\"]]],\"dependencies\":[{\"id\":\"000055ebcab56180\",\"parent\":\"569819b1-1749-428c-a708-5a2a395f04a9000055ebcaaa7670\",\"properties\":{\"clippingRange\":[0.01,1000.01],\"focalPoint\":[0.0,0.0,0.0],\"position\":[0.0,0.0,1.0],\"viewUp\":[0.0,1.0,0.0]},\"type\":\"vtkOpenGLCamera\"}],\"id\":\"569819b1-1749-428c-a708-5a2a395f04a9000055ebcaaa7670\",\"parent\":\"569819b1-1749-428c-a708-5a2a395f04a9000055ebcaa5a700\",\"properties\":{\"background\":[0.2980392156862745,0.2980392156862745,0.2980392156862745],\"background2\":[0.2,0.2,0.2],\"clippingRangeExpansion\":0.5,\"interactive\":0,\"layer\":1,\"lightFollowCamera\":1,\"maximumNumberOfPeels\":4,\"nearClippingPlaneTolerance\":0.0,\"occlusionRatio\":0.0,\"preserveColorBuffer\":1,\"preserveDepthBuffer\":0,\"twoSidedLighting\":1,\"useDepthPeeling\":0,\"useShadows\":0,\"viewport\":[0.0,0.0,1.0,1.0]},\"type\":\"vtkOpenGLRenderer\"}],\"id\":\"569819b1-1749-428c-a708-5a2a395f04a9000055ebcaa5a700\",\"mtime\":10902,\"parent\":\"569819b1-1749-428c-a708-5a2a395f04a90x0\",\"properties\":{\"numberOfLayers\":2},\"type\":\"vtkXOpenGLRenderWindow\"},\"sizing_mode\":\"stretch_width\",\"width\":800},\"id\":\"1009\",\"type\":\"panel.models.vtk.VTKSynchronizedPlot\"},{\"attributes\":{},\"id\":\"1008\",\"type\":\"panel.models.vtk.VTKAxes\"},{\"attributes\":{\"client_comm_id\":\"fab7f95107514b398011d496aa51c2f3\",\"comm_id\":\"955c84458422451c8a42c0fadac14690\",\"plot_id\":\"1009\"},\"id\":\"1010\",\"type\":\"panel.models.comm_manager.CommManager\"}],\"root_ids\":[\"1009\",\"1010\"]},\"title\":\"Bokeh Application\",\"version\":\"2.4.3\"}};\n",
       "    var render_items = [{\"docid\":\"cddae2df-a145-488a-916a-bc19e65d5ff5\",\"root_ids\":[\"1009\"],\"roots\":{\"1009\":\"01068ca8-697a-4f4a-a667-ff02a66153ad\"}}];\n",
       "    root.Bokeh.embed.embed_items_notebook(docs_json, render_items);\n",
       "    for (const render_item of render_items) {\n",
       "      for (const root_id of render_item.root_ids) {\n",
       "\tconst id_el = document.getElementById(root_id)\n",
       "\tif (id_el.children.length && (id_el.children[0].className === 'bk-root')) {\n",
       "\t  const root_el = id_el.children[0]\n",
       "\t  root_el.id = root_el.id + '-rendered'\n",
       "\t}\n",
       "      }\n",
       "    }\n",
       "  }\n",
       "  if (root.Bokeh !== undefined && root.Bokeh.Panel !== undefined && ( root['vtk'] !== undefined)) {\n",
       "    embed_document(root);\n",
       "  } else {\n",
       "    var attempts = 0;\n",
       "    var timer = setInterval(function(root) {\n",
       "      if (root.Bokeh !== undefined && root.Bokeh.Panel !== undefined && (root['vtk'] !== undefined)) {\n",
       "        clearInterval(timer);\n",
       "        embed_document(root);\n",
       "      } else if (document.readyState == \"complete\") {\n",
       "        attempts++;\n",
       "        if (attempts > 200) {\n",
       "          clearInterval(timer);\n",
       "          console.log(\"Bokeh: ERROR: Unable to run BokehJS code because BokehJS library is missing\");\n",
       "        }\n",
       "      }\n",
       "    }, 25, root)\n",
       "  }\n",
       "})(window);</script>"
      ]
     },
     "metadata": {},
     "output_type": "display_data"
    }
   ],
   "source": [
    "p2 = pyvista.Plotter(window_size=[800, 800])\n",
    "grid_uh = pyvista.UnstructuredGrid(*create_vtk_mesh(V))\n",
    "grid_uh.point_data[\"u\"] = uh.x.array.real\n",
    "grid_uh.set_active_scalars(\"u\")\n",
    "p2.add_mesh(grid_uh, show_edges=True)\n",
    "if not pyvista.OFF_SCREEN:\n",
    "    p2.show()\n",
    "else:\n",
    "    figure = p2.screenshot(\"subdomains_structured2.png\")"
   ]
  },
  {
   "cell_type": "markdown",
   "metadata": {},
   "source": [
    "We clearly observe different behavior in the two regions, whose both has the same Dirichlet boundary condition on the left side, where $x=0$."
   ]
  },
  {
   "cell_type": "markdown",
   "metadata": {},
   "source": [
    "## Interpolation with Python-function\n",
    "As we saw in the first approach, in many cases, we can use the geometrical coordinates to determine which coefficient we should use. Using the unstructured mesh from the previous example, we illustrate an alternative approach using interpolation:"
   ]
  },
  {
   "cell_type": "code",
   "execution_count": 8,
   "metadata": {},
   "outputs": [],
   "source": [
    "def eval_kappa(x):\n",
    "    values = np.zeros(x.shape[1], dtype=ScalarType)\n",
    "    # Create a boolean array indicating which dofs (corresponding to cell centers)\n",
    "    # that are in each domain\n",
    "    top_coords = x[1]>0.5 \n",
    "    bottom_coords = x[1]<0.5\n",
    "    values[top_coords] = np.full(sum(top_coords), 0.1)\n",
    "    values[bottom_coords] = np.full(sum(bottom_coords), 1)\n",
    "    return values\n",
    "kappa2 = Function(Q)\n",
    "kappa2.interpolate(eval_kappa)"
   ]
  },
  {
   "cell_type": "markdown",
   "metadata": {},
   "source": [
    "We verify this by assembling the error between this new function and the old one"
   ]
  },
  {
   "cell_type": "code",
   "execution_count": 9,
   "metadata": {},
   "outputs": [
    {
     "name": "stderr",
     "output_type": "stream",
     "text": [
      "INFO:root:running build_ext\n",
      "INFO:root:building 'libffcx_forms_622e0c05f4ca0c8e14a2a257827330cf37e84b19' extension\n",
      "INFO:root:x86_64-linux-gnu-gcc -Wno-unused-result -Wsign-compare -DNDEBUG -g -fwrapv -O2 -Wall -g -fstack-protector-strong -Wformat -Werror=format-security -g -fwrapv -O2 -fPIC -I/usr/local/lib/python3.10/dist-packages/ffcx/codegeneration -I/usr/include/python3.10 -c libffcx_forms_622e0c05f4ca0c8e14a2a257827330cf37e84b19.c -o ./libffcx_forms_622e0c05f4ca0c8e14a2a257827330cf37e84b19.o -O2\n",
      "INFO:root:x86_64-linux-gnu-gcc -shared -Wl,-O1 -Wl,-Bsymbolic-functions -Wl,-Bsymbolic-functions -g -fwrapv -O2 ./libffcx_forms_622e0c05f4ca0c8e14a2a257827330cf37e84b19.o -L/usr/lib/x86_64-linux-gnu -o ./libffcx_forms_622e0c05f4ca0c8e14a2a257827330cf37e84b19.cpython-310-x86_64-linux-gnu.so\n"
     ]
    },
    {
     "name": "stdout",
     "output_type": "stream",
     "text": [
      "0.0\n"
     ]
    }
   ],
   "source": [
    "# Difference in kappa's\n",
    "error = mesh.comm.allreduce(assemble_scalar(form((kappa-kappa2)**2*dx)))\n",
    "print(error)"
   ]
  },
  {
   "cell_type": "markdown",
   "metadata": {},
   "source": [
    "## Subdomains defined from external mesh data\n",
    "Let us now consider the same problem, but using GMSH to generate the mesh and subdomains. We will then in turn show how to use this data to generate discontinuous functions in DOLFINx."
   ]
  },
  {
   "cell_type": "code",
   "execution_count": 10,
   "metadata": {},
   "outputs": [
    {
     "name": "stdout",
     "output_type": "stream",
     "text": [
      "Info    : Meshing 1D...\n",
      "Info    : [  0%] Meshing curve 1 (Line)\n",
      "Info    : [ 20%] Meshing curve 2 (Line)\n",
      "Info    : [ 30%] Meshing curve 3 (Line)\n",
      "Info    : [ 50%] Meshing curve 4 (Line)\n",
      "Info    : [ 60%] Meshing curve 5 (Line)\n",
      "Info    : [ 80%] Meshing curve 6 (Line)\n",
      "Info    : [ 90%] Meshing curve 7 (Line)\n",
      "Info    : Done meshing 1D (Wall 0.00122008s, CPU 0s)\n",
      "Info    : Meshing 2D...\n",
      "Info    : [  0%] Meshing surface 1 (Plane, Frontal-Delaunay)\n",
      "Info    : [ 50%] Meshing surface 2 (Plane, Frontal-Delaunay)\n",
      "Info    : Done meshing 2D (Wall 0.00816055s, CPU 0.006904s)\n",
      "Info    : 103 nodes 218 elements\n",
      "Info    : Writing 'mesh.msh'...\n",
      "Info    : Done writing 'mesh.msh'\n"
     ]
    }
   ],
   "source": [
    "gmsh.initialize()\n",
    "proc = MPI.COMM_WORLD.rank \n",
    "top_marker = 2\n",
    "bottom_marker = 1\n",
    "left_marker = 1\n",
    "if proc == 0:\n",
    "    # We create one rectangle for each subdomain\n",
    "    gmsh.model.occ.addRectangle(0, 0, 0, 1, 0.5, tag=1)\n",
    "    gmsh.model.occ.addRectangle(0, 0.5, 0, 1, 0.5, tag=2)\n",
    "    # We fuse the two rectangles and keep the interface between them \n",
    "    gmsh.model.occ.fragment([(2,1)],[(2,2)])\n",
    "    gmsh.model.occ.synchronize()\n",
    "   \n",
    "    # Mark the top (2) and bottom (1) rectangle\n",
    "    top, bottom = None, None\n",
    "    for surface in gmsh.model.getEntities(dim=2):\n",
    "        com = gmsh.model.occ.getCenterOfMass(surface[0], surface[1])\n",
    "        if np.allclose(com, [0.5,0.25, 0]):\n",
    "            bottom = surface[1]\n",
    "        else:\n",
    "            top = surface[1]\n",
    "    gmsh.model.addPhysicalGroup(2, [bottom], bottom_marker)\n",
    "    gmsh.model.addPhysicalGroup(2, [top], top_marker)\n",
    "    # Tag the left boundary\n",
    "    left = []\n",
    "    for line in gmsh.model.getEntities(dim=1):\n",
    "        com = gmsh.model.occ.getCenterOfMass(line[0], line[1])\n",
    "        if np.isclose(com[0], 0):\n",
    "            left.append(line[1])\n",
    "    gmsh.model.addPhysicalGroup(1, left, left_marker)\n",
    "    gmsh.model.mesh.generate(2)\n",
    "    gmsh.write(\"mesh.msh\")\n",
    "gmsh.finalize()"
   ]
  },
  {
   "cell_type": "markdown",
   "metadata": {},
   "source": [
    "## Read in MSH files with DOLFINx\n",
    "You can read in MSH files with DOLFINx, which will read them in on a single process, and then distribute them over the available ranks in the MPI communicator."
   ]
  },
  {
   "cell_type": "code",
   "execution_count": 11,
   "metadata": {},
   "outputs": [
    {
     "name": "stdout",
     "output_type": "stream",
     "text": [
      "Info    : Reading 'mesh.msh'...\n",
      "Info    : 15 entities\n",
      "Info    : 103 nodes\n",
      "Info    : 180 elements\n",
      "Info    : Done reading 'mesh.msh'\n"
     ]
    }
   ],
   "source": [
    "from dolfinx.io import gmshio\n",
    "mesh, cell_markers, facet_markers = gmshio.read_from_msh(\"mesh.msh\", MPI.COMM_WORLD, gdim=2)"
   ]
  },
  {
   "cell_type": "markdown",
   "metadata": {},
   "source": [
    "## Convert msh-files to XDMF using meshio\n",
    "We will use `meshio` to read in the `msh` file, and convert it to a more suitable IO format. Meshio requires `h5py`, and can be installed on linux with the following commands:\n",
    "```{code}\n",
    "export HDF5_MPI=\"ON\"\n",
    "export CC=mpicc\n",
    "export HDF5_DIR=\"/usr/lib/x86_64-linux-gnu/hdf5/mpich/\"\n",
    "pip3 install --no-cache-dir --no-binary=h5py h5py meshio\n",
    "```\n",
    "We start by creating a convenience function for extracting data for a single cell type, and creating a new `meshio.Mesh`."
   ]
  },
  {
   "cell_type": "code",
   "execution_count": 12,
   "metadata": {},
   "outputs": [],
   "source": [
    "import meshio\n",
    "def create_mesh(mesh, cell_type, prune_z=False):\n",
    "    cells = mesh.get_cells_type(cell_type)\n",
    "    cell_data = mesh.get_cell_data(\"gmsh:physical\", cell_type)\n",
    "    points = mesh.points[:,:2] if prune_z else mesh.points\n",
    "    out_mesh = meshio.Mesh(points=points, cells={cell_type: cells}, cell_data={\"name_to_read\":[cell_data]})\n",
    "    return out_mesh"
   ]
  },
  {
   "cell_type": "markdown",
   "metadata": {},
   "source": [
    "This function returns a meshio mesh, including physical markers for the given type. The `prune_z` argument is for cases where we want to use two dimensional meshes. The last coordinate in the mesh (as it is generated in a 3D space) has to be removed for DOLFINx to consider this as a two dimensional geometry."
   ]
  },
  {
   "cell_type": "code",
   "execution_count": 13,
   "metadata": {},
   "outputs": [
    {
     "name": "stdout",
     "output_type": "stream",
     "text": [
      "\n"
     ]
    }
   ],
   "source": [
    "if proc == 0:\n",
    "    # Read in mesh\n",
    "    msh = meshio.read(\"mesh.msh\")\n",
    "   \n",
    "    # Create and save one file for the mesh, and one file for the facets \n",
    "    triangle_mesh = create_mesh(msh, \"triangle\", prune_z=True)\n",
    "    line_mesh = create_mesh(msh, \"line\", prune_z=True)\n",
    "    meshio.write(\"mesh.xdmf\", triangle_mesh)\n",
    "    meshio.write(\"mt.xdmf\", line_mesh)"
   ]
  },
  {
   "cell_type": "markdown",
   "metadata": {},
   "source": [
    "We have now written the mesh and the cell markers to one file, and the facet markers in a separate file. We can now read this data in DOLFINx using `XDMFFile.read_mesh` and `XDMFFile.read_meshtags`. The `dolfinx.MeshTags` stores the index of the entity, along with the value of the marker in two one dimensional arrays.\n",
    "\n",
    "Note that we have generated and written the mesh on only one processor. However, the `xdmf`-format supports parallel IO, and we can thus read the mesh in parallel."
   ]
  },
  {
   "cell_type": "code",
   "execution_count": 14,
   "metadata": {},
   "outputs": [],
   "source": [
    "with XDMFFile(MPI.COMM_WORLD, \"mesh.xdmf\", \"r\") as xdmf:\n",
    "    mesh = xdmf.read_mesh(name=\"Grid\")\n",
    "    ct = xdmf.read_meshtags(mesh, name=\"Grid\")\n",
    "mesh.topology.create_connectivity(mesh.topology.dim, mesh.topology.dim-1)\n",
    "with XDMFFile(MPI.COMM_WORLD, \"mt.xdmf\", \"r\") as xdmf:\n",
    "    ft = xdmf.read_meshtags(mesh, name=\"Grid\")"
   ]
  },
  {
   "cell_type": "markdown",
   "metadata": {},
   "source": [
    "We have now read in the mesh and corresponding cell and facet data. We can now create our discontinuous function `kappa` as follows"
   ]
  },
  {
   "cell_type": "code",
   "execution_count": 15,
   "metadata": {},
   "outputs": [],
   "source": [
    "Q = FunctionSpace(mesh, (\"DG\", 0))\n",
    "kappa = Function(Q)\n",
    "bottom_cells = ct.find(bottom_marker)\n",
    "kappa.x.array[bottom_cells] = np.full_like(bottom_cells, 1, dtype=ScalarType)\n",
    "top_cells = ct.find(top_marker)\n",
    "kappa.x.array[top_cells]  = np.full_like(top_cells, 0.1, dtype=ScalarType)"
   ]
  },
  {
   "cell_type": "markdown",
   "metadata": {},
   "source": [
    "We can also efficiently use the facet data `ft` to create the Dirichlet boundary condition"
   ]
  },
  {
   "cell_type": "code",
   "execution_count": 16,
   "metadata": {},
   "outputs": [],
   "source": [
    "V = FunctionSpace(mesh, (\"CG\", 1))\n",
    "u_bc = Function(V)\n",
    "left_facets = ft.find(left_marker)\n",
    "left_dofs = locate_dofs_topological(V, mesh.topology.dim-1, left_facets)\n",
    "bcs = [dirichletbc(ScalarType(1), left_dofs, V)]"
   ]
  },
  {
   "cell_type": "markdown",
   "metadata": {},
   "source": [
    "We can now solve the problem in a similar fashion as above"
   ]
  },
  {
   "cell_type": "code",
   "execution_count": 17,
   "metadata": {
    "lines_to_next_cell": 0
   },
   "outputs": [
    {
     "name": "stderr",
     "output_type": "stream",
     "text": [
      "INFO:root:running build_ext\n",
      "INFO:root:building 'libffcx_forms_93913dacdfc8b6ab659a79954f26b44989491760' extension\n",
      "INFO:root:x86_64-linux-gnu-gcc -Wno-unused-result -Wsign-compare -DNDEBUG -g -fwrapv -O2 -Wall -g -fstack-protector-strong -Wformat -Werror=format-security -g -fwrapv -O2 -fPIC -I/usr/local/lib/python3.10/dist-packages/ffcx/codegeneration -I/usr/include/python3.10 -c libffcx_forms_93913dacdfc8b6ab659a79954f26b44989491760.c -o ./libffcx_forms_93913dacdfc8b6ab659a79954f26b44989491760.o -O2\n",
      "INFO:root:x86_64-linux-gnu-gcc -shared -Wl,-O1 -Wl,-Bsymbolic-functions -Wl,-Bsymbolic-functions -g -fwrapv -O2 ./libffcx_forms_93913dacdfc8b6ab659a79954f26b44989491760.o -L/usr/lib/x86_64-linux-gnu -o ./libffcx_forms_93913dacdfc8b6ab659a79954f26b44989491760.cpython-310-x86_64-linux-gnu.so\n",
      "INFO:root:running build_ext\n",
      "INFO:root:building 'libffcx_forms_5c56511871d87a058e55b5cbed2920794c766ebe' extension\n",
      "INFO:root:x86_64-linux-gnu-gcc -Wno-unused-result -Wsign-compare -DNDEBUG -g -fwrapv -O2 -Wall -g -fstack-protector-strong -Wformat -Werror=format-security -g -fwrapv -O2 -fPIC -I/usr/local/lib/python3.10/dist-packages/ffcx/codegeneration -I/usr/include/python3.10 -c libffcx_forms_5c56511871d87a058e55b5cbed2920794c766ebe.c -o ./libffcx_forms_5c56511871d87a058e55b5cbed2920794c766ebe.o -O2\n",
      "INFO:root:x86_64-linux-gnu-gcc -shared -Wl,-O1 -Wl,-Bsymbolic-functions -Wl,-Bsymbolic-functions -g -fwrapv -O2 ./libffcx_forms_5c56511871d87a058e55b5cbed2920794c766ebe.o -L/usr/lib/x86_64-linux-gnu -o ./libffcx_forms_5c56511871d87a058e55b5cbed2920794c766ebe.cpython-310-x86_64-linux-gnu.so\n"
     ]
    },
    {
     "data": {},
     "metadata": {},
     "output_type": "display_data"
    },
    {
     "data": {
      "text/html": [
       "<div id='1013'>\n",
       "  <div class=\"bk-root\" id=\"260e8bc1-e705-46fd-92af-40cd2200c17c\" data-root-id=\"1013\"></div>\n",
       "</div>\n",
       "<script type=\"application/javascript\">(function(root) {\n",
       "  function embed_document(root) {\n",
       "    var docs_json = {\"fd2067c8-608a-4108-aebd-a2616c0a5970\":{\"defs\":[{\"extends\":null,\"module\":null,\"name\":\"ReactiveHTML1\",\"overrides\":[],\"properties\":[]},{\"extends\":null,\"module\":null,\"name\":\"FlexBox1\",\"overrides\":[],\"properties\":[{\"default\":\"flex-start\",\"kind\":null,\"name\":\"align_content\"},{\"default\":\"flex-start\",\"kind\":null,\"name\":\"align_items\"},{\"default\":\"row\",\"kind\":null,\"name\":\"flex_direction\"},{\"default\":\"wrap\",\"kind\":null,\"name\":\"flex_wrap\"},{\"default\":\"flex-start\",\"kind\":null,\"name\":\"justify_content\"}]},{\"extends\":null,\"module\":null,\"name\":\"GridStack1\",\"overrides\":[],\"properties\":[{\"default\":\"warn\",\"kind\":null,\"name\":\"mode\"},{\"default\":null,\"kind\":null,\"name\":\"ncols\"},{\"default\":null,\"kind\":null,\"name\":\"nrows\"},{\"default\":true,\"kind\":null,\"name\":\"allow_resize\"},{\"default\":true,\"kind\":null,\"name\":\"allow_drag\"},{\"default\":[],\"kind\":null,\"name\":\"state\"}]},{\"extends\":null,\"module\":null,\"name\":\"click1\",\"overrides\":[],\"properties\":[{\"default\":\"\",\"kind\":null,\"name\":\"terminal_output\"},{\"default\":\"\",\"kind\":null,\"name\":\"debug_name\"},{\"default\":0,\"kind\":null,\"name\":\"clears\"}]},{\"extends\":null,\"module\":null,\"name\":\"NotificationAreaBase1\",\"overrides\":[],\"properties\":[{\"default\":\"bottom-right\",\"kind\":null,\"name\":\"position\"},{\"default\":0,\"kind\":null,\"name\":\"_clear\"}]},{\"extends\":null,\"module\":null,\"name\":\"NotificationArea1\",\"overrides\":[],\"properties\":[{\"default\":[],\"kind\":null,\"name\":\"notifications\"},{\"default\":\"bottom-right\",\"kind\":null,\"name\":\"position\"},{\"default\":0,\"kind\":null,\"name\":\"_clear\"},{\"default\":[{\"background\":\"#ffc107\",\"icon\":{\"className\":\"fas fa-exclamation-triangle\",\"color\":\"white\",\"tagName\":\"i\"},\"type\":\"warning\"},{\"background\":\"#007bff\",\"icon\":{\"className\":\"fas fa-info-circle\",\"color\":\"white\",\"tagName\":\"i\"},\"type\":\"info\"}],\"kind\":null,\"name\":\"types\"}]},{\"extends\":null,\"module\":null,\"name\":\"Notification\",\"overrides\":[],\"properties\":[{\"default\":null,\"kind\":null,\"name\":\"background\"},{\"default\":3000,\"kind\":null,\"name\":\"duration\"},{\"default\":null,\"kind\":null,\"name\":\"icon\"},{\"default\":\"\",\"kind\":null,\"name\":\"message\"},{\"default\":null,\"kind\":null,\"name\":\"notification_type\"},{\"default\":false,\"kind\":null,\"name\":\"_destroyed\"}]},{\"extends\":null,\"module\":null,\"name\":\"TemplateActions1\",\"overrides\":[],\"properties\":[{\"default\":0,\"kind\":null,\"name\":\"open_modal\"},{\"default\":0,\"kind\":null,\"name\":\"close_modal\"}]},{\"extends\":null,\"module\":null,\"name\":\"MaterialTemplateActions1\",\"overrides\":[],\"properties\":[{\"default\":0,\"kind\":null,\"name\":\"open_modal\"},{\"default\":0,\"kind\":null,\"name\":\"close_modal\"}]}],\"roots\":{\"references\":[{\"attributes\":{\"arrays\":{\"1fe6b76ddbe457c4ac62d7b8fcd70bf7\":\"UEsDBBQAAAAIAOajQVYLDZ0/rQIAAMAKAAAlAAAAZGF0YS8xZmU2Yjc2ZGRiZTQ1N2M0YWM2MmQ3YjhmY2Q3MGJmN12RC1PSURBHpWtpaCoSPiMfVIJIoCJqD99g8tA0JdQw39//I8ROZ2d+gzP/uffs7t09rKHn/1+k873ofIEzwt2+XrhHYsYvhe3+insfb3okFyEWqLNYv9S/lnyUvNZb7QDcTz4KD/K+D7b7G3nfC0fl/VBXP8sNwwPkR2A7Y51vVObFmWP8lv7OUTgh/Yfp6fmEzBshF4PtHJN5o/A4bOdE55uEp/AZlN8fx8t4Gh/nBDwNm8c78bN8UvyGyLvfe3ycx+EJ2M4Z8ZuEZ+E5/KZkf3Hi7muxeeGk7DOJj/vF4JRwCk/3GRP+gI/7zsIfZZ+fxGceH+cFnNwvjZPvM4NPEk7BGdmfxRaFs137y+IZ8JoRXsLP9zcH54Rz4mfnZ7zdP93lmyQW8EqJbx7HReFs1z6NC+JrsWV4Bb8lOAeviF8Ox8C5Kr5F3Jwz8Jr4ZoRLOLpvAb+8+BbEbx0X99vAx/3svil+C/gVxfcLsYBHWvIlXNTvq/jkYd/fMvdv8Hdc1oU3xG8DP///b+LjvkXctuBV8tvwDm7qu0bceBe/Emz3PfEtwO67j6P6HuDpvmU8jSv4OBdx9flbOLvvNvUV8StJ/SGOu8J7xAKexj/E9whP9z3COXCWxX8T9vk7OFbF1xxr8vvqXfuuip+dDTwDXnvCx/jsi4/xCfwTnwOZVybuPjXxM49T8avD7ndGzH9fFT/3tfsv8TuEfZ8n+B3D57ip7wFxn1cRX/O6EN8afk34N1wXrtMn8LYh71v4NWS/xpfwFbPPhc+6fJr0DdxPmevzrf5a5jWk/pJ5Lfia+ivp90fqrV9bfu8NMe9/QX1L+tv9L3xLXt+3xbcJ34qv1d8J30m/O/Jef8/7G5nXJh54Z28eJP8o/Z+I3Uv/R6l/gn3eA/wMP8NW9w9QSwECFAMUAAAACADmo0FWCw2dP60CAADACgAAJQAAAAAAAAAAAAAAgAEAAAAAZGF0YS8xZmU2Yjc2ZGRiZTQ1N2M0YWM2MmQ3YjhmY2Q3MGJmN1BLBQYAAAAAAQABAFMAAADwAgAAAAA=\",\"54bb927bbbe968bf5592c3f5c5087f6c\":\"UEsDBBQAAAAIAOajQVYVcK/AJQAAALACAAAlAAAAZGF0YS81NGJiOTI3YmJiZTk2OGJmNTU5MmMzZjVjNTA4N2Y2Y2NkYGBgHOKYiQR1yJgaatHV4VKLTR2parGpx6cWWQ8x6oYCBgBQSwECFAMUAAAACADmo0FWFXCvwCUAAACwAgAAJQAAAAAAAAAAAAAAgAEAAAAAZGF0YS81NGJiOTI3YmJiZTk2OGJmNTU5MmMzZjVjNTA4N2Y2Y1BLBQYAAAAAAQABAFMAAABoAAAAAAA=\",\"971589d763aee8e65bf8185f7d742604\":\"UEsDBBQAAAAIAOajQVb5TSNlwwQAAKgJAAAlAAAAZGF0YS85NzE1ODlkNzYzYWVlOGU2NWJmODE4NWY3ZDc0MjYwNHWVezDcVxTHN4kQbL27tPFMMR5JCKlO9HGCqiQaJmq7K9kKKk2JRzURj6oIKtMmmYag1aiQFtNqKRnUJkQRrMljWY/1qmVZdi3VJB61YTv52f3d7O83uX+cnfnc355z7vecey6F8mwtwH/yZ+sOUBSrXyr2DjWYg3cK/uAuRtXjnKL4nkJYMuz/syS+k8fh1thLwbdUP3xXHAffd67ybBnmi+FHh7S8ozMNOF/B/EyT/CjjSrD9h/i+KMcgtWR5CuiMfhrv21s4d+c4JdTxpZBieDs/NbcX5y+zgtPUnk6D3gfiQs9alM8i5lf4wrgb+gzg+3kJK/JVphhOdju1jGrzcL49ec5Ed9cErDG2rSQNsnGewuhr/fzYJBiFLPpK9btwvnGeMVLcBYwPw8X3mTPJdbcIeQ6QvlfW67dB3sUW6yF8f2mN3lDuLgGXIObbTt8N4jyaYmMbtVsExfeaUta53TjfOCcPaor2jw1dvUngD0lxEwVNBysyOEAV/BMc6YHO+4jQT0Q9N34F+D7t+nw+T1ME7RLHeUYbH+dH/KJuj8wKYPhRSMYZLqpXlFh+TkoVgl1xWbqVIdKfhtle0Lj8xU8+Me2or67bi1p/rwOXu/yjmcfrXpAXWpswKyXluRmzMyQu2JGRE3FnGOLPv5R9SoTqaxf8zalV7wZoiw+ddZhrJ8XVwWwz6d45GNLYRXMTOFfH7CQpblaGlqvP3XHwd1xM23Yc1ffEMT93xodjUHmWmeol68F5jzzLxWMLH3b39HlGfol4v3nQ6KyMA/lTbrGvFXEIeS6AnHA/kpbjW+2qxGAdn1SeeA1x27+ufmSVNQWTksgJ9QOIBwbLy0xMuGB8ILMxoAPFrdZX7/Z5txE+s6fNX8nlkfTRxiwX59Qnl5ivFklhh6kp3VBNhPMbS2brBznj8GdxetniERRXS0UvpFu0tb9j1+YR0GX4F6wZIt1ch4a2NOr1gmPkIXdt00GSDjLCfOroi75vWyIGt0Izmz6DGZzX//1xOtNPBKPcQ6yAGpSnZdq5rVr7haAT/ThwxALxB77R6vVxnfCW+ZMcsx+IcZV9h+7FA+81znShFFb0l1x+kYlxHqc4V2Ig03XTWaTDdmpucoZsDOaXYv+1kKG4NBW/SB89zHJJnKl4D6oIc0apz1PCO8Dy0N+zhy0G96V9sjCmFOc3u/XXReMi8KaWsFe7UP4XTCsv1Z8QQnbQPfq1w2JCns2kfFQX4r2Ke8RT/Cr564r6SrqGwlbjkD57p1l9zLIB0CtphZFuEal/8iaoPrU0Cc7DmgY/1bjSCcIbrECJO/HdUM439E6qzhPEdTu7tLzapuC0YZlGZQXSx+rN98ycHw+Bl6WZTkAo0qG2lH7hDeE4cFOWx8ca0fchirrsJMwN1XmF4o4IXgk/b8yFqa/dMgtKn+vPDfWg2dTKOCYcnddsb4ynkfkwyDSd65OLUNzCT6qTImqagB6hFuTLEpHqoobZSZyrzrEFks5E7qrB3mcby4H7wlRvk5NIByNFno5S458zL88R+oRP8qNcW1X0oFBsKn7NLv+KA+z87zuTnjtXtfxwYkIkGzpWLS1OayIdVO8F2b9qnSmUM4q69BL6ULWfyX6I/H9QSwECFAMUAAAACADmo0FW+U0jZcMEAACoCQAAJQAAAAAAAAAAAAAAgAEAAAAAZGF0YS85NzE1ODlkNzYzYWVlOGU2NWJmODE4NWY3ZDc0MjYwNFBLBQYAAAAAAQABAFMAAAAGBQAAAAA=\",\"ce52d598102e2756143cf4f27a0b5911\":\"UEsDBBQAAAAIAOajQVaE1+BQMwMAAAAEAAAlAAAAZGF0YS9jZTUyZDU5ODEwMmUyNzU2MTQzY2Y0ZjI3YTBiNTkxMS3DCUzVBRzA8VWr1Wq1WjVAfI/HfQnIfcvx3vs/wiMUBAS55BC57/uWx/He/59ZZllmWWZZZllmWWpRappXeKAIAga4ttbW2lpra99+bX62j/G+dIz3Z2B8IBPTg1mYHtqA6eEczI/kYn40D/Nj+ZgfL0R5ogjlyU0oT5WgPF2K8kwZyrPlKA5bsDhWYHGqxOJcjWVpDRZdLRaXOiyGeiyuDVjcGlE8mlA8m1G8WlC8W1F821D82lH8OzAv68QcKIO6MC/vxhTcgylUhvViCu/DGCGj+kmOHiA5RsZuJSlOxg+SlDBIYqKVxCQrCclDJBiHWGGSyjDxFpkyQtxzMlWuHCF21Sixq0eJeV6mjRK91kb0OhtR6TLDRuR6mWknIktm2wnfIHPshOXKjXZC81RC81VCCmShSnCR3KSyvFiWyFKVoDK5WSWwXG5RCajQCKiUVRrLqmWNhn+trJP1Gn4NslHDt0k2yxYNn1bZpuHdfm+Hhlen7JLdGp49slf2aXj0ywEV961yUFpV3IbksBxRcf3/qLSpGOxStWPQ7Li8ILfJF+3ot8uXbOhfljvkKzZ0O0fRvSpfu3fXCLrX5Rty9zC6N+Ue+dYQ+rflXiv6d6y4vDuIy75BDO/J/VtxlW7vD+D2QT/uB/rx+LAPz4/68DrYi/fHPfgc6sH3k278Pu3CXwYc7iTwsw6CPm8n+Eg7IV+0EXa0lfAvW4j8qpkoGXOsibivG4n/poGE4/UknajDeKIW08kalG+rSfmuitSxSlaNVbDm+3LSftjMulNlZJwuJfN0Cdlnisn5sYi8s4UUnC2g6Fw+xT9tpOx8LuXnc6i4kE3VxSxqL66n/lIGjZfTabm8lraf0+gcX0P3+Gr6rqxk4Eoq1qspDF9TsF0zo143su16MtsnEtkxsYKdN+LZdSOW3Tej2XMzkr2TEeybDGP/rRAO3Arm4FQQh6YCODztz5FpP45O+3DsthfHb3tycsadsRlXTs0YODOr59ysjguzS7k058z43BKuzjkxcceRyTsOTMmZXxyYk/Py7rwjv8rf5p34fWEJfyw48+eCjr8W9fy9aOCfRVf+vevOf1BLAQIUAxQAAAAIAOajQVaE1+BQMwMAAAAEAAAlAAAAAAAAAAAAAACAAQAAAABkYXRhL2NlNTJkNTk4MTAyZTI3NTYxNDNjZjRmMjdhMGI1OTExUEsFBgAAAAABAAEAUwAAAHYDAAAAAA==\"},\"axes\":{\"id\":\"1012\"},\"color_mappers\":[{\"id\":\"1011\"}],\"height\":800,\"margin\":[5,5,5,5],\"scene\":{\"calls\":[[\"addRenderer\",[\"instance:${0a0f0290-085a-41e3-9642-1c5baa0c7aea000055ebc7551940}\"]],[\"addRenderer\",[\"instance:${0a0f0290-085a-41e3-9642-1c5baa0c7aea000055ebc7547550}\"]]],\"dependencies\":[{\"calls\":[[\"setActiveCamera\",[\"instance:${000055ebc74fa000}\"]],[\"addViewProp\",[\"instance:${0a0f0290-085a-41e3-9642-1c5baa0c7aea000055ebcc7d1060}\"]]],\"dependencies\":[{\"id\":\"000055ebc74fa000\",\"parent\":\"0a0f0290-085a-41e3-9642-1c5baa0c7aea000055ebc7551940\",\"properties\":{\"clippingRange\":[1.5558032638058337,4.219293994002424],\"focalPoint\":[0.5,0.5,0.0],\"position\":[2.077350269189626,2.077350269189626,1.5773502691896262],\"viewUp\":[0.0,0.0,1.0]},\"type\":\"vtkOpenGLCamera\"},{\"calls\":[[\"setMapper\",[\"instance:${0a0f0290-085a-41e3-9642-1c5baa0c7aea000055ebcc7ef380}\"]],[\"setProperty\",[\"instance:${0a0f0290-085a-41e3-9642-1c5baa0c7aea000055ebcc7ff4f0}\"]]],\"dependencies\":[{\"calls\":[[\"setInputData\",[\"instance:${0a0f0290-085a-41e3-9642-1c5baa0c7aea000055ebcc7ef380-dataset-0}\",0]],[\"setLookupTable\",[\"instance:${0a0f0290-085a-41e3-9642-1c5baa0c7aea000055ebc72b5a80}\"]]],\"dependencies\":[{\"id\":\"0a0f0290-085a-41e3-9642-1c5baa0c7aea000055ebcc7ef380-dataset-0\",\"parent\":\"0a0f0290-085a-41e3-9642-1c5baa0c7aea000055ebcc7ef380\",\"properties\":{\"fields\":[{\"dataType\":\"Int32Array\",\"hash\":\"54bb927bbbe968bf5592c3f5c5087f6c\",\"location\":\"cellData\",\"name\":\"Marker\",\"numberOfComponents\":1,\"ranges\":[{\"component\":null,\"max\":2.0,\"min\":1.0}],\"registration\":\"setScalars\",\"size\":172,\"vtkClass\":\"vtkDataArray\"}],\"points\":{\"dataType\":\"Float64Array\",\"hash\":\"971589d763aee8e65bf8185f7d742604\",\"name\":\"Points\",\"numberOfComponents\":3,\"ranges\":[{\"component\":null,\"max\":1.0,\"min\":0.0},{\"component\":null,\"max\":1.0,\"min\":0.0},{\"component\":null,\"max\":0.0,\"min\":0.0},{\"component\":null,\"max\":1.4142135623730951,\"min\":0.0}],\"size\":309,\"vtkClass\":\"vtkPoints\"},\"polys\":{\"dataType\":\"Uint32Array\",\"hash\":\"1fe6b76ddbe457c4ac62d7b8fcd70bf7\",\"name\":null,\"numberOfComponents\":1,\"ranges\":[{\"component\":null,\"max\":102.0,\"min\":0.0}],\"size\":688,\"vtkClass\":\"vtkCellArray\"}},\"type\":\"vtkPolyData\"},{\"arrays\":[{\"dataType\":\"Uint8Array\",\"hash\":\"ce52d598102e2756143cf4f27a0b5911\",\"name\":null,\"numberOfComponents\":4,\"ranges\":[{\"component\":null,\"max\":253.0,\"min\":30.0},{\"component\":null,\"max\":231.0,\"min\":1.0},{\"component\":null,\"max\":142.0,\"min\":24.0},{\"component\":null,\"max\":255.0,\"min\":255.0},{\"component\":null,\"max\":428.5918804643877,\"min\":276.95848064285735}],\"registration\":\"setTable\",\"size\":1024,\"vtkClass\":\"vtkDataArray\"}],\"id\":\"0a0f0290-085a-41e3-9642-1c5baa0c7aea000055ebc72b5a80\",\"parent\":\"0a0f0290-085a-41e3-9642-1c5baa0c7aea000055ebcc7ef380\",\"properties\":{\"aboveRangeColor\":[1.0,1.0,1.0,1.0],\"alpha\":1.0,\"belowRangeColor\":[0.0,0.0,0.0,1.0],\"hueRange\":[0.5,0],\"indexedLookup\":0,\"nanColor\":[0.6627450980392157,0.6627450980392157,0.6627450980392157,1.0],\"numberOfColors\":256,\"range\":[1.0,2.0],\"saturationRange\":[1.0,1.0],\"useAboveRangeColor\":false,\"useBelowRangeColor\":false,\"valueRange\":[1.0,2.0],\"vectorComponent\":0,\"vectorMode\":1,\"vectorSize\":-1},\"type\":\"vtkLookupTable\"}],\"id\":\"0a0f0290-085a-41e3-9642-1c5baa0c7aea000055ebcc7ef380\",\"parent\":\"0a0f0290-085a-41e3-9642-1c5baa0c7aea000055ebcc7d1060\",\"properties\":{\"arrayAccessMode\":1,\"colorByArrayName\":null,\"colorMode\":1,\"interpolateScalarsBeforeMapping\":1,\"renderTime\":0.0,\"resolveCoincidentTopology\":0,\"scalarMode\":2,\"scalarRange\":[1.0,2.0],\"scalarVisibility\":1,\"useLookupTableScalarRange\":0},\"type\":\"vtkDataSetMapper\"},{\"id\":\"0a0f0290-085a-41e3-9642-1c5baa0c7aea000055ebcc7ff4f0\",\"parent\":\"0a0f0290-085a-41e3-9642-1c5baa0c7aea000055ebcc7d1060\",\"properties\":{\"ambient\":0.0,\"ambientColor\":[1.0,1.0,1.0],\"backfaceCulling\":0,\"color\":[1.0,1.0,1.0],\"diffuse\":1.0,\"diffuseColor\":[1.0,1.0,1.0],\"edgeColor\":[0.0,0.0,0.0],\"edgeVisibility\":1,\"frontfaceCulling\":0,\"interpolation\":0,\"lighting\":1,\"lineWidth\":1.0,\"opacity\":1.0,\"pointSize\":5.0,\"representation\":2,\"specular\":0.0,\"specularColor\":[1.0,1.0,1.0],\"specularPower\":100.0},\"type\":\"vtkOpenGLProperty\"}],\"id\":\"0a0f0290-085a-41e3-9642-1c5baa0c7aea000055ebcc7d1060\",\"parent\":\"0a0f0290-085a-41e3-9642-1c5baa0c7aea000055ebc7551940\",\"properties\":{\"dragable\":1,\"forceOpaque\":false,\"forceTranslucent\":false,\"orientation\":[0.0,-0.0,0.0],\"origin\":[0.0,0.0,0.0],\"pickable\":1,\"position\":[0.0,0.0,0.0],\"scale\":[1.0,1.0,1.0],\"useBounds\":true,\"visibility\":1},\"type\":\"vtkOpenGLActor\"}],\"id\":\"0a0f0290-085a-41e3-9642-1c5baa0c7aea000055ebc7551940\",\"parent\":\"0a0f0290-085a-41e3-9642-1c5baa0c7aea000055ebc77f0a00\",\"properties\":{\"background\":[0.2980392156862745,0.2980392156862745,0.2980392156862745],\"background2\":[0.2,0.2,0.2],\"clippingRangeExpansion\":0.5,\"interactive\":1,\"layer\":0,\"lightFollowCamera\":1,\"maximumNumberOfPeels\":4,\"nearClippingPlaneTolerance\":0.001,\"occlusionRatio\":0.0,\"preserveColorBuffer\":0,\"preserveDepthBuffer\":0,\"twoSidedLighting\":1,\"useDepthPeeling\":0,\"useShadows\":0,\"viewport\":[0.0,0.0,1.0,1.0]},\"type\":\"vtkOpenGLRenderer\"},{\"calls\":[[\"setActiveCamera\",[\"instance:${000055ebc73b2190}\"]]],\"dependencies\":[{\"id\":\"000055ebc73b2190\",\"parent\":\"0a0f0290-085a-41e3-9642-1c5baa0c7aea000055ebc7547550\",\"properties\":{\"clippingRange\":[0.01,1000.01],\"focalPoint\":[0.0,0.0,0.0],\"position\":[0.0,0.0,1.0],\"viewUp\":[0.0,1.0,0.0]},\"type\":\"vtkOpenGLCamera\"}],\"id\":\"0a0f0290-085a-41e3-9642-1c5baa0c7aea000055ebc7547550\",\"parent\":\"0a0f0290-085a-41e3-9642-1c5baa0c7aea000055ebc77f0a00\",\"properties\":{\"background\":[0.2980392156862745,0.2980392156862745,0.2980392156862745],\"background2\":[0.2,0.2,0.2],\"clippingRangeExpansion\":0.5,\"interactive\":0,\"layer\":1,\"lightFollowCamera\":1,\"maximumNumberOfPeels\":4,\"nearClippingPlaneTolerance\":0.0,\"occlusionRatio\":0.0,\"preserveColorBuffer\":1,\"preserveDepthBuffer\":0,\"twoSidedLighting\":1,\"useDepthPeeling\":0,\"useShadows\":0,\"viewport\":[0.0,0.0,1.0,1.0]},\"type\":\"vtkOpenGLRenderer\"}],\"id\":\"0a0f0290-085a-41e3-9642-1c5baa0c7aea000055ebc77f0a00\",\"mtime\":18532,\"parent\":\"0a0f0290-085a-41e3-9642-1c5baa0c7aea0x0\",\"properties\":{\"numberOfLayers\":2},\"type\":\"vtkXOpenGLRenderWindow\"},\"sizing_mode\":\"stretch_width\",\"width\":800},\"id\":\"1013\",\"type\":\"panel.models.vtk.VTKSynchronizedPlot\"},{\"attributes\":{},\"id\":\"1012\",\"type\":\"panel.models.vtk.VTKAxes\"},{\"attributes\":{\"high\":2.0,\"low\":1.0,\"name\":\"Marker\",\"palette\":[\"#440154\",\"#440255\",\"#440357\",\"#450558\",\"#45065a\",\"#45085b\",\"#46095c\",\"#460b5e\",\"#460c5f\",\"#460e61\",\"#470f62\",\"#471163\",\"#471265\",\"#471466\",\"#471567\",\"#471669\",\"#47186a\",\"#48196b\",\"#481a6c\",\"#481c6e\",\"#481d6f\",\"#481e70\",\"#482071\",\"#482172\",\"#482273\",\"#482374\",\"#472575\",\"#472676\",\"#472777\",\"#472878\",\"#472a79\",\"#472b7a\",\"#472c7b\",\"#462d7c\",\"#462f7c\",\"#46307d\",\"#46317e\",\"#45327f\",\"#45347f\",\"#453580\",\"#453681\",\"#443781\",\"#443982\",\"#433a83\",\"#433b83\",\"#433c84\",\"#423d84\",\"#423e85\",\"#424085\",\"#414186\",\"#414286\",\"#404387\",\"#404487\",\"#3f4587\",\"#3f4788\",\"#3e4888\",\"#3e4989\",\"#3d4a89\",\"#3d4b89\",\"#3d4c89\",\"#3c4d8a\",\"#3c4e8a\",\"#3b508a\",\"#3b518a\",\"#3a528b\",\"#3a538b\",\"#39548b\",\"#39558b\",\"#38568b\",\"#38578c\",\"#37588c\",\"#37598c\",\"#365a8c\",\"#365b8c\",\"#355c8c\",\"#355d8c\",\"#345e8d\",\"#345f8d\",\"#33608d\",\"#33618d\",\"#32628d\",\"#32638d\",\"#31648d\",\"#31658d\",\"#31668d\",\"#30678d\",\"#30688d\",\"#2f698d\",\"#2f6a8d\",\"#2e6b8e\",\"#2e6c8e\",\"#2e6d8e\",\"#2d6e8e\",\"#2d6f8e\",\"#2c708e\",\"#2c718e\",\"#2c728e\",\"#2b738e\",\"#2b748e\",\"#2a758e\",\"#2a768e\",\"#2a778e\",\"#29788e\",\"#29798e\",\"#287a8e\",\"#287a8e\",\"#287b8e\",\"#277c8e\",\"#277d8e\",\"#277e8e\",\"#267f8e\",\"#26808e\",\"#26818e\",\"#25828e\",\"#25838d\",\"#24848d\",\"#24858d\",\"#24868d\",\"#23878d\",\"#23888d\",\"#23898d\",\"#22898d\",\"#228a8d\",\"#228b8d\",\"#218c8d\",\"#218d8c\",\"#218e8c\",\"#208f8c\",\"#20908c\",\"#20918c\",\"#1f928c\",\"#1f938b\",\"#1f948b\",\"#1f958b\",\"#1f968b\",\"#1e978a\",\"#1e988a\",\"#1e998a\",\"#1e998a\",\"#1e9a89\",\"#1e9b89\",\"#1e9c89\",\"#1e9d88\",\"#1e9e88\",\"#1e9f88\",\"#1ea087\",\"#1fa187\",\"#1fa286\",\"#1fa386\",\"#20a485\",\"#20a585\",\"#21a685\",\"#21a784\",\"#22a784\",\"#23a883\",\"#23a982\",\"#24aa82\",\"#25ab81\",\"#26ac81\",\"#27ad80\",\"#28ae7f\",\"#29af7f\",\"#2ab07e\",\"#2bb17d\",\"#2cb17d\",\"#2eb27c\",\"#2fb37b\",\"#30b47a\",\"#32b57a\",\"#33b679\",\"#35b778\",\"#36b877\",\"#38b976\",\"#39b976\",\"#3bba75\",\"#3dbb74\",\"#3ebc73\",\"#40bd72\",\"#42be71\",\"#44be70\",\"#45bf6f\",\"#47c06e\",\"#49c16d\",\"#4bc26c\",\"#4dc26b\",\"#4fc369\",\"#51c468\",\"#53c567\",\"#55c666\",\"#57c665\",\"#59c764\",\"#5bc862\",\"#5ec961\",\"#60c960\",\"#62ca5f\",\"#64cb5d\",\"#67cc5c\",\"#69cc5b\",\"#6bcd59\",\"#6dce58\",\"#70ce56\",\"#72cf55\",\"#74d054\",\"#77d052\",\"#79d151\",\"#7cd24f\",\"#7ed24e\",\"#81d34c\",\"#83d34b\",\"#86d449\",\"#88d547\",\"#8bd546\",\"#8dd644\",\"#90d643\",\"#92d741\",\"#95d73f\",\"#97d83e\",\"#9ad83c\",\"#9dd93a\",\"#9fd938\",\"#a2da37\",\"#a5da35\",\"#a7db33\",\"#aadb32\",\"#addc30\",\"#afdc2e\",\"#b2dd2c\",\"#b5dd2b\",\"#b7dd29\",\"#bade27\",\"#bdde26\",\"#bfdf24\",\"#c2df22\",\"#c5df21\",\"#c7e01f\",\"#cae01e\",\"#cde01d\",\"#cfe11c\",\"#d2e11b\",\"#d4e11a\",\"#d7e219\",\"#dae218\",\"#dce218\",\"#dfe318\",\"#e1e318\",\"#e4e318\",\"#e7e419\",\"#e9e419\",\"#ece41a\",\"#eee51b\",\"#f1e51c\",\"#f3e51e\",\"#f6e61f\",\"#f8e621\",\"#fae622\",\"#fde724\"]},\"id\":\"1011\",\"type\":\"LinearColorMapper\"},{\"attributes\":{\"client_comm_id\":\"a24737d1a09a4090bfeb05147d61f583\",\"comm_id\":\"6ca8c3f764a442f19595ecbf08ec076a\",\"plot_id\":\"1013\"},\"id\":\"1014\",\"type\":\"panel.models.comm_manager.CommManager\"}],\"root_ids\":[\"1013\",\"1014\"]},\"title\":\"Bokeh Application\",\"version\":\"2.4.3\"}};\n",
       "    var render_items = [{\"docid\":\"fd2067c8-608a-4108-aebd-a2616c0a5970\",\"root_ids\":[\"1013\"],\"roots\":{\"1013\":\"260e8bc1-e705-46fd-92af-40cd2200c17c\"}}];\n",
       "    root.Bokeh.embed.embed_items_notebook(docs_json, render_items);\n",
       "    for (const render_item of render_items) {\n",
       "      for (const root_id of render_item.root_ids) {\n",
       "\tconst id_el = document.getElementById(root_id)\n",
       "\tif (id_el.children.length && (id_el.children[0].className === 'bk-root')) {\n",
       "\t  const root_el = id_el.children[0]\n",
       "\t  root_el.id = root_el.id + '-rendered'\n",
       "\t}\n",
       "      }\n",
       "    }\n",
       "  }\n",
       "  if (root.Bokeh !== undefined && root.Bokeh.Panel !== undefined && ( root['vtk'] !== undefined)) {\n",
       "    embed_document(root);\n",
       "  } else {\n",
       "    var attempts = 0;\n",
       "    var timer = setInterval(function(root) {\n",
       "      if (root.Bokeh !== undefined && root.Bokeh.Panel !== undefined && (root['vtk'] !== undefined)) {\n",
       "        clearInterval(timer);\n",
       "        embed_document(root);\n",
       "      } else if (document.readyState == \"complete\") {\n",
       "        attempts++;\n",
       "        if (attempts > 200) {\n",
       "          clearInterval(timer);\n",
       "          console.log(\"Bokeh: ERROR: Unable to run BokehJS code because BokehJS library is missing\");\n",
       "        }\n",
       "      }\n",
       "    }, 25, root)\n",
       "  }\n",
       "})(window);</script>"
      ]
     },
     "metadata": {},
     "output_type": "display_data"
    }
   ],
   "source": [
    "u, v = TrialFunction(V), TestFunction(V)\n",
    "a = inner(kappa*grad(u), grad(v)) * dx\n",
    "x = SpatialCoordinate(mesh)\n",
    "L = Constant(mesh, ScalarType(1)) * v * dx\n",
    "\n",
    "problem = LinearProblem(a, L, bcs=bcs, petsc_options={\"ksp_type\": \"preonly\", \"pc_type\": \"lu\"})\n",
    "uh = problem.solve()\n",
    "\n",
    "# As the dolfinx.MeshTag contains a value for every cell in the\n",
    "# geometry, we can attach it directly to the grid\n",
    "\n",
    "topology, cell_types, x = create_vtk_mesh(mesh, mesh.topology.dim)\n",
    "grid = pyvista.UnstructuredGrid(topology, cell_types, x)\n",
    "num_local_cells = mesh.topology.index_map(mesh.topology.dim).size_local\n",
    "grid.cell_data[\"Marker\"] = ct.values[ct.indices<num_local_cells]\n",
    "grid.set_active_scalars(\"Marker\")\n",
    "\n",
    "p = pyvista.Plotter(window_size=[800, 800])\n",
    "p.add_mesh(grid, show_edges=True)\n",
    "if not pyvista.OFF_SCREEN:\n",
    "    p.show()\n",
    "else:\n",
    "    figure = p.screenshot(\"subdomains_unstructured.png\")"
   ]
  },
  {
   "cell_type": "code",
   "execution_count": 18,
   "metadata": {},
   "outputs": [
    {
     "data": {},
     "metadata": {},
     "output_type": "display_data"
    },
    {
     "data": {
      "text/html": [
       "<div id='1017'>\n",
       "  <div class=\"bk-root\" id=\"bc242e3e-6dfd-43ff-b7d2-56fb31c1ebe8\" data-root-id=\"1017\"></div>\n",
       "</div>\n",
       "<script type=\"application/javascript\">(function(root) {\n",
       "  function embed_document(root) {\n",
       "    var docs_json = {\"f9435720-5b6a-495c-bda5-0956a052d151\":{\"defs\":[{\"extends\":null,\"module\":null,\"name\":\"ReactiveHTML1\",\"overrides\":[],\"properties\":[]},{\"extends\":null,\"module\":null,\"name\":\"FlexBox1\",\"overrides\":[],\"properties\":[{\"default\":\"flex-start\",\"kind\":null,\"name\":\"align_content\"},{\"default\":\"flex-start\",\"kind\":null,\"name\":\"align_items\"},{\"default\":\"row\",\"kind\":null,\"name\":\"flex_direction\"},{\"default\":\"wrap\",\"kind\":null,\"name\":\"flex_wrap\"},{\"default\":\"flex-start\",\"kind\":null,\"name\":\"justify_content\"}]},{\"extends\":null,\"module\":null,\"name\":\"GridStack1\",\"overrides\":[],\"properties\":[{\"default\":\"warn\",\"kind\":null,\"name\":\"mode\"},{\"default\":null,\"kind\":null,\"name\":\"ncols\"},{\"default\":null,\"kind\":null,\"name\":\"nrows\"},{\"default\":true,\"kind\":null,\"name\":\"allow_resize\"},{\"default\":true,\"kind\":null,\"name\":\"allow_drag\"},{\"default\":[],\"kind\":null,\"name\":\"state\"}]},{\"extends\":null,\"module\":null,\"name\":\"click1\",\"overrides\":[],\"properties\":[{\"default\":\"\",\"kind\":null,\"name\":\"terminal_output\"},{\"default\":\"\",\"kind\":null,\"name\":\"debug_name\"},{\"default\":0,\"kind\":null,\"name\":\"clears\"}]},{\"extends\":null,\"module\":null,\"name\":\"NotificationAreaBase1\",\"overrides\":[],\"properties\":[{\"default\":\"bottom-right\",\"kind\":null,\"name\":\"position\"},{\"default\":0,\"kind\":null,\"name\":\"_clear\"}]},{\"extends\":null,\"module\":null,\"name\":\"NotificationArea1\",\"overrides\":[],\"properties\":[{\"default\":[],\"kind\":null,\"name\":\"notifications\"},{\"default\":\"bottom-right\",\"kind\":null,\"name\":\"position\"},{\"default\":0,\"kind\":null,\"name\":\"_clear\"},{\"default\":[{\"background\":\"#ffc107\",\"icon\":{\"className\":\"fas fa-exclamation-triangle\",\"color\":\"white\",\"tagName\":\"i\"},\"type\":\"warning\"},{\"background\":\"#007bff\",\"icon\":{\"className\":\"fas fa-info-circle\",\"color\":\"white\",\"tagName\":\"i\"},\"type\":\"info\"}],\"kind\":null,\"name\":\"types\"}]},{\"extends\":null,\"module\":null,\"name\":\"Notification\",\"overrides\":[],\"properties\":[{\"default\":null,\"kind\":null,\"name\":\"background\"},{\"default\":3000,\"kind\":null,\"name\":\"duration\"},{\"default\":null,\"kind\":null,\"name\":\"icon\"},{\"default\":\"\",\"kind\":null,\"name\":\"message\"},{\"default\":null,\"kind\":null,\"name\":\"notification_type\"},{\"default\":false,\"kind\":null,\"name\":\"_destroyed\"}]},{\"extends\":null,\"module\":null,\"name\":\"TemplateActions1\",\"overrides\":[],\"properties\":[{\"default\":0,\"kind\":null,\"name\":\"open_modal\"},{\"default\":0,\"kind\":null,\"name\":\"close_modal\"}]},{\"extends\":null,\"module\":null,\"name\":\"MaterialTemplateActions1\",\"overrides\":[],\"properties\":[{\"default\":0,\"kind\":null,\"name\":\"open_modal\"},{\"default\":0,\"kind\":null,\"name\":\"close_modal\"}]}],\"roots\":{\"references\":[{\"attributes\":{},\"id\":\"1016\",\"type\":\"panel.models.vtk.VTKAxes\"},{\"attributes\":{\"client_comm_id\":\"df4d2c88b96f4572be51c5ca7abf2987\",\"comm_id\":\"57c6a9b530934608b1ae9c3d444f883d\",\"plot_id\":\"1017\"},\"id\":\"1018\",\"type\":\"panel.models.comm_manager.CommManager\"},{\"attributes\":{\"high\":2.844910589981301,\"low\":1.0,\"name\":\"u\",\"palette\":[\"#440154\",\"#440255\",\"#440357\",\"#450558\",\"#45065a\",\"#45085b\",\"#46095c\",\"#460b5e\",\"#460c5f\",\"#460e61\",\"#470f62\",\"#471163\",\"#471265\",\"#471466\",\"#471567\",\"#471669\",\"#47186a\",\"#48196b\",\"#481a6c\",\"#481c6e\",\"#481d6f\",\"#481e70\",\"#482071\",\"#482172\",\"#482273\",\"#482374\",\"#472575\",\"#472676\",\"#472777\",\"#472878\",\"#472a79\",\"#472b7a\",\"#472c7b\",\"#462d7c\",\"#462f7c\",\"#46307d\",\"#46317e\",\"#45327f\",\"#45347f\",\"#453580\",\"#453681\",\"#443781\",\"#443982\",\"#433a83\",\"#433b83\",\"#433c84\",\"#423d84\",\"#423e85\",\"#424085\",\"#414186\",\"#414286\",\"#404387\",\"#404487\",\"#3f4587\",\"#3f4788\",\"#3e4888\",\"#3e4989\",\"#3d4a89\",\"#3d4b89\",\"#3d4c89\",\"#3c4d8a\",\"#3c4e8a\",\"#3b508a\",\"#3b518a\",\"#3a528b\",\"#3a538b\",\"#39548b\",\"#39558b\",\"#38568b\",\"#38578c\",\"#37588c\",\"#37598c\",\"#365a8c\",\"#365b8c\",\"#355c8c\",\"#355d8c\",\"#345e8d\",\"#345f8d\",\"#33608d\",\"#33618d\",\"#32628d\",\"#32638d\",\"#31648d\",\"#31658d\",\"#31668d\",\"#30678d\",\"#30688d\",\"#2f698d\",\"#2f6a8d\",\"#2e6b8e\",\"#2e6c8e\",\"#2e6d8e\",\"#2d6e8e\",\"#2d6f8e\",\"#2c708e\",\"#2c718e\",\"#2c728e\",\"#2b738e\",\"#2b748e\",\"#2a758e\",\"#2a768e\",\"#2a778e\",\"#29788e\",\"#29798e\",\"#287a8e\",\"#287a8e\",\"#287b8e\",\"#277c8e\",\"#277d8e\",\"#277e8e\",\"#267f8e\",\"#26808e\",\"#26818e\",\"#25828e\",\"#25838d\",\"#24848d\",\"#24858d\",\"#24868d\",\"#23878d\",\"#23888d\",\"#23898d\",\"#22898d\",\"#228a8d\",\"#228b8d\",\"#218c8d\",\"#218d8c\",\"#218e8c\",\"#208f8c\",\"#20908c\",\"#20918c\",\"#1f928c\",\"#1f938b\",\"#1f948b\",\"#1f958b\",\"#1f968b\",\"#1e978a\",\"#1e988a\",\"#1e998a\",\"#1e998a\",\"#1e9a89\",\"#1e9b89\",\"#1e9c89\",\"#1e9d88\",\"#1e9e88\",\"#1e9f88\",\"#1ea087\",\"#1fa187\",\"#1fa286\",\"#1fa386\",\"#20a485\",\"#20a585\",\"#21a685\",\"#21a784\",\"#22a784\",\"#23a883\",\"#23a982\",\"#24aa82\",\"#25ab81\",\"#26ac81\",\"#27ad80\",\"#28ae7f\",\"#29af7f\",\"#2ab07e\",\"#2bb17d\",\"#2cb17d\",\"#2eb27c\",\"#2fb37b\",\"#30b47a\",\"#32b57a\",\"#33b679\",\"#35b778\",\"#36b877\",\"#38b976\",\"#39b976\",\"#3bba75\",\"#3dbb74\",\"#3ebc73\",\"#40bd72\",\"#42be71\",\"#44be70\",\"#45bf6f\",\"#47c06e\",\"#49c16d\",\"#4bc26c\",\"#4dc26b\",\"#4fc369\",\"#51c468\",\"#53c567\",\"#55c666\",\"#57c665\",\"#59c764\",\"#5bc862\",\"#5ec961\",\"#60c960\",\"#62ca5f\",\"#64cb5d\",\"#67cc5c\",\"#69cc5b\",\"#6bcd59\",\"#6dce58\",\"#70ce56\",\"#72cf55\",\"#74d054\",\"#77d052\",\"#79d151\",\"#7cd24f\",\"#7ed24e\",\"#81d34c\",\"#83d34b\",\"#86d449\",\"#88d547\",\"#8bd546\",\"#8dd644\",\"#90d643\",\"#92d741\",\"#95d73f\",\"#97d83e\",\"#9ad83c\",\"#9dd93a\",\"#9fd938\",\"#a2da37\",\"#a5da35\",\"#a7db33\",\"#aadb32\",\"#addc30\",\"#afdc2e\",\"#b2dd2c\",\"#b5dd2b\",\"#b7dd29\",\"#bade27\",\"#bdde26\",\"#bfdf24\",\"#c2df22\",\"#c5df21\",\"#c7e01f\",\"#cae01e\",\"#cde01d\",\"#cfe11c\",\"#d2e11b\",\"#d4e11a\",\"#d7e219\",\"#dae218\",\"#dce218\",\"#dfe318\",\"#e1e318\",\"#e4e318\",\"#e7e419\",\"#e9e419\",\"#ece41a\",\"#eee51b\",\"#f1e51c\",\"#f3e51e\",\"#f6e61f\",\"#f8e621\",\"#fae622\",\"#fde724\"]},\"id\":\"1015\",\"type\":\"LinearColorMapper\"},{\"attributes\":{\"arrays\":{\"1fe6b76ddbe457c4ac62d7b8fcd70bf7\":\"UEsDBBQAAAAIAOejQVYLDZ0/rQIAAMAKAAAlAAAAZGF0YS8xZmU2Yjc2ZGRiZTQ1N2M0YWM2MmQ3YjhmY2Q3MGJmN12RC1PSURBHpWtpaCoSPiMfVIJIoCJqD99g8tA0JdQw39//I8ROZ2d+gzP/uffs7t09rKHn/1+k873ofIEzwt2+XrhHYsYvhe3+insfb3okFyEWqLNYv9S/lnyUvNZb7QDcTz4KD/K+D7b7G3nfC0fl/VBXP8sNwwPkR2A7Y51vVObFmWP8lv7OUTgh/Yfp6fmEzBshF4PtHJN5o/A4bOdE55uEp/AZlN8fx8t4Gh/nBDwNm8c78bN8UvyGyLvfe3ycx+EJ2M4Z8ZuEZ+E5/KZkf3Hi7muxeeGk7DOJj/vF4JRwCk/3GRP+gI/7zsIfZZ+fxGceH+cFnNwvjZPvM4NPEk7BGdmfxRaFs137y+IZ8JoRXsLP9zcH54Rz4mfnZ7zdP93lmyQW8EqJbx7HReFs1z6NC+JrsWV4Bb8lOAeviF8Ox8C5Kr5F3Jwz8Jr4ZoRLOLpvAb+8+BbEbx0X99vAx/3svil+C/gVxfcLsYBHWvIlXNTvq/jkYd/fMvdv8Hdc1oU3xG8DP///b+LjvkXctuBV8tvwDm7qu0bceBe/Emz3PfEtwO67j6P6HuDpvmU8jSv4OBdx9flbOLvvNvUV8StJ/SGOu8J7xAKexj/E9whP9z3COXCWxX8T9vk7OFbF1xxr8vvqXfuuip+dDTwDXnvCx/jsi4/xCfwTnwOZVybuPjXxM49T8avD7ndGzH9fFT/3tfsv8TuEfZ8n+B3D57ip7wFxn1cRX/O6EN8afk34N1wXrtMn8LYh71v4NWS/xpfwFbPPhc+6fJr0DdxPmevzrf5a5jWk/pJ5Lfia+ivp90fqrV9bfu8NMe9/QX1L+tv9L3xLXt+3xbcJ34qv1d8J30m/O/Jef8/7G5nXJh54Z28eJP8o/Z+I3Uv/R6l/gn3eA/wMP8NW9w9QSwECFAMUAAAACADno0FWCw2dP60CAADACgAAJQAAAAAAAAAAAAAAgAEAAAAAZGF0YS8xZmU2Yjc2ZGRiZTQ1N2M0YWM2MmQ3YjhmY2Q3MGJmN1BLBQYAAAAAAQABAFMAAADwAgAAAAA=\",\"ce52d598102e2756143cf4f27a0b5911\":\"UEsDBBQAAAAIAOejQVaE1+BQMwMAAAAEAAAlAAAAZGF0YS9jZTUyZDU5ODEwMmUyNzU2MTQzY2Y0ZjI3YTBiNTkxMS3DCUzVBRzA8VWr1Wq1WjVAfI/HfQnIfcvx3vs/wiMUBAS55BC57/uWx/He/59ZZllmWWZZZllmWWpRappXeKAIAga4ttbW2lpra99+bX62j/G+dIz3Z2B8IBPTg1mYHtqA6eEczI/kYn40D/Nj+ZgfL0R5ogjlyU0oT5WgPF2K8kwZyrPlKA5bsDhWYHGqxOJcjWVpDRZdLRaXOiyGeiyuDVjcGlE8mlA8m1G8WlC8W1F821D82lH8OzAv68QcKIO6MC/vxhTcgylUhvViCu/DGCGj+kmOHiA5RsZuJSlOxg+SlDBIYqKVxCQrCclDJBiHWGGSyjDxFpkyQtxzMlWuHCF21Sixq0eJeV6mjRK91kb0OhtR6TLDRuR6mWknIktm2wnfIHPshOXKjXZC81RC81VCCmShSnCR3KSyvFiWyFKVoDK5WSWwXG5RCajQCKiUVRrLqmWNhn+trJP1Gn4NslHDt0k2yxYNn1bZpuHdfm+Hhlen7JLdGp49slf2aXj0ywEV961yUFpV3IbksBxRcf3/qLSpGOxStWPQ7Li8ILfJF+3ot8uXbOhfljvkKzZ0O0fRvSpfu3fXCLrX5Rty9zC6N+Ue+dYQ+rflXiv6d6y4vDuIy75BDO/J/VtxlW7vD+D2QT/uB/rx+LAPz4/68DrYi/fHPfgc6sH3k278Pu3CXwYc7iTwsw6CPm8n+Eg7IV+0EXa0lfAvW4j8qpkoGXOsibivG4n/poGE4/UknajDeKIW08kalG+rSfmuitSxSlaNVbDm+3LSftjMulNlZJwuJfN0Cdlnisn5sYi8s4UUnC2g6Fw+xT9tpOx8LuXnc6i4kE3VxSxqL66n/lIGjZfTabm8lraf0+gcX0P3+Gr6rqxk4Eoq1qspDF9TsF0zo143su16MtsnEtkxsYKdN+LZdSOW3Tej2XMzkr2TEeybDGP/rRAO3Arm4FQQh6YCODztz5FpP45O+3DsthfHb3tycsadsRlXTs0YODOr59ysjguzS7k058z43BKuzjkxcceRyTsOTMmZXxyYk/Py7rwjv8rf5p34fWEJfyw48+eCjr8W9fy9aOCfRVf+vevOf1BLAQIUAxQAAAAIAOejQVaE1+BQMwMAAAAEAAAlAAAAAAAAAAAAAACAAQAAAABkYXRhL2NlNTJkNTk4MTAyZTI3NTYxNDNjZjRmMjdhMGI1OTExUEsFBgAAAAABAAEAUwAAAHYDAAAAAA==\",\"e40f431162902d0a4153c7cc3bfca9c4\":\"UEsDBBQAAAAIAOejQVYACrS8FQMAADgDAAAlAAAAZGF0YS9lNDBmNDMxMTYyOTAyZDBhNDE1M2M3Y2MzYmZjYTljNEXOfUzMcRwH8HueRQ8Odz1Zdx564EyWico+391SssJWHnoYd1nlUrpVTmnWhKuJcygca10qt1Mmz8lTc5WHjhCpTkqiIaR+/e663+93x2yu95/vvffau1V59Mn0hRQk+wj9DhEk5MkKQrluFFTM6h8P7iZhj0aq63GnYOCs1RivIeGh2VMwvIyEgmnhhswMCtK+jZ9zayHgc45Tm18xBeKNeSdFu0iozeLpDwgIkHNfb2ntp8BqjC5X4STsTt/TL1RZwfTheENULgEufoP2yupJaLwf1Vb43ALBfYdbzM1m6CzL0km+UzDzx23fiyUU0O6distdQkK1sEjg1YDD0ZsVI6OFE+Cq9VfUFWEQyVV05H0Zg6BE/Y1WlQ1yjlV1b1CT4K79yOessIIoB70oDycgP8iU6vUEByXfa6eSNwa0fxmFR9GXhVWxNphcklYfUE1BzbsauceABcjI0iF5wtSuyeiuYV6lo4SJuDfPC0lYVxrbnr2IAA/FJlvE90mICcGrN3tY4Mzq9XqbDgOR7wXx3BMMdNtoWu5H0VF6NHeoU0hHjS2bm9nGCSAC1eLYV1O+96eYga0PmKgraFWySEpD5oG4XO1XK/Cx3U2eikno0FILPCLMIJNgd0IGWUhrjOUxj7BQWMTd9MYEJiqrmd89LGEguS7gfe0dzOFmZl9P7lSzUWWZOZBst8GXNaf1WYN0NH/BNfWcPgs0LOW3qZJwyA+JEf7ePgZS+1tneTgHyWY79fzE2KiwfGVZfzMLHReUvnjWyUSpPZ7D9TvHHb4LT3prxzYOYjcGZti7CEhJMuBzgmiI01H3bbGFgfbrA8u5DAss9m4ukDzioKcZSVXFx/76nsMSWRQbidfuU9ENdFRrunIlPpSFenuzO97yMUi0CnIPOnHQZa80jWsmCQbY0e4TQ0OyPOe1RUoGMiWd591/jDt+zNJqaL/msdG2kqbpAS+ZaI05Tr1XQUBXSdPykRs0ZG0wUDoLHf3f+4vPnZUmkrApDLuUcgsHzHvVYxvL7vCUJru+dyMOuO8MUZrS4uj/AFBLAQIUAxQAAAAIAOejQVYACrS8FQMAADgDAAAlAAAAAAAAAAAAAACAAQAAAABkYXRhL2U0MGY0MzExNjI5MDJkMGE0MTUzYzdjYzNiZmNhOWM0UEsFBgAAAAABAAEAUwAAAFgDAAAAAA==\",\"e5f4e1db9165a4c2add443ffcac463e8\":\"UEsDBBQAAAAIAOejQVZumINw4wQAAKgJAAAlAAAAZGF0YS9lNWY0ZTFkYjkxNjVhNGMyYWRkNDQzZmZjYWM0NjNlOHWWeVBTVxSHURFkKVsUqGVVYUCgiKAdoZ0jm6BUrAglKCBQagVZipVVighIF3WqSLFUBsQWmJZRBAsMKEjZJIzFYAhrKEsgEAjYqixNCun08XKvvDfcP86d992bc879nbtEKv2/vYAFon8McmTrEQldg7VmAHLvs+ciqhFfaX9RvuXkJMTvp2ncksNiV5iLwKNIM9QqhoXGbcqcGgd6hZC/M/X745M1iC8SfiZofqRknkKif4bGBVlaKYUL4+Dj263N+e4h4vYs6/iqXhEkMx7lpGR3Ib7FPzBV/t8J0DgmzHOqxPnMEX75a8ZdyasHjefEL0rFTCGc7rRuHFThIP5O0oyuutUoLPluWkzsq0X8vC+36eyJMWAEzXmINNsRnyL8DsGyGa/lWJrr+0hhgg/A5Q+Zk0lVDyl59tDylNXrbh/ncuOOfjS+sORTU2I/BbZ+zA+sb/YhHiFnYhrxrgAKntYnL7M7Ef+H8M+BB/n7h/pvPKDwZ+DklFvUGuSC8kwYrj9Yms4C1eEXgeGOeL0vKfuJqqeUXDeqS8FsDkdJAC1TFrO+zb2IH/WMeMSbHgbey6D0c2xcrwih9IJIlQ/mt4vTjBlYf23CdoHC1fM/uUW14n1VYC5oulsFti29xzNOVtHyCnCerTTrdkfrWkdYETlvGM1fT9hJGh/Zlp4V9ngA4i6+df2MANfXLPDbM2LXGmiODZ7eOdNKi6tG2AbaubNgaNfmz4wirkDYMVrczHRlW7eWEfjIYi5100lc31MnPO19Px6CsjhmirPkOeIcaeZuxw29YP2c6xT+JebdBn6D0xIW3BzfG709H+ssq9cy5XwkLMQ2mZUJYXtsYknCLcxNfr8RYJw5Dvyp8FEFd8y9A6XFurps0HHPqPN6guOWayp0urnUwefm2rPXsjk0fVQIy0Zc5fUV5tZ8ERjr6fkw5AWI35nXXz7IGoGa22nFc0dxXOVVemHdonYcsWhfzwMN3yO5Swysm11//4Y6jS6wDD9kr6LXR9NBTLmfWrmRf5gWCmFPnr4JV2sS8eo/P0ljegpgkH3I36sC52mUemGj8n4+qEe+8uYZYt7hEalQHdMGDgavs/R/7KPpsLLv8LnocF1iTeSJYFFzfvcvEiHiMeS6EryZtuvisA5bVbOT0iVDMDMf/behBMfVXuUX66NO6k49p0zyPbhPuWdk+lDfgQBHTRubWiE4zO+ThDBFiP/WqbksGBHAAdXCWnE7zv9rvXtXqj/lQ5bfU59bh4WUPBtoea5umHPJc9RF9jK+h6yvsL0/RByD9bGb8Ocyi3tAo7AJeJ0C2v7JGVV1q9SeQjykvu+04rU2GLvj7z1lz6fpIOtX5yeicbW2dmXn5nE4yyhWvFeK9dnmcEB/16t+cDHSV/MKxjpUFfl89R5/BDqTF0aG6vD8ILIuVpR7Y+Uem6TF5Q2/HXpRhw3j3+zNyC16Y38Stgsa9Ix1okLxevXsopw2GwyAWGlXdVI+jpt3qjwxrKIefMLk/Tz8BbS6yBN2DPGN5Dc1H5nOVG6rWLvPNJoFHfwUV93PsA6byTwtRTo/Z1zF9d1C2N419JfFx+fUpPTX6yWXWFCT80Nb4hvrKpceTogPr4UnYiPDL5SwDhqEZa/pf/W7ISd3jqwLl7IPZfuZ6ids1TuE/2f9B1BLAQIUAxQAAAAIAOejQVZumINw4wQAAKgJAAAlAAAAAAAAAAAAAACAAQAAAABkYXRhL2U1ZjRlMWRiOTE2NWE0YzJhZGQ0NDNmZmNhYzQ2M2U4UEsFBgAAAAABAAEAUwAAACYFAAAAAA==\"},\"axes\":{\"id\":\"1016\"},\"color_mappers\":[{\"id\":\"1015\"}],\"height\":800,\"margin\":[5,5,5,5],\"scene\":{\"calls\":[[\"addRenderer\",[\"instance:${f982efbc-506e-4bb0-a349-213d90cf5f8f000055ebce333c40}\"]],[\"addRenderer\",[\"instance:${f982efbc-506e-4bb0-a349-213d90cf5f8f000055ebce30acb0}\"]]],\"dependencies\":[{\"calls\":[[\"setActiveCamera\",[\"instance:${000055ebce3912d0}\"]],[\"addViewProp\",[\"instance:${f982efbc-506e-4bb0-a349-213d90cf5f8f000055ebce29af10}\"]]],\"dependencies\":[{\"id\":\"000055ebce3912d0\",\"parent\":\"f982efbc-506e-4bb0-a349-213d90cf5f8f000055ebce333c40\",\"properties\":{\"clippingRange\":[1.5558032638058337,4.219293994002424],\"focalPoint\":[0.5,0.5,0.0],\"position\":[2.077350269189626,2.077350269189626,1.5773502691896262],\"viewUp\":[0.0,0.0,1.0]},\"type\":\"vtkOpenGLCamera\"},{\"calls\":[[\"setMapper\",[\"instance:${f982efbc-506e-4bb0-a349-213d90cf5f8f000055ebce38fc30}\"]],[\"setProperty\",[\"instance:${f982efbc-506e-4bb0-a349-213d90cf5f8f000055ebce047a90}\"]]],\"dependencies\":[{\"calls\":[[\"setInputData\",[\"instance:${f982efbc-506e-4bb0-a349-213d90cf5f8f000055ebce38fc30-dataset-0}\",0]],[\"setLookupTable\",[\"instance:${f982efbc-506e-4bb0-a349-213d90cf5f8f000055ebce300fa0}\"]]],\"dependencies\":[{\"id\":\"f982efbc-506e-4bb0-a349-213d90cf5f8f000055ebce38fc30-dataset-0\",\"parent\":\"f982efbc-506e-4bb0-a349-213d90cf5f8f000055ebce38fc30\",\"properties\":{\"fields\":[{\"dataType\":\"Float64Array\",\"hash\":\"e40f431162902d0a4153c7cc3bfca9c4\",\"location\":\"pointData\",\"name\":\"u\",\"numberOfComponents\":1,\"ranges\":[{\"component\":null,\"max\":2.844910589981301,\"min\":1.0}],\"registration\":\"setScalars\",\"size\":103,\"vtkClass\":\"vtkDataArray\"}],\"points\":{\"dataType\":\"Float64Array\",\"hash\":\"e5f4e1db9165a4c2add443ffcac463e8\",\"name\":\"Points\",\"numberOfComponents\":3,\"ranges\":[{\"component\":null,\"max\":1.0,\"min\":0.0},{\"component\":null,\"max\":1.0,\"min\":0.0},{\"component\":null,\"max\":0.0,\"min\":0.0},{\"component\":null,\"max\":1.414213562373095,\"min\":2.692785089470117e-18}],\"size\":309,\"vtkClass\":\"vtkPoints\"},\"polys\":{\"dataType\":\"Uint32Array\",\"hash\":\"1fe6b76ddbe457c4ac62d7b8fcd70bf7\",\"name\":null,\"numberOfComponents\":1,\"ranges\":[{\"component\":null,\"max\":102.0,\"min\":0.0}],\"size\":688,\"vtkClass\":\"vtkCellArray\"}},\"type\":\"vtkPolyData\"},{\"arrays\":[{\"dataType\":\"Uint8Array\",\"hash\":\"ce52d598102e2756143cf4f27a0b5911\",\"name\":null,\"numberOfComponents\":4,\"ranges\":[{\"component\":null,\"max\":253.0,\"min\":30.0},{\"component\":null,\"max\":231.0,\"min\":1.0},{\"component\":null,\"max\":142.0,\"min\":24.0},{\"component\":null,\"max\":255.0,\"min\":255.0},{\"component\":null,\"max\":428.5918804643877,\"min\":276.95848064285735}],\"registration\":\"setTable\",\"size\":1024,\"vtkClass\":\"vtkDataArray\"}],\"id\":\"f982efbc-506e-4bb0-a349-213d90cf5f8f000055ebce300fa0\",\"parent\":\"f982efbc-506e-4bb0-a349-213d90cf5f8f000055ebce38fc30\",\"properties\":{\"aboveRangeColor\":[1.0,1.0,1.0,1.0],\"alpha\":1.0,\"belowRangeColor\":[0.0,0.0,0.0,1.0],\"hueRange\":[0.5,0],\"indexedLookup\":0,\"nanColor\":[0.6627450980392157,0.6627450980392157,0.6627450980392157,1.0],\"numberOfColors\":256,\"range\":[1.0,2.844910589981301],\"saturationRange\":[1.0,1.0],\"useAboveRangeColor\":false,\"useBelowRangeColor\":false,\"valueRange\":[1.0,2.844910589981301],\"vectorComponent\":0,\"vectorMode\":1,\"vectorSize\":-1},\"type\":\"vtkLookupTable\"}],\"id\":\"f982efbc-506e-4bb0-a349-213d90cf5f8f000055ebce38fc30\",\"parent\":\"f982efbc-506e-4bb0-a349-213d90cf5f8f000055ebce29af10\",\"properties\":{\"arrayAccessMode\":1,\"colorByArrayName\":null,\"colorMode\":1,\"interpolateScalarsBeforeMapping\":1,\"renderTime\":0.0,\"resolveCoincidentTopology\":0,\"scalarMode\":1,\"scalarRange\":[1.0,2.844910589981301],\"scalarVisibility\":1,\"useLookupTableScalarRange\":0},\"type\":\"vtkDataSetMapper\"},{\"id\":\"f982efbc-506e-4bb0-a349-213d90cf5f8f000055ebce047a90\",\"parent\":\"f982efbc-506e-4bb0-a349-213d90cf5f8f000055ebce29af10\",\"properties\":{\"ambient\":0.0,\"ambientColor\":[1.0,1.0,1.0],\"backfaceCulling\":0,\"color\":[1.0,1.0,1.0],\"diffuse\":1.0,\"diffuseColor\":[1.0,1.0,1.0],\"edgeColor\":[0.0,0.0,0.0],\"edgeVisibility\":1,\"frontfaceCulling\":0,\"interpolation\":0,\"lighting\":1,\"lineWidth\":1.0,\"opacity\":1.0,\"pointSize\":5.0,\"representation\":2,\"specular\":0.0,\"specularColor\":[1.0,1.0,1.0],\"specularPower\":100.0},\"type\":\"vtkOpenGLProperty\"}],\"id\":\"f982efbc-506e-4bb0-a349-213d90cf5f8f000055ebce29af10\",\"parent\":\"f982efbc-506e-4bb0-a349-213d90cf5f8f000055ebce333c40\",\"properties\":{\"dragable\":1,\"forceOpaque\":false,\"forceTranslucent\":false,\"orientation\":[0.0,-0.0,0.0],\"origin\":[0.0,0.0,0.0],\"pickable\":1,\"position\":[0.0,0.0,0.0],\"scale\":[1.0,1.0,1.0],\"useBounds\":true,\"visibility\":1},\"type\":\"vtkOpenGLActor\"}],\"id\":\"f982efbc-506e-4bb0-a349-213d90cf5f8f000055ebce333c40\",\"parent\":\"f982efbc-506e-4bb0-a349-213d90cf5f8f000055ebce22e730\",\"properties\":{\"background\":[0.2980392156862745,0.2980392156862745,0.2980392156862745],\"background2\":[0.2,0.2,0.2],\"clippingRangeExpansion\":0.5,\"interactive\":1,\"layer\":0,\"lightFollowCamera\":1,\"maximumNumberOfPeels\":4,\"nearClippingPlaneTolerance\":0.001,\"occlusionRatio\":0.0,\"preserveColorBuffer\":0,\"preserveDepthBuffer\":0,\"twoSidedLighting\":1,\"useDepthPeeling\":0,\"useShadows\":0,\"viewport\":[0.0,0.0,1.0,1.0]},\"type\":\"vtkOpenGLRenderer\"},{\"calls\":[[\"setActiveCamera\",[\"instance:${000055ebce29f3d0}\"]]],\"dependencies\":[{\"id\":\"000055ebce29f3d0\",\"parent\":\"f982efbc-506e-4bb0-a349-213d90cf5f8f000055ebce30acb0\",\"properties\":{\"clippingRange\":[0.01,1000.01],\"focalPoint\":[0.0,0.0,0.0],\"position\":[0.0,0.0,1.0],\"viewUp\":[0.0,1.0,0.0]},\"type\":\"vtkOpenGLCamera\"}],\"id\":\"f982efbc-506e-4bb0-a349-213d90cf5f8f000055ebce30acb0\",\"parent\":\"f982efbc-506e-4bb0-a349-213d90cf5f8f000055ebce22e730\",\"properties\":{\"background\":[0.2980392156862745,0.2980392156862745,0.2980392156862745],\"background2\":[0.2,0.2,0.2],\"clippingRangeExpansion\":0.5,\"interactive\":0,\"layer\":1,\"lightFollowCamera\":1,\"maximumNumberOfPeels\":4,\"nearClippingPlaneTolerance\":0.0,\"occlusionRatio\":0.0,\"preserveColorBuffer\":1,\"preserveDepthBuffer\":0,\"twoSidedLighting\":1,\"useDepthPeeling\":0,\"useShadows\":0,\"viewport\":[0.0,0.0,1.0,1.0]},\"type\":\"vtkOpenGLRenderer\"}],\"id\":\"f982efbc-506e-4bb0-a349-213d90cf5f8f000055ebce22e730\",\"mtime\":26020,\"parent\":\"f982efbc-506e-4bb0-a349-213d90cf5f8f0x0\",\"properties\":{\"numberOfLayers\":2},\"type\":\"vtkXOpenGLRenderWindow\"},\"sizing_mode\":\"stretch_width\",\"width\":800},\"id\":\"1017\",\"type\":\"panel.models.vtk.VTKSynchronizedPlot\"}],\"root_ids\":[\"1017\",\"1018\"]},\"title\":\"Bokeh Application\",\"version\":\"2.4.3\"}};\n",
       "    var render_items = [{\"docid\":\"f9435720-5b6a-495c-bda5-0956a052d151\",\"root_ids\":[\"1017\"],\"roots\":{\"1017\":\"bc242e3e-6dfd-43ff-b7d2-56fb31c1ebe8\"}}];\n",
       "    root.Bokeh.embed.embed_items_notebook(docs_json, render_items);\n",
       "    for (const render_item of render_items) {\n",
       "      for (const root_id of render_item.root_ids) {\n",
       "\tconst id_el = document.getElementById(root_id)\n",
       "\tif (id_el.children.length && (id_el.children[0].className === 'bk-root')) {\n",
       "\t  const root_el = id_el.children[0]\n",
       "\t  root_el.id = root_el.id + '-rendered'\n",
       "\t}\n",
       "      }\n",
       "    }\n",
       "  }\n",
       "  if (root.Bokeh !== undefined && root.Bokeh.Panel !== undefined && ( root['vtk'] !== undefined)) {\n",
       "    embed_document(root);\n",
       "  } else {\n",
       "    var attempts = 0;\n",
       "    var timer = setInterval(function(root) {\n",
       "      if (root.Bokeh !== undefined && root.Bokeh.Panel !== undefined && (root['vtk'] !== undefined)) {\n",
       "        clearInterval(timer);\n",
       "        embed_document(root);\n",
       "      } else if (document.readyState == \"complete\") {\n",
       "        attempts++;\n",
       "        if (attempts > 200) {\n",
       "          clearInterval(timer);\n",
       "          console.log(\"Bokeh: ERROR: Unable to run BokehJS code because BokehJS library is missing\");\n",
       "        }\n",
       "      }\n",
       "    }, 25, root)\n",
       "  }\n",
       "})(window);</script>"
      ]
     },
     "metadata": {},
     "output_type": "display_data"
    }
   ],
   "source": [
    "grid_uh = pyvista.UnstructuredGrid(*create_vtk_mesh(V))\n",
    "grid_uh.point_data[\"u\"] = uh.x.array.real\n",
    "grid_uh.set_active_scalars(\"u\")\n",
    "p2 = pyvista.Plotter(window_size=[800, 800])\n",
    "p2.add_mesh(grid_uh, show_edges=True)\n",
    "if not pyvista.OFF_SCREEN:\n",
    "    p2.show()\n",
    "else:\n",
    "    p2.screenshot(\"unstructured_u.png\")"
   ]
  },
  {
   "cell_type": "code",
   "execution_count": null,
   "metadata": {},
   "outputs": [],
   "source": []
  },
  {
   "cell_type": "code",
   "execution_count": null,
   "metadata": {
    "lines_to_next_cell": 2
   },
   "outputs": [],
   "source": []
  }
 ],
 "metadata": {
  "jupytext": {
   "formats": "ipynb,py:light"
  },
  "kernelspec": {
   "display_name": "Python 3 (ipykernel)",
   "language": "python",
   "name": "python3"
  },
  "language_info": {
   "codemirror_mode": {
    "name": "ipython",
    "version": 3
   },
   "file_extension": ".py",
   "mimetype": "text/x-python",
   "name": "python",
   "nbconvert_exporter": "python",
   "pygments_lexer": "ipython3",
   "version": "3.10.6"
  }
 },
 "nbformat": 4,
 "nbformat_minor": 4
}
